{
 "cells": [
  {
   "cell_type": "code",
   "execution_count": 25,
   "id": "f498071f-0676-4033-9d0f-75742fb4869e",
   "metadata": {},
   "outputs": [],
   "source": [
    "import numpy as np\n",
    "import matplotlib.pyplot as plt\n",
    "from exod.post_processing.crossmatch_simulation import cluster_regions\n",
    "import pandas as pd\n",
    "import astropy.units as u\n",
    "from astropy.table import Table"
   ]
  },
  {
   "cell_type": "code",
   "execution_count": 30,
   "id": "b5452188-0b38-482d-ad7f-8f6f07b1793d",
   "metadata": {},
   "outputs": [
    {
     "name": "stderr",
     "output_type": "stream",
     "text": [
      "\u001b[94m2024-07-12 11:58:42,524 - INFO - crossmatch_simulation.py:cluster_regions - Numbering unique clusters...\u001b[0m\n",
      "\u001b[94m2024-07-12 11:58:42,550 - INFO - crossmatch_simulation.py:cluster_regions - Found 32553 unique region clusters...\u001b[0m\n",
      "\u001b[94m2024-07-12 11:58:42,551 - INFO - crossmatch_simulation.py:cluster_regions - Mapping Regions to each cluster...\u001b[0m\n",
      "\u001b[94m2024-07-12 11:58:43,056 - INFO - crossmatch_simulation.py:cluster_regions - Precomputing cluster means...\u001b[0m\n",
      "\u001b[94m2024-07-12 11:58:43,737 - INFO - crossmatch_simulation.py:cluster_regions - Associating regions to clusters...\u001b[0m\n",
      "\u001b[94m2024-07-12 11:58:45,782 - INFO - crossmatch_simulation.py:cluster_regions - Final number of unique regions = 32247\u001b[0m\n"
     ]
    }
   ],
   "source": [
    "df_regions = pd.read_csv('/home/nkhan/EXOD2/data/results_combined/merged_with_dr14/df_regions.csv')\n",
    "df_regions['region_label'] = cluster_regions(df_regions, clustering_radius=20*u.arcsec)"
   ]
  },
  {
   "cell_type": "code",
   "execution_count": 28,
   "id": "1333205c-bb14-4f04-b6f6-dbdf4e5ff9a5",
   "metadata": {},
   "outputs": [
    {
     "name": "stderr",
     "output_type": "stream",
     "text": [
      "/tmp/ipykernel_80128/453169838.py:1: FutureWarning: The provided callable <function mean at 0x7f4da4046520> is currently using DataFrameGroupBy.mean. In a future version of pandas, the provided callable will be used directly. To keep current behavior pass the string \"mean\" instead.\n",
      "  df_regions.groupby(['region_label'])[['ra_deg', 'dec_deg']].agg(np.mean)\n"
     ]
    },
    {
     "data": {
      "text/html": [
       "<div>\n",
       "<style scoped>\n",
       "    .dataframe tbody tr th:only-of-type {\n",
       "        vertical-align: middle;\n",
       "    }\n",
       "\n",
       "    .dataframe tbody tr th {\n",
       "        vertical-align: top;\n",
       "    }\n",
       "\n",
       "    .dataframe thead th {\n",
       "        text-align: right;\n",
       "    }\n",
       "</style>\n",
       "<table border=\"1\" class=\"dataframe\">\n",
       "  <thead>\n",
       "    <tr style=\"text-align: right;\">\n",
       "      <th></th>\n",
       "      <th>ra_deg</th>\n",
       "      <th>dec_deg</th>\n",
       "    </tr>\n",
       "    <tr>\n",
       "      <th>region_label</th>\n",
       "      <th></th>\n",
       "      <th></th>\n",
       "    </tr>\n",
       "  </thead>\n",
       "  <tbody>\n",
       "    <tr>\n",
       "      <th>0</th>\n",
       "      <td>9.801227</td>\n",
       "      <td>-43.825151</td>\n",
       "    </tr>\n",
       "    <tr>\n",
       "      <th>1</th>\n",
       "      <td>9.739232</td>\n",
       "      <td>-43.775004</td>\n",
       "    </tr>\n",
       "    <tr>\n",
       "      <th>2</th>\n",
       "      <td>9.700222</td>\n",
       "      <td>-43.518297</td>\n",
       "    </tr>\n",
       "    <tr>\n",
       "      <th>3</th>\n",
       "      <td>9.476927</td>\n",
       "      <td>-43.551739</td>\n",
       "    </tr>\n",
       "    <tr>\n",
       "      <th>4</th>\n",
       "      <td>9.445900</td>\n",
       "      <td>-43.629838</td>\n",
       "    </tr>\n",
       "    <tr>\n",
       "      <th>...</th>\n",
       "      <td>...</td>\n",
       "      <td>...</td>\n",
       "    </tr>\n",
       "    <tr>\n",
       "      <th>32548</th>\n",
       "      <td>149.192958</td>\n",
       "      <td>69.562246</td>\n",
       "    </tr>\n",
       "    <tr>\n",
       "      <th>32549</th>\n",
       "      <td>149.001964</td>\n",
       "      <td>69.679725</td>\n",
       "    </tr>\n",
       "    <tr>\n",
       "      <th>32550</th>\n",
       "      <td>148.986061</td>\n",
       "      <td>69.707644</td>\n",
       "    </tr>\n",
       "    <tr>\n",
       "      <th>32551</th>\n",
       "      <td>148.889440</td>\n",
       "      <td>69.657460</td>\n",
       "    </tr>\n",
       "    <tr>\n",
       "      <th>32552</th>\n",
       "      <td>148.138565</td>\n",
       "      <td>69.549968</td>\n",
       "    </tr>\n",
       "  </tbody>\n",
       "</table>\n",
       "<p>32247 rows × 2 columns</p>\n",
       "</div>"
      ],
      "text/plain": [
       "                  ra_deg    dec_deg\n",
       "region_label                       \n",
       "0               9.801227 -43.825151\n",
       "1               9.739232 -43.775004\n",
       "2               9.700222 -43.518297\n",
       "3               9.476927 -43.551739\n",
       "4               9.445900 -43.629838\n",
       "...                  ...        ...\n",
       "32548         149.192958  69.562246\n",
       "32549         149.001964  69.679725\n",
       "32550         148.986061  69.707644\n",
       "32551         148.889440  69.657460\n",
       "32552         148.138565  69.549968\n",
       "\n",
       "[32247 rows x 2 columns]"
      ]
     },
     "execution_count": 28,
     "metadata": {},
     "output_type": "execute_result"
    }
   ],
   "source": [
    "df_regions.groupby(['region_label'])[['ra_deg', 'dec_deg']].agg(np.mean)"
   ]
  },
  {
   "cell_type": "code",
   "execution_count": null,
   "id": "769238fc-a37b-4ca3-8b98-0a236880cbe7",
   "metadata": {},
   "outputs": [],
   "source": [
    "df_regions['cluster_label'] = cluster_labels"
   ]
  },
  {
   "cell_type": "code",
   "execution_count": null,
   "id": "736b08bf-e560-4eac-9973-6d4e58c0b44b",
   "metadata": {},
   "outputs": [],
   "source": [
    "sc = SkyCoord(ra=ra, dec=dec, unit='deg')\n",
    "plt.scatter(sc.galactic.l.wrap_at('180d'), sc.galactic.b, marker='.', s=0.5, color='black', alpha=0.4)\n",
    "plt.xlim(-180,180)\n",
    "plt.ylim(-90,90)"
   ]
  },
  {
   "cell_type": "code",
   "execution_count": null,
   "id": "4dc20cf7-7938-4866-8f4f-fbf6aff479f3",
   "metadata": {},
   "outputs": [],
   "source": []
  },
  {
   "cell_type": "code",
   "execution_count": null,
   "id": "e7c363b9-318e-44fe-94e2-a822e4223f31",
   "metadata": {},
   "outputs": [],
   "source": []
  },
  {
   "cell_type": "code",
   "execution_count": null,
   "id": "e0406b4b-eeae-4e89-8781-1f2c611a03ce",
   "metadata": {},
   "outputs": [],
   "source": []
  }
 ],
 "metadata": {
  "kernelspec": {
   "display_name": "Python 3 (ipykernel)",
   "language": "python",
   "name": "python3"
  },
  "language_info": {
   "codemirror_mode": {
    "name": "ipython",
    "version": 3
   },
   "file_extension": ".py",
   "mimetype": "text/x-python",
   "name": "python",
   "nbconvert_exporter": "python",
   "pygments_lexer": "ipython3",
   "version": "3.12.0"
  }
 },
 "nbformat": 4,
 "nbformat_minor": 5
}
