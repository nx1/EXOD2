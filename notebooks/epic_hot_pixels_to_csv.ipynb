{
 "cells": [
  {
   "cell_type": "code",
   "execution_count": null,
   "id": "5e022076-85c8-4f2b-b13d-8a230e007b75",
   "metadata": {},
   "outputs": [],
   "source": [
    "import numpy as np\n",
    "import pandas as pd\n",
    "from exod.xmm.event_list import EventList"
   ]
  },
  {
   "cell_type": "code",
   "execution_count": null,
   "id": "9014c7d3-bb50-4afd-bee7-cad3f0c1f627",
   "metadata": {},
   "outputs": [],
   "source": [
    "# 1 row per pixel pls\n",
    "df_hp = pd.read_csv(hot_pixels['M2'])\n",
    "all_res = []\n",
    "\n",
    "for i, row in df_hp.iterrows():  \n",
    "    #print(row)\n",
    "    yrange = np.arange(row['M2_RAWY1'], row['M2_RAWY2']+1, 1)\n",
    "    n = len(yrange)\n",
    "    xrange = [row['M2_RAWX']]*n\n",
    "    ccdpn  = [row['CCDM2']]*n\n",
    "    rev1   = [row['REV1']]*n\n",
    "    rev2   = [row['REV2']]*n\n",
    "    \n",
    "    for i in range(n):\n",
    "        res = {'RAWX'  : xrange[i],\n",
    "               'RAWY'  : yrange[i],\n",
    "               'CCDNR' : ccdpn[i],\n",
    "               'REV1'  : rev1[i],\n",
    "               'REV2'  : rev2[i]}\n",
    "    \n",
    "        all_res.append(res)\n",
    "\n",
    "df_warm = pd.DataFrame(all_res)\n",
    "print(df_warm)\n",
    "#df_warm.to_csv('../data/util/hotpix_M2.csv', index=False)"
   ]
  }
 ],
 "metadata": {
  "kernelspec": {
   "display_name": "Python 3 (ipykernel)",
   "language": "python",
   "name": "python3"
  },
  "language_info": {
   "codemirror_mode": {
    "name": "ipython",
    "version": 3
   },
   "file_extension": ".py",
   "mimetype": "text/x-python",
   "name": "python",
   "nbconvert_exporter": "python",
   "pygments_lexer": "ipython3",
   "version": "3.12.0"
  }
 },
 "nbformat": 4,
 "nbformat_minor": 5
}
