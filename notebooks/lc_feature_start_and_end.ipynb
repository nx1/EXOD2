{
 "cells": [
  {
   "cell_type": "code",
   "execution_count": null,
   "id": "cba37d30-5b90-4931-a271-68b007533b12",
   "metadata": {},
   "outputs": [],
   "source": [
    "import pandas as pd\n",
    "import matplotlib.pyplot as plt\n",
    "from exod.utils.path import savepaths_combined\n",
    "from scipy.stats import ttest_rel\n",
    "\n",
    "from exod.post_processing.util import get_lc"
   ]
  },
  {
   "cell_type": "code",
   "execution_count": null,
   "id": "ed2ea587-6d74-4a22-a0a4-783aac7d1a2a",
   "metadata": {},
   "outputs": [],
   "source": [
    "df_evt     = pd.read_csv(savepaths_combined['evt_info'])\n",
    "df_dc      = pd.read_csv(savepaths_combined['dc_info'])\n",
    "df_lc_feat = pd.read_csv(savepaths_combined['lc_features'])\n",
    "df_lc_idx  = pd.read_csv(savepaths_combined['lc_idx'], index_col='Unnamed: 0')\n",
    "df_regions = pd.read_csv(savepaths_combined['regions'])"
   ]
  },
  {
   "cell_type": "code",
   "execution_count": null,
   "id": "132e102f-db84-4506-a972-ad23a2a0d6ee",
   "metadata": {},
   "outputs": [],
   "source": [
    "def filt_lc_high_start(df_lc):\n",
    "    flag = False\n",
    "    return flag"
   ]
  },
  {
   "cell_type": "code",
   "execution_count": null,
   "id": "82462815-b696-411a-af3f-969cb4074fc5",
   "metadata": {},
   "outputs": [],
   "source": [
    "df_lc = get_lc(key=\"('0911990501_0_5_0.2_2.0', '1')\", df_lc_idx=df_lc_idx)\n",
    "df_lc"
   ]
  },
  {
   "cell_type": "code",
   "execution_count": null,
   "id": "41601fe8-2b41-42fb-be59-ac875a443748",
   "metadata": {},
   "outputs": [],
   "source": [
    "plt.figure(figsize=(10,3))\n",
    "plt.plot(df_lc['t0'], df_lc['n'], color='black')\n",
    "plt.plot(df_lc['t0'], df_lc['mu'], color='red')"
   ]
  },
  {
   "cell_type": "code",
   "execution_count": null,
   "id": "878be709-67b2-41f3-8be1-e07e692c5779",
   "metadata": {},
   "outputs": [],
   "source": [
    "def is_mu_significantly_higher(df_lc, time_col='t0', series1='n', series2='mu', time_limit=5000, alpha=0.05):\n",
    "    \"\"\"\n",
    "    Determines if the mean value of `mu` is significantly higher than the mean value of `n` \n",
    "    within the first 5000 seconds of observation.\n",
    "    \n",
    "    Parameters:\n",
    "    - df_lc: DataFrame containing the time series data.\n",
    "    - time_col: The name of the time column (default is 't0').\n",
    "    - series1: The name of the first series (default is 'n').\n",
    "    - series2: The name of the second series (default is 'mu').\n",
    "    - time_limit: The time limit for filtering the data (default is 5000 seconds).\n",
    "    - alpha: Significance level for the t-test (default is 0.05).\n",
    "    \n",
    "    Returns:\n",
    "    - A boolean indicating whether `mu` is significantly higher than `n`.\n",
    "    \"\"\"\n",
    "    \n",
    "    # Filter the data for the first 5000 seconds\n",
    "    df_filtered = df_lc[df_lc[time_col] <= time_limit]\n",
    "    \n",
    "    # Extract the relevant series\n",
    "    n_values = df_filtered[series1]\n",
    "    mu_values = df_filtered[series2]\n",
    "    \n",
    "    # Perform a paired t-test\n",
    "    t_stat, p_value = ttest_rel(mu_values, n_values)\n",
    "    \n",
    "    # Check if the p-value is less than the significance level and the mean of mu is greater than n\n",
    "    if p_value < alpha and mu_values.mean() > n_values.mean():\n",
    "        return True\n",
    "    else:\n",
    "        return False"
   ]
  },
  {
   "cell_type": "code",
   "execution_count": null,
   "id": "fd07dd85-3ccb-49ea-a866-a07ca58b5eaf",
   "metadata": {},
   "outputs": [],
   "source": [
    "is_mu_significantly_higher(df_lc)"
   ]
  },
  {
   "cell_type": "code",
   "execution_count": null,
   "id": "a7b28e5c-f662-47bb-a8b2-ecd84d322deb",
   "metadata": {},
   "outputs": [],
   "source": []
  },
  {
   "cell_type": "code",
   "execution_count": null,
   "id": "8e1b114f-a303-4803-aab6-6ef377e70c3a",
   "metadata": {},
   "outputs": [],
   "source": []
  },
  {
   "cell_type": "code",
   "execution_count": null,
   "id": "5437dd78-ab51-4484-bf94-538b8b845c46",
   "metadata": {},
   "outputs": [],
   "source": []
  }
 ],
 "metadata": {
  "kernelspec": {
   "display_name": "Python 3 (ipykernel)",
   "language": "python",
   "name": "python3"
  },
  "language_info": {
   "codemirror_mode": {
    "name": "ipython",
    "version": 3
   },
   "file_extension": ".py",
   "mimetype": "text/x-python",
   "name": "python",
   "nbconvert_exporter": "python",
   "pygments_lexer": "ipython3",
   "version": "3.12.0"
  }
 },
 "nbformat": 4,
 "nbformat_minor": 5
}
