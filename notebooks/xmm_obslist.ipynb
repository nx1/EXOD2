{
 "cells": [
  {
   "cell_type": "code",
   "execution_count": null,
   "id": "83afe837-75ac-47a1-9290-ac5f98b9f19c",
   "metadata": {},
   "outputs": [],
   "source": [
    "import numpy as np\n",
    "from astropy.table import Table\n",
    "import matplotlib.pyplot as plt"
   ]
  },
  {
   "cell_type": "code",
   "execution_count": null,
   "id": "609833c1-0a6a-44c8-ade7-dff0f120a66e",
   "metadata": {},
   "outputs": [],
   "source": [
    "tab = Table.read('../data/util/4xmmdr13_obslist.fits')\n",
    "tab"
   ]
  },
  {
   "cell_type": "code",
   "execution_count": null,
   "id": "1bfdba7e-f2f6-4c77-94a0-89450ce50c47",
   "metadata": {},
   "outputs": [],
   "source": [
    "np.mean(tab['PN_TEXP'])"
   ]
  },
  {
   "cell_type": "code",
   "execution_count": null,
   "id": "a9889e9b-256a-4aae-b5f0-55a34a7c38fe",
   "metadata": {},
   "outputs": [],
   "source": [
    "np.std(tab['NDETGOOD'])"
   ]
  },
  {
   "cell_type": "code",
   "execution_count": null,
   "id": "908a6faa-f757-4851-9bc2-f1a927efc30e",
   "metadata": {},
   "outputs": [],
   "source": [
    "plt.hist(tab['NDETGOOD'], bins=100)"
   ]
  },
  {
   "cell_type": "code",
   "execution_count": null,
   "id": "238cc658-f99d-4125-ab31-e789cd240444",
   "metadata": {},
   "outputs": [],
   "source": [
    "from tqdm import tqdm"
   ]
  },
  {
   "cell_type": "code",
   "execution_count": null,
   "id": "fade1cc5-8901-4ddc-9b68-15a2c20ae7ff",
   "metadata": {},
   "outputs": [],
   "source": [
    "tab.sort('PN_TEXP', reverse=True)"
   ]
  },
  {
   "cell_type": "code",
   "execution_count": null,
   "id": "46841c19-9e22-4fc6-830d-c1b13d62e30e",
   "metadata": {},
   "outputs": [],
   "source": [
    "tab"
   ]
  },
  {
   "cell_type": "code",
   "execution_count": null,
   "id": "886934bc-36e0-4db5-b3da-3813b191c965",
   "metadata": {},
   "outputs": [],
   "source": []
  },
  {
   "cell_type": "code",
   "execution_count": null,
   "id": "db759d82-e243-4b1b-8173-433848a7bcc0",
   "metadata": {},
   "outputs": [],
   "source": [
    "tab['N"
   ]
  },
  {
   "cell_type": "code",
   "execution_count": null,
   "id": "54ff3bad-48ef-4feb-875a-6ba9da3cb513",
   "metadata": {},
   "outputs": [],
   "source": []
  },
  {
   "cell_type": "code",
   "execution_count": null,
   "id": "dfbb0d90-7284-46d0-a9f8-eaf73493e075",
   "metadata": {},
   "outputs": [],
   "source": []
  },
  {
   "cell_type": "code",
   "execution_count": null,
   "id": "7c5b5ae9-8996-47d8-82a1-acdb1388070b",
   "metadata": {},
   "outputs": [],
   "source": [
    "from exod.xmm.observation import Observation\n",
    "from exod.pre_processing.download_observations import read_observation_ids\n",
    "from tqdm import tqdm\n",
    "from astropy.io import fits\n",
    "\n",
    "obsids = read_observation_ids('../data/all_obsids.txt')\n",
    "\n",
    "N_events = 0\n",
    "for obsid in tqdm(obsids):\n",
    "    print(obsid)\n",
    "    obs = Observation(obsid)\n",
    "    obs.get_event_lists_raw()\n",
    "    for evt in obs.events_raw:\n",
    "        h = fits.getheader(evt.path, ext=1)\n",
    "        N = h['NAXIS2']\n",
    "        N_events+=N\n",
    "        print(N_events)"
   ]
  },
  {
   "cell_type": "code",
   "execution_count": null,
   "id": "ae4ce182-989c-4dea-bc28-6c9c49c2b84a",
   "metadata": {},
   "outputs": [],
   "source": []
  },
  {
   "cell_type": "code",
   "execution_count": null,
   "id": "998f2ac9-d7bb-4283-aba4-bab18b6d43ce",
   "metadata": {},
   "outputs": [],
   "source": [
    "1478099404 /775"
   ]
  },
  {
   "cell_type": "code",
   "execution_count": null,
   "id": "0def6c97-2b5b-48fc-aff1-e3f167b5ecb8",
   "metadata": {},
   "outputs": [],
   "source": [
    "1907225 * 14350"
   ]
  },
  {
   "cell_type": "code",
   "execution_count": null,
   "id": "47b87243-802e-4448-8a8c-0d0f3d9a82bc",
   "metadata": {},
   "outputs": [],
   "source": [
    "27368678750 / 8100000000"
   ]
  },
  {
   "cell_type": "code",
   "execution_count": null,
   "id": "daadc192-b28d-4560-8cf7-4d4d9bd74225",
   "metadata": {},
   "outputs": [],
   "source": [
    "import numpy as np"
   ]
  },
  {
   "cell_type": "code",
   "execution_count": null,
   "id": "2c295720-e7b8-4674-9643-00a2a16209e5",
   "metadata": {},
   "outputs": [],
   "source": [
    "plt.hist(np.random.poisson(lam=0.5, size=1000))"
   ]
  },
  {
   "cell_type": "code",
   "execution_count": null,
   "id": "0b960eaf-3339-4d8b-b24b-be370684618a",
   "metadata": {},
   "outputs": [],
   "source": []
  },
  {
   "cell_type": "code",
   "execution_count": null,
   "id": "c63ea393-5cf6-41a4-a50d-5f609da50da9",
   "metadata": {},
   "outputs": [],
   "source": []
  }
 ],
 "metadata": {
  "kernelspec": {
   "display_name": "Python 3 (ipykernel)",
   "language": "python",
   "name": "python3"
  },
  "language_info": {
   "codemirror_mode": {
    "name": "ipython",
    "version": 3
   },
   "file_extension": ".py",
   "mimetype": "text/x-python",
   "name": "python",
   "nbconvert_exporter": "python",
   "pygments_lexer": "ipython3",
   "version": "3.12.0"
  }
 },
 "nbformat": 4,
 "nbformat_minor": 5
}
