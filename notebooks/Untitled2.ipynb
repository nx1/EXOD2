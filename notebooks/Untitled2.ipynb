{
 "cells": [
  {
   "cell_type": "code",
   "execution_count": null,
   "id": "f5f6e369-3e40-4c50-a75d-79f93753dfef",
   "metadata": {},
   "outputs": [],
   "source": [
    "from exod.xmm.source_list import SourceList"
   ]
  },
  {
   "cell_type": "code",
   "execution_count": null,
   "id": "880248da-86c1-47d8-a463-480ccd85c294",
   "metadata": {},
   "outputs": [],
   "source": [
    "obsmli_om = '/home/nkhan/EXOD2/data/raw/0891803001/P0891803001OMX000OBSMLI0000.FTZ'\n",
    "obsmli_pn = '/home/nkhan/EXOD2/data/raw/0911990501/P0911990501EPX000OBSMLI0000.FTZ'\n",
    "\n",
    "sl_om = SourceList(obsmli_om)\n",
    "sl_pn = SourceList(obsmli_pn)\n",
    "\n",
    "sl_om.read()\n",
    "sl_pn.read()\n",
    "  "
   ]
  },
  {
   "cell_type": "code",
   "execution_count": null,
   "id": "b9609b60-decc-4160-b937-7b1d4a89d4d4",
   "metadata": {},
   "outputs": [],
   "source": [
    "sl_pn.info"
   ]
  },
  {
   "cell_type": "code",
   "execution_count": null,
   "id": "37d8e700-e5bc-4735-82df-c79b968e4891",
   "metadata": {},
   "outputs": [],
   "source": [
    "from astropy.table import Table"
   ]
  },
  {
   "cell_type": "code",
   "execution_count": null,
   "id": "924d2cec-743c-4312-9a93-4ae8449be558",
   "metadata": {},
   "outputs": [],
   "source": [
    "d = {'EP':'pn',\n",
    "     'OM' : 'MOS'}"
   ]
  },
  {
   "cell_type": "code",
   "execution_count": null,
   "id": "82ad03b8-46d2-4f32-bb64-8d3b4bda38f4",
   "metadata": {},
   "outputs": [],
   "source": [
    "Table.read('/home/nkhan/EXOD2/data/raw/0891803001/P0891803001OMX000OBSMLI0000.FTZ')"
   ]
  },
  {
   "cell_type": "code",
   "execution_count": null,
   "id": "a4cabafb-4e07-40f5-bb91-ac3ffd61df84",
   "metadata": {},
   "outputs": [],
   "source": [
    "obsmli_om"
   ]
  },
  {
   "cell_type": "code",
   "execution_count": null,
   "id": "aa9767fb-9225-4a23-b913-09279819e170",
   "metadata": {},
   "outputs": [],
   "source": [
    "not [1]"
   ]
  },
  {
   "cell_type": "code",
   "execution_count": null,
   "id": "0355ef86-be50-4116-b335-348fced5a6de",
   "metadata": {},
   "outputs": [],
   "source": []
  }
 ],
 "metadata": {
  "kernelspec": {
   "display_name": "Python 3 (ipykernel)",
   "language": "python",
   "name": "python3"
  },
  "language_info": {
   "codemirror_mode": {
    "name": "ipython",
    "version": 3
   },
   "file_extension": ".py",
   "mimetype": "text/x-python",
   "name": "python",
   "nbconvert_exporter": "python",
   "pygments_lexer": "ipython3",
   "version": "3.12.0"
  }
 },
 "nbformat": 4,
 "nbformat_minor": 5
}
