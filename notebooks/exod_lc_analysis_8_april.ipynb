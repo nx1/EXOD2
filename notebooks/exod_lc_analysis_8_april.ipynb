{
 "cells": [
  {
   "cell_type": "code",
   "execution_count": null,
   "id": "17c9111b-1cf6-4b2b-8ca4-6af8b6f0c724",
   "metadata": {},
   "outputs": [],
   "source": [
    "import numpy as np\n",
    "import matplotlib.pyplot as plt\n",
    "from exod.utils.path import data_results\n",
    "import pandas as pd\n",
    "from glob import glob\n",
    "import re\n",
    "from itertools import combinations\n",
    "\n",
    "from astropy.visualization import hist\n",
    "from astropy.table import Table\n",
    "from astropy.coordinates import SkyCoord\n",
    "import astropy.units as u\n",
    "from scipy.stats import skew, kurtosis\n",
    "from tqdm import tqdm\n",
    "\n",
    "import pandas as pd\n",
    "from sklearn.preprocessing import StandardScaler\n",
    "from sklearn.cluster import KMeans, HDBSCAN\n",
    "import matplotlib.pyplot as plt\n",
    "import seaborn as sns\n",
    "\n",
    "pd.set_option('display.max_rows', 20)"
   ]
  },
  {
   "cell_type": "code",
   "execution_count": null,
   "id": "96663ea0-41b3-45f8-b36b-f00f56af6bd5",
   "metadata": {},
   "outputs": [],
   "source": [
    "filepath = '../data/results_combined/t_10s_7k_obs/'\n",
    "regex = re.compile(r'\\d{10}')"
   ]
  },
  {
   "cell_type": "code",
   "execution_count": null,
   "id": "6ebdebf3-4bc6-4de2-aa5b-d346efa38910",
   "metadata": {},
   "outputs": [],
   "source": [
    "# Detected Regions\n",
    "dfs = []\n",
    "for f in glob(f'{filepath}*/*/*regions.csv'):\n",
    "    obsid = regex.findall(f)[0]\n",
    "    df = pd.read_csv(f)\n",
    "    df['obsid'] = obsid\n",
    "    df['subset'] = int(f.split('/')[-2][-1])\n",
    "    #df = df.T  \n",
    "    #df['obsid'] = obsid\n",
    "    dfs.append(df)\n",
    "\n",
    "df_regions = pd.concat(dfs, ignore_index=True)\n",
    "df_regions\n"
   ]
  },
  {
   "cell_type": "code",
   "execution_count": null,
   "id": "ce6eafab-7667-4ffd-a468-fa24191cfea4",
   "metadata": {
    "scrolled": true
   },
   "outputs": [],
   "source": [
    "tab_xmm = Table.read('../data/util/4XMM_slim_DR13cat_v1.0.fits')\n",
    "skycoord_xmm = SkyCoord(ra=tab_xmm['SC_RA'], dec=tab_xmm['SC_DEC'], unit=u.deg)\n",
    "sky_coords = SkyCoord(ra=df_regions['ra_deg'].values, dec=df_regions['dec_deg'].values, unit='deg', frame='icrs')\n",
    "\n",
    "cmatch = sky_coords.match_to_catalog_sky(skycoord_xmm)\n",
    "tab_cmatch = Table(cmatch)\n",
    "tab_cmatch.rename_columns(names=tab_cmatch.colnames, new_names=['idx', 'sep2d', 'dist3d'])\n",
    "tab_cmatch['sep2d_arcsec'] = tab_cmatch['sep2d'].to(u.arcsec)\n",
    "tab_cmatch['idx_orig'] = np.arange(len(tab_cmatch))\n",
    "\n",
    "tab_xmm_cmatch = tab_xmm[tab_cmatch['idx']]\n",
    "tab_xmm_cmatch['SEP'] = tab_cmatch['sep2d']\n",
    "tab_xmm_cmatch['SEP_ARCSEC'] = tab_xmm_cmatch['SEP'] * 3600\n",
    "tab_xmm_cmatch"
   ]
  },
  {
   "cell_type": "code",
   "execution_count": null,
   "id": "b198c624-4c05-4269-8f9b-e93926ad211e",
   "metadata": {},
   "outputs": [],
   "source": []
  },
  {
   "cell_type": "code",
   "execution_count": null,
   "id": "399fff77-405d-414d-a8e6-e18c9189f0cf",
   "metadata": {},
   "outputs": [],
   "source": [
    "for i, row in df_regions.iterrows():\n",
    "    obsid   = row['obsid']\n",
    "    subset  = row['subset']\n",
    "    label   = row['label']\n",
    "    ra      = row['ra']\n",
    "    dec     = row['dec']\n",
    "    ra_deg  = row['ra_deg']\n",
    "    dec_deg = row['dec_deg']\n",
    "\n",
    "    csv_lc  = glob(f'{filepath}{obsid}/subset_{subset}/lcs.csv')\n",
    "    csv_evt = glob(f'{filepath}{obsid}/subset_{subset}/evt_info.csv')\n",
    "    img_png = glob(f'{filepath}{obsid}/subset_{subset}/*detection_img.png')\n",
    "\n",
    "    if len(img_png) > 1:\n",
    "        print('MULTIPLE SUBSETS!!!')\n",
    "    \n",
    "    df_lc = pd.read_csv(csv_lc[0])\n",
    "    df_evt = pd.read_csv(csv_evt[0])\n",
    "    \n",
    "    \n",
    "    date  = df_evt.iloc[4].iloc[1]\n",
    "    obj   = df_evt.iloc[5].iloc[1]\n",
    "\n",
    "    tab_closest = tab_xmm_cmatch[i]\n",
    "    c_ra      = tab_closest['SC_RA']\n",
    "    c_dec     = tab_closest['SC_DEC']\n",
    "    c_webpage = tab_closest['WEBPAGE_URL']    \n",
    "    c_var     = tab_closest['SC_VAR_FLAG']\n",
    "    c_sep     = tab_closest['SEP_ARCSEC']\n",
    "    c_flux_8  = tab_closest['SC_EP_8_FLUX']\n",
    "\n",
    "\n",
    "    \n",
    "    n = label - 1\n",
    "    if np.max(df_lc[f'n_{n}']) > 10:\n",
    "            \n",
    "        esasky = f'https://sky.esa.int/esasky/?target={ra_deg}-{dec_deg}&hips=XMM-Newton+EPIC+color&fov=0.25&cooframe=J2000&sci=true&lang=en'\n",
    "        simbad = f'https://simbad.cds.unistra.fr/simbad/sim-basic?Ident={ra_deg}+{dec_deg}'\n",
    "        xsa    = f'https://nxsa.esac.esa.int/nxsa-web/#obsid={obsid}'\n",
    "        print(f'{i}/{len(df_regions)} | {obsid} | {obj} | {date} | {ra} {dec} {ra_deg} {dec_deg}')\n",
    "        print(f'Closest DR13 ({c_sep:.2f}\"): {c_ra} {c_dec} | SC_VAR_FLAG={c_var} | SC_EP_8_FLUX (0.2-12.0) = {c_flux_8:.3e}')\n",
    "        print(f'{c_webpage}')\n",
    "        print(f'{esasky}')\n",
    "        print(f'{simbad}')\n",
    "        print(f'{xsa}')\n",
    "        \n",
    "        plt.figure(figsize=(15,3))\n",
    "        plt.plot(df_lc['time'], df_lc[f'n_{n}'], color='black', label='Observed (n)', lw=1.0)\n",
    "        plt.plot(df_lc['time'], df_lc[f'mu_{n}'], color='red', label=r'Expected ($\\mu$)', lw=1.0)\n",
    "        plt.legend()\n",
    "        #plt.tight_layout()\n",
    "        plt.show()\n",
    "    \n",
    "        # im = plt.imread(img_png[0])\n",
    "        #plt.figure(figsize=(15,15))\n",
    "        #plt.imshow(im)\n",
    "        #plt.axis('off')\n",
    "        ##plt.tight_layout()\n",
    "        #plt.show()"
   ]
  },
  {
   "cell_type": "code",
   "execution_count": null,
   "id": "7239d920-e1eb-4f95-8c36-2e739c9ad206",
   "metadata": {},
   "outputs": [],
   "source": [
    "# Load Lightcurves\n",
    "regex = re.compile(r'\\d{10}')\n",
    "all_res = []\n",
    "for f in glob(f'{filepath}*/*/*lcs.csv'):\n",
    "    print(f)\n",
    "    obsid = regex.findall(f)[0]\n",
    "    df = pd.read_csv(f)\n",
    "    plt.figure(figsize=(15,3))\n",
    "    plt.plot(df['time'], df['B_peak_0'], label='B_Peak', lw=1.0)\n",
    "    plt.plot(df['time'], df['B_eclipse_0'], label=r'B_eclipse', lw=1.0)\n",
    "    plt.yscale('log')\n",
    "    plt.legend()\n",
    "    plt.show()"
   ]
  },
  {
   "cell_type": "code",
   "execution_count": null,
   "id": "0686ee93-8baf-4627-973c-87abf46badb9",
   "metadata": {},
   "outputs": [],
   "source": [
    "# Load Lightcurves\n",
    "all_res = []\n",
    "for f in glob(f'{filepath}*/*/*lcs.csv'):\n",
    "    obsid = regex.findall(f)[0]\n",
    "    df = pd.read_csv(f)\n",
    "    print(f'obsid={obsid}')\n",
    "    plt.figure(figsize=(15,3))\n",
    "    plt.plot(df['time'], df['n_0'], color='black', label='Observed (n)', lw=1.0)\n",
    "    plt.plot(df['time'], df['mu_0'], color='red', label=r'Expected ($\\mu$)', lw=1.0)\n",
    "    plt.legend()\n",
    "    plt.show()\n",
    "    if df.shape[1] > 7:\n",
    "        n = int((df.shape[1] - 7) / 4)\n",
    "        print(f'n={n}')\n",
    "        for i in range(1,n):\n",
    "            plt.figure(figsize=(15,3))\n",
    "            plt.plot(df['time'], df[f'n_{i}'], color='black', label='Observed (n)', lw=1.0)\n",
    "            plt.plot(df['time'], df[f'mu_{i}'], color='red', label=r'Expected ($\\mu$)', lw=1.0)\n",
    "            plt.legend()\n",
    "            plt.show()"
   ]
  },
  {
   "cell_type": "code",
   "execution_count": null,
   "id": "d4d66b73-906e-4778-9ff5-008ec75743c9",
   "metadata": {
    "scrolled": true
   },
   "outputs": [],
   "source": []
  },
  {
   "cell_type": "code",
   "execution_count": null,
   "id": "a6fa6569-ab65-4959-ab24-0724cda65c34",
   "metadata": {},
   "outputs": [],
   "source": []
  },
  {
   "cell_type": "code",
   "execution_count": null,
   "id": "537c9203-ef51-471d-ab30-265f5f9831df",
   "metadata": {},
   "outputs": [],
   "source": []
  },
  {
   "cell_type": "code",
   "execution_count": null,
   "id": "ff661769-940d-4bc3-a375-3fa53b6bc28f",
   "metadata": {},
   "outputs": [],
   "source": [
    "\n"
   ]
  },
  {
   "cell_type": "code",
   "execution_count": null,
   "id": "bccb4aaa-562b-49b4-a9c1-b8721d9eafc9",
   "metadata": {},
   "outputs": [],
   "source": []
  },
  {
   "cell_type": "code",
   "execution_count": null,
   "id": "2a3f2bda-6481-49fc-af4e-0195195bbf80",
   "metadata": {},
   "outputs": [],
   "source": []
  },
  {
   "cell_type": "code",
   "execution_count": null,
   "id": "cd28f390-59a3-4871-9947-c448b60929b4",
   "metadata": {},
   "outputs": [],
   "source": []
  },
  {
   "cell_type": "code",
   "execution_count": null,
   "id": "6a8e2e7f-86cf-4355-91df-18433f9a0d65",
   "metadata": {},
   "outputs": [],
   "source": []
  },
  {
   "cell_type": "code",
   "execution_count": null,
   "id": "2c593493-5837-48ba-8901-5a67b26b2050",
   "metadata": {},
   "outputs": [],
   "source": []
  },
  {
   "cell_type": "code",
   "execution_count": null,
   "id": "5af74f40-1536-4d88-8f37-12d234f0fc83",
   "metadata": {},
   "outputs": [],
   "source": []
  },
  {
   "cell_type": "code",
   "execution_count": null,
   "id": "929cf194-da5e-453f-af9d-b1c18b4cfce4",
   "metadata": {},
   "outputs": [],
   "source": []
  },
  {
   "cell_type": "code",
   "execution_count": null,
   "id": "646e8594-2024-4aed-8b03-7223f88b50b2",
   "metadata": {},
   "outputs": [],
   "source": []
  },
  {
   "cell_type": "code",
   "execution_count": null,
   "id": "a255d012-e229-4f72-a4a6-69f851603b06",
   "metadata": {},
   "outputs": [],
   "source": []
  }
 ],
 "metadata": {
  "kernelspec": {
   "display_name": "Python 3 (ipykernel)",
   "language": "python",
   "name": "python3"
  },
  "language_info": {
   "codemirror_mode": {
    "name": "ipython",
    "version": 3
   },
   "file_extension": ".py",
   "mimetype": "text/x-python",
   "name": "python",
   "nbconvert_exporter": "python",
   "pygments_lexer": "ipython3",
   "version": "3.12.0"
  }
 },
 "nbformat": 4,
 "nbformat_minor": 5
}
