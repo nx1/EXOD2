{
 "cells": [
  {
   "cell_type": "code",
   "execution_count": null,
   "id": "9c15574e-b4df-498e-b9ec-ab2db4bdc20e",
   "metadata": {},
   "outputs": [],
   "source": [
    "from exod.processing.bayesian_computations import precompute_bayes_1000, load_precomputed_bayes1000, \\\n",
    "    load_precomputed_bayes_limits, precompute_bayes_limits, get_cube_masks_peak_and_eclipse, B_peak, B_eclipse, \\\n",
    "    PrecomputeBayesLimits\n",
    "from exod.utils.plotting import cmap_image\n",
    "from exod.utils.logger import logger\n",
    "from exod.pre_processing.data_loader import DataLoader\n",
    "from exod.utils.util import save_df, save_info, get_unique_xy\n",
    "from exod.xmm.event_list import EventList\n",
    "from exod.xmm.observation import Observation\n",
    "from exod.processing.template_based_background_inference import compute_expected_cube_using_templates\n",
    "from exod.processing.coordinates import get_regions_sky_position, calc_df_regions\n",
    "from exod.processing.template_based_background_inference import mask_known_sources\n",
    "\n",
    "from random import shuffle\n",
    "import numpy as np\n",
    "import matplotlib.pyplot as plt\n",
    "import matplotlib.patches as patches\n",
    "from matplotlib.colors import ListedColormap, BoundaryNorm\n",
    "import pandas as pd\n",
    "from astropy.visualization import ImageNormalize, SqrtStretch\n",
    "from cv2 import inpaint, INPAINT_NS, INPAINT_TELEA\n",
    "\n",
    "from exod.pre_processing.data_loader import DataLoader\n",
    "from exod.xmm.event_list import EventList\n",
    "from exod.xmm.observation import Observation\n",
    "from exod.utils.path import data_processed, data_raw, read_observation_ids\n",
    "from exod.pre_processing.read_events import get_PN_image_file\n",
    "from exod.utils.logger import logger\n",
    "from exod.utils.plotting import plot_image, compare_images\n",
    "\n",
    "import numpy as np\n",
    "import matplotlib.pyplot as plt\n",
    "from cv2 import inpaint, INPAINT_NS, INPAINT_TELEA\n",
    "from skimage.draw import disk\n",
    "from astropy.table import Table\n",
    "from astropy.coordinates import SkyCoord\n",
    "from astropy.wcs import WCS\n",
    "from astropy.io import fits\n",
    "from astropy.convolution import convolve, Gaussian2DKernel\n",
    "from scipy.interpolate import interp1d"
   ]
  },
  {
   "cell_type": "code",
   "execution_count": null,
   "id": "30dcb45e-3808-4980-8a64-73b793ca2773",
   "metadata": {},
   "outputs": [],
   "source": [
    "obsid='0803990401'\n",
    "size_arcsec=20\n",
    "time_interval=50\n",
    "gti_only=False\n",
    "remove_partial_ccd_frames=True\n",
    "gti_threshold=1.5\n",
    "min_energy=0.2\n",
    "max_energy=10.0\n",
    "clobber=False\n",
    "precomputed_bayes_limit=PrecomputeBayesLimits(threshold_sigma=3)"
   ]
  },
  {
   "cell_type": "code",
   "execution_count": null,
   "id": "cf998d33-c686-433f-ad5a-c168d3057706",
   "metadata": {},
   "outputs": [],
   "source": [
    "precomputed_bayes_limit.load()\n",
    "observation = Observation(obsid)\n",
    "observation.filter_events(clobber=clobber)\n",
    "observation.create_images(clobber=clobber)\n",
    "observation.get_files()\n",
    "observation.get_events_overlapping_subsets()\n",
    "\n",
    "for i_subset, subset_overlapping_exposures in enumerate(observation.events_overlapping_subsets):\n",
    "    savedir = observation.path_results / f'subset_{i_subset}'\n",
    "    savedir.mkdir(exist_ok=True)\n",
    "    \n",
    "    event_list = EventList.from_event_lists(subset_overlapping_exposures)\n",
    "    dl = DataLoader(event_list=event_list, time_interval=time_interval, size_arcsec=size_arcsec,\n",
    "                    gti_only=gti_only, min_energy=min_energy, max_energy=max_energy,\n",
    "                    gti_threshold=gti_threshold, remove_partial_ccd_frames=remove_partial_ccd_frames)\n",
    "    dl.run()\n",
    "\n",
    "    img = observation.images[0]\n",
    "    img.read(wcs_only=True)\n",
    "\n",
    "    cube_n = dl.data_cube\n",
    "    cube_mu = compute_expected_cube_using_templates(cube_n, wcs=img.wcs)"
   ]
  },
  {
   "cell_type": "code",
   "execution_count": null,
   "id": "3f695e57-a5d0-4c53-b71a-d6108f3998ab",
   "metadata": {},
   "outputs": [],
   "source": []
  },
  {
   "cell_type": "code",
   "execution_count": null,
   "id": "bacfada5-39ce-47fd-9af5-f3aaabefd468",
   "metadata": {},
   "outputs": [],
   "source": []
  },
  {
   "cell_type": "code",
   "execution_count": null,
   "id": "07f4ee20-b4ea-47a9-aa6c-1692331f7e48",
   "metadata": {},
   "outputs": [],
   "source": []
  },
  {
   "cell_type": "code",
   "execution_count": null,
   "id": "7b70a929-e01d-4459-b6cb-5efb316321a6",
   "metadata": {},
   "outputs": [],
   "source": []
  },
  {
   "cell_type": "code",
   "execution_count": null,
   "id": "3c63d74a-062f-42f7-8426-3f414097b659",
   "metadata": {},
   "outputs": [],
   "source": []
  },
  {
   "cell_type": "code",
   "execution_count": null,
   "id": "c3029bbb-7902-45f7-9ff1-57fc08771d61",
   "metadata": {},
   "outputs": [],
   "source": []
  },
  {
   "cell_type": "code",
   "execution_count": null,
   "id": "4a991848-5f1f-473f-84d2-fbeaa0bbf7dd",
   "metadata": {},
   "outputs": [],
   "source": []
  },
  {
   "cell_type": "code",
   "execution_count": null,
   "id": "f84dd9f2-738f-4d8f-96d1-7371515b3ad1",
   "metadata": {},
   "outputs": [],
   "source": []
  }
 ],
 "metadata": {
  "kernelspec": {
   "display_name": "Python 3 (ipykernel)",
   "language": "python",
   "name": "python3"
  },
  "language_info": {
   "codemirror_mode": {
    "name": "ipython",
    "version": 3
   },
   "file_extension": ".py",
   "mimetype": "text/x-python",
   "name": "python",
   "nbconvert_exporter": "python",
   "pygments_lexer": "ipython3",
   "version": "3.12.0"
  }
 },
 "nbformat": 4,
 "nbformat_minor": 5
}
