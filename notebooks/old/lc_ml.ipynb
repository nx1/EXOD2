{
 "cells": [
  {
   "cell_type": "code",
   "execution_count": null,
   "id": "8a7b73d9-3746-4904-bb32-802a1f44ab7a",
   "metadata": {},
   "outputs": [],
   "source": [
    "import itertools\n",
    "import numpy as np\n",
    "import pandas as pd\n",
    "import seaborn as sns\n",
    "import matplotlib.pyplot as plt\n",
    "from scipy import stats\n",
    "import astropy.units as u\n",
    "import scienceplots\n",
    "plt.style.use('science')\n",
    "\n",
    "from exod.utils.path import data, data_results, savepaths_combined\n",
    "from exod.post_processing.crossmatch import crossmatch_dr14_slim\n",
    "from exod.post_processing.crossmatch_runs import split_subsets, crossmatch_simulation_subsets\n",
    "from exod.post_processing.cluster_regions import ClusterRegions\n",
    "from exod.post_processing.main import calc_df_lc_feat_filter_flags\n",
    "from sklearn.preprocessing import scale"
   ]
  },
  {
   "cell_type": "code",
   "execution_count": null,
   "id": "75866f6a-c2f5-4cff-a92d-038e0ce7413d",
   "metadata": {},
   "outputs": [],
   "source": [
    "df_lc_indexs = pd.read_csv(savepaths_combined['lc_idx'], index_col='Unnamed: 0')\n",
    "df_cmatch    = pd.read_csv(savepaths_combined['cmatch_simbad'])"
   ]
  },
  {
   "cell_type": "code",
   "execution_count": null,
   "id": "08b75342-2e1d-4657-b8e9-3d61ba3f7930",
   "metadata": {},
   "outputs": [],
   "source": [
    "df_regions        = pd.read_csv(savepaths_combined['regions'])\n",
    "cr = ClusterRegions(df_regions)\n",
    "df_regions_unique = cr.df_regions_unique\n",
    "tab_cmatch_xmm    = crossmatch_dr14_slim(df_regions_unique)\n",
    "tab_cmatch_xmm['idx'] = range(len(tab_cmatch_xmm))"
   ]
  },
  {
   "cell_type": "code",
   "execution_count": null,
   "id": "b98408a5-6dd8-454a-951c-a5328c559bce",
   "metadata": {},
   "outputs": [],
   "source": [
    "df_lc_feat = pd.read_csv(savepaths_combined['lc_features'])\n",
    "df_lc_feat = calc_df_lc_feat_filter_flags(df_lc_feat)"
   ]
  },
  {
   "cell_type": "code",
   "execution_count": null,
   "id": "1e5f0b18-99ea-4bdd-89c5-75039e48ff85",
   "metadata": {},
   "outputs": [],
   "source": [
    "data_cols = ['ratio_bccd', 'ratio_bti', 'ks_stat', 'ks_pval', 'n_min', 'n_max', 'n_mean',\n",
    "             'n_std', 'n_sum', 'n_skew', 'n_kurt', 'mu_min', 'mu_max', 'mu_mean', 'mu_std', 'mu_skew',\n",
    "             'mu_kurt', 'B_peak_log_max', 'B_eclipse_log_max', 'num_B_peak_above_6_4', 'num_B_eclipse_above_5_5']"
   ]
  },
  {
   "cell_type": "code",
   "execution_count": null,
   "id": "0a5f09e4-27b7-475c-8f74-f6fc063dc896",
   "metadata": {},
   "outputs": [],
   "source": [
    "df_numeric = df_lc_feat[data_cols]"
   ]
  },
  {
   "cell_type": "code",
   "execution_count": null,
   "id": "a8034241-4e1a-472b-b937-3660c0868dd5",
   "metadata": {},
   "outputs": [],
   "source": [
    "df_c = df_lc_feat.copy()\n",
    "df_c = df_c[~((df_c['n_max'] < 5) & (df_c['runid'].str.contains('_5_')))]\n",
    "df_c = df_c[~((df_c['n_max'] < 8) & (df_c['runid'].str.contains('_5_')))]\n",
    "df_c = df_c[~((df_c['n_max'] < 10) & (df_c['runid'].str.contains('_5_')))]\n",
    "\n",
    "df_c = df_c[df_c['n_max'] < 100]\n",
    "df_c = df_c[df_c['n_min'] < 50]\n",
    "df_c = df_c[df_c['n_std'] < 50]\n",
    "df_c = df_c[df_c['B_peak_log_max'] < np.inf]\n",
    "df_c = df_c[df_c['B_eclipse_log_max'] < np.inf]\n",
    "df_c = df_c[df_c['num_B_peak_above_6_4'] < 50]\n",
    "df_c = df_c[df_c['num_B_eclipse_above_5_5'] < 50]\n",
    "\n",
    "print(len(df_c))"
   ]
  },
  {
   "cell_type": "code",
   "execution_count": null,
   "id": "55e97724-b32e-49c5-ad27-4eebf42345bf",
   "metadata": {},
   "outputs": [],
   "source": [
    "\n",
    "for col1, col2 in itertools.combinations(data_cols, r=2):\n",
    "    plt.figure(figsize=(5,5))\n",
    "    for i, tbin in enumerate(tbins):\n",
    "        sub = df_c[df_c['runid'].str.contains(tbin)]\n",
    "        plt.scatter(sub[col1], sub[col2], s=1.0, marker='.', label=labs[i])\n",
    "        plt.xlabel(col1)\n",
    "        plt.ylabel(col2)\n",
    "    plt.legend()\n",
    "    plt.show()\n",
    "#plt.scatter(df_lc_feat"
   ]
  },
  {
   "cell_type": "code",
   "execution_count": null,
   "id": "d18fea51-1c6a-4ebb-9dd8-bf1f2b551c73",
   "metadata": {},
   "outputs": [],
   "source": [
    "def clean(data):\n",
    "    d = data\n",
    "    #d = np.log10(d+1)\n",
    "    d = d[d > -np.inf]\n",
    "    d = d[d < np.inf]\n",
    "    return d\n",
    "    \n",
    "\n",
    "for col in data_cols:\n",
    "    plt.figure()\n",
    "    plt.title(col)\n",
    "    for i, tbin in enumerate(tbins):\n",
    "        sub = df_lc_feat[df_lc_feat['runid'].str.contains(tbin)]\n",
    "        plt.hist(clean(sub[col]), bins=100, histtype='step', label=labs[i])\n",
    "    plt.hist(clean(df_lc_feat[col]), bins=100, histtype='step', color='black', label='All')\n",
    "    plt.yscale('log')    \n",
    "    plt.ylabel('Count')\n",
    "    plt.legend()\n",
    "    plt.show()"
   ]
  },
  {
   "cell_type": "code",
   "execution_count": null,
   "id": "fd421196-54e7-48ed-a4f7-d4ec44a92b0b",
   "metadata": {},
   "outputs": [],
   "source": [
    "# Function to find the row index containing the specified element\n",
    "def find_row_index(df, element):\n",
    "    for i, row in df.iterrows():\n",
    "        if element in row['idxs']:\n",
    "            return i\n",
    "    return None  # If the element is not found in any row\n",
    "\n",
    "\n",
    "#sub_many_peak_and_eclipse = df_lc_feat[(df_lc_feat['num_B_peak_above_6_4'] > 10) & (df_lc_feat['num_B_eclipse_above_5_5'] > 10)]\n",
    "#sub_hard_and_fast = df_lc_feat[df_lc_feat['runid'].str.contains('5_2.0_12.0')]\n",
    "#sub_strong_peaks    = df_lc_feat[df_lc_feat['B_peak_log_max'] > 20]\n",
    "sub_hard_strong_eclipses = df_lc_feat[(df_lc_feat['B_eclipse_log_max'] > 20) & (df_lc_feat['runid'].str.contains('2.0_12.0'))]\n",
    "sub_hard_strong_peaks = df_lc_feat[(df_lc_feat['B_peak_log_max'] > 20) & (df_lc_feat['runid'].str.contains('2.0_12.0'))]\n",
    "\n",
    "\n",
    "for idx, row in sub_hard_strong_eclipses.iterrows():\n",
    "    key         = row['key']\n",
    "    try:\n",
    "        start, stop = df_lc_indexs.loc[key]\n",
    "    except:\n",
    "        print(key, 'failed!')\n",
    "    df_lc       = pd.read_hdf('../data/results_combined/merged_with_dr14/df_lc.h5', start=start, stop=stop)\n",
    "    if df_lc['n'].max() < 30:\n",
    "        continue\n",
    "    row_index = find_row_index(df_regions_unique, idx)\n",
    "    match = df_cmatch.loc[row_index]\n",
    "    if match['SEP_ARCSEC'] < 15:\n",
    "        continue\n",
    "    \n",
    "    print(f'{key} {row_index}')\n",
    "    \n",
    "    plt.figure(figsize=(15,3))\n",
    "    plt.plot(df_lc['time'], df_lc['n'], color='black', label=key)\n",
    "    plt.plot(df_lc['time'], df_lc['mu'], color='red')\n",
    "    plt.legend()\n",
    "    plt.show()"
   ]
  },
  {
   "cell_type": "code",
   "execution_count": null,
   "id": "46881862-7d04-47ab-93ef-600736a4ea81",
   "metadata": {},
   "outputs": [],
   "source": []
  },
  {
   "cell_type": "code",
   "execution_count": null,
   "id": "e4d34e9b-9490-42e8-811d-db97d88cd929",
   "metadata": {},
   "outputs": [],
   "source": []
  },
  {
   "cell_type": "code",
   "execution_count": null,
   "id": "2a414750-4de4-42f8-a033-c9990a287c96",
   "metadata": {},
   "outputs": [],
   "source": []
  },
  {
   "cell_type": "code",
   "execution_count": null,
   "id": "db2c3168-bb20-4885-b7e1-b222b935e820",
   "metadata": {},
   "outputs": [],
   "source": []
  },
  {
   "cell_type": "code",
   "execution_count": null,
   "id": "f12e0522-fb86-4a77-b07f-da9b67167fc9",
   "metadata": {},
   "outputs": [],
   "source": []
  },
  {
   "cell_type": "code",
   "execution_count": null,
   "id": "31b52e7a-9291-46cc-bfc7-98ccb8c27f89",
   "metadata": {},
   "outputs": [],
   "source": []
  },
  {
   "cell_type": "code",
   "execution_count": null,
   "id": "3a0a68d1-a485-4b86-be70-fda28e4277b1",
   "metadata": {},
   "outputs": [],
   "source": []
  }
 ],
 "metadata": {
  "kernelspec": {
   "display_name": "Python 3 (ipykernel)",
   "language": "python",
   "name": "python3"
  },
  "language_info": {
   "codemirror_mode": {
    "name": "ipython",
    "version": 3
   },
   "file_extension": ".py",
   "mimetype": "text/x-python",
   "name": "python",
   "nbconvert_exporter": "python",
   "pygments_lexer": "ipython3",
   "version": "3.12.0"
  }
 },
 "nbformat": 4,
 "nbformat_minor": 5
}
