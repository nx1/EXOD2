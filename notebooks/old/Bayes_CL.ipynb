{
 "cells": [
  {
   "cell_type": "code",
   "execution_count": null,
   "id": "f7cdd096-1f1a-4bea-a9cf-307d303ef3b0",
   "metadata": {},
   "outputs": [],
   "source": []
  },
  {
   "cell_type": "code",
   "execution_count": null,
   "id": "8a5d5a41-3a9e-4e0f-a49e-62a89281f8c8",
   "metadata": {},
   "outputs": [],
   "source": [
    "import math\n",
    "import numpy as np\n",
    "import matplotlib.pyplot as plt\n",
    "from scipy.special import gammainc\n",
    "from exod.processing import bayesian_computations\n",
    "\n",
    "def f(mu_s, mu_b, N):\n",
    "    a = (np.exp(-(mu_s+mu_b)) * (mu_s+mu_b)**N) / math.factorial(N)\n",
    "    \n",
    "    c = 0\n",
    "    for n in range(1,N+1):\n",
    "        c += (np.exp(-mu_b) * mu_b**n) / math.factorial(n)\n",
    "\n",
    "        #print(f'n={n} c={c}')\n",
    "\n",
    "    #c = gammainc(N+1, mu_b)\n",
    "    #c = 1\n",
    "    return a / c\n",
    "\n",
    "x = np.arange(0,25,0.01)\n",
    "n = 10\n",
    "y = [f(mu_s=x, mu_b=1, N=n) for x in x]\n",
    "plt.plot(x, y, label=fr' $\\mu_b$={b} N={n}')\n",
    "plt.xlabel(r'$\\mu_s$')\n",
    "plt.legend()"
   ]
  },
  {
   "cell_type": "code",
   "execution_count": null,
   "id": "a005b6af-bdd4-4873-80d2-5fe03cdb5e08",
   "metadata": {},
   "outputs": [],
   "source": []
  },
  {
   "cell_type": "code",
   "execution_count": null,
   "id": "92bd8f6e-cbd9-4f74-8d9e-eb9dd610fe0e",
   "metadata": {},
   "outputs": [],
   "source": []
  },
  {
   "cell_type": "code",
   "execution_count": null,
   "id": "9ae478c1-f13f-4b48-a001-082a90ba0a4e",
   "metadata": {},
   "outputs": [],
   "source": []
  }
 ],
 "metadata": {
  "kernelspec": {
   "display_name": "Python 3 (ipykernel)",
   "language": "python",
   "name": "python3"
  },
  "language_info": {
   "codemirror_mode": {
    "name": "ipython",
    "version": 3
   },
   "file_extension": ".py",
   "mimetype": "text/x-python",
   "name": "python",
   "nbconvert_exporter": "python",
   "pygments_lexer": "ipython3",
   "version": "3.12.0"
  }
 },
 "nbformat": 4,
 "nbformat_minor": 5
}
