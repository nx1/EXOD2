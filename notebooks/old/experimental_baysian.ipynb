{
 "cells": [
  {
   "cell_type": "code",
   "execution_count": 1,
   "id": "68b1b6fe-f560-4f5e-bdc4-0be3e83776f6",
   "metadata": {},
   "outputs": [],
   "source": [
    "import numpy as np\n",
    "import matplotlib.pyplot as plt\n",
    "from scipy.stats import poisson\n",
    "import exod.utils.path as path\n",
    "import cmasher as cmr\n",
    "from scipy.interpolate import interp1d\n",
    "from exod.pre_processing.data_loader import DataLoader\n",
    "from exod.xmm.observation import Observation\n",
    "from exod.processing.experimental.template_based_background_inference import compute_expected_cube_using_templates\n",
    "from exod.utils.synthetic_data import create_fake_burst,create_fake_onebin_burst,create_fake_Nbins_burst\n",
    "from matplotlib.colors import LogNorm\n",
    "import cmasher as cmr\n",
    "from tqdm import tqdm\n",
    "from math import factorial\n",
    "from scipy.special import gammainc, gammaincc, gammaincinv\n",
    "\n",
    "\n",
    "def bayes_factor_peak(n, mu):\n",
    "    \"\"\"Computes the Bayes factors of the presence of a peak, given the expected and observed counts mu and n\"\"\"\n",
    "    return np.log10(gammaincc(n + 1, mu)) - np.log10(poisson.pmf(n, mu))\n",
    "\n",
    "\n",
    "def bayes_factor_eclipse(n, mu):\n",
    "    \"\"\"Computes the Bayes factors of the presence of a peak, given the expected and observed counts mu and n\"\"\"\n",
    "    return np.log10(gammainc(n + 1, mu)) - np.log10(poisson.pmf(n, mu))\n",
    "\n"
   ]
  },
  {
   "cell_type": "code",
   "execution_count": 2,
   "id": "ec53b633-c9b2-4282-aa72-032a02f3591e",
   "metadata": {},
   "outputs": [
    {
     "name": "stdout",
     "output_type": "stream",
     "text": [
      "57 µs ± 751 ns per loop (mean ± std. dev. of 7 runs, 10,000 loops each)\n"
     ]
    }
   ],
   "source": [
    "%timeit bayes_factor_peak(5, 1e-3)"
   ]
  },
  {
   "cell_type": "code",
   "execution_count": 25,
   "id": "8d99eab2-d36c-4ba4-82bc-4fa62b344b7f",
   "metadata": {},
   "outputs": [
    {
     "data": {
      "text/plain": [
       "array([1.00000000e-04, 1.00401486e-04, 1.00804585e-04, ...,\n",
       "       4.96009187e+04, 4.98000596e+04, 5.00000000e+04])"
      ]
     },
     "execution_count": 25,
     "metadata": {},
     "output_type": "execute_result"
    }
   ],
   "source": [
    "10*range_mu"
   ]
  },
  {
   "cell_type": "code",
   "execution_count": null,
   "id": "38155e63-f0c3-44f9-8a6c-100843057baa",
   "metadata": {},
   "outputs": [],
   "source": []
  },
  {
   "cell_type": "code",
   "execution_count": 17,
   "id": "04d16014-64d5-46c3-8208-cf020a229993",
   "metadata": {},
   "outputs": [
    {
     "ename": "ValueError",
     "evalue": "The truth value of an array with more than one element is ambiguous. Use a.any() or a.all()",
     "output_type": "error",
     "traceback": [
      "\u001b[0;31m---------------------------------------------------------------------------\u001b[0m",
      "\u001b[0;31mValueError\u001b[0m                                Traceback (most recent call last)",
      "Cell \u001b[0;32mIn[17], line 2\u001b[0m\n\u001b[1;32m      1\u001b[0m range_mu        \u001b[38;5;241m=\u001b[39m np\u001b[38;5;241m.\u001b[39mgeomspace(start\u001b[38;5;241m=\u001b[39m\u001b[38;5;241m1e-5\u001b[39m, stop\u001b[38;5;241m=\u001b[39m\u001b[38;5;241m5e3\u001b[39m, num\u001b[38;5;241m=\u001b[39m\u001b[38;5;241m5000\u001b[39m)\n\u001b[0;32m----> 2\u001b[0m range_n_peak    \u001b[38;5;241m=\u001b[39m np\u001b[38;5;241m.\u001b[39marange(\u001b[38;5;28;43mmax\u001b[39;49m\u001b[43m(\u001b[49m\u001b[38;5;241;43m10\u001b[39;49m\u001b[38;5;241;43m*\u001b[39;49m\u001b[43mrange_mu\u001b[49m\u001b[43m,\u001b[49m\u001b[43m \u001b[49m\u001b[38;5;241;43m100\u001b[39;49m\u001b[43m)\u001b[49m)\n\u001b[1;32m      3\u001b[0m range_n_eclipse \u001b[38;5;241m=\u001b[39m np\u001b[38;5;241m.\u001b[39marange(\u001b[38;5;241m2\u001b[39m\u001b[38;5;241m*\u001b[39m\u001b[38;5;28mint\u001b[39m(range_mu)\u001b[38;5;241m+\u001b[39m\u001b[38;5;241m1\u001b[39m)\n",
      "\u001b[0;31mValueError\u001b[0m: The truth value of an array with more than one element is ambiguous. Use a.any() or a.all()"
     ]
    }
   ],
   "source": [
    "range_mu        = np.geomspace(start=1e-5, stop=5e3, num=5000)\n",
    "range_n_peak    = np.arange(max(10*range_mu, 100))\n",
    "range_n_eclipse = np.arange(2*int(range_mu)+1)"
   ]
  },
  {
   "cell_type": "code",
   "execution_count": 11,
   "id": "de601acb-101e-41e3-9c26-5876cf8ef4a4",
   "metadata": {},
   "outputs": [
    {
     "data": {
      "text/plain": [
       "array([False, False, False, False, False, False, False, False, False,\n",
       "       False, False, False, False, False, False, False, False, False,\n",
       "       False, False, False, False, False, False, False, False, False,\n",
       "       False, False, False, False, False, False, False, False, False,\n",
       "       False, False,  True,  True,  True,  True,  True,  True,  True,\n",
       "        True,  True,  True,  True,  True,  True,  True,  True,  True,\n",
       "        True,  True,  True,  True,  True,  True,  True,  True,  True,\n",
       "        True,  True,  True,  True,  True,  True,  True,  True,  True,\n",
       "        True,  True,  True,  True,  True,  True,  True,  True,  True,\n",
       "        True,  True,  True,  True,  True,  True,  True,  True,  True,\n",
       "        True,  True,  True,  True,  True,  True,  True,  True,  True,\n",
       "        True,  True,  True,  True,  True,  True,  True,  True,  True,\n",
       "        True,  True,  True,  True,  True,  True,  True,  True,  True,\n",
       "        True,  True,  True,  True,  True,  True,  True,  True,  True,\n",
       "        True,  True,  True,  True,  True,  True,  True,  True,  True,\n",
       "        True,  True,  True,  True,  True,  True,  True,  True,  True,\n",
       "        True,  True,  True,  True,  True,  True,  True,  True,  True,\n",
       "        True,  True,  True,  True,  True,  True,  True,  True,  True,\n",
       "        True,  True,  True,  True,  True,  True,  True,  True,  True])"
      ]
     },
     "execution_count": 11,
     "metadata": {},
     "output_type": "execute_result"
    }
   ],
   "source": [
    "bayes_factor_peak(range_n_peak, range_mu) > 5"
   ]
  },
  {
   "cell_type": "code",
   "execution_count": null,
   "id": "80b13d9b-6949-476f-9357-9b24e7360e5e",
   "metadata": {},
   "outputs": [],
   "source": []
  }
 ],
 "metadata": {
  "kernelspec": {
   "display_name": "Python 3 (ipykernel)",
   "language": "python",
   "name": "python3"
  },
  "language_info": {
   "codemirror_mode": {
    "name": "ipython",
    "version": 3
   },
   "file_extension": ".py",
   "mimetype": "text/x-python",
   "name": "python",
   "nbconvert_exporter": "python",
   "pygments_lexer": "ipython3",
   "version": "3.12.0"
  }
 },
 "nbformat": 4,
 "nbformat_minor": 5
}
