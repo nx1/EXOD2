{
 "cells": [
  {
   "cell_type": "code",
   "execution_count": null,
   "id": "47bf7ded-72b4-415f-abf6-ac0150a45ddd",
   "metadata": {},
   "outputs": [],
   "source": [
    "from exod.post_processing.simbad_stats import get_all_savepaths, load_dfs\n",
    "from pathlib import Path\n",
    "import pandas as pd\n",
    "import matplotlib.pyplot as plt"
   ]
  },
  {
   "cell_type": "code",
   "execution_count": null,
   "id": "98c10554-3eaa-48be-bf1e-a0676046d23c",
   "metadata": {},
   "outputs": [],
   "source": [
    "all_savepaths = get_all_savepaths(load_dfs())\n",
    "dfs = {savepath: pd.read_csv(savepath) for savepath in all_savepaths}\n",
    "df = dfs[Path('/home/nkhan/EXOD2/data/results_combined/simbad_stats/n_subtypes_vs_data_subset.csv')]\n",
    "sub = df[df['data_subset'] == 'EXOD FULL']\n",
    "sub.plot(y='perc_tot', kind='pie', labels=sub['subtype'])"
   ]
  },
  {
   "cell_type": "code",
   "execution_count": null,
   "id": "28e827e8-aba2-4633-8842-5820031152cd",
   "metadata": {},
   "outputs": [],
   "source": [
    "sizes  = sub['perc_tot']\n",
    "labels = sub['subtype']\n",
    "\n",
    "color_map = {\n",
    "    'CompactObject': 'grey',        # CompactObject: grey\n",
    "    'Galaxy': 'darkblue',           # Galaxy: dark blue\n",
    "    'Star': 'lightblue',            # Star: light blue\n",
    "    'Unidentified': 'orange',       # Unidentified: orange\n",
    "    'NO CMATCH': 'red'              # NO CMATCH: red\n",
    "}\n",
    "colors = [color_map[label] for label in labels]\n",
    "plt.figure(figsize=(6,6))  # Set figure size\n",
    "plt.pie(\n",
    "    sizes, \n",
    "    labels=labels,           # Add labels on the pie chart\n",
    "    autopct='%1.1f%%',       # Add percentage labels\n",
    "    startangle=90,           # Rotate the start angle of the pie chart\n",
    "    colors=colors,            # Set colors to a blue colorscheme\n",
    "    textprops={'fontsize':14}\n",
    ")\n",
    "\n",
    "plt.axis('equal')  # Equal aspect ratio ensures the pie chart is a circle.\n",
    "plt.show()         # Display the plot\n"
   ]
  },
  {
   "cell_type": "code",
   "execution_count": null,
   "id": "a955f5e1-5f73-485d-a2dd-b50c905e9afd",
   "metadata": {},
   "outputs": [],
   "source": [
    "color_map = {\n",
    "    'CompactObject': '#caf0f8',\n",
    "    'Galaxy'       : '#0077b6',      \n",
    "    'Star'         : '#00b4d8',      \n",
    "    'Unidentified' : '#90e0ef',      \n",
    "    'NO CMATCH'    : '#03045e'       \n",
    "}\n",
    "\n",
    "\n",
    "\n",
    "# Map the colors according to the labels\n",
    "colors = [color_map[label] for label in labels]\n",
    "\n",
    "# Function to customize percentage display (e.g., for small slices)\n",
    "def autopct_format(pct):\n",
    "    return ('%.1f%%' % pct) if pct > 5 else ''  # Display only if percentage > 5\n",
    "\n",
    "# Create the pie chart with custom label distance and percentage font size\n",
    "plt.figure(figsize=(6,6))\n",
    "plt.pie(\n",
    "    sizes, \n",
    "    labels=labels,                  # Add labels on the pie chart\n",
    "    autopct=autopct_format,         # Customize percentage display\n",
    "    startangle=90,                  # Rotate the start angle of the pie chart\n",
    "    colors=colors,                  # Use the custom color mapping\n",
    "    textprops={'fontsize': 20, 'color':'black'},     # Increase font size\n",
    "    labeldistance=1.1,              # Push labels outside the pie chart for smaller slices\n",
    "    pctdistance=0.8                 # Set percentage labels closer to the center\n",
    ")\n",
    "\n",
    "plt.axis('equal')  # Equal aspect ratio ensures the pie chart is a circle.\n",
    "plt.savefig('/home/nkhan/EXOD2/data/plots/simbad_exod_subclass_piechart.png', transparent=True)\n",
    "plt.savefig('/home/nkhan/EXOD2/data/plots/simbad_exod_subclass_piechart.pdf', transparent=True)\n",
    "\n",
    "plt.show()         # Display the plot\n"
   ]
  }
 ],
 "metadata": {
  "kernelspec": {
   "display_name": "Python 3 (ipykernel)",
   "language": "python",
   "name": "python3"
  },
  "language_info": {
   "codemirror_mode": {
    "name": "ipython",
    "version": 3
   },
   "file_extension": ".py",
   "mimetype": "text/x-python",
   "name": "python",
   "nbconvert_exporter": "python",
   "pygments_lexer": "ipython3",
   "version": "3.12.0"
  }
 },
 "nbformat": 4,
 "nbformat_minor": 5
}
