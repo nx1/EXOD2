{
 "cells": [
  {
   "cell_type": "code",
   "execution_count": null,
   "id": "190d142f-1626-4381-9717-523ae8c430f2",
   "metadata": {},
   "outputs": [],
   "source": [
    "from exod.processing.detector import Detector, plot_var_with_regions\n",
    "from exod.pre_processing.data_loader import DataLoader\n",
    "from exod.utils.path import save_df\n",
    "from exod.xmm.observation import Observation\n",
    "from exod.processing.detector import Detector\n",
    "from exod.utils.logger import logger\n",
    "from photutils.detection import daofinder, irafstarfinder, starfinder\n",
    "\n",
    "import numpy as np\n",
    "import matplotlib.pyplot as plt\n",
    "import pandas as pd\n",
    "from astropy.visualization import SqrtStretch\n",
    "from astropy.visualization.mpl_normalize import ImageNormalize\n",
    "from photutils.aperture import CircularAperture\n",
    "from astropy.stats import sigma_clipped_stats"
   ]
  },
  {
   "cell_type": "code",
   "execution_count": null,
   "id": "746bf682-ef6d-4373-bca7-bc209d5711d7",
   "metadata": {},
   "outputs": [],
   "source": [
    "\n",
    "# Create the Observation class\n",
    "obsid = '0872390901'\n",
    "\n",
    "obsid         = obsid\n",
    "size_arcsec   = 20.0\n",
    "time_interval = 5\n",
    "gti_only      = True\n",
    "gti_threshold = 0.5\n",
    "min_energy    = 0.5\n",
    "max_energy    = 12.0\n",
    "sigma         = 4\n",
    "clobber       = False\n",
    "\n",
    "observation = Observation(obsid)\n",
    "observation.get_files()\n",
    "\n",
    "# Get the eventslist & image to use\n",
    "event_list = observation.events_processed_pn[0]\n",
    "event_list.read()\n",
    "\n",
    "img = observation.images[0]\n",
    "img.read(wcs_only=True)\n",
    "\n",
    "# Initialize the Data Loader\n",
    "dl = DataLoader(event_list=event_list,\n",
    "                size_arcsec=size_arcsec,\n",
    "                time_interval=time_interval,\n",
    "                gti_only=gti_only,\n",
    "                gti_threshold=gti_threshold,\n",
    "                min_energy=min_energy,\n",
    "                max_energy=max_energy)\n",
    "dl.run()\n",
    "\n",
    "\n",
    "## Add Bursts\n",
    "#cube_with_peak = cube + create_fake_Nbins_burst(dl.data_cube, x_pos=25, y_pos=25,\n",
    "#                                                time_peak_fractions=(0.3,0.4,0.6,0.8), amplitude=40)\n",
    "#\n",
    "#precompute_bayes_limits(threshold=threshold)\n",
    "#\n",
    "#estimated_cube = compute_expected_cube_using_templates(cube_with_peak, rejected)\n",
    "#dc = DataCube(data=estimated_cube)\n",
    "#dc.video()"
   ]
  },
  {
   "cell_type": "code",
   "execution_count": null,
   "id": "91ed1f18-6bc8-4557-a582-64a83ef60c6c",
   "metadata": {},
   "outputs": [],
   "source": []
  },
  {
   "cell_type": "code",
   "execution_count": null,
   "id": "9ec639cf-58c8-4cef-9240-7a493fcffaea",
   "metadata": {},
   "outputs": [],
   "source": []
  },
  {
   "cell_type": "code",
   "execution_count": null,
   "id": "c58c6341-4905-443d-96ec-5ea3cba3b1c7",
   "metadata": {},
   "outputs": [],
   "source": [
    "plt.imshow(dl.data_cube.data[:,:,216])"
   ]
  },
  {
   "cell_type": "code",
   "execution_count": null,
   "id": "c79e2900-67b5-4a8b-9f4d-9bb8b7d60972",
   "metadata": {},
   "outputs": [],
   "source": [
    "dl.event_list.data"
   ]
  },
  {
   "cell_type": "code",
   "execution_count": null,
   "id": "3082936c-1037-4c2c-932f-ed7030ea2843",
   "metadata": {},
   "outputs": [],
   "source": []
  },
  {
   "cell_type": "code",
   "execution_count": null,
   "id": "894004ce-f399-46af-a1bb-9aebbb2a1f18",
   "metadata": {},
   "outputs": [],
   "source": []
  },
  {
   "cell_type": "code",
   "execution_count": null,
   "id": "f5941801-c8b1-490a-a403-8f705ff548c5",
   "metadata": {},
   "outputs": [],
   "source": [
    "detector.df_regions"
   ]
  },
  {
   "cell_type": "code",
   "execution_count": null,
   "id": "9f1e7a43-3454-44ef-b2e0-586690d9c4ea",
   "metadata": {},
   "outputs": [],
   "source": [
    "from scipy.interpolate import interp1d"
   ]
  },
  {
   "cell_type": "code",
   "execution_count": null,
   "id": "4d2b8f1c-7650-4cfc-973b-17afd4db9b63",
   "metadata": {},
   "outputs": [],
   "source": [
    "?interp1d"
   ]
  },
  {
   "cell_type": "code",
   "execution_count": null,
   "id": "b6425a56-88a7-4a73-8c82-a33e8912391f",
   "metadata": {},
   "outputs": [],
   "source": [
    "tab"
   ]
  },
  {
   "cell_type": "code",
   "execution_count": null,
   "id": "f42d8782-2164-4e10-8ea9-3523c82c626a",
   "metadata": {},
   "outputs": [],
   "source": [
    "for i, row in detector.df_regions.iterrows():\n",
    "    xlo, xhi = row['bbox-0']*80, row['bbox-2']*80\n",
    "    ylo, yhi = row['bbox-1']*80, row['bbox-3']*80\n",
    "    \n",
    "    print(xlo, xhi, ylo, yhi)\n",
    "    \n",
    "    tab = event_list.data\n",
    "    print(tab)\n",
    "    tab = tab[(tab['X'] >= xlo) & (tab['X'] <= xhi)]\n",
    "    print(tab)\n",
    "    tab = tab[(tab['Y'] >= ylo) & (tab['Y'] <= yhi)]\n",
    "    print(tab)\n",
    "\n",
    "\n",
    "\n",
    "\n",
    "\n",
    "\n"
   ]
  },
  {
   "cell_type": "code",
   "execution_count": null,
   "id": "aa3c8466-4065-4bfa-a22f-43e61c995472",
   "metadata": {},
   "outputs": [],
   "source": [
    "data_cube = dl.data_cube"
   ]
  },
  {
   "cell_type": "code",
   "execution_count": null,
   "id": "d93fe770-bcc9-436e-a161-f8e840070026",
   "metadata": {},
   "outputs": [],
   "source": [
    "len(data_cube.bin_x)"
   ]
  },
  {
   "cell_type": "code",
   "execution_count": null,
   "id": "1a23b5b2-9dfe-442b-b0ac-9d437c1c123e",
   "metadata": {},
   "outputs": [],
   "source": [
    "data_cube.bin_x"
   ]
  },
  {
   "cell_type": "code",
   "execution_count": null,
   "id": "d36e604b-6c02-4a93-b393-baa2f63bd2f0",
   "metadata": {},
   "outputs": [],
   "source": [
    "# Get the Events corresponding to the region.\n",
    "\n",
    "# Get the X, Y sky coordinates of the region.\n",
    "region gives the position on the cube\n",
    "we need to convert this to the X,Y positions\n",
    "\n",
    "interpX = interp1d(range(len(data_cube.bin_x)), data_cube.bin_x / 80)\n",
    "interpY = interp1d(range(len(data_cube.bin_y)), data_cube.bin_y / 80)\n",
    "\n",
    "\n",
    "\n",
    "\n",
    "\n",
    "\n",
    "\n",
    "\n",
    "\n",
    "\n",
    "\n",
    "\n"
   ]
  },
  {
   "cell_type": "code",
   "execution_count": null,
   "id": "5485a290-1462-441c-94f0-8b95d5b5f635",
   "metadata": {},
   "outputs": [],
   "source": []
  },
  {
   "cell_type": "code",
   "execution_count": null,
   "id": "44fbfbae-da9c-4aac-a52b-445492a0f4c2",
   "metadata": {},
   "outputs": [],
   "source": []
  },
  {
   "cell_type": "code",
   "execution_count": null,
   "id": "1bc739ec-dc88-469c-90ba-6e5c76674265",
   "metadata": {},
   "outputs": [],
   "source": [
    "class RegionCollection:\n",
    "    def __init__(self, regions):\n",
    "        self.regions = regions\n",
    "\n",
    "    def from_df_regions(cls, df_regions):\n",
    "        regions = []\n",
    "        \n",
    "        return cls(regions)"
   ]
  },
  {
   "cell_type": "code",
   "execution_count": null,
   "id": "f561c58d-d6e2-4d4c-be2c-cb6b0e964af2",
   "metadata": {},
   "outputs": [],
   "source": [
    "class Region:\n",
    "    def __init__(self, id, X, Y, bbox):\n",
    "        self.id = id \n",
    "        self.X = X\n",
    "        self.Y = Y\n",
    "        self.bbox = bbox\n",
    "\n",
    "        self.event_list = event_list\n",
    "        self.data_cube  = data_cube\n",
    "        \n",
    "    @classmethod\n",
    "    def from_df_regions(cls, df_regions):\n",
    "        df_regions['label']\n",
    "        cls()\n",
    "        return cls()\n",
    "    \n",
    "    def extract_lc(data_cube):\n",
    "        data_cube.\n",
    "        return \n",
    "\n",
    "    def get_events(self, event_list):\n",
    "        return table\n",
    "\n",
    "    def calc_KS(self):\n",
    "        \n",
    "\n",
    "    @property\n",
    "    def info(self)\n",
    "        info = {}\n",
    "        return info"
   ]
  },
  {
   "cell_type": "code",
   "execution_count": null,
   "id": "a3902ec3-85ba-4da2-adf4-f2e4e93882b8",
   "metadata": {},
   "outputs": [],
   "source": []
  },
  {
   "cell_type": "code",
   "execution_count": null,
   "id": "a14ff794-bebd-4481-9303-13b007eb4c69",
   "metadata": {},
   "outputs": [],
   "source": []
  },
  {
   "cell_type": "code",
   "execution_count": null,
   "id": "63b360f2-50af-4ac2-bbeb-5cb2d6bf044d",
   "metadata": {},
   "outputs": [],
   "source": []
  },
  {
   "cell_type": "code",
   "execution_count": null,
   "id": "4752b6e9-7112-40e2-866b-96c81447aa61",
   "metadata": {},
   "outputs": [],
   "source": []
  },
  {
   "cell_type": "code",
   "execution_count": null,
   "id": "d31d9e93-aa3d-4a9e-951f-122f8c8d64af",
   "metadata": {},
   "outputs": [],
   "source": []
  },
  {
   "cell_type": "code",
   "execution_count": null,
   "id": "f6ff1acd-6967-4bbe-91f5-ba23f3b60520",
   "metadata": {},
   "outputs": [],
   "source": [
    "class Source:\n",
    "    def __init__(self, id, X, Y):\n",
    "        self.id = id\n",
    "        self.X = X\n",
    "        self.Y = Y\n",
    "        \n",
    "    def __repr__(self):\n",
    "        return f'Source(id={self.id} X={self.X:.3f}, Y={self.Y:.3f})'\n",
    "\n",
    "    @classmethod\n",
    "    def from_dao(cls, row):\n",
    "        \"\"\"Create Source from row in daofinder.DAOStarFinder result table.\"\"\"\n",
    "        s = cls(row['id'], row['xcentroid'], row['ycentroid'])\n",
    "        s.sharpness  = row['sharpness']\n",
    "        s.roundness1 = row['roundness1']\n",
    "        s.roundness2 = row['roundness2']\n",
    "        s.npix       = row['npix']\n",
    "        s.sky        = row['sky']\n",
    "        s.peak       = row['peak']\n",
    "        s.flux       = row['flux']\n",
    "        s.mag        = row['mag']\n",
    "        return s\n",
    "\n",
    "    @classmethod\n",
    "    def from_peaks(cls, row):\n",
    "        \"\"\"Create Source from row in daofinder.DAOStarFinder result table.\"\"\"\n",
    "        pass\n",
    "        \n",
    "    @property\n",
    "    def info(self):\n",
    "        info = {'id' : self.id,\n",
    "                'X'  : self.X,\n",
    "                'Y'  : self.Y}\n",
    "        return info\n",
    "\n",
    "class SourceCollection:\n",
    "    def __init__(self):\n",
    "        self.sources = []\n",
    "\n",
    "    def add_source(self, source):\n",
    "        self.sources.append(source)\n",
    "        \n",
    "    def to_df():\n",
    "        return pd.DataFrame([s.info for s in self.sources])\n",
    "\n",
    "    def to_table():\n",
    "        tab = []\n",
    "        return tab\n",
    "\n",
    "\n",
    "class Detector:\n",
    "    def __init__(self, data_cube):\n",
    "        self.data_cube = data_cube\n",
    "        self.image_max = np.nanmax(self.data_cube.data, axis=2)\n",
    "        self.image_std = np.nanstd(self.data_cube.data, axis=2)\n",
    "        self.image_sum = np.nansum(self.data_cube.data, axis=2)\n",
    "        self.image_var = self.image_max * self.image_std\n",
    "\n",
    "        # Masking Bright Sources\n",
    "        self.image_mask = None\n",
    "        self.mask_percentile = None\n",
    "        self.mask_percentile_val = None\n",
    "\n",
    "        # Sigma Clipping For Background Estimation\n",
    "        self.sigma_clip = 3.0          # Sigmas for background Estimation\n",
    "        self.var_sigma_threshold = 6.0 # Sigmas for source Extraction\n",
    "        self.var_mean_sc, self.var_median_sc, self.var_std_sc = self.calc_sigma_clipped_stats()\n",
    "\n",
    "        # Detection Thresholds for DAO star finder\n",
    "        self.threshold_dao = self.calc_detection_threshold()\n",
    "        self.fwhm_dao      = 1.5\n",
    "\n",
    "        # Detected Sources\n",
    "        self.sources = []\n",
    "    \n",
    "    def __repr__(self):\n",
    "        return f'Detector({data_cube})'\n",
    "\n",
    "    def mask_bright_sources(self, percentile=99.97):\n",
    "        \"\"\"Mask Bright Sources by sum image.\"\"\"\n",
    "        self.mask_percentile = percentile\n",
    "        self.mask_percentile_val = np.percentile(self.image_sum, self.mask_percentile)\n",
    "        self.image_mask  = self.image_sum > self.mask_percentile\n",
    "\n",
    "    def calc_sigma_clipped_stats(self):\n",
    "        \"\"\"Calculate the sigma clipped statistics for the variability image.\"\"\"\n",
    "        mean, median, std = sigma_clipped_stats(self.image_var, sigma=self.sigma_clip)\n",
    "        logger.info(f'mean={mean:.2f} median={median:.2f} std={std:.2f}')\n",
    "        return mean, median, std\n",
    "        \n",
    "    def calc_detection_threshold(self):\n",
    "        \"\"\"Calculate the Detection threshold.\"\"\"\n",
    "        threshold = self.var_mean_sc + (self.var_sigma_threshold * self.var_std_sc)\n",
    "        logger.info(f'threshold={threshold:.2f}')\n",
    "        return threshold\n",
    "    \n",
    "    def detect_dao(self, fwhm=1.0, **kwargs):\n",
    "        \"\"\"Detect Sources in variability image using DAO starfinder.\"\"\"\n",
    "        sf = daofinder.DAOStarFinder(threshold=self.threshold_dao, fwhm=fwhm, exclude_border=True,)\n",
    "        self.tab_dao = sf.find_stars(self.image_var, mask=self.image_mask, **kwargs)\n",
    "        if self.tab_dao:\n",
    "            self.sources = [Source.from_dao(r) for r in self.tab_dao]\n",
    "        else:\n",
    "            logger.info('No Sources Found!')\n",
    "\n",
    "    def plot_image_mask(self):\n",
    "        plt.figure(figsize=(6,6))\n",
    "        plt.title(f'Image mask | percentile={self.mask_percentile} | value={self.mask_percentile_val:.2f}')\n",
    "        plt.imshow(self.image_mask, interpolation='none', cmap='grey')\n",
    "        plt.show()\n",
    "        \n",
    "    def plot_image_var(self, savepath=None):\n",
    "        logger.info('Plotting Variability map with source regions')\n",
    "    \n",
    "        # Colors and Normalisation\n",
    "        cmap = plt.cm.hot\n",
    "        cmap.set_bad('black')\n",
    "        norm = ImageNormalize(stretch=SqrtStretch()) #LogNorm()\n",
    "    \n",
    "        # Plot Image\n",
    "        fig, ax = plt.subplots(figsize=(10,10))\n",
    "        m1 = ax.imshow(self.image_var, norm=norm, interpolation='none', origin='lower', cmap=cmap)\n",
    "        cbar = plt.colorbar(mappable=m1, ax=ax, shrink=0.75)\n",
    "        cbar.set_label(\"Variability\")\n",
    "\n",
    "        # Plot Sources\n",
    "        source_color = 'lime'\n",
    "        Xs = [s.X for s in self.sources]\n",
    "        Ys = [s.Y for s in self.sources]\n",
    "\n",
    "        apertures = CircularAperture(np.transpose((Xs, Ys)), r=3.0)\n",
    "        \n",
    "        plt.scatter(Xs, Ys, marker='.', s=10, color=source_color)\n",
    "        apertures.plot(color=source_color, lw=1.0, alpha=0.5, ax=ax)\n",
    "        \n",
    "        for s in self.sources:\n",
    "            offset = 2\n",
    "            plt.text(s.X+offset, s.Y+offset, str(s.id), c=source_color)\n",
    "        plt.tight_layout()\n",
    "        \n",
    "        if savepath:\n",
    "            logger.info(f'Saving Variability image to: {savepath}')\n",
    "            plt.savefig(savepath)\n",
    "\n",
    "    def plot_3d_image(self, image):\n",
    "        xx, yy = np.mgrid[0:image.shape[0], 0:image.shape[1]]\n",
    "        fig = plt.figure(figsize=(15, 15))\n",
    "        ax = fig.add_subplot(projection='3d')\n",
    "        ax.plot_surface(xx, yy, image , rstride=1, cstride=1, cmap='plasma', linewidth=0) # , antialiased=False\n",
    "        \n",
    "        ax.grid(False)\n",
    "        ax.set_xticks([])\n",
    "        ax.set_yticks([])\n",
    "        #ax.set_zticks([])\n",
    "        \n",
    "        plt.show()\n",
    "    \n",
    "    \n",
    "    def detect_skimage(self):\n",
    "        \"\"\"Detect Sources in variability image using skimage label.\"\"\"\n",
    "        pass\n",
    "\n",
    "    def sources_to_df(self):\n",
    "        return pd.DataFrame([s.info for s in self.sources])\n",
    "\n",
    "    @property\n",
    "    def n_sources(self):\n",
    "        return len(self.sources)\n",
    "        \n",
    "    @property\n",
    "    def info(self):\n",
    "        info = {'data_cube'             : self.data_cube,\n",
    "                'n_sources'             : self.n_sources,\n",
    "                'mask_percentile'       : self.mask_percentile,\n",
    "                'mask_percentile_val'   : self.mask_percentile_val,\n",
    "                'threshold_dao'         : self.threshold_dao,\n",
    "                'fwhm_dao'              : self.fwhm_dao}\n",
    "        for k, v in info.items():\n",
    "            logger.info(f'{k:>21} : {v}')\n",
    "        return info\n",
    "    \n"
   ]
  },
  {
   "cell_type": "code",
   "execution_count": null,
   "id": "b470006f-bdcb-47a0-8618-1229d3ad20e7",
   "metadata": {},
   "outputs": [],
   "source": [
    "detector = Detector(data_cube=dl.data_cube)\n",
    "detector.plot_3d_image(detector.image_var)"
   ]
  },
  {
   "cell_type": "code",
   "execution_count": null,
   "id": "9f4057e3-f9ac-41e8-9af5-a8edc6c2caea",
   "metadata": {},
   "outputs": [],
   "source": [
    "detector = Detector(data_cube=dl.data_cube)\n",
    "#detector.mask_bright_sources(percentile=99.99997)\n",
    "#detector.plot_image_mask()\n",
    "detector.detect_dao(fwhm=0.5)\n",
    "detector.plot_image_var()\n",
    "detector.plot_3d_image(detector.image_var)\n",
    "\n",
    "df = detector.sources_to_df()\n",
    "print(df)\n",
    "det_info = detector.info"
   ]
  },
  {
   "cell_type": "code",
   "execution_count": null,
   "id": "3cf62fc7-15a0-45f4-996d-bb3eb2dab9fa",
   "metadata": {},
   "outputs": [],
   "source": []
  },
  {
   "cell_type": "code",
   "execution_count": null,
   "id": "014783c4-ae50-498e-b115-8332abf0996b",
   "metadata": {},
   "outputs": [],
   "source": [
    "a   = detector.image_sum\n",
    "arr = sigma_clip(a, sigma=50, maxiters=5, masked=True)\n",
    "plt.imshow(arr)\n",
    "\n",
    "\n",
    "\n",
    "\n",
    "#a = a[a>0]\n",
    "#a_log = np.log10(a)\n",
    "#v = np.percentile(a_log, 99.97)\n",
    "#val = 10**v\n",
    "#print(val)\n",
    "#plt.figure(figsize=(4,3))\n",
    "#plt.axvline(v, color='red')\n",
    "#plt.hist(a_log, bins=100)\n",
    "#plt.xlabel('log10(sum image)')\n",
    "#plt.ylabel('Count')\n",
    "#plt.show()"
   ]
  },
  {
   "cell_type": "code",
   "execution_count": null,
   "id": "15f7ce4c-3a67-49df-84e3-ae62a423cb47",
   "metadata": {},
   "outputs": [],
   "source": []
  },
  {
   "cell_type": "code",
   "execution_count": null,
   "id": "0e49f539-d956-47aa-91a9-3f400ea924f4",
   "metadata": {},
   "outputs": [],
   "source": [
    "detector."
   ]
  },
  {
   "cell_type": "code",
   "execution_count": null,
   "id": "4d11227f-e4de-4296-aef4-253bea0862fb",
   "metadata": {},
   "outputs": [],
   "source": [
    "from photutils.detection import find_peaks"
   ]
  },
  {
   "cell_type": "code",
   "execution_count": null,
   "id": "edacf990-0b37-4e43-af4c-c93b43f1f54c",
   "metadata": {},
   "outputs": [],
   "source": [
    "tab_peaks"
   ]
  },
  {
   "cell_type": "code",
   "execution_count": null,
   "id": "6881ae07-ae71-4f96-a50b-8dc47843544d",
   "metadata": {},
   "outputs": [],
   "source": [
    "img_mask.shape"
   ]
  },
  {
   "cell_type": "code",
   "execution_count": null,
   "id": "39607ef9-539c-4e9a-bc0c-4e0a9568cecf",
   "metadata": {},
   "outputs": [],
   "source": [
    "img_sum   = np.nansum(data_cube.data, axis=2)\n",
    "img_mask  = img_sum > np.percentile(img_sum, 99.97)\n",
    "tab_peaks = find_peaks(var_img, threshold=1.0, box_size=3, mask=img_mask)\n",
    "tab_peaks\n",
    "\n",
    "fig, ax = plt.subplots(figsize=(10,10))\n",
    "imshow = ax.imshow(var_img, cmap='hot', origin='lower', norm=norm, interpolation='none')\n",
    "plt.scatter(tab_peaks['x_peak'], tab_peaks['y_peak'], color='lime', marker='.', s=10)\n",
    "plt.tight_layout()\n",
    "plt.show()"
   ]
  },
  {
   "cell_type": "code",
   "execution_count": null,
   "id": "1f5db93f-ed72-4b59-8228-2bdb329cc560",
   "metadata": {},
   "outputs": [],
   "source": [
    "\n"
   ]
  },
  {
   "cell_type": "code",
   "execution_count": null,
   "id": "c6920f8f-7639-4487-b588-119cb989641f",
   "metadata": {},
   "outputs": [],
   "source": [
    "from astropy.stats import sigma_clipped_stats\n",
    "\n",
    "\n",
    "mean, median, stddev = sigma_clipped_stats(var_img)\n",
    "mean, median, stddev"
   ]
  },
  {
   "cell_type": "code",
   "execution_count": null,
   "id": "68ad6ef1-ff1f-4403-9642-34c85ba6cb9c",
   "metadata": {},
   "outputs": [],
   "source": [
    "sources"
   ]
  },
  {
   "cell_type": "code",
   "execution_count": null,
   "id": "22bc1338-4ce8-4722-9a6c-228ee3d4db0e",
   "metadata": {},
   "outputs": [],
   "source": []
  },
  {
   "cell_type": "code",
   "execution_count": null,
   "id": "c61f430b-eebb-4ba9-b091-f59e38e459eb",
   "metadata": {},
   "outputs": [],
   "source": [
    "import astropy.wcs as wcs"
   ]
  },
  {
   "cell_type": "code",
   "execution_count": null,
   "id": "b2ab8cc0-20dc-4098-9cc4-a4debd74a279",
   "metadata": {},
   "outputs": [],
   "source": [
    "wcs.i"
   ]
  }
 ],
 "metadata": {
  "kernelspec": {
   "display_name": "Python 3 (ipykernel)",
   "language": "python",
   "name": "python3"
  },
  "language_info": {
   "codemirror_mode": {
    "name": "ipython",
    "version": 3
   },
   "file_extension": ".py",
   "mimetype": "text/x-python",
   "name": "python",
   "nbconvert_exporter": "python",
   "pygments_lexer": "ipython3",
   "version": "3.12.0"
  }
 },
 "nbformat": 4,
 "nbformat_minor": 5
}
