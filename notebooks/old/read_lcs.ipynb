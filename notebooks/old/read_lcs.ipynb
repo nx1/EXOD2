{
 "cells": [
  {
   "cell_type": "code",
   "execution_count": null,
   "id": "2adaa1b0-b348-4824-9632-9c3b408b5b53",
   "metadata": {},
   "outputs": [],
   "source": [
    "import numpy as np\n",
    "import pandas as pd\n",
    "from tqdm import tqdm\n",
    "import matplotlib.pyplot as plt\n",
    "\n",
    "from sklearn.cluster import KMeans\n",
    "from sklearn.preprocessing import StandardScaler\n",
    "from sklearn.metrics import silhouette_score\n",
    "import matplotlib.pyplot as plt\n",
    "import pandas as pd\n",
    "import numpy as np"
   ]
  },
  {
   "cell_type": "code",
   "execution_count": null,
   "id": "666608fe-c80a-497b-9496-bbe8c94e044b",
   "metadata": {},
   "outputs": [],
   "source": [
    "dtype={'time': np.float64,\n",
    "       'bti': bool,\n",
    "       'bccd': bool,\n",
    "       'n': np.int64,\n",
    "       'mu': np.float64,\n",
    "       'B_peak_log': np.float64,\n",
    "       'B_eclipse_log': np.float64,\n",
    "       'label': str,\n",
    "       'runid': str}"
   ]
  },
  {
   "cell_type": "code",
   "execution_count": null,
   "id": "da16cfd1-fa2f-49cc-8fe8-115e870bfe4a",
   "metadata": {},
   "outputs": [],
   "source": [
    "df = pd.read_csv('../data/results_combined/merged_with_dr14/df_lc.csv', dtype=dtype, nrows=10000000)\n",
    "print(f'memory mb={df.memory_usage(index=True).sum()/1024}')\n",
    "df['time_0'] = df.groupby(['runid', 'label'])['time'].transform(lambda x: x - x.min())\n",
    "grouped_max  = df.groupby(['runid', 'label'])['n'].transform('max')\n",
    "grouped_mean = df.groupby(['runid', 'label'])['n'].transform('mean')\n",
    "\n",
    "#df = df[grouped_max < 100]\n",
    "#df = df[grouped_mean > 50]\n",
    "#df = df.drop('time', axis=1)\n",
    "df"
   ]
  },
  {
   "cell_type": "code",
   "execution_count": null,
   "id": "a1bb1ce6-4273-4730-a9b3-a12a3ad621ee",
   "metadata": {},
   "outputs": [],
   "source": [
    "fig, ax = plt.subplots(1,2, figsize=(10,4), sharey=True)\n",
    "t_bins = [5,50,200]\n",
    "for i, t_bin in enumerate(t_bins):\n",
    "    mask = df['runid'].str.contains(f'_{t_bin}_')\n",
    "    sub = df[mask]\n",
    "\n",
    "    hist_kwargs = {'label' : fr'$t_{{\\mathrm{{bin}}}}$={t_bin}',\n",
    "                   'lw' : 1.0,\n",
    "                   'histtype': 'step'}\n",
    "    ax[0].hist(sub['n'], bins=np.arange(0,1000,1), **hist_kwargs)\n",
    "    ax[1].hist(sub['n']/t_bin, bins=np.linspace(0,20,100), **hist_kwargs)\n",
    "\n",
    "ax[0].set_title('Distribution of lightcurve counts')\n",
    "ax[1].set_title('Distribution of lightcurve count rates')\n",
    "ax[0].set_ylabel('Frequency')\n",
    "ax[0].set_xlabel('Counts')\n",
    "ax[1].set_xlabel('Count Rate')\n",
    "\n",
    "for a in ax:\n",
    "    a.set_yscale('log')\n",
    "    \n",
    "    a.legend()\n",
    "plt.subplots_adjust(wspace=0)\n",
    "plt.show()"
   ]
  },
  {
   "cell_type": "code",
   "execution_count": null,
   "id": "07721574-b130-4f27-9e80-db61ee208f5b",
   "metadata": {},
   "outputs": [],
   "source": [
    "fig, ax = plt.subplots(1,2, figsize=(10,4), sharey=True)\n",
    "t_bins = [5,50,200]\n",
    "for i, t_bin in enumerate(t_bins):\n",
    "    mask = df['runid'].str.contains(f'_{t_bin}_')\n",
    "    sub = df[mask]\n",
    "\n",
    "    hist_kwargs = {'label' : fr'$t_{{\\mathrm{{bin}}}}$={t_bin}',\n",
    "                   'lw' : 1.0,\n",
    "                   'histtype': 'step'}\n",
    "    ax[0].hist(sub['mu'], bins=np.arange(0,1000,1), **hist_kwargs)\n",
    "    ax[1].hist(sub['mu']/t_bin, bins=np.linspace(0,15,50), **hist_kwargs)\n",
    "\n",
    "ax[0].set_title(r'Distribution of lightcurve expectation $\\mu$')\n",
    "ax[1].set_title(r'Distribution of lightcurve expectation rates $\\mu$/s')\n",
    "ax[0].set_ylabel('Frequency')\n",
    "ax[0].set_xlabel('Expectation')\n",
    "ax[1].set_xlabel('Expectation Rate')\n",
    "\n",
    "for a in ax:\n",
    "    a.set_yscale('log')\n",
    "    \n",
    "    a.legend()\n",
    "plt.subplots_adjust(wspace=0)\n",
    "plt.show()"
   ]
  },
  {
   "cell_type": "code",
   "execution_count": null,
   "id": "0ead0f42-486b-4d88-8d8e-053c3299e967",
   "metadata": {},
   "outputs": [],
   "source": [
    "fig, ax = plt.subplots(1,2, figsize=(10,4), sharey=True)\n",
    "t_bins = [5,50,200]\n",
    "for i, t_bin in enumerate(t_bins):\n",
    "    mask = df['runid'].str.contains(f'_{t_bin}_')\n",
    "    sub = df[mask]\n",
    "\n",
    "    hist_kwargs = {'label' : fr'$t_{{\\mathrm{{bin}}}}$={t_bin}',\n",
    "                   'lw' : 1.0,\n",
    "                   'histtype': 'step'}\n",
    "    ax[0].hist(sub['B_peak_log'], bins=np.linspace(0,350,100), histtype='step')\n",
    "    ax[1].hist(sub['B_eclipse_log'], bins=np.linspace(0,350,100), histtype='step')\n",
    "    \n",
    "for a in ax:\n",
    "    a.set_yscale('log')\n",
    "\n",
    "ax[0].set_xlabel(r'$B_{\\mathrm{Peak}}$')\n",
    "ax[1].set_xlabel(r'$B_{\\mathrm{eclipse}}$')\n",
    "plt.subplots_adjust(wspace=0)\n",
    "plt.show()"
   ]
  },
  {
   "cell_type": "code",
   "execution_count": null,
   "id": "1b91e6d9-c1ce-4a1f-af80-e5ccc7023b77",
   "metadata": {},
   "outputs": [],
   "source": [
    "plt.figure(figsize=(20,5))\n",
    "sub = df[df['runid'].str.contains('_5_')]\n",
    "gb = sub.groupby(['runid', 'label'])\n",
    "transform = gb['n'].transform('max')\n",
    "sub = sub[transform < 100]\n",
    "\n",
    "plt.plot(sub['time_0'], sub['n'], color='black', lw=1.0)\n",
    "plt.ylim(0,100)"
   ]
  },
  {
   "cell_type": "code",
   "execution_count": null,
   "id": "8828b392-365a-4090-8403-83ee06e71543",
   "metadata": {},
   "outputs": [],
   "source": [
    "dtype={'time': np.float64,\n",
    "       'bti': bool,\n",
    "       'bccd': bool,\n",
    "       'n': np.int64,\n",
    "       'mu': np.float64,\n",
    "       'B_peak_log': np.float64,\n",
    "       'B_eclipse_log': np.float64,\n",
    "       'label': str,\n",
    "       'runid': str}"
   ]
  },
  {
   "cell_type": "code",
   "execution_count": null,
   "id": "270da234-214b-40ec-872a-fe0c6c12def6",
   "metadata": {},
   "outputs": [],
   "source": [
    "ns = np.array([])\n",
    "for df in pd.read_csv('../data/results_combined/27_5_24_dr14/df_lc.csv', dtype=dtype, chunksize=1e7):\n",
    "    ns = np.append(ns, df['n'])\n",
    "    print(len(ns))"
   ]
  },
  {
   "cell_type": "code",
   "execution_count": null,
   "id": "d5a5b213-6bfc-47d8-ace3-b4de67df9e5d",
   "metadata": {},
   "outputs": [],
   "source": [
    "ns  = np.array([])\n",
    "mus = np.array([])\n",
    "for df in pd.read_csv('../data/results_combined/merged_with_dr14/df_lc.csv', dtype=dtype, chunksize=1e7):\n",
    "    for tbin in ['_5_', '_50_', '_200_']:\n",
    "        mask = df['runid'].str.contains(tbin)\n",
    "        sub = df[mask]\n",
    "        v = int(tbin.split('_')[1])\n",
    "    \n",
    "        ns  = np.append(ns, sub['n']/v)\n",
    "        mus = np.append(mus, sub['mu']/v)\n",
    "    print(len(ns))\n"
   ]
  },
  {
   "cell_type": "code",
   "execution_count": null,
   "id": "f336bfdf-88e4-4a17-a97d-094898d35197",
   "metadata": {},
   "outputs": [],
   "source": [
    "from exod.utils.plotting import set_latex_font\n",
    "set_latex_font()"
   ]
  },
  {
   "cell_type": "code",
   "execution_count": null,
   "id": "3ecf360c-2e0b-4102-af2b-d567a72be332",
   "metadata": {},
   "outputs": [],
   "source": [
    "plt.figure(figsize=(4,3))\n",
    "plt.hist(np.log10(ns+1), bins=np.linspace(0,3,500), histtype='step', label=r'Observed (N)', color='red', lw=1.0)\n",
    "plt.hist(np.log10(mus+1), bins=np.linspace(0,3,500), histtype='step', label=r'Expected ($\\mu$)', color='blue', lw=1.0)\n",
    "plt.xlabel(r'$\\log_{10}$ Count Rate (ct/s)')\n",
    "plt.yscale('log')\n",
    "plt.legend()\n",
    "plt.tight_layout()\n",
    "plt.xlim(0,3.0)\n",
    "plt.savefig('../data/plots/N_mu_dist_all_lc.png')\n",
    "plt.savefig('../data/plots/N_mu_dist_all_lc.pdf')\n",
    "plt.show()"
   ]
  },
  {
   "cell_type": "code",
   "execution_count": null,
   "id": "99483dda-1ea2-4e01-bbb0-5172a95bea40",
   "metadata": {},
   "outputs": [],
   "source": [
    "import pandas as pd\n",
    "df = pd.read_csv('../data/results_combined/merged_with_dr14/df_lc.csv', nrows=40000)"
   ]
  },
  {
   "cell_type": "code",
   "execution_count": null,
   "id": "4b4b3fa7-4dc6-429d-a4ab-67201837d6af",
   "metadata": {},
   "outputs": [],
   "source": [
    "for (label, runid), df in df.groupby(['label', 'runid']):\n",
    "    print(label, runid)\n",
    "    print(df)"
   ]
  },
  {
   "cell_type": "code",
   "execution_count": null,
   "id": "d7320dbd-2f3b-479f-85d0-3ad93757a17c",
   "metadata": {},
   "outputs": [],
   "source": []
  },
  {
   "cell_type": "code",
   "execution_count": null,
   "id": "22b3a81b-dbcf-4c29-bd96-7b56244aa937",
   "metadata": {},
   "outputs": [],
   "source": [
    "df_start_end"
   ]
  },
  {
   "cell_type": "code",
   "execution_count": null,
   "id": "2068af6e-23f8-4fe1-8b1e-ebfc645a1874",
   "metadata": {},
   "outputs": [],
   "source": []
  },
  {
   "cell_type": "code",
   "execution_count": null,
   "id": "7f875f53-b572-4682-9845-5e1bb6f6d67d",
   "metadata": {},
   "outputs": [],
   "source": [
    "import pandas as pd\n",
    "pd.read_hdf('../data/results_combined/merged_with_dr14/df_lc.h5', start=0, stop=100)"
   ]
  },
  {
   "cell_type": "code",
   "execution_count": null,
   "id": "eff2d403-3cfc-4e67-8cd2-462dc3b79b68",
   "metadata": {},
   "outputs": [],
   "source": []
  },
  {
   "cell_type": "code",
   "execution_count": null,
   "id": "306c35ac-d9e2-41c0-a3fb-c7b37bf494c1",
   "metadata": {},
   "outputs": [],
   "source": [
    "import pandas as pd\n",
    "\n",
    "def find_unique_combinations(file_path, chunk_size=1e7):\n",
    "    \"\"\"Find the start and end_indexs of the unique runid, and label combination for the lightcurve file.\"\"\"\n",
    "    unique_combinations = {}\n",
    "    current_index = 0\n",
    "\n",
    "    for chunk in pd.read_csv(file_path, chunksize=chunk_size):\n",
    "        groupby = chunk.groupby(['label', 'runid'])\n",
    "        for (label, runid), df in groupby:\n",
    "            start_index = int(df.index[0] + current_index)\n",
    "            end_index   = int(df.index[-1] + current_index)\n",
    "            if (label, runid) in unique_combinations:\n",
    "                unique_combinations[(label, runid)] = (unique_combinations[(label, runid)][0], end_index)\n",
    "            else:\n",
    "                unique_combinations[(label, runid)] = (start_index, end_index)\n",
    "        current_index += chunk_size\n",
    "        \n",
    "    df_start_end = pd.DataFrame.from_dict(unique_combinations, orient='index', columns=['start_index', 'end_index'])\n",
    "    df_start_end = df_start_end.sort_values('start_index')\n",
    "    df_start_end['increment'] = df_start_end['end_index'] - df_start_end['start_index']\n",
    "    return df_start_end\n",
    "\n",
    "# Use the function to process the file\n",
    "df_start_end = find_unique_combinations('../data/results_combined/merged_with_dr14/df_lc.csv')\n",
    "print(df_start_end)\n"
   ]
  },
  {
   "cell_type": "code",
   "execution_count": null,
   "id": "ca7bbdab-7f0c-46d0-a268-8e54cbb3d089",
   "metadata": {},
   "outputs": [],
   "source": []
  },
  {
   "cell_type": "code",
   "execution_count": null,
   "id": "4b201936-0525-47f6-9e18-18c5bad0a18d",
   "metadata": {},
   "outputs": [],
   "source": []
  },
  {
   "cell_type": "code",
   "execution_count": null,
   "id": "51fd2ec6-2a63-4f29-ac33-32e699e3d592",
   "metadata": {},
   "outputs": [],
   "source": []
  },
  {
   "cell_type": "code",
   "execution_count": null,
   "id": "4a335c55-5e78-4c09-a2c4-1f4b72839ba1",
   "metadata": {},
   "outputs": [],
   "source": []
  },
  {
   "cell_type": "code",
   "execution_count": null,
   "id": "3b17cb72-dec0-4114-8742-252701ed6efe",
   "metadata": {},
   "outputs": [],
   "source": []
  },
  {
   "cell_type": "code",
   "execution_count": null,
   "id": "7a102bd6-2481-49b2-9b90-ab5be6907052",
   "metadata": {},
   "outputs": [],
   "source": []
  },
  {
   "cell_type": "code",
   "execution_count": null,
   "id": "526ba228-5fbc-4134-aee1-a48c1f3c694d",
   "metadata": {},
   "outputs": [],
   "source": []
  },
  {
   "cell_type": "code",
   "execution_count": null,
   "id": "0d89f2bc-a657-4ae3-9561-98278318e060",
   "metadata": {},
   "outputs": [],
   "source": [
    "df = pd.read_hdf('../data/results_combined/merged_with_dr14/df_lc.h5', start=96336809, stop=96340068)"
   ]
  },
  {
   "cell_type": "code",
   "execution_count": null,
   "id": "82aa7b7f-8649-4ced-837a-6aa54d625c90",
   "metadata": {},
   "outputs": [],
   "source": [
    "df"
   ]
  },
  {
   "cell_type": "code",
   "execution_count": null,
   "id": "a927009e-c9c4-4148-b225-643328aa5bd1",
   "metadata": {},
   "outputs": [],
   "source": []
  }
 ],
 "metadata": {
  "kernelspec": {
   "display_name": "Python 3 (ipykernel)",
   "language": "python",
   "name": "python3"
  },
  "language_info": {
   "codemirror_mode": {
    "name": "ipython",
    "version": 3
   },
   "file_extension": ".py",
   "mimetype": "text/x-python",
   "name": "python",
   "nbconvert_exporter": "python",
   "pygments_lexer": "ipython3",
   "version": "3.12.0"
  }
 },
 "nbformat": 4,
 "nbformat_minor": 5
}
