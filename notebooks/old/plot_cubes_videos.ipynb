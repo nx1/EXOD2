{
 "cells": [
  {
   "cell_type": "code",
   "execution_count": null,
   "id": "396e543d-fbf2-4d56-b6fa-66ba52d88a7e",
   "metadata": {},
   "outputs": [],
   "source": [
    "import matplotlib.pyplot as plt\n",
    "from exod.processing.bayesian_pipeline import Pipeline\n",
    "from exod.processing.data_cube import DataCube"
   ]
  },
  {
   "cell_type": "code",
   "execution_count": null,
   "id": "1ace3cb5-fabd-4952-92a5-13d80e646a5a",
   "metadata": {},
   "outputs": [],
   "source": [
    "obsid = '0886121001'"
   ]
  },
  {
   "cell_type": "code",
   "execution_count": null,
   "id": "1af8eb13-4bb8-4ebf-a33d-a2eafc8015ee",
   "metadata": {},
   "outputs": [],
   "source": [
    "p = Pipeline(obsid=obsid, size_arcsec=10)"
   ]
  },
  {
   "cell_type": "code",
   "execution_count": null,
   "id": "e0a29ec8-e8f6-4ec7-817b-4e466dbe7915",
   "metadata": {},
   "outputs": [],
   "source": [
    "p.run()"
   ]
  },
  {
   "cell_type": "code",
   "execution_count": null,
   "id": "655251c5-2d4f-4237-bbb4-871191fa81bf",
   "metadata": {},
   "outputs": [],
   "source": [
    "n = p.n.data"
   ]
  },
  {
   "cell_type": "code",
   "execution_count": null,
   "id": "299998e8-e514-48c4-949c-e160c46b248f",
   "metadata": {},
   "outputs": [],
   "source": [
    "mu = p.mu"
   ]
  },
  {
   "cell_type": "code",
   "execution_count": null,
   "id": "e14fd43a-51e4-4a25-be89-1004cd20e4ae",
   "metadata": {},
   "outputs": [],
   "source": [
    "bkg = p.lc_outside_sources"
   ]
  },
  {
   "cell_type": "code",
   "execution_count": null,
   "id": "b27a2e02-d8c3-41a8-be7b-747b20c90695",
   "metadata": {},
   "outputs": [],
   "source": [
    "from exod.utils.plotting import cmap_image\n",
    "from matplotlib.animation import FuncAnimation"
   ]
  },
  {
   "cell_type": "code",
   "execution_count": null,
   "id": "2a2bd784-d089-45cb-8a41-ed60256b4b42",
   "metadata": {},
   "outputs": [],
   "source": [
    "fig, ax = plt.subplots(1,2, figsize=(10,5))\n",
    "for a in ax:\n",
    "    a.axis('off')\n",
    "img = ax[0].imshow(n[:, :, 0].T, cmap=cmap_image(), animated=True, interpolation='none', origin='lower')\n",
    "img2 = ax[1].imshow(mu[:, :, 0].T, cmap=cmap_image(), animated=True, interpolation='none', origin='lower')\n",
    "\n",
    "\n",
    "\n",
    "def update(frame):\n",
    "    ax[0].set_title(f'{frame}/{num_frames}')\n",
    "    ax[1].set_title(f'{frame}/{num_frames}')\n",
    "    \n",
    "    img.set_array(n[:, :, frame].T)\n",
    "    img2.set_array(mu[:, :, frame].T)\n",
    "    \n",
    "    return img,\n",
    "\n",
    "num_frames = n.shape[2]\n",
    "ani = FuncAnimation(fig, update, frames=num_frames, interval=20)\n",
    "ani.save('n_mu_cubes.gif')"
   ]
  },
  {
   "cell_type": "code",
   "execution_count": null,
   "id": "4ba792e5-8aae-4752-bd64-f0a422c2682f",
   "metadata": {},
   "outputs": [],
   "source": [
    "plt.plot(bkg)"
   ]
  },
  {
   "cell_type": "code",
   "execution_count": null,
   "id": "ce37a5b6-deac-43a0-bd5c-d8343d836724",
   "metadata": {},
   "outputs": [],
   "source": [
    "fig = plt.figure(figsize=(8, 5))\n",
    "grid = plt.GridSpec(3, 2, height_ratios=[1, 1, 0.3], hspace=-0.6)\n",
    "ax1 = fig.add_subplot(grid[0, 0])\n",
    "ax2 = fig.add_subplot(grid[0, 1])\n",
    "ax3 = fig.add_subplot(grid[2, :])\n",
    "\n",
    "ax3.set_ylabel('bkg\\nCounts')\n",
    "ax3.set_xlabel('Frame Number')\n",
    "\n",
    "for a in [ax1, ax2]:\n",
    "    a.axis('off')\n",
    "\n",
    "img  = ax1.imshow(n[:, :, 0].T, cmap=cmap_image(), animated=True, interpolation='none', origin='lower')\n",
    "img2 = ax2.imshow(mu[:, :, 0].T, cmap=cmap_image(), animated=True, interpolation='none', origin='lower')\n",
    "line, = ax3.plot(range(len(bkg)), bkg)\n",
    "\n",
    "def update(frame):\n",
    "    ax1.set_title(f'{frame}/{num_frames}')\n",
    "    ax2.set_title(f'{frame}/{num_frames}')\n",
    "    \n",
    "    img.set_array(n[:, :, frame].T)\n",
    "    img2.set_array(mu[:, :, frame].T)\n",
    "\n",
    "    line.set_data(range(len(bkg[:frame])), bkg[:frame])\n",
    "    \n",
    "    return img, line,\n",
    "\n",
    "num_frames = n.shape[2]\n",
    "ani = FuncAnimation(fig, update, frames=num_frames, interval=100)\n",
    "ani.save('n_mu_cubes.gif')\n",
    "plt.show()\n"
   ]
  },
  {
   "cell_type": "code",
   "execution_count": null,
   "id": "d7b7c13c-3d7d-4ebd-ab90-a6776a12d9a9",
   "metadata": {},
   "outputs": [],
   "source": []
  },
  {
   "cell_type": "code",
   "execution_count": null,
   "id": "854deece-bada-49ac-b70e-4c3316c5764c",
   "metadata": {},
   "outputs": [],
   "source": []
  }
 ],
 "metadata": {
  "kernelspec": {
   "display_name": "Python 3 (ipykernel)",
   "language": "python",
   "name": "python3"
  },
  "language_info": {
   "codemirror_mode": {
    "name": "ipython",
    "version": 3
   },
   "file_extension": ".py",
   "mimetype": "text/x-python",
   "name": "python",
   "nbconvert_exporter": "python",
   "pygments_lexer": "ipython3",
   "version": "3.12.0"
  }
 },
 "nbformat": 4,
 "nbformat_minor": 5
}
