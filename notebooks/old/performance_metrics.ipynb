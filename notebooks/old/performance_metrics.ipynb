{
 "cells": [
  {
   "cell_type": "code",
   "execution_count": null,
   "id": "626a6641-643f-4b36-9271-9e20cb104c27",
   "metadata": {},
   "outputs": [],
   "source": [
    "import numpy as np\n",
    "import matplotlib.pyplot as plt\n",
    "from scipy.stats import multivariate_normal"
   ]
  },
  {
   "cell_type": "code",
   "execution_count": null,
   "id": "b46479fa-8225-48d3-8dca-c76bc2278a5d",
   "metadata": {},
   "outputs": [],
   "source": [
    "# To what accuracy can the detector identify the position of a Source?\n",
    "ra_true = 285\n",
    "dec_true = -44\n",
    "\n",
    "ra_detected = ra_true + np.random.normal(loc=0, scale=1, size=1000)\n",
    "dec_detected = dec_true + np.random.normal(loc=0, scale=1, size=1000)\n",
    "\n",
    "# Calculate mean and covariance matrix\n",
    "mean_position = np.array([ra_true, dec_true])\n",
    "covariance_matrix = np.cov(ra_detected, dec_detected)\n",
    "\n",
    "# Create a grid of points for contour plotting\n",
    "ra_extent  = 4\n",
    "dec_extent = 4\n",
    "ngrid      = 100\n",
    "ra_bins    = np.linspace(ra_true - ra_extent, ra_true + ra_extent, ngrid)\n",
    "dec_bins   = np.linspace(dec_true - dec_extent, dec_true + dec_extent, ngrid)\n",
    "ra_grid, dec_grid = np.meshgrid(ra_bins, dec_bins)\n",
    "positions = np.vstack([ra_grid.ravel(), dec_grid.ravel()]).T\n",
    "\n",
    "\n",
    "# Calculate the multivariate normal PDF over the grid\n",
    "mvn = multivariate_normal(mean=mean_position, cov=covariance_matrix)\n",
    "pdf_values = mvn.pdf(positions)\n",
    "pdf_values = pdf_values.reshape(ngrid, ngrid)\n",
    "\n",
    "# Plot 1, 2, and 3 sigma contours\n",
    "contour_levels = [mvn.pdf(mean_position)]\n",
    "contour_levels.extend([mvn.pdf(mean_position) * np.exp(-0.5 * i ** 2) for i in range(1, 4)])\n",
    "contour_levels = sorted(contour_levels)  \n",
    "\n",
    "\n",
    "plt.figure(figsize=(4, 4))\n",
    "plt.grid(True, alpha=0.5)\n",
    "plt.contourf(ra_grid, dec_grid, pdf_values, levels=contour_levels, colors=['blue', 'green', 'purple'], linestyles='dashed',alpha=0.5)\n",
    "plt.scatter(ra_detected, dec_detected, label='Detected Positions', color='black', s=2)\n",
    "plt.scatter(ra_true, dec_true, marker='x', color='red', label='True Position')\n",
    "\n",
    "plt.legend()\n",
    "plt.xlabel('RA (deg)')\n",
    "plt.ylabel('Dec (deg)')\n",
    "plt.title('Position Uncertainty')\n",
    "plt.show()\n",
    "\n",
    "radius_of_gyration = np.sqrt(np.mean((ra_detected - ra_true)**2 + (dec_detected - dec_true)**2))\n",
    "std_ra  = np.std(ra_detected)\n",
    "std_dec = np.std(dec_detected)\n",
    "ci_ra   = np.percentile(ra_detected, [2.5, 97.5])\n",
    "ci_dec  = np.percentile(dec_detected, [2.5, 97.5])\n",
    "print(f'RA std  : {std_ra:.2f} deg {std_ra/3600:.2e} arcsec')\n",
    "print(f'DEC std : {std_dec:.2f} deg {std_dec/3600:.2e} arcsec')\n",
    "print(f'Radius of Gyration : {radius_of_gyration:.2f}')\n",
    "print(f'Confidence intervals: ra={ci_ra} dec={ci_dec}')"
   ]
  },
  {
   "cell_type": "code",
   "execution_count": null,
   "id": "0cc45ab0-900a-4507-adbf-6cc6d0d64bc0",
   "metadata": {},
   "outputs": [],
   "source": [
    "# To What flux level can we detect a source?\n",
    "\n",
    "source_flux     = 0.15 # ct/s\n",
    "mean_background = 0.08 # ct/s\n",
    "exposure_time   = 10000 # seconds\n",
    "\n",
    "plt.figure(figsize=(4,4))\n",
    "plt.ylabel('Exposure Time (s)')\n",
    "plt.xlabel('Flux (ct/s)')\n",
    "plt.show()"
   ]
  },
  {
   "cell_type": "code",
   "execution_count": null,
   "id": "1c125b81-5e3c-4a80-a5b1-7b1941550935",
   "metadata": {},
   "outputs": [],
   "source": []
  },
  {
   "cell_type": "code",
   "execution_count": null,
   "id": "680442fd-c5fd-49bb-a3ee-29761c77d36a",
   "metadata": {},
   "outputs": [],
   "source": []
  },
  {
   "cell_type": "code",
   "execution_count": null,
   "id": "00210c57-2e9a-4ac0-bb5b-5fb415b462b5",
   "metadata": {},
   "outputs": [],
   "source": []
  },
  {
   "cell_type": "code",
   "execution_count": null,
   "id": "ec68f4b7-30f9-4ec3-bf60-5b13517ac120",
   "metadata": {},
   "outputs": [],
   "source": []
  }
 ],
 "metadata": {
  "kernelspec": {
   "display_name": "Python 3 (ipykernel)",
   "language": "python",
   "name": "python3"
  },
  "language_info": {
   "codemirror_mode": {
    "name": "ipython",
    "version": 3
   },
   "file_extension": ".py",
   "mimetype": "text/x-python",
   "name": "python",
   "nbconvert_exporter": "python",
   "pygments_lexer": "ipython3",
   "version": "3.12.0"
  }
 },
 "nbformat": 4,
 "nbformat_minor": 5
}
