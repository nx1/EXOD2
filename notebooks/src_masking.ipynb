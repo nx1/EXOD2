{
 "cells": [
  {
   "cell_type": "code",
   "execution_count": null,
   "id": "e434108c-f10f-4bca-acc9-b144caa216e5",
   "metadata": {},
   "outputs": [],
   "source": [
    "import numpy as np\n",
    "from astropy.table import Table\n",
    "from astropy.io import fits\n",
    "import matplotlib.pyplot as plt\n",
    "from matplotlib.colors import LogNorm\n",
    "from exod.utils.plotting import cmap_image"
   ]
  },
  {
   "cell_type": "code",
   "execution_count": null,
   "id": "e092fae0-618c-460f-b70f-372e228fef93",
   "metadata": {},
   "outputs": [],
   "source": [
    "from exod.processing.detector import Detector, plot_var_with_regions\n",
    "from exod.pre_processing.data_loader import DataLoader\n",
    "from exod.utils.path import save_df\n",
    "from exod.xmm.observation import Observation\n",
    "from exod.processing.detector import Detector\n",
    "from exod.utils.logger import logger\n",
    "from photutils.detection import daofinder, irafstarfinder, starfinder\n",
    "\n",
    "import numpy as np\n",
    "import matplotlib.pyplot as plt\n",
    "import pandas as pd\n",
    "from astropy.visualization import SqrtStretch\n",
    "from astropy.visualization.mpl_normalize import ImageNormalize\n",
    "from photutils.aperture import CircularAperture\n",
    "from astropy.stats import sigma_clipped_stats\n",
    "from astropy.coordinates import SkyCoord\n",
    "\n",
    "from scipy.stats import binned_statistic_dd\n",
    "from scipy.interpolate import interp1d\n",
    "from astropy.table import unique"
   ]
  },
  {
   "cell_type": "code",
   "execution_count": null,
   "id": "5795a7f1-6a60-4a31-9f04-2480aca7985a",
   "metadata": {},
   "outputs": [],
   "source": [
    "tab_src = Table.read('../data/raw/0886121001/P0886121001EPX000OBSMLI0000.FTZ')\n",
    "tab_src"
   ]
  },
  {
   "cell_type": "code",
   "execution_count": null,
   "id": "c5f7cbd5-1626-40d7-9a9b-54c1521ba049",
   "metadata": {
    "scrolled": true
   },
   "outputs": [],
   "source": [
    "tab_src2 = Table.read('../data/raw/0886121001/P0886121001EPX000OMSRLI0000.FTZ')\n",
    "tab_src2"
   ]
  },
  {
   "cell_type": "code",
   "execution_count": null,
   "id": "4b49cb47-971e-44e7-ae0c-13b53c206bbf",
   "metadata": {},
   "outputs": [],
   "source": [
    "image = fits.open('../data/processed/0886121001/P0886121001PNS003PIEVLI0000_IMG.fits')[0].data\n",
    "#image = fits.open('../data/processed/0886121001/P0886121001M1S001MIEVLI0000_IMG.fits')[0].data\n",
    "#image = fits.open('../data/processed/0886121001/P0886121001M2S002MIEVLI0000_IMG.fits')[0].data"
   ]
  },
  {
   "cell_type": "code",
   "execution_count": null,
   "id": "a4b0e459-4447-4361-b4c5-c49994880481",
   "metadata": {},
   "outputs": [],
   "source": [
    "# Create the Observation class\n",
    "obsid = '0886121001'\n",
    "\n",
    "obsid         = obsid\n",
    "size_arcsec   = 20.0\n",
    "time_interval = 250\n",
    "gti_only      = True\n",
    "gti_threshold = 0.5\n",
    "min_energy    = 0.5\n",
    "max_energy    = 12.0\n",
    "sigma         = 4\n",
    "clobber       = False\n",
    "\n",
    "observation = Observation(obsid)\n",
    "observation.get_files()\n",
    "\n",
    "# Get the eventslist & image to use\n",
    "event_list = observation.events_processed_pn[0]\n",
    "event_list.read()\n",
    "\n",
    "img = observation.images[0]\n",
    "img.read(wcs_only=True)\n",
    "\n",
    "# Initialize the Data Loader\n",
    "dl = DataLoader(event_list=event_list,\n",
    "                size_arcsec=size_arcsec,\n",
    "                time_interval=time_interval,\n",
    "                gti_only=gti_only,\n",
    "                gti_threshold=gti_threshold,\n",
    "                min_energy=min_energy,\n",
    "                max_energy=max_energy)\n",
    "dl.run()\n",
    "\n",
    "# Create Data Cube\n",
    "# dl.data_cube.plot_cube_statistics()\n",
    "# dl.data_cube.video(savepath=None)\n"
   ]
  },
  {
   "cell_type": "code",
   "execution_count": null,
   "id": "6153ce4c-f17f-49c9-a9d2-fdabd7e8cd08",
   "metadata": {
    "scrolled": true
   },
   "outputs": [],
   "source": [
    "h = fits.open('../data/raw/0886121001/P0886121001EPX000OMSRLI0000.FTZ')[0].header\n",
    "h1 = fits.open('../data/raw/0886121001/P0886121001EPX000OMSRLI0000.FTZ')[1].header\n",
    "XBINSIZE = h['XBINSIZE'] # Image Pixel Size (arcsec)\n",
    "YBINSIZE = h['YBINSIZE'] # Image Pixel Size (arcsec)"
   ]
  },
  {
   "cell_type": "code",
   "execution_count": null,
   "id": "b822265a-53a5-440d-a4c6-c7877ee796e6",
   "metadata": {},
   "outputs": [],
   "source": [
    "tab_src2_unique = unique(tab_src2, keys=['ML_ID_SRC'], keep='last')\n",
    "tab_src2_unique"
   ]
  },
  {
   "cell_type": "code",
   "execution_count": null,
   "id": "503bb4a5-165a-43f0-9ce0-99366019f0cf",
   "metadata": {},
   "outputs": [],
   "source": []
  },
  {
   "cell_type": "code",
   "execution_count": null,
   "id": "029d723d-fa1a-4ca8-b666-7bf9087c3800",
   "metadata": {},
   "outputs": [],
   "source": []
  },
  {
   "cell_type": "code",
   "execution_count": null,
   "id": "0c8676ce-0711-428c-a1be-b1c7d0087340",
   "metadata": {},
   "outputs": [],
   "source": [
    "img.wcs"
   ]
  },
  {
   "cell_type": "code",
   "execution_count": null,
   "id": "4879546d-91de-409b-8fd2-84e6fb96dc8a",
   "metadata": {},
   "outputs": [],
   "source": [
    "data_cube = dl.data_cube\n",
    "\n",
    "# Only include bright sources\n",
    "PN_CTS_MIN = 0\n",
    "sub = tab_src[tab_src['PN_CTS'] > PN_CTS_MIN]\n",
    "\n",
    "# Create skycoord\n",
    "sc = SkyCoord(ra=sub['RA'], dec=sub['DEC'])\n",
    "\n",
    "# Get Image Coordinates\n",
    "x_img, y_img = img.wcs.world_to_pixel(sc)\n",
    "\n",
    "# Convert to Sky Coordinates\n",
    "X = x_img * 80\n",
    "Y = y_img * 80\n",
    "\n",
    "# Remove values outside the cube\n",
    "xcube_max = dl.data_cube.bin_x[-1]\n",
    "ycube_max = dl.data_cube.bin_y[-1]\n",
    "XY = np.array([[x, y] for x, y in zip(X,Y) if (x < xcube_max) and (y < ycube_max)]).T\n",
    "X = XY[0]\n",
    "Y = XY[1]\n",
    "\n",
    "# Interpolate to Cube coordinates & Round to int\n",
    "interp_x_cube = interp1d(x=data_cube.bin_x, y=range(data_cube.shape[0]))\n",
    "interp_y_cube = interp1d(x=data_cube.bin_y, y=range(data_cube.shape[1]))\n",
    "x_cube = interp_x_cube(X)\n",
    "y_cube = interp_y_cube(Y)\n",
    "x_cube = np.round(x_cube).astype(int)\n",
    "y_cube = np.round(y_cube).astype(int)\n",
    "\n",
    "# Plot\n",
    "im = np.nansum(data_cube.data, axis=2)\n",
    "plt.figure(figsize=(10,10))\n",
    "plt.imshow(im.T, origin='lower')\n",
    "plt.scatter(x_cube, y_cube, color='red', marker='x', s=5)\n",
    "\n",
    "\n",
    "for x, y in zip(x_cube, y_cube):\n",
    "    im[x-1:x+1, y-1:y+1] = 0\n",
    "\n",
    "    \n",
    "plt.figure(figsize=(10,10))\n",
    "plt.imshow(im.T, origin='lower')\n",
    "#plt.scatter(x_cube, y_cube, color='red', marker='x', s=5)"
   ]
  },
  {
   "cell_type": "code",
   "execution_count": null,
   "id": "e62b7f93-a10c-4426-ac16-cb45438832b2",
   "metadata": {},
   "outputs": [],
   "source": []
  },
  {
   "cell_type": "code",
   "execution_count": null,
   "id": "15daec07-3ad3-4392-8bcc-ec6e61ef43fb",
   "metadata": {},
   "outputs": [],
   "source": []
  },
  {
   "cell_type": "code",
   "execution_count": null,
   "id": "cbcd352a-4bbf-419c-bdc3-f4742df736e3",
   "metadata": {},
   "outputs": [],
   "source": []
  },
  {
   "cell_type": "code",
   "execution_count": null,
   "id": "7f1b90e9-fbdd-4251-ba8f-34c55f3bdb65",
   "metadata": {},
   "outputs": [],
   "source": []
  },
  {
   "cell_type": "code",
   "execution_count": null,
   "id": "dd957e89-1933-44f9-bfc4-191df98a3706",
   "metadata": {},
   "outputs": [],
   "source": []
  },
  {
   "cell_type": "code",
   "execution_count": null,
   "id": "feff776d-6074-46b9-b006-b777ad8fb6af",
   "metadata": {},
   "outputs": [],
   "source": []
  },
  {
   "cell_type": "code",
   "execution_count": null,
   "id": "b3c1b580-b043-40ba-9e04-334bcaf647fd",
   "metadata": {},
   "outputs": [],
   "source": []
  },
  {
   "cell_type": "code",
   "execution_count": null,
   "id": "7505ebcf-11b8-48f7-8160-2a318e8fcbeb",
   "metadata": {},
   "outputs": [],
   "source": []
  },
  {
   "cell_type": "code",
   "execution_count": null,
   "id": "5c6f6d66-c10b-4215-89c6-aa2dbee29831",
   "metadata": {},
   "outputs": [],
   "source": []
  },
  {
   "cell_type": "code",
   "execution_count": null,
   "id": "3333c782-1058-4ef4-b964-77720ddcb08a",
   "metadata": {},
   "outputs": [],
   "source": []
  },
  {
   "cell_type": "code",
   "execution_count": null,
   "id": "744facf3-0ffb-47f6-a3d4-5a681522061b",
   "metadata": {
    "scrolled": true
   },
   "outputs": [],
   "source": []
  },
  {
   "cell_type": "code",
   "execution_count": null,
   "id": "197b64d8-9756-420c-a4b8-7b6bdfdba3ce",
   "metadata": {
    "scrolled": true
   },
   "outputs": [],
   "source": []
  },
  {
   "cell_type": "code",
   "execution_count": null,
   "id": "bfb6a267-b8d1-46a3-ac03-20bcd2a6ae8f",
   "metadata": {},
   "outputs": [],
   "source": []
  },
  {
   "cell_type": "code",
   "execution_count": null,
   "id": "fb04269e-b9c7-4d22-b1e5-c8439fbc14a3",
   "metadata": {},
   "outputs": [],
   "source": []
  },
  {
   "cell_type": "code",
   "execution_count": null,
   "id": "7d5b1281-74f9-4f65-8538-5bf6526f1a5c",
   "metadata": {},
   "outputs": [],
   "source": []
  },
  {
   "cell_type": "code",
   "execution_count": null,
   "id": "4c012c52-8ac3-473a-bbc4-e51418f24a26",
   "metadata": {},
   "outputs": [],
   "source": []
  },
  {
   "cell_type": "code",
   "execution_count": null,
   "id": "e4f76295-188f-4188-9355-0af746c3002a",
   "metadata": {},
   "outputs": [],
   "source": [
    "tab_positions = tab_src2['X_IMA','X_IMA_ERR','Y_IMA','Y_IMA_ERR']\n",
    "tab_positions = unique(tab_positions)\n",
    "tab_positions"
   ]
  },
  {
   "cell_type": "code",
   "execution_count": null,
   "id": "1b0fcb81-ad21-493c-9c9b-91c5a6864b26",
   "metadata": {
    "scrolled": true
   },
   "outputs": [],
   "source": [
    "tab_raw  = tab_src2['RAWX', 'RAWY', 'CCDNR']\n",
    "mask_nan = np.isnan(tab_src2['RAWX']).mask\n",
    "tab_raw  = tab_raw[~mask_nan]\n",
    "tab_raw = unique(tab_raw)\n",
    "tab_raw"
   ]
  },
  {
   "cell_type": "code",
   "execution_count": null,
   "id": "4eda844b-8724-4ded-b64d-9a4fd97cf0f2",
   "metadata": {},
   "outputs": [],
   "source": [
    "X      = tab_src2['X_IMA']\n",
    "Y      = tab_src2['Y_IMA']\n",
    "X_ERR  = tab_src2['X_IMA_ERR'] \n",
    "Y_ERR  = tab_src2['Y_IMA_ERR']\n",
    "RAWX   = tab_src2['RAWX']\n",
    "RAWY   = tab_src2['RAWY']\n",
    "CUTRAD = tab_src2['CUTRAD']"
   ]
  },
  {
   "cell_type": "code",
   "execution_count": null,
   "id": "d7c3c8ef-317b-4c2e-981b-a7f0557bfaa3",
   "metadata": {
    "scrolled": true
   },
   "outputs": [],
   "source": [
    "print('Removing sources from event_list')\n",
    "table1 = dl.event_list.data\n",
    "table2 = tab_raw\n",
    "pre = len(table1)\n",
    "print(f'len pre: {pre}')\n",
    "matching_columns = ['RAWX', 'RAWY', 'CCDNR']\n",
    "mask = np.isin(table1[matching_columns], table2[matching_columns], invert=True)\n",
    "filtered_table1 = table1[mask]\n",
    "post = len(filtered_table1)\n",
    "print(f'len post: {post} ({post-pre} rows)')\n",
    "filtered_table1"
   ]
  },
  {
   "cell_type": "code",
   "execution_count": null,
   "id": "03d26f5b-0df9-4180-a273-065cca1c2c10",
   "metadata": {},
   "outputs": [],
   "source": [
    "from astropy.coordinates import SkyCoord"
   ]
  }
 ],
 "metadata": {
  "kernelspec": {
   "display_name": "Python 3 (ipykernel)",
   "language": "python",
   "name": "python3"
  },
  "language_info": {
   "codemirror_mode": {
    "name": "ipython",
    "version": 3
   },
   "file_extension": ".py",
   "mimetype": "text/x-python",
   "name": "python",
   "nbconvert_exporter": "python",
   "pygments_lexer": "ipython3",
   "version": "3.12.0"
  }
 },
 "nbformat": 4,
 "nbformat_minor": 5
}
