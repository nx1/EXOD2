{
 "cells": [
  {
   "cell_type": "code",
   "execution_count": null,
   "id": "0257a0a8-92e6-458f-9d6d-775f6d25ae60",
   "metadata": {},
   "outputs": [],
   "source": [
    "from exod.processing.bayesian_computations import precompute_bayes_1000, load_precomputed_bayes1000, \\\n",
    "    load_precomputed_bayes_limits, precompute_bayes_limits, get_cube_masks_peak_and_eclipse, B_peak, B_eclipse, \\\n",
    "    PrecomputeBayesLimits\n",
    "from exod.utils.plotting import cmap_image\n",
    "from exod.utils.logger import logger\n",
    "from exod.pre_processing.data_loader import DataLoader\n",
    "from exod.utils.util import save_df, save_info, get_unique_xy\n",
    "from exod.xmm.event_list import EventList\n",
    "from exod.xmm.observation import Observation\n",
    "from exod.processing.template_based_background_inference import compute_expected_cube_using_templates\n",
    "from exod.processing.coordinates import get_regions_sky_position, calc_df_regions\n",
    "\n",
    "from random import shuffle\n",
    "import numpy as np\n",
    "import matplotlib.pyplot as plt\n",
    "import matplotlib.patches as patches\n",
    "from matplotlib.colors import ListedColormap, BoundaryNorm\n",
    "import pandas as pd\n",
    "from astropy.visualization import ImageNormalize, SqrtStretch\n",
    "import matplotlib.pyplot as plt\n",
    "from mpl_toolkits.mplot3d import Axes3D\n",
    "import numpy as np\n",
    "from matplotlib import cm"
   ]
  },
  {
   "cell_type": "code",
   "execution_count": null,
   "id": "2f58c0bf-7d05-48f1-8493-d5bddfba7f88",
   "metadata": {},
   "outputs": [],
   "source": []
  },
  {
   "cell_type": "code",
   "execution_count": null,
   "id": "d4606153-23b9-4544-9f75-dd2bf20f9623",
   "metadata": {},
   "outputs": [],
   "source": [
    "size_arcsec= 20.0\n",
    "time_interval= 20\n",
    "gti_threshold= 1.5\n",
    "min_energy= 0.2\n",
    "max_energy= 2.0\n",
    "gti_only= False\n",
    "remove_partial_ccd_frames= False\n",
    "clobber= False\n",
    "\n",
    "observation = Observation('0823432701')\n",
    "observation.filter_events(clobber=clobber)\n",
    "observation.create_images(clobber=clobber)\n",
    "observation.get_files()\n",
    "observation.get_events_overlapping_subsets()\n",
    "\n",
    "for i_subset, subset_overlapping_exposures in enumerate(observation.events_overlapping_subsets):\n",
    "    savedir = observation.path_results / f'subset_{i_subset}'\n",
    "    savedir.mkdir(exist_ok=True)\n",
    "    \n",
    "    event_list = EventList.from_event_lists(subset_overlapping_exposures)\n",
    "    dl = DataLoader(event_list=event_list, time_interval=time_interval, size_arcsec=size_arcsec,\n",
    "                    gti_only=gti_only, min_energy=min_energy, max_energy=max_energy,\n",
    "                    gti_threshold=gti_threshold, remove_partial_ccd_frames=remove_partial_ccd_frames)\n",
    "    dl.run()"
   ]
  },
  {
   "cell_type": "code",
   "execution_count": null,
   "id": "7ce7c87d-c1be-41ab-97ae-5901c57005ab",
   "metadata": {},
   "outputs": [],
   "source": [
    "ax = plt.figure(figsize=(10,10)).add_subplot(projection='3d')\n",
    "for i in range(1000):\n",
    "    im = dl.data_cube.data[:,:,i]\n",
    "    #im = np.ma.masked_where(im == 0, data)\n",
    "    data = im\n",
    "    \n",
    "    xx, yy = np.meshgrid(np.linspace(0, 1,im.shape[1]), np.linspace(0,1,im.shape[0]))\n",
    "    X =  xx \n",
    "    Y =  yy\n",
    "    Z =  10*np.ones(X.shape)\n",
    "    cset = ax.contourf(data, X, Y, np.unique(im), zdir='x', offset=i/50, cmap=cmap_image(), levels=np.arange(1,10))\n",
    "    \n",
    "    #ax.set_zlim((0.,1.))\n",
    "    ax.view_init(17,-150,0)\n",
    "    \n",
    "    #plt.colorbar(cset, shrink=0.5)\n",
    "plt.show()\n",
    "    \n",
    "    \n"
   ]
  },
  {
   "cell_type": "code",
   "execution_count": null,
   "id": "e64eccf9-3594-403e-a943-c9b695bc4857",
   "metadata": {},
   "outputs": [],
   "source": [
    "plt.show()"
   ]
  },
  {
   "cell_type": "code",
   "execution_count": null,
   "id": "e953ebea-825c-4d2b-a2e6-a79e500ae292",
   "metadata": {},
   "outputs": [],
   "source": []
  }
 ],
 "metadata": {
  "kernelspec": {
   "display_name": "Python 3 (ipykernel)",
   "language": "python",
   "name": "python3"
  },
  "language_info": {
   "codemirror_mode": {
    "name": "ipython",
    "version": 3
   },
   "file_extension": ".py",
   "mimetype": "text/x-python",
   "name": "python",
   "nbconvert_exporter": "python",
   "pygments_lexer": "ipython3",
   "version": "3.12.0"
  }
 },
 "nbformat": 4,
 "nbformat_minor": 5
}
