{
 "cells": [
  {
   "cell_type": "code",
   "execution_count": null,
   "id": "33d3a92a-8287-4721-ab1c-d434931fa7ec",
   "metadata": {},
   "outputs": [],
   "source": [
    "from itertools import combinations\n",
    "import numpy as np\n",
    "import matplotlib.pyplot as plt\n",
    "import seaborn as sns\n",
    "import pandas as pd\n",
    "import astropy.units as u\n",
    "from astropy.table import Table\n",
    "from astropy.coordinates import SkyCoord\n",
    "\n",
    "\n",
    "from exod.post_processing.crossmatch import CrossMatch\n",
    "from exod.post_processing.crossmatch import crossmatch_vizier"
   ]
  },
  {
   "cell_type": "code",
   "execution_count": null,
   "id": "897d7612-aa9c-4d68-a9e5-3dd96d1787a0",
   "metadata": {},
   "outputs": [],
   "source": [
    "df_regions = pd.read_csv('../data/results_combined/30_4_2024/df_regions.csv')\n",
    "#df_regions = df_regions.sample(100)"
   ]
  },
  {
   "cell_type": "code",
   "execution_count": null,
   "id": "95091323-0ccc-4b20-a4d7-6f560bb969a6",
   "metadata": {},
   "outputs": [],
   "source": [
    "df_regions"
   ]
  },
  {
   "cell_type": "code",
   "execution_count": null,
   "id": "916e81da-d72e-4921-90ef-9cf529cad93c",
   "metadata": {},
   "outputs": [],
   "source": [
    "def split_subsets(df_regions):\n",
    "    subsets = ['5_0.2_2.0',\n",
    "               '5_2.0_12.0',\n",
    "               '5_0.2_12.0',\n",
    "               '50_0.2_2.0',\n",
    "               '50_2.0_12.0',\n",
    "               '50_0.2_12.0',\n",
    "               '200_0.2_2.0',\n",
    "               '200_2.0_12.0',\n",
    "               '200_0.2_12.0']\n",
    "    \n",
    "    dfs = {}\n",
    "    for s in subsets:\n",
    "        dfs[s] = df_regions[df_regions['runid'].str.contains(s)]\n",
    "    return dfs\n",
    "\n",
    "\n",
    "def calc_subset_stats(dfs):\n",
    "    all_res = []\n",
    "    for k, df in dfs.items():\n",
    "        t_bin, E_lo, E_hi = k.split('_')\n",
    "        res = {'subset'      : k,\n",
    "               't_bin'       : t_bin,\n",
    "               'E_lo'        : E_lo,\n",
    "               'E_hi'        : E_hi,\n",
    "               'n_regions'   : len(df),\n",
    "               'n_obsids'    : len(df['runid'].value_counts()),\n",
    "               'reg/obs'     : len(df) / len(df['runid'].value_counts()),\n",
    "               'mean counts' : df['intensity_mean'].mean(),\n",
    "               'std counts' : df['intensity_mean'].std(),\n",
    "               }\n",
    "        all_res.append(res)\n",
    "    \n",
    "    df_region_subset = pd.DataFrame(all_res)\n",
    "    return df_region_subset\n",
    "    "
   ]
  },
  {
   "cell_type": "code",
   "execution_count": null,
   "id": "20af3906-fac6-48b7-8bf1-c7dd93f8171f",
   "metadata": {},
   "outputs": [],
   "source": [
    "dfs = split_subsets(df_regions=df_regions)\n",
    "df_region_subset = calc_subset_stats(dfs)"
   ]
  },
  {
   "cell_type": "code",
   "execution_count": null,
   "id": "2bb5d10d-17d3-4b4d-aab1-16fdc2f7358a",
   "metadata": {},
   "outputs": [],
   "source": [
    "df_region_subset.style.background_gradient(sns.diverging_palette(125, 365, as_cmap=True))"
   ]
  },
  {
   "cell_type": "code",
   "execution_count": null,
   "id": "92686979-17cd-423f-942d-52d679d4dd69",
   "metadata": {},
   "outputs": [],
   "source": [
    "linestyles = {'5_'   : 'solid',\n",
    "              '50_'  : 'dotted',\n",
    "              '200_' : 'dashed'}\n",
    "colors = {'0.2_2.0'  : 'red',\n",
    "          '2.0_12.0' : 'blue',\n",
    "          '0.2_12.0' : 'black'}\n",
    "\n",
    "fig, ax = plt.subplots(2,1,figsize=(12,8), sharex=True)\n",
    "for k, df in dfs.items():\n",
    "    ls = [linestyles[key] for key in linestyles.keys() if key in k]\n",
    "    c  = [colors[key] for key in colors.keys() if key in k]\n",
    "    ax[0].hist(df['intensity_mean'], bins=np.linspace(0,500, 50), label=k, histtype='step', lw=1.5, ls=ls[0], color=c[0])\n",
    "    ax[1].hist(df['intensity_mean'], bins=np.linspace(0,500, 50), label=k, histtype='step', lw=1.5, density=True, ls=ls[0],  color=c[0])\n",
    "ax[0].set_ylabel('Number')\n",
    "ax[1].set_ylabel('Fraction')\n",
    "ax[1].set_xlabel('Intensity Mean (Counts)')\n",
    "for a in ax:\n",
    "    a.legend()\n",
    "    a.grid()\n",
    "plt.subplots_adjust(hspace=0)\n",
    "plt.show()\n",
    "    "
   ]
  },
  {
   "cell_type": "code",
   "execution_count": null,
   "id": "6784b74a-cad9-48f8-bc95-987a4ea92de8",
   "metadata": {},
   "outputs": [],
   "source": [
    "def crossmatch_subsets(dfs):\n",
    "    return 'something bruh'"
   ]
  },
  {
   "cell_type": "code",
   "execution_count": null,
   "id": "c54014c7-223c-4158-adad-c9b24014dd5a",
   "metadata": {},
   "outputs": [],
   "source": [
    "SkyCoord(ra=df['ra_deg'], dec=df['dec_deg'], unit='deg', frame='fk5', equinox='J2000')"
   ]
  },
  {
   "cell_type": "code",
   "execution_count": null,
   "id": "0d45fddb-806b-43ee-a2ff-e3d520916a8e",
   "metadata": {},
   "outputs": [],
   "source": [
    "df"
   ]
  },
  {
   "cell_type": "code",
   "execution_count": null,
   "id": "17e69b97-6452-4c4a-b3f1-65f317bf0435",
   "metadata": {},
   "outputs": [],
   "source": []
  },
  {
   "cell_type": "code",
   "execution_count": null,
   "id": "8fa5e9dc-33b9-4f5b-8bb6-c1c893967f85",
   "metadata": {},
   "outputs": [],
   "source": [
    "tab_cmatch"
   ]
  },
  {
   "cell_type": "code",
   "execution_count": null,
   "id": "d26f896a-fdcd-4e13-a9ec-5490087d0c66",
   "metadata": {},
   "outputs": [],
   "source": [
    "for col in df.columns[1:]:\n",
    "    df[col].value_counts()"
   ]
  },
  {
   "cell_type": "code",
   "execution_count": null,
   "id": "f8757f3e-657d-479b-b9a4-e1347114eba2",
   "metadata": {},
   "outputs": [],
   "source": []
  },
  {
   "cell_type": "code",
   "execution_count": null,
   "id": "3bd68954-d127-4551-9330-52e45f6760a3",
   "metadata": {},
   "outputs": [],
   "source": [
    "for k1, df1 in dfs.items():\n",
    "    sc1 = SkyCoord(ra=df1['ra_deg'], dec=df1['dec_deg'], unit='deg', frame='fk5', equinox='J2000')#\n",
    "    all_res = []\n",
    "    res = {}\n",
    "    res[k1]  = np.arange(len(sc1))\n",
    "    for k2, df2 in dfs.items():\n",
    "        if k1 == k2:\n",
    "            continue\n",
    "        sc2 = SkyCoord(ra=df2['ra_deg'], dec=df2['dec_deg'], unit='deg', frame='fk5', equinox='J2000')\n",
    "        cmatch = sc1.match_to_catalog_sky(sc2)\n",
    "        \n",
    "        tab_cmatch = Table(cmatch)\n",
    "        tab_cmatch.rename_columns(names=tab_cmatch.colnames, new_names=['idx', 'sep2d', 'dist3d'])\n",
    "        tab_cmatch['sep2d'] = tab_cmatch['sep2d'].to(u.arcsec)\n",
    "        \n",
    "        is_match = np.where(tab_cmatch['sep2d'] < max_sep, tab_cmatch['idx'], -1)\n",
    "        res[k2] = is_match\n",
    "        \n",
    "        print(f'{k1} ({len(df1)}) {k2:<12} ({len(df2)})')\n",
    "\n",
    "    df = pd.DataFrame(res)\n",
    "    # print(df)\n",
    "    print(f'='*50)\n",
    "    print(f'{k1} Results:')\n",
    "    for col in df.columns[1:]:\n",
    "        count = (df[col] > -1).sum()\n",
    "        print(f'{col:<12} : {count:<5} / {len(df)} ({count/len(df):.2f})')\n",
    "    print('='*50)"
   ]
  },
  {
   "cell_type": "code",
   "execution_count": null,
   "id": "364e2ee9-62f1-4b0f-9b5c-0dd78c601723",
   "metadata": {},
   "outputs": [],
   "source": []
  },
  {
   "cell_type": "code",
   "execution_count": null,
   "id": "de58bea7-1251-4231-99bd-7c07b5cd9e62",
   "metadata": {},
   "outputs": [],
   "source": []
  }
 ],
 "metadata": {
  "kernelspec": {
   "display_name": "Python 3 (ipykernel)",
   "language": "python",
   "name": "python3"
  },
  "language_info": {
   "codemirror_mode": {
    "name": "ipython",
    "version": 3
   },
   "file_extension": ".py",
   "mimetype": "text/x-python",
   "name": "python",
   "nbconvert_exporter": "python",
   "pygments_lexer": "ipython3",
   "version": "3.12.0"
  }
 },
 "nbformat": 4,
 "nbformat_minor": 5
}
