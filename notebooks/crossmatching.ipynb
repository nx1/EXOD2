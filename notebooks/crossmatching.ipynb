{
 "cells": [
  {
   "cell_type": "code",
   "execution_count": null,
   "id": "33d3a92a-8287-4721-ab1c-d434931fa7ec",
   "metadata": {},
   "outputs": [],
   "source": [
    "from glob import glob\n",
    "import numpy as np\n",
    "import matplotlib.pyplot as plt\n",
    "from matplotlib.colors import LogNorm\n",
    "import pandas as pd\n",
    "import astropy.units as u\n",
    "from astropy.coordinates import SkyCoord\n",
    "from astropy.io import fits\n",
    "from astropy.wcs import WCS\n",
    "from astropy.table import Table\n",
    "from astroquery.simbad import Simbad\n",
    "from astroquery.vizier import Vizier\n",
    "from astroquery.exceptions import BlankResponseWarning\n",
    "\n",
    "from exod.utils.logger import logger\n",
    "from exod.pre_processing.download_observations import read_observation_ids\n",
    "from exod.pre_processing.read_events import get_PN_image_file, get_filtered_events_files\n",
    "from exod.post_processing.collate_results import combine_all_region_files, crossmatch_simbad, get_df_regions_no_crossmatch, get_df_regions_with_crossmatch, crossmatch_vizier, plot_simbad_crossmatch_image"
   ]
  },
  {
   "cell_type": "code",
   "execution_count": null,
   "id": "3e125a48-d288-4c21-9225-d38a8ebf3621",
   "metadata": {
    "scrolled": true
   },
   "outputs": [],
   "source": [
    "df_all_regions = combine_all_region_files()\n",
    "df_all_regions"
   ]
  },
  {
   "cell_type": "code",
   "execution_count": null,
   "id": "aee77869-27dd-46f7-9bcd-b6405d9d1bd3",
   "metadata": {},
   "outputs": [],
   "source": [
    "tab_res = crossmatch_simbad(df_region=df_all_regions, radius=0.5*u.arcmin)\n",
    "df_all_regions_no_crossmatch = get_df_regions_no_crossmatch(df_regions=df_all_regions, tab_res=tab_res)\n",
    "df_all_regions_with_crossmatch = get_df_regions_with_crossmatch(df_regions=df_all_regions, tab_res=tab_res)\n"
   ]
  },
  {
   "cell_type": "code",
   "execution_count": null,
   "id": "68fa0b67-39d3-4df1-9cc8-4564540cb0d5",
   "metadata": {
    "scrolled": true
   },
   "outputs": [],
   "source": [
    "tab_res.to_pandas()"
   ]
  },
  {
   "cell_type": "code",
   "execution_count": null,
   "id": "983fa26a-1059-4110-ab5f-3708f0294dd1",
   "metadata": {},
   "outputs": [],
   "source": [
    "obsids = read_observation_ids('../data/observations.txt')\n",
    "for obsid in obsids:\n",
    "    try:\n",
    "        plot_simbad_crossmatch_image(obsid=obsid,\n",
    "                                     df_all_regions_no_crossmatch=df_all_regions_no_crossmatch,\n",
    "                                     df_all_regions_with_crossmatch=df_all_regions_with_crossmatch,\n",
    "                                     tab_res=tab_res)\n",
    "    except FileNotFoundError as e:\n",
    "        print(f'{e}')"
   ]
  },
  {
   "cell_type": "code",
   "execution_count": null,
   "id": "df757d7f-8912-4174-9d74-acad8709ca33",
   "metadata": {},
   "outputs": [],
   "source": [
    "# https://cdsarc.cds.unistra.fr/viz-bin/cat/I/355\n",
    "# http://glade.elte.hu/\n",
    "# https://vizier.unistra.fr/viz-bin/VizieR-3?-source=IX/69/xmm4d13s\n",
    "# use xmm not stacked catalogue too\n",
    "vizier_catalogues = ['I/355/gaiadr3', 'GLADE+', 'IX/69/xmm4d13s']\n",
    "catalog = vizier_catalogues[2]"
   ]
  },
  {
   "cell_type": "code",
   "execution_count": null,
   "id": "1630a559-f28f-4032-a228-6e375f720bda",
   "metadata": {},
   "outputs": [],
   "source": [
    "for c in vizier_catalogues:\n",
    "    tab_res = crossmatch_vizier(df_region=df_all_regions, radius=10*u.arcsec, catalog=c)\n",
    "    print(tab_res)"
   ]
  },
  {
   "cell_type": "code",
   "execution_count": null,
   "id": "ab5166b4-16bc-4c3c-bf99-d08bb5b0a4ba",
   "metadata": {},
   "outputs": [],
   "source": [
    "tab_res"
   ]
  },
  {
   "cell_type": "code",
   "execution_count": null,
   "id": "386d3485-1ffd-4ecd-a292-94b1666077ea",
   "metadata": {},
   "outputs": [],
   "source": []
  },
  {
   "cell_type": "code",
   "execution_count": null,
   "id": "ae717b5d-1473-4dcd-a875-431e51d988eb",
   "metadata": {},
   "outputs": [],
   "source": [
    "from astroquery.simbad import Simbad"
   ]
  },
  {
   "cell_type": "code",
   "execution_count": null,
   "id": "629ea5b2-22bb-4fb5-b16a-ffdcd23325f9",
   "metadata": {},
   "outputs": [],
   "source": [
    "?Simbad.query_region"
   ]
  },
  {
   "cell_type": "code",
   "execution_count": null,
   "id": "8e2718f8-40f8-4cba-9633-68f8b5d279bb",
   "metadata": {},
   "outputs": [],
   "source": [
    "?Simbad.query_region"
   ]
  },
  {
   "cell_type": "code",
   "execution_count": null,
   "id": "ab0fa95b-6bcb-445d-8e9a-2e9e67a95d70",
   "metadata": {},
   "outputs": [],
   "source": []
  },
  {
   "cell_type": "code",
   "execution_count": null,
   "id": "4c50e38d-1562-419a-81df-f48d8e2b99d3",
   "metadata": {},
   "outputs": [],
   "source": []
  }
 ],
 "metadata": {
  "kernelspec": {
   "display_name": "Python 3 (ipykernel)",
   "language": "python",
   "name": "python3"
  },
  "language_info": {
   "codemirror_mode": {
    "name": "ipython",
    "version": 3
   },
   "file_extension": ".py",
   "mimetype": "text/x-python",
   "name": "python",
   "nbconvert_exporter": "python",
   "pygments_lexer": "ipython3",
   "version": "3.12.0"
  }
 },
 "nbformat": 4,
 "nbformat_minor": 5
}
