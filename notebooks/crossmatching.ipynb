{
 "cells": [
  {
   "cell_type": "code",
   "execution_count": null,
   "id": "33d3a92a-8287-4721-ab1c-d434931fa7ec",
   "metadata": {},
   "outputs": [],
   "source": [
    "from glob import glob\n",
    "import numpy as np\n",
    "import pandas as pd\n",
    "from astropy.coordinates import SkyCoord\n",
    "from astroquery.simbad import Simbad\n",
    "from astroquery.vizier import Vizier\n",
    "import astropy.units as u\n",
    "\n",
    "from astroquery.exceptions import BlankResponseWarning\n",
    "from astropy.table import Table\n",
    "\n",
    "from exod.utils.logger import logger\n",
    "from exod.post_processing.collate_results import combine_all_region_files, crossmatch_simbad"
   ]
  },
  {
   "cell_type": "code",
   "execution_count": null,
   "id": "3e125a48-d288-4c21-9225-d38a8ebf3621",
   "metadata": {
    "scrolled": true
   },
   "outputs": [],
   "source": [
    "df_all_regions = combine_all_region_files()\n",
    "tab_res = crossmatch_simbad(df_all_regions, radius=1*u.arcmin)\n",
    "df_all_regions_no_crossmatch = get_df_regions_no_crossmatch(df_regions=df_all_regions, tab_res=tab_res)"
   ]
  },
  {
   "cell_type": "code",
   "execution_count": null,
   "id": "73c4bd87-b113-4b89-9978-596c96ef1da0",
   "metadata": {},
   "outputs": [],
   "source": [
    "vizier_catalogues = ['I/355/gaiadr3', 'GLADE+', 'IX/69/xmm4d13s']"
   ]
  },
  {
   "cell_type": "code",
   "execution_count": null,
   "id": "adaf0af0-8bf9-49b5-8451-20597f4847e1",
   "metadata": {},
   "outputs": [],
   "source": [
    "tab_res.to_pandas().value_counts('OTYPE')"
   ]
  },
  {
   "cell_type": "code",
   "execution_count": null,
   "id": "733866a0-d8a1-437c-a3e8-11c38593bdca",
   "metadata": {},
   "outputs": [],
   "source": [
    "vizier = Vizier()\n",
    "tab_vizier = vizier.query_region(coordinates=coords, frame='icrs',\n",
    "                              radius=radius, catalog='IX/69/xmm4d13s')"
   ]
  },
  {
   "cell_type": "code",
   "execution_count": null,
   "id": "ee8fd959-6df2-4713-9d4c-fed25b7013aa",
   "metadata": {},
   "outputs": [],
   "source": [
    "tab_vizier[0]"
   ]
  }
 ],
 "metadata": {
  "kernelspec": {
   "display_name": "Python 3 (ipykernel)",
   "language": "python",
   "name": "python3"
  },
  "language_info": {
   "codemirror_mode": {
    "name": "ipython",
    "version": 3
   },
   "file_extension": ".py",
   "mimetype": "text/x-python",
   "name": "python",
   "nbconvert_exporter": "python",
   "pygments_lexer": "ipython3",
   "version": "3.12.0"
  }
 },
 "nbformat": 4,
 "nbformat_minor": 5
}
