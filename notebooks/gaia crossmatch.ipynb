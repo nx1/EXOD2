{
 "cells": [
  {
   "cell_type": "markdown",
   "id": "eab72854-4dc0-4b53-80bf-f5ce0c0ed73e",
   "metadata": {},
   "source": [
    "# Gaia Crossmatching"
   ]
  },
  {
   "cell_type": "code",
   "execution_count": null,
   "id": "d0054df7-04f4-4dda-9aec-e3c576fe3448",
   "metadata": {},
   "outputs": [],
   "source": [
    "https://astroquery.readthedocs.io/en/latest/gaia/gaia.html"
   ]
  },
  {
   "cell_type": "code",
   "execution_count": null,
   "id": "d7ac10fb-1fbe-4ce3-812b-bd2f4cae6ab6",
   "metadata": {},
   "outputs": [],
   "source": [
    "import astropy.units as u\n",
    "from astropy.coordinates import SkyCoord\n",
    "from astroquery.gaia import Gaia"
   ]
  },
  {
   "cell_type": "code",
   "execution_count": null,
   "id": "5dc2324d-fb1b-493c-84bb-fe44e8b3d32e",
   "metadata": {},
   "outputs": [],
   "source": [
    "Gaia.MAIN_GAIA_TABLE = \"gaiadr3.gaia_source\""
   ]
  },
  {
   "cell_type": "code",
   "execution_count": null,
   "id": "57915160-a8e9-486b-9ec5-42e7906fac2d",
   "metadata": {},
   "outputs": [],
   "source": [
    "coord = SkyCoord(ra=280, dec=-60, unit=(u.degree, u.degree), frame='icrs')\n",
    "radius = 20*u.arcsec\n",
    "r = Gaia.query_object_async(coordinate=coord, radius=radius)\n",
    "r.pprint(max_lines=12, max_width=130)\n"
   ]
  },
  {
   "cell_type": "code",
   "execution_count": null,
   "id": "7a69fa55-c2b5-4475-9054-356fd90fec72",
   "metadata": {},
   "outputs": [],
   "source": [
    "r"
   ]
  },
  {
   "cell_type": "code",
   "execution_count": null,
   "id": "f0520450-bd73-4e5b-9e5a-4a5cf3c03bb1",
   "metadata": {},
   "outputs": [],
   "source": [
    "from astroquery.gaia import Gaia\n",
    "Gaia.login(user='nkhan02', password='userPassword')\n",
    "\n",
    "# or better yet (1 line for username and pword)\n",
    "Gaia.login(credentials_file='my_credentials_file')\n",
    "\n",
    "# when done\n",
    "Gaia.logout()\n",
    "\n"
   ]
  },
  {
   "cell_type": "code",
   "execution_count": null,
   "id": "511ca3ca-c4fa-4fee-8cf1-d67e9699105e",
   "metadata": {},
   "outputs": [],
   "source": [
    "Gaia.lo"
   ]
  }
 ],
 "metadata": {
  "kernelspec": {
   "display_name": "Python 3 (ipykernel)",
   "language": "python",
   "name": "python3"
  },
  "language_info": {
   "codemirror_mode": {
    "name": "ipython",
    "version": 3
   },
   "file_extension": ".py",
   "mimetype": "text/x-python",
   "name": "python",
   "nbconvert_exporter": "python",
   "pygments_lexer": "ipython3",
   "version": "3.12.0"
  }
 },
 "nbformat": 4,
 "nbformat_minor": 5
}
