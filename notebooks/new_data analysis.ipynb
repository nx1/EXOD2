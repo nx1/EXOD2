{
 "cells": [
  {
   "cell_type": "code",
   "execution_count": null,
   "id": "82d73253-fd95-4cc8-8ff9-e09e3673f4e0",
   "metadata": {},
   "outputs": [],
   "source": [
    "import numpy as np\n",
    "import matplotlib.pyplot as plt\n",
    "import pandas as pd"
   ]
  },
  {
   "cell_type": "code",
   "execution_count": null,
   "id": "d2bdb96a-3197-40b0-9131-6f62c6cd6dbf",
   "metadata": {},
   "outputs": [],
   "source": [
    "from exod.utils.path import savepaths_combined"
   ]
  },
  {
   "cell_type": "code",
   "execution_count": null,
   "id": "276bbc9a-2d06-4a6f-b1cb-aa5d9127909f",
   "metadata": {},
   "outputs": [],
   "source": [
    "results = {}\n",
    "for k, v in savepaths_combined.items():\n",
    "    results[k] = pd.read_csv(v, dtype={'obsid': 'str'})"
   ]
  },
  {
   "cell_type": "code",
   "execution_count": null,
   "id": "c307045f-f847-45a3-9124-349b77809358",
   "metadata": {},
   "outputs": [],
   "source": [
    "np.nanmean(results['lc']['B_peak_log'])"
   ]
  },
  {
   "cell_type": "code",
   "execution_count": null,
   "id": "c2189cac-5a27-40bf-a26a-2c034b6f03a7",
   "metadata": {},
   "outputs": [],
   "source": []
  },
  {
   "cell_type": "code",
   "execution_count": null,
   "id": "f5a871b3-c3fe-477d-8e39-e17bca8131ec",
   "metadata": {},
   "outputs": [],
   "source": [
    "print(f\"Number of Observations     : {len(results['run_info']['obsid'].unique())}\")\n",
    "print(f\"Number of Simulations      : {len(results['run_info'])}\")\n",
    "print(f\"Number of Detected Regions : {len(results['regions'])}\")\n",
    "print(f\"Number of Data Cells       : {results['dc_info']['total_values'].sum():.2e}\")\n",
    "print(f\"Total Exposure             : {results['evt_info']['exposure'].sum():.2e} s\")\n",
    "\n",
    "# Statistics for 'mu' column in the light curve data\n",
    "n_mean               = results['lc']['n'].mean()\n",
    "n_median             = results['lc']['n'].median()\n",
    "n_std                = results['lc']['n'].std()\n",
    "mu_mean              = results['lc']['mu'].mean()\n",
    "mu_median            = results['lc']['mu'].median()\n",
    "mu_std               = results['lc']['mu'].std()\n",
    "B_peak_log_mean      = results['lc']['B_peak_log'].replace([np.inf, -np.inf], np.nan).mean()\n",
    "B_peak_log_median    = results['lc']['B_peak_log'].replace([np.inf, -np.inf], np.nan).median()\n",
    "B_peak_log_std       = results['lc']['B_peak_log'].replace([np.inf, -np.inf], np.nan).std()\n",
    "B_eclipse_log_mean   = results['lc']['B_eclipse_log'].replace([np.inf, -np.inf], np.nan).mean()\n",
    "B_eclipse_log_median = results['lc']['B_eclipse_log'].replace([np.inf, -np.inf], np.nan).median()\n",
    "B_eclipse_log_std    = results['lc']['B_eclipse_log'].replace([np.inf, -np.inf], np.nan).std()\n",
    "\n",
    "print('')\n",
    "print('Lightcurve Data:')\n",
    "print('----------------')\n",
    "print(f'n         : mean={n_mean:.2f} std={n_std:.2f} median={n_median:.2f}')\n",
    "print(f'mu        : mean={mu_mean:.2f} std={mu_std:.2f} median={mu_median:.2f}')\n",
    "print(f'B_peak    : mean={B_peak_log_mean:.2f} std={B_peak_log_std:.2f} median={B_peak_log_median:.2f}')\n",
    "print(f'B_eclipse : mean={B_eclipse_log_mean:.2f} std={B_eclipse_log_std:.2f} median={B_eclipse_log_median:.2f}')\n"
   ]
  },
  {
   "cell_type": "code",
   "execution_count": null,
   "id": "5a46cdd4-67e6-4511-b0cf-460258b19399",
   "metadata": {},
   "outputs": [],
   "source": [
    "arr1 = results['lc']['B_peak_log']\n",
    "arr1 = arr1[arr1 > 0.001].replace([np.inf, -np.inf], np.nan)\n",
    "\n",
    "arr2 = results['lc']['B_eclipse_log']\n",
    "arr2 = arr2[arr2 > 0.001].replace([np.inf, -np.inf], np.nan)\n",
    "\n",
    "plt.figure(figsize=(5,5))\n",
    "plt.hist(arr1, bins=np.linspace(0,10,100), histtype='step', label=r'$\\mathrm{log}_{10}(B_{\\mathrm{peak}})$')\n",
    "plt.hist(arr2, bins=np.linspace(0,10,100), histtype='step', label=r'$\\mathrm{log}_{10}(B_{\\mathrm{eclipse}})$')\n",
    "plt.axvline(5.94, color='red', ls='dotted', lw=1.0, label=r'$3 \\sigma$ (5.94)')\n",
    "plt.title('Bayes Factor for all lightcurve points')\n",
    "plt.legend()\n",
    "plt.show()"
   ]
  },
  {
   "cell_type": "code",
   "execution_count": null,
   "id": "d935b5e5-01d9-43c6-8cbc-9534afa431c3",
   "metadata": {},
   "outputs": [],
   "source": [
    "plt.figure(figsize=(5,5))\n",
    "x, y = 'exposure', 'mean_rate'\n",
    "df   = 'evt_info'\n",
    "plt.scatter(results[df][x], results[df][y], s=10, marker='+', color='black')\n",
    "plt.xlabel(x)\n",
    "plt.ylabel(y)\n",
    "plt.tight_layout()\n",
    "plt.title('Exposure vs Mean count Rate')\n",
    "plt.show()"
   ]
  },
  {
   "cell_type": "code",
   "execution_count": null,
   "id": "20fc264b-2eab-4cf1-9531-1e2c7dccbc61",
   "metadata": {},
   "outputs": [],
   "source": [
    "plt.figure(figsize=(5,5))\n",
    "plt.scatter(results['regions']['X'], results['regions']['Y'], marker='+', color='black')\n",
    "plt.title('Position of detected regions in X-Y')\n",
    "plt.xlabel('X')\n",
    "plt.ylabel('Y', rotation=0)\n",
    "plt.xlim(5000,50000)\n",
    "plt.ylim(5000,50000)\n",
    "plt.tight_layout()\n",
    "plt.show()"
   ]
  },
  {
   "cell_type": "code",
   "execution_count": null,
   "id": "d372d44c-fb14-4e13-904b-6f9bc93579fe",
   "metadata": {},
   "outputs": [],
   "source": [
    "plt.figure(figsize=(5,5))\n",
    "x, y = 'bti_frac', 'bccd_frac'\n",
    "df = 'dc_info'\n",
    "plt.scatter(results[df][x], results[df][y], s=10, marker='+', color='black')\n",
    "plt.xlabel(x)\n",
    "plt.ylabel(y)\n",
    "plt.tight_layout()\n",
    "plt.title('Fraction of Bad time intervals frames vs Fraction of bad ccd frames')\n",
    "plt.show()"
   ]
  },
  {
   "cell_type": "code",
   "execution_count": null,
   "id": "bbf38785-db66-44bd-8f4e-66f56c2845eb",
   "metadata": {},
   "outputs": [],
   "source": [
    "df_lc      = results['lc'][mask]\n",
    "len(df_lc.groupby(['runid', 'label']).groups.keys())"
   ]
  },
  {
   "cell_type": "code",
   "execution_count": null,
   "id": "1a591472-1124-42d3-a9f8-4d9b559a65df",
   "metadata": {},
   "outputs": [],
   "source": [
    "mask       = results['lc']['runid'].str.contains('_5_')\n",
    "df_lc      = results['lc'][mask]\n",
    "df_lc['i'] = df_lc.groupby(['runid','label']).cumcount()\n",
    "df_lc      = df_lc.set_index(['runid', 'label', 'i'])\n",
    "df_lc"
   ]
  },
  {
   "cell_type": "code",
   "execution_count": null,
   "id": "f56744df-cae2-42f4-b190-280b0047c570",
   "metadata": {},
   "outputs": [],
   "source": []
  },
  {
   "cell_type": "code",
   "execution_count": null,
   "id": "42cb05ec-2282-43f0-8d4e-6eb0b486bc06",
   "metadata": {},
   "outputs": [],
   "source": [
    "X = df_lc['n'].unstack().values\n",
    "X = TimeSeriesScalerMeanVariance().fit_transform(X)\n",
    "X = np.where(X==np.nan, 0, X)\n",
    "X"
   ]
  },
  {
   "cell_type": "code",
   "execution_count": null,
   "id": "16101dc9-baea-40dc-8cab-a7732fb50e90",
   "metadata": {},
   "outputs": [],
   "source": [
    "X.shape"
   ]
  },
  {
   "cell_type": "code",
   "execution_count": null,
   "id": "3a156cab-1251-448f-b07e-632606cb5346",
   "metadata": {},
   "outputs": [],
   "source": [
    "km = TimeSeriesKMeans(n_clusters=3, verbose=True, random_state=42)\n",
    "y_pred = km.fit_predict(X)"
   ]
  },
  {
   "cell_type": "code",
   "execution_count": null,
   "id": "08f2bbc8-8993-4924-ad53-5bffc97fb7e6",
   "metadata": {},
   "outputs": [],
   "source": [
    "y_pred"
   ]
  },
  {
   "cell_type": "code",
   "execution_count": null,
   "id": "30084a77-a695-4e38-8a05-401cf3b0cf98",
   "metadata": {},
   "outputs": [],
   "source": [
    "import numpy\n",
    "import matplotlib.pyplot as plt\n",
    "\n",
    "from tslearn.clustering import TimeSeriesKMeans\n",
    "from tslearn.datasets import CachedDatasets\n",
    "from tslearn.preprocessing import TimeSeriesScalerMeanVariance, \\\n",
    "    TimeSeriesResampler"
   ]
  },
  {
   "cell_type": "code",
   "execution_count": null,
   "id": "3bfb1179-e3d9-40b4-a68f-1375299b3c08",
   "metadata": {},
   "outputs": [],
   "source": []
  },
  {
   "cell_type": "code",
   "execution_count": null,
   "id": "cba28e42-bbfe-41ff-9e22-509c9ae131be",
   "metadata": {},
   "outputs": [],
   "source": []
  },
  {
   "cell_type": "code",
   "execution_count": null,
   "id": "01ada743-894a-4329-8d29-4a8117915330",
   "metadata": {},
   "outputs": [],
   "source": [
    "# Author: Romain Tavenard\n",
    "# License: BSD 3 clause\n",
    "\n",
    "\n",
    "\n",
    "seed = 0\n",
    "numpy.random.seed(seed)\n",
    "X_train, y_train, X_test, y_test = CachedDatasets().load_dataset(\"Trace\")\n",
    "X_train = X_train[y_train < 4]  # Keep first 3 classes\n",
    "numpy.random.shuffle(X_train)\n",
    "# Keep only 50 time series\n",
    "X_train = TimeSeriesScalerMeanVariance().fit_transform(X_train[:50])\n",
    "# Make time series shorter\n",
    "X_train = TimeSeriesResampler(sz=40).fit_transform(X_train)\n",
    "sz = X_train.shape[1]\n",
    "\n",
    "# Euclidean k-means\n",
    "print(\"Euclidean k-means\")\n",
    "km = TimeSeriesKMeans(n_clusters=3, verbose=True, random_state=seed)\n",
    "y_pred = km.fit_predict(X_train)\n",
    "\n",
    "plt.figure()\n",
    "for yi in range(3):\n",
    "    plt.subplot(3, 3, yi + 1)\n",
    "    for xx in X_train[y_pred == yi]:\n",
    "        plt.plot(xx.ravel(), \"k-\", alpha=.2)\n",
    "    plt.plot(km.cluster_centers_[yi].ravel(), \"r-\")\n",
    "    plt.xlim(0, sz)\n",
    "    plt.ylim(-4, 4)\n",
    "    plt.text(0.55, 0.85,'Cluster %d' % (yi + 1),\n",
    "             transform=plt.gca().transAxes)\n",
    "    if yi == 1:\n",
    "        plt.title(\"Euclidean $k$-means\")\n",
    "\n",
    "# DBA-k-means\n",
    "print(\"DBA k-means\")\n",
    "dba_km = TimeSeriesKMeans(n_clusters=3, n_init=2, metric=\"dtw\", verbose=True, max_iter_barycenter=10, random_state=seed)\n",
    "y_pred = dba_km.fit_predict(X_train)\n",
    "\n",
    "for yi in range(3):\n",
    "    plt.subplot(3, 3, 4 + yi)\n",
    "    for xx in X_train[y_pred == yi]:\n",
    "        plt.plot(xx.ravel(), \"k-\", alpha=.2)\n",
    "    plt.plot(dba_km.cluster_centers_[yi].ravel(), \"r-\")\n",
    "    plt.xlim(0, sz)\n",
    "    plt.ylim(-4, 4)\n",
    "    plt.text(0.55, 0.85,'Cluster %d' % (yi + 1),\n",
    "             transform=plt.gca().transAxes)\n",
    "    if yi == 1:\n",
    "        plt.title(\"DBA $k$-means\")\n",
    "\n",
    "# Soft-DTW-k-means\n",
    "print(\"Soft-DTW k-means\")\n",
    "sdtw_km = TimeSeriesKMeans(n_clusters=3,\n",
    "                           metric=\"softdtw\",\n",
    "                           metric_params={\"gamma\": .01},\n",
    "                           verbose=True,\n",
    "                           random_state=seed)\n",
    "y_pred = sdtw_km.fit_predict(X_train)\n",
    "\n",
    "for yi in range(3):\n",
    "    plt.subplot(3, 3, 7 + yi)\n",
    "    for xx in X_train[y_pred == yi]:\n",
    "        plt.plot(xx.ravel(), \"k-\", alpha=.2)\n",
    "    plt.plot(sdtw_km.cluster_centers_[yi].ravel(), \"r-\")\n",
    "    plt.xlim(0, sz)\n",
    "    plt.ylim(-4, 4)\n",
    "    plt.text(0.55, 0.85,'Cluster %d' % (yi + 1),\n",
    "             transform=plt.gca().transAxes)\n",
    "    if yi == 1:\n",
    "        plt.title(\"Soft-DTW $k$-means\")\n",
    "\n",
    "plt.tight_layout()\n",
    "plt.show()\n"
   ]
  },
  {
   "cell_type": "code",
   "execution_count": null,
   "id": "d2ab43a5-d3dd-4a04-95b0-9a083f135df8",
   "metadata": {},
   "outputs": [],
   "source": []
  },
  {
   "cell_type": "code",
   "execution_count": null,
   "id": "da2a57fb-7155-477e-906c-f92deafd3753",
   "metadata": {},
   "outputs": [],
   "source": [
    "df_lc.set_index(['runid', 'label'])\n"
   ]
  },
  {
   "cell_type": "code",
   "execution_count": null,
   "id": "e8b8bebc-082b-4317-aac9-b4124242d257",
   "metadata": {},
   "outputs": [],
   "source": []
  },
  {
   "cell_type": "code",
   "execution_count": null,
   "id": "0fd9e195-53a7-4573-9d44-5014fea51d4d",
   "metadata": {},
   "outputs": [],
   "source": [
    "X"
   ]
  },
  {
   "cell_type": "code",
   "execution_count": null,
   "id": "dd8796f0-7e8b-4e81-8f68-6cafaeb5806a",
   "metadata": {},
   "outputs": [],
   "source": [
    "# get the peaks in the B_peak\n",
    "\n",
    "results['lc']\n",
    "mask = results['lc']['runid'].str.contains('_50_')\n",
    "df_lc = results['lc'][mask]\n",
    "df_lc\n",
    "\n",
    "\n"
   ]
  },
  {
   "cell_type": "code",
   "execution_count": null,
   "id": "05d603fb-3abd-40d2-b3b4-ff439c07cddd",
   "metadata": {},
   "outputs": [],
   "source": [
    "df_lc = df_lc.set_index(['runid', 'label'])"
   ]
  },
  {
   "cell_type": "code",
   "execution_count": null,
   "id": "9944df76-9b6f-4997-8645-565a50c2a5a4",
   "metadata": {},
   "outputs": [],
   "source": [
    "sub"
   ]
  },
  {
   "cell_type": "code",
   "execution_count": null,
   "id": "29f831d1-0335-48c0-a11b-c713bd46894b",
   "metadata": {},
   "outputs": [],
   "source": [
    "from sklearn.preprocessing import StandardScaler"
   ]
  },
  {
   "cell_type": "code",
   "execution_count": null,
   "id": "45812d3d-00b0-4126-a904-946efc0e38b6",
   "metadata": {},
   "outputs": [],
   "source": []
  },
  {
   "cell_type": "code",
   "execution_count": null,
   "id": "1cc1daf9-baf5-470c-8e4b-c7b1dfc6719c",
   "metadata": {},
   "outputs": [],
   "source": [
    "obsid_last = ''\n",
    "for i in df_lc.index.levels[0]:\n",
    "    obsid, subset, t_bin, E_lo, E_hi = i.split('_')\n",
    "    label = sub.index[0]\n",
    "    sub = df_lc.loc[i]\n",
    "    sub = sub[sub.index == 0]\n",
    "    #n  = sub['n'].values\n",
    "    #mu = sub['mu'].values\n",
    "    \n",
    "    \n",
    "        \n",
    "        \n",
    "    plt.plot(sub['time'], sub['n'], label=f'{obsid} ({subset}) src={label} E={E_lo}-{E_hi}')\n",
    "    plt.legend()\n",
    "    if obsid!=obsid_last:\n",
    "        plt.figure(figsize=(15,5))\n",
    "        \n",
    "    \n",
    "    obsid_last = obsid\n",
    "    plt.show()"
   ]
  },
  {
   "cell_type": "code",
   "execution_count": null,
   "id": "7b347165-2bf6-435a-a87b-da8308a54571",
   "metadata": {},
   "outputs": [],
   "source": []
  },
  {
   "cell_type": "code",
   "execution_count": null,
   "id": "6ca8c9da-3966-4c32-97ea-75bf6b99f11a",
   "metadata": {},
   "outputs": [],
   "source": [
    "sub['B_peak_log']"
   ]
  },
  {
   "cell_type": "code",
   "execution_count": null,
   "id": "d0942e92-1414-45b4-a40d-c067aa90e38d",
   "metadata": {},
   "outputs": [],
   "source": [
    "sub"
   ]
  },
  {
   "cell_type": "code",
   "execution_count": null,
   "id": "dec4d8e9-96a9-4fcf-9f1a-9a0912e2407e",
   "metadata": {},
   "outputs": [],
   "source": []
  },
  {
   "cell_type": "code",
   "execution_count": null,
   "id": "46c0651f-8444-46fa-b9db-574f74e891a9",
   "metadata": {},
   "outputs": [],
   "source": []
  }
 ],
 "metadata": {
  "kernelspec": {
   "display_name": "Python 3 (ipykernel)",
   "language": "python",
   "name": "python3"
  },
  "language_info": {
   "codemirror_mode": {
    "name": "ipython",
    "version": 3
   },
   "file_extension": ".py",
   "mimetype": "text/x-python",
   "name": "python",
   "nbconvert_exporter": "python",
   "pygments_lexer": "ipython3",
   "version": "3.12.0"
  }
 },
 "nbformat": 4,
 "nbformat_minor": 5
}
