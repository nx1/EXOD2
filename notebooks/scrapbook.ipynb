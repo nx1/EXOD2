{
 "cells": [
  {
   "cell_type": "code",
   "execution_count": null,
   "id": "610a1de1-ffda-4c3a-9f28-f5308536cef5",
   "metadata": {},
   "outputs": [],
   "source": [
    "from exod.xmm.observation import Observation\n",
    "from exod.pre_processing.download_observations import read_observation_ids\n",
    "from scipy.stats import binned_statistic_dd\n",
    "import matplotlib.pyplot as plt\n",
    "from matplotlib.colors import LogNorm\n",
    "import numpy as np"
   ]
  },
  {
   "cell_type": "code",
   "execution_count": null,
   "id": "6c94276f-d8a2-4829-8886-c6d486c9ac93",
   "metadata": {},
   "outputs": [],
   "source": [
    "from exod.utils.path import data, data_results\n",
    "import random\n",
    "# Load observation IDs\n",
    "obsids = read_observation_ids(data / 'observations.txt')"
   ]
  },
  {
   "cell_type": "code",
   "execution_count": null,
   "id": "1ef0785d-fdb4-4d54-98dc-ba227943969d",
   "metadata": {},
   "outputs": [],
   "source": [
    "https://arxiv.org/list/astro-ph.HE/recentfrom exod.xmm.event_list import EventList"
   ]
  },
  {
   "cell_type": "code",
   "execution_count": null,
   "id": "c8a15195-2130-4e0d-b109-539d94c147cc",
   "metadata": {},
   "outputs": [],
   "source": [
    "evt = EventList('/home/nkhan/EXOD2/data/processed/0001730201/P0001730201PNU002PIEVLI0000_FILT.fits')\n",
    "evt.read()\n",
    "d = evt.data\n",
    "d"
   ]
  },
  {
   "cell_type": "code",
   "execution_count": null,
   "id": "7c771210-c69e-4f0a-baa2-4a14980478ae",
   "metadata": {},
   "outputs": [],
   "source": [
    "plt.plot(d['X'])"
   ]
  },
  {
   "cell_type": "code",
   "execution_count": null,
   "id": "4fee167e-e763-4bef-a27f-3d15ec81ca0b",
   "metadata": {},
   "outputs": [],
   "source": [
    "plt.plot(d['PATTERN'])\n"
   ]
  },
  {
   "cell_type": "code",
   "execution_count": null,
   "id": "0fb8016d-3ac9-43c7-b510-4a15c6a3bbe4",
   "metadata": {},
   "outputs": [],
   "source": [
    "d"
   ]
  },
  {
   "cell_type": "code",
   "execution_count": null,
   "id": "97668eff-c8fe-4e94-8e82-4bd9c3ea7f79",
   "metadata": {},
   "outputs": [],
   "source": [
    "\n",
    "obsid = '0001730201'\n",
    "obs = Observation(obsid)\n",
    "obs.get_files()\n",
    "for e in obs.events_processed:\n",
    "    try:\n",
    "        e.read()\n",
    "    except NotImplementedError:\n",
    "        print(e.filename)\n",
    "    d = e.data\n",
    "    print(e.path)\n",
    "    print(d)\n",
    "    print(d[d['X'] < 0])"
   ]
  },
  {
   "cell_type": "code",
   "execution_count": null,
   "id": "0059b3b1-30ae-49ce-aa8f-ea6791b65e8e",
   "metadata": {},
   "outputs": [],
   "source": []
  },
  {
   "cell_type": "code",
   "execution_count": null,
   "id": "46f26444-7c0d-44c9-b12a-601dded6095e",
   "metadata": {},
   "outputs": [],
   "source": []
  },
  {
   "cell_type": "code",
   "execution_count": null,
   "id": "b46fa6b7-5f7e-4b9c-975f-f573f7c8df94",
   "metadata": {},
   "outputs": [],
   "source": [
    "evt.data"
   ]
  },
  {
   "cell_type": "code",
   "execution_count": null,
   "id": "7265696a-d1fd-4e16-a017-76407196e991",
   "metadata": {},
   "outputs": [],
   "source": [
    "d = evt.data\n",
    "x, y = d['X'], d['Y']\n",
    "sample = x,y\n",
    "bin_x = np.linspace(np.min(x),np.max(x),1000)\n",
    "bin_y = np.linspace(np.min(y),np.max(y),1000)\n",
    "s,be,bn = binned_statistic_dd(sample,\n",
    "                              values='none',\n",
    "                              statistic='count',\n",
    "                              bins=[bin_x,bin_y])"
   ]
  },
  {
   "cell_type": "code",
   "execution_count": null,
   "id": "268c304e-f3f3-4003-aed2-5d67cbcc8aad",
   "metadata": {},
   "outputs": [],
   "source": [
    "plt.imshow(s, norm=LogNorm(), interpolation='none')"
   ]
  },
  {
   "cell_type": "code",
   "execution_count": null,
   "id": "59feff5b-d95e-4390-a596-c83b0e454cbd",
   "metadata": {},
   "outputs": [],
   "source": [
    "evt.data[['TIME','RAWX','RAWY','DETX','DETY','X','Y','PHA','PI','FLAG','PATTERN','CCDNR']]"
   ]
  },
  {
   "cell_type": "code",
   "execution_count": null,
   "id": "d5701ec3-b97d-4376-9002-afa2a3305bfd",
   "metadata": {},
   "outputs": [],
   "source": []
  }
 ],
 "metadata": {
  "kernelspec": {
   "display_name": "Python 3 (ipykernel)",
   "language": "python",
   "name": "python3"
  },
  "language_info": {
   "codemirror_mode": {
    "name": "ipython",
    "version": 3
   },
   "file_extension": ".py",
   "mimetype": "text/x-python",
   "name": "python",
   "nbconvert_exporter": "python",
   "pygments_lexer": "ipython3",
   "version": "3.12.0"
  }
 },
 "nbformat": 4,
 "nbformat_minor": 5
}
