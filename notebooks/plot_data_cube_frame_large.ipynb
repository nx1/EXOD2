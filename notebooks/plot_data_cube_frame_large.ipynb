{
 "cells": [
  {
   "cell_type": "code",
   "execution_count": null,
   "id": "7ee2033e-9948-4f19-8851-392e4c683f96",
   "metadata": {},
   "outputs": [],
   "source": [
    "import matplotlib.pyplot as plt\n",
    "import numpy as np\n",
    "from mpl_toolkits.axes_grid1.inset_locator import inset_axes, mark_inset\n",
    "\n",
    "from exod.xmm.event_list import EventList\n",
    "from exod.xmm.observation import Observation\n",
    "from exod.pre_processing.data_loader import DataLoader\n",
    "from exod.processing.data_cube import DataCubeXMM\n",
    "from exod.utils.plotting import cmap_image"
   ]
  },
  {
   "cell_type": "code",
   "execution_count": null,
   "id": "f8570ad6-a11e-483d-a789-88cc28ba4ca9",
   "metadata": {},
   "outputs": [],
   "source": [
    "obs = Observation('0202670701')\n",
    "obs.get_files()\n",
    "obs.get_event_lists_processed()\n",
    "evt = obs.events_processed[0]\n",
    "evt.read()\n",
    "evt = EventList.from_event_lists(obs.events_processed)\n",
    "dc = DataCubeXMM(evt, size_arcsec=20, time_interval=50)"
   ]
  },
  {
   "cell_type": "code",
   "execution_count": null,
   "id": "c9346846-6c4e-4663-84cb-ca008c3906e5",
   "metadata": {},
   "outputs": [],
   "source": [
    "plt.figure(figsize=(10,10))\n",
    "plt.imshow(dc.data[:,:,0].T, interpolation='none', cmap=cmap_image())\n",
    "plt.axis('off')\n",
    "plt.savefig('../data/plots/data_cube_frame.png')"
   ]
  },
  {
   "cell_type": "code",
   "execution_count": null,
   "id": "85b679ce-2694-49ad-b0d7-9e5cfdbac373",
   "metadata": {},
   "outputs": [],
   "source": [
    "data = dc.data[:, :, 0].T\n",
    "\n",
    "plt.figure(figsize=(20, 20))\n",
    "plt.imshow(data, interpolation='none', cmap=cmap_image())\n",
    "\n",
    "for i in range(data.shape[0]):\n",
    "    for j in range(data.shape[1]):\n",
    "        plt.text(j, i, int(data[i, j]), ha='center', va='center', color='white', fontsize=8)\n",
    "\n",
    "plt.axis('off')\n",
    "plt.savefig('../data/plots/data_cube_frame.png')"
   ]
  },
  {
   "cell_type": "code",
   "execution_count": null,
   "id": "5cf1aac8-f85b-4ed9-a57b-e97fa96158f1",
   "metadata": {},
   "outputs": [],
   "source": [
    "data = dc.data[:, :, 0].T\n",
    "\n",
    "\n",
    "fig, ax = plt.subplots(figsize=(10, 10))\n",
    "ax.imshow(data, interpolation='none', cmap=cmap_image())\n",
    "ax.axis('off')\n",
    "\n",
    "center_x, center_y = data.shape[1] // 2, data.shape[0] // 2\n",
    "zoom_size = 10\n",
    "x1, x2 = 45,55\n",
    "y1, y2 = 41,51\n",
    "\n",
    "\n",
    "ax_inset = inset_axes(ax, width=\"30%\", height=\"30%\", loc='upper right')\n",
    "ax_inset.imshow(data, interpolation='none', cmap=cmap_image(), extent=[0, data.shape[1], 0, data.shape[0]])\n",
    "\n",
    "ax_inset.set_xlim(x1, x2)\n",
    "ax_inset.set_ylim(y2, y1)\n",
    "\n",
    "for i in range(y1, y2):\n",
    "    for j in range(x1, x2):\n",
    "        ax_inset.text(j+0.5, i+0.5, int(data[i, j]), ha='center', va='center', color='white', fontsize=8)\n",
    "\n",
    "ax_inset.axis('off')\n",
    "mark_inset(ax, ax_inset, loc1=2, loc2=4, fc=\"none\", ec=\"white\", lw=1)\n",
    "plt.savefig('../data/plots/data_cube_frame_with_inset_and_box.png')"
   ]
  }
 ],
 "metadata": {
  "kernelspec": {
   "display_name": "Python 3 (ipykernel)",
   "language": "python",
   "name": "python3"
  },
  "language_info": {
   "codemirror_mode": {
    "name": "ipython",
    "version": 3
   },
   "file_extension": ".py",
   "mimetype": "text/x-python",
   "name": "python",
   "nbconvert_exporter": "python",
   "pygments_lexer": "ipython3",
   "version": "3.12.0"
  }
 },
 "nbformat": 4,
 "nbformat_minor": 5
}
