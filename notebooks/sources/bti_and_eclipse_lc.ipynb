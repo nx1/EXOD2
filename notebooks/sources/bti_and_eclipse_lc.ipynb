{
 "cells": [
  {
   "cell_type": "code",
   "execution_count": 1,
   "id": "ba76f38c-76f6-47d5-b13d-8be0c7f09a96",
   "metadata": {},
   "outputs": [],
   "source": [
    "import scienceplots\n",
    "import matplotlib.pyplot as plt\n",
    "from mpl_toolkits.axes_grid1.inset_locator import inset_axes\n",
    "import pandas as pd\n",
    "\n",
    "from exod.post_processing.results_manager import ResultsManager\n",
    "from exod.utils.plotting import use_scienceplots\n",
    "use_scienceplots()"
   ]
  },
  {
   "cell_type": "code",
   "execution_count": 2,
   "id": "92af8b13-0fd1-49e2-b41a-54b520d9d98d",
   "metadata": {},
   "outputs": [
    {
     "name": "stdout",
     "output_type": "stream",
     "text": [
      "Rotating regions to detector coordinates...\n",
      "/mnt/d/EXOD2/data/results_combined/transients_rotated.csv already exists and clobber is False. Reading from file...\n"
     ]
    },
    {
     "name": "stderr",
     "output_type": "stream",
     "text": [
      "\u001b[94mInitially found 32553 unique region clusters...\u001b[0m\n",
      "\u001b[94mFinal number of unique regions = 32247\u001b[0m\n",
      "\u001b[94mRenumbering clusters...\u001b[0m\n"
     ]
    },
    {
     "name": "stdout",
     "output_type": "stream",
     "text": [
      "Calculating 1600 subsets...\n"
     ]
    },
    {
     "name": "stderr",
     "output_type": "stream",
     "text": [
      "100%|███████████████████████████████████████████████████████████████████████████████████████████████████████████████████████████████████████████████████████████████████████████████████████████████████| 1600/1600 [01:26<00:00, 18.47it/s]\n"
     ]
    },
    {
     "name": "stdout",
     "output_type": "stream",
     "text": [
      "Calculating Light Curve Feature Filter Flags...\n"
     ]
    }
   ],
   "source": [
    "rm = ResultsManager()"
   ]
  },
  {
   "cell_type": "code",
   "execution_count": null,
   "id": "0a8ad865-46a8-4a30-b6a8-b35503ffac48",
   "metadata": {},
   "outputs": [],
   "source": []
  },
  {
   "cell_type": "code",
   "execution_count": 20,
   "id": "b6f3f774-a4f7-431f-bb09-5e242642d69e",
   "metadata": {},
   "outputs": [
    {
     "data": {
      "text/html": [
       "<div>\n",
       "<style scoped>\n",
       "    .dataframe tbody tr th:only-of-type {\n",
       "        vertical-align: middle;\n",
       "    }\n",
       "\n",
       "    .dataframe tbody tr th {\n",
       "        vertical-align: top;\n",
       "    }\n",
       "\n",
       "    .dataframe thead th {\n",
       "        text-align: right;\n",
       "    }\n",
       "</style>\n",
       "<table border=\"1\" class=\"dataframe\">\n",
       "  <thead>\n",
       "    <tr style=\"text-align: right;\">\n",
       "      <th></th>\n",
       "      <th>time</th>\n",
       "      <th>bti</th>\n",
       "      <th>bccd</th>\n",
       "      <th>n</th>\n",
       "      <th>mu</th>\n",
       "      <th>B_peak_log</th>\n",
       "      <th>B_eclipse_log</th>\n",
       "      <th>label</th>\n",
       "      <th>runid</th>\n",
       "      <th>t0</th>\n",
       "    </tr>\n",
       "  </thead>\n",
       "  <tbody>\n",
       "    <tr>\n",
       "      <th>182756597</th>\n",
       "      <td>3.973462e+08</td>\n",
       "      <td>False</td>\n",
       "      <td>False</td>\n",
       "      <td>3</td>\n",
       "      <td>3.152457</td>\n",
       "      <td>0.438843</td>\n",
       "      <td>0.238877</td>\n",
       "      <td>0</td>\n",
       "      <td>0653770101_0_50_0.2_2.0</td>\n",
       "      <td>0.0</td>\n",
       "    </tr>\n",
       "    <tr>\n",
       "      <th>182756598</th>\n",
       "      <td>3.973462e+08</td>\n",
       "      <td>False</td>\n",
       "      <td>False</td>\n",
       "      <td>3</td>\n",
       "      <td>3.152632</td>\n",
       "      <td>0.438819</td>\n",
       "      <td>0.238924</td>\n",
       "      <td>0</td>\n",
       "      <td>0653770101_0_50_0.2_2.0</td>\n",
       "      <td>50.0</td>\n",
       "    </tr>\n",
       "    <tr>\n",
       "      <th>182756599</th>\n",
       "      <td>3.973463e+08</td>\n",
       "      <td>False</td>\n",
       "      <td>False</td>\n",
       "      <td>4</td>\n",
       "      <td>3.151933</td>\n",
       "      <td>0.651914</td>\n",
       "      <td>0.078805</td>\n",
       "      <td>0</td>\n",
       "      <td>0653770101_0_50_0.2_2.0</td>\n",
       "      <td>100.0</td>\n",
       "    </tr>\n",
       "    <tr>\n",
       "      <th>182756600</th>\n",
       "      <td>3.973463e+08</td>\n",
       "      <td>False</td>\n",
       "      <td>False</td>\n",
       "      <td>3</td>\n",
       "      <td>3.149311</td>\n",
       "      <td>0.439274</td>\n",
       "      <td>0.238022</td>\n",
       "      <td>0</td>\n",
       "      <td>0653770101_0_50_0.2_2.0</td>\n",
       "      <td>150.0</td>\n",
       "    </tr>\n",
       "    <tr>\n",
       "      <th>182756601</th>\n",
       "      <td>3.973464e+08</td>\n",
       "      <td>False</td>\n",
       "      <td>False</td>\n",
       "      <td>3</td>\n",
       "      <td>3.152282</td>\n",
       "      <td>0.438867</td>\n",
       "      <td>0.238829</td>\n",
       "      <td>0</td>\n",
       "      <td>0653770101_0_50_0.2_2.0</td>\n",
       "      <td>200.0</td>\n",
       "    </tr>\n",
       "    <tr>\n",
       "      <th>...</th>\n",
       "      <td>...</td>\n",
       "      <td>...</td>\n",
       "      <td>...</td>\n",
       "      <td>...</td>\n",
       "      <td>...</td>\n",
       "      <td>...</td>\n",
       "      <td>...</td>\n",
       "      <td>...</td>\n",
       "      <td>...</td>\n",
       "      <td>...</td>\n",
       "    </tr>\n",
       "    <tr>\n",
       "      <th>182757392</th>\n",
       "      <td>3.973859e+08</td>\n",
       "      <td>True</td>\n",
       "      <td>False</td>\n",
       "      <td>4</td>\n",
       "      <td>3.342277</td>\n",
       "      <td>0.613436</td>\n",
       "      <td>0.125003</td>\n",
       "      <td>0</td>\n",
       "      <td>0653770101_0_50_0.2_2.0</td>\n",
       "      <td>39750.0</td>\n",
       "    </tr>\n",
       "    <tr>\n",
       "      <th>182757393</th>\n",
       "      <td>3.973860e+08</td>\n",
       "      <td>True</td>\n",
       "      <td>False</td>\n",
       "      <td>3</td>\n",
       "      <td>3.358106</td>\n",
       "      <td>0.412270</td>\n",
       "      <td>0.294223</td>\n",
       "      <td>0</td>\n",
       "      <td>0653770101_0_50_0.2_2.0</td>\n",
       "      <td>39800.0</td>\n",
       "    </tr>\n",
       "    <tr>\n",
       "      <th>182757394</th>\n",
       "      <td>3.973860e+08</td>\n",
       "      <td>True</td>\n",
       "      <td>False</td>\n",
       "      <td>2</td>\n",
       "      <td>3.387286</td>\n",
       "      <td>0.246684</td>\n",
       "      <td>0.530501</td>\n",
       "      <td>0</td>\n",
       "      <td>0653770101_0_50_0.2_2.0</td>\n",
       "      <td>39850.0</td>\n",
       "    </tr>\n",
       "    <tr>\n",
       "      <th>182757395</th>\n",
       "      <td>3.973861e+08</td>\n",
       "      <td>True</td>\n",
       "      <td>False</td>\n",
       "      <td>7</td>\n",
       "      <td>3.370218</td>\n",
       "      <td>1.462806</td>\n",
       "      <td>-0.184013</td>\n",
       "      <td>0</td>\n",
       "      <td>0653770101_0_50_0.2_2.0</td>\n",
       "      <td>39900.0</td>\n",
       "    </tr>\n",
       "    <tr>\n",
       "      <th>182757396</th>\n",
       "      <td>3.973861e+08</td>\n",
       "      <td>True</td>\n",
       "      <td>False</td>\n",
       "      <td>2</td>\n",
       "      <td>3.375036</td>\n",
       "      <td>0.247523</td>\n",
       "      <td>0.526752</td>\n",
       "      <td>0</td>\n",
       "      <td>0653770101_0_50_0.2_2.0</td>\n",
       "      <td>39950.0</td>\n",
       "    </tr>\n",
       "  </tbody>\n",
       "</table>\n",
       "<p>800 rows × 10 columns</p>\n",
       "</div>"
      ],
      "text/plain": [
       "                   time    bti   bccd  n        mu  B_peak_log  B_eclipse_log  \\\n",
       "182756597  3.973462e+08  False  False  3  3.152457    0.438843       0.238877   \n",
       "182756598  3.973462e+08  False  False  3  3.152632    0.438819       0.238924   \n",
       "182756599  3.973463e+08  False  False  4  3.151933    0.651914       0.078805   \n",
       "182756600  3.973463e+08  False  False  3  3.149311    0.439274       0.238022   \n",
       "182756601  3.973464e+08  False  False  3  3.152282    0.438867       0.238829   \n",
       "...                 ...    ...    ... ..       ...         ...            ...   \n",
       "182757392  3.973859e+08   True  False  4  3.342277    0.613436       0.125003   \n",
       "182757393  3.973860e+08   True  False  3  3.358106    0.412270       0.294223   \n",
       "182757394  3.973860e+08   True  False  2  3.387286    0.246684       0.530501   \n",
       "182757395  3.973861e+08   True  False  7  3.370218    1.462806      -0.184013   \n",
       "182757396  3.973861e+08   True  False  2  3.375036    0.247523       0.526752   \n",
       "\n",
       "          label                    runid       t0  \n",
       "182756597     0  0653770101_0_50_0.2_2.0      0.0  \n",
       "182756598     0  0653770101_0_50_0.2_2.0     50.0  \n",
       "182756599     0  0653770101_0_50_0.2_2.0    100.0  \n",
       "182756600     0  0653770101_0_50_0.2_2.0    150.0  \n",
       "182756601     0  0653770101_0_50_0.2_2.0    200.0  \n",
       "...         ...                      ...      ...  \n",
       "182757392     0  0653770101_0_50_0.2_2.0  39750.0  \n",
       "182757393     0  0653770101_0_50_0.2_2.0  39800.0  \n",
       "182757394     0  0653770101_0_50_0.2_2.0  39850.0  \n",
       "182757395     0  0653770101_0_50_0.2_2.0  39900.0  \n",
       "182757396     0  0653770101_0_50_0.2_2.0  39950.0  \n",
       "\n",
       "[800 rows x 10 columns]"
      ]
     },
     "execution_count": 20,
     "metadata": {},
     "output_type": "execute_result"
    }
   ],
   "source": [
    "lc"
   ]
  },
  {
   "cell_type": "code",
   "execution_count": 29,
   "id": "81ac805a-5b66-42f7-8a2d-1671ae379e5e",
   "metadata": {},
   "outputs": [
    {
     "data": {
      "image/png": "[encoded data removed]",
      "text/plain": [
       "<Figure size 350x262.5 with 2 Axes>"
      ]
     },
     "metadata": {},
     "output_type": "display_data"
    }
   ],
   "source": [
    "lc = rm.get_lc_by_idx(30435)\n",
    "lc = lc.iloc[0:800]\n",
    "lc2 = lc[(lc['t0'] > 26000) & (lc['t0'] < 28000)]\n",
    "\n",
    "fig, ax = plt.subplots(2,1, gridspec_kw={'height_ratios':[3,1]}, sharex=True)\n",
    "\n",
    "ax[0].step(lc['t0'], lc['n'], lw=1.0, color='black', label='0.2-2.0 keV\\nCombined Counts')\n",
    "ax[1].step(lc['t0'], lc['mu'], lw=1.0, color='red')\n",
    "ax[1].set_xlabel('Time (s)')\n",
    "ax[0].set_ylabel('Counts (N)')\n",
    "ax[1].set_ylabel(r'$\\mu$')\n",
    "ax[0].set_xlim(0,40000)\n",
    "\n",
    "\n",
    "#ax_inset.step(lc2['t0'], lc2['n'], lw=1.0, color='black')\n",
    "#ax_inset.step(lc2['t0'], lc2['mu'], lw=1.0, color='red')\n",
    "plt.subplots_adjust(hspace=0)\n",
    "ax[0].legend(loc='upper left')\n",
    "plt.savefig('../../data/plots/J034111.1-284816.png')\n",
    "plt.savefig('../../data/plots/J034111.1-284816.pdf')\n",
    "plt.show()\n"
   ]
  },
  {
   "cell_type": "code",
   "execution_count": 6,
   "id": "bd20fdc1-d967-45ba-b8a1-3db92ac22062",
   "metadata": {},
   "outputs": [
    {
     "data": {
      "image/png": "[encoded data removed]",
      "text/plain": [
       "<Figure size 350x262.5 with 1 Axes>"
      ]
     },
     "metadata": {},
     "output_type": "display_data"
    }
   ],
   "source": [
    "plt.figure()\n",
    "#plt.\n",
    "plt.step(lc2['t0'], lc2['n'], lw=1.0, color='black')\n",
    "plt.step(lc2['t0'], lc2['mu'], lw=1.0, color='red')\n",
    "plt.show()"
   ]
  },
  {
   "cell_type": "code",
   "execution_count": 7,
   "id": "04264c65-86c1-4512-9cd0-d39dccc37a3f",
   "metadata": {},
   "outputs": [
    {
     "data": {
      "text/plain": [
       "[<matplotlib.lines.Line2D at 0x7f4f7d19b750>]"
      ]
     },
     "execution_count": 7,
     "metadata": {},
     "output_type": "execute_result"
    },
    {
     "data": {
      "image/png": "[encoded data removed]",
      "text/plain": [
       "<Figure size 350x262.5 with 1 Axes>"
      ]
     },
     "metadata": {},
     "output_type": "display_data"
    }
   ],
   "source": [
    "plt.step(lc2['t0'], lc2['mu'], lw=1.0, color='red')"
   ]
  },
  {
   "cell_type": "code",
   "execution_count": null,
   "id": "94e523d2-8237-4d68-8684-6a2aa425f2ff",
   "metadata": {},
   "outputs": [],
   "source": []
  },
  {
   "cell_type": "code",
   "execution_count": null,
   "id": "b9028ab1-4ca0-4138-8b0c-00c0e4e90885",
   "metadata": {},
   "outputs": [],
   "source": []
  }
 ],
 "metadata": {
  "kernelspec": {
   "display_name": "exod",
   "language": "python",
   "name": "exod"
  },
  "language_info": {
   "codemirror_mode": {
    "name": "ipython",
    "version": 3
   },
   "file_extension": ".py",
   "mimetype": "text/x-python",
   "name": "python",
   "nbconvert_exporter": "python",
   "pygments_lexer": "ipython3",
   "version": "3.11.5"
  }
 },
 "nbformat": 4,
 "nbformat_minor": 5
}
