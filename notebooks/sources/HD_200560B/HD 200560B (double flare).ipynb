{
 "cells": [
  {
   "cell_type": "code",
   "execution_count": null,
   "id": "c4e15fab-4282-4384-a87d-13b7e8e5fcbc",
   "metadata": {},
   "outputs": [],
   "source": [
    "from xspec import *\n",
    "eeking out some bugs\n",
    "from astropy.table import Table\n",
    "import matplotlib.pyplot as plt\n",
    "from mpl_toolkits.axes_grid1.inset_locator import inset_axes\n",
    "\n",
    "import scienceplots\n",
    "from astropy.io import fits\n",
    "plt.style.use('science')"
   ]
  },
  {
   "cell_type": "code",
   "execution_count": null,
   "id": "bef9f97b-cc30-47cb-b7d3-7dba6016b236",
   "metadata": {},
   "outputs": [],
   "source": [
    "tab = Table.read('/home/nkhan/EXOD2/notebooks/sources/HD_200560B/0671930101/pps/lc_bin_10s.ftz')\n",
    "plt.errorbar(tab['TIME'], tab['RATE1'], yerr=tab['ERROR1'])\n",
    "plt.ylim(0)\n",
    "plt.xlim(75000,125000)"
   ]
  },
  {
   "cell_type": "code",
   "execution_count": null,
   "id": "50bd9002-5ee9-4877-899b-c38dfba83b44",
   "metadata": {},
   "outputs": [],
   "source": [
    "cd /home/nkhan/EXOD2/notebooks/sources/HD_200560B/0671930101/pps/"
   ]
  },
  {
   "cell_type": "code",
   "execution_count": null,
   "id": "7630f3a3-9315-4a58-a0c1-e3e1b9d799e3",
   "metadata": {},
   "outputs": [],
   "source": [
    "f = \"P0671930101PNS003SRSPEC0001.FTZ\"\n",
    "r = \"epn_e3_ff20_sdY8.rmf\"\n",
    "s = Spectrum(f, respFile=r)\n",
    "Plot.xAxis = 'keV'\n",
    "s.ignore(\"0.0-0.5\")\n",
    "s.ignore(\"10.0-**\")"
   ]
  },
  {
   "cell_type": "code",
   "execution_count": null,
   "id": "2faf2d16-1551-4209-8f83-5c485d57453a",
   "metadata": {},
   "outputs": [],
   "source": [
    "Plot(\"data\")\n",
    "x = Plot.x()\n",
    "y = Plot.y()\n",
    "x_err = Plot.xErr()\n",
    "y_err = Plot.yErr()\n",
    "\n",
    "m = Model('TBabs*diskbb')\n",
    "Fit.perform()\n",
    "y_model = Plot.model()\n",
    "\n",
    "m1 = Model('pow')\n",
    "Fit.perform()\n",
    "y_model1 = Plot.model()\n",
    "\n",
    "plt.figure()\n",
    "plt.errorbar(x, y, xerr=x_err, yerr=y_err, ls='none', color='black', lw=1.0, label='HD 200560')\n",
    "plt.step(x, y_model, label='Tbabs * diskbb')\n",
    "plt.step(x, y_model1, label='Tbabs * pow')\n",
    "\n",
    "plt.xlabel('Energy (keV)')\n",
    "plt.ylabel(r'counts s$^{-1}$ keV$^{-1}$')\n",
    "plt.yscale('log')\n",
    "plt.xscale('log')\n",
    "plt.ylim(1e-5)\n",
    "plt.xlim(0.5, 10.0)\n",
    "plt.xticks([0.5,1.0,2.0,5.0, 10.0], labels=[0.5,1.0,2.0,5.0, 10.0])\n",
    "plt.legend()\n",
    "plt.show()"
   ]
  },
  {
   "cell_type": "code",
   "execution_count": null,
   "id": "576cd99e-f8f2-4d4b-8a59-c8c2da927865",
   "metadata": {},
   "outputs": [],
   "source": [
    "cd ../../"
   ]
  },
  {
   "cell_type": "code",
   "execution_count": null,
   "id": "1e0bca92-5a30-403c-9d2a-0637a5012869",
   "metadata": {},
   "outputs": [],
   "source": [
    "#import matplotlib.pyplot as plt\n",
    "#from astropy.table import Table\n",
    "#from mpl_toolkits.axes_grid1.inset_locator import inset_axes\n",
    "\n",
    "# Read the data\n",
    "tab_lc = Table.read('/home/nkhan/EXOD2/notebooks/sources/2E_3943/0511001101/pps/P0511001101PNX000SRCTSR8001.FTZ')\n",
    "\n",
    "# Create the main plot\n",
    "fig, ax = plt.subplots() # figsize=(10, 6)\n",
    "t0 = tab_lc['TIME'] - tab_lc['TIME'].min()\n",
    "ax.errorbar(t0, tab_lc['RATE'],  yerr=tab_lc['ERROR'], ls='none', color='black', lw=0.5, label='2E 3943 | EPIC-pn 0.2-12.0')\n",
    "#ax.plot(t0, tab_lc['BACK1V'], color='red', lw=0.5)\n",
    "ax.set_xlim(2750, 4000)\n",
    "ax.set_ylim(0)\n",
    "\n",
    "ax.set_xlabel('Time (s)')\n",
    "ax.set_ylabel('Rate (ct/s)')\n",
    "ax.legend()\n",
    "\n",
    "# First inset\n",
    "ax_inset1 = inset_axes(ax, width=\"20%\", height=\"30%\", loc=\"center\", bbox_to_anchor=(-0.11, 0.13, 1, 1), bbox_transform=fig.transFigure)\n",
    "ax_inset1.errorbar(t0, tab_lc['RATE'], yerr=tab_lc['ERROR'], ls='none', color='black', lw=0.5)\n",
    "ax_inset1.set_xlim(2850, 2925)\n",
    "ax_inset1.set_ylim(bottom=0)\n",
    "ax_inset1.set_yticks([])\n",
    "\n",
    "# Second inset\n",
    "ax_inset2 = inset_axes(ax, width=\"20%\", height=\"30%\", loc=\"center\", bbox_to_anchor=(0.15, 0.13, 1, 1), bbox_transform=fig.transFigure)\n",
    "ax_inset2.errorbar(t0, tab_lc['RATE'], yerr=tab_lc['ERROR'], ls='none', color='black', lw=0.5)\n",
    "ax_inset2.set_xlim(3800, 3900)\n",
    "ax_inset2.set_ylim(bottom=0)\n",
    "ax_inset2.set_yticks([])\n",
    "plt.savefig('/home/nkhan/EXOD2/data/plots/double_burst_e2_3943.png')\n",
    "plt.savefig('/home/nkhan/EXOD2/data/plots/double_burst_e2_3943.pdf')\n",
    "plt.show()\n"
   ]
  },
  {
   "cell_type": "code",
   "execution_count": null,
   "id": "c8723a31-5ea0-4e8e-be8d-909187a54895",
   "metadata": {},
   "outputs": [],
   "source": [
    "tab_lc = Table.read('/home/nkhan/EXOD2/notebooks/sources/2E_3943/0511001101/pps/P0511001101PNX000SRCTSR8001.FTZ')\n",
    "plt.figure()\n",
    "t0 = tab_lc['TIME'] - tab_lc['TIME'].min()\n",
    "plt.errorbar(t0, tab_lc['RATE'],  yerr=tab_lc['ERROR'], ls='none', color='black', lw=0.5, label='2E 3943 | EPIC-pn 0.2-12.0')\n",
    "plt.plot(t0, tab_lc['BACK1V'], color='red', lw=0.5)\n",
    "#plt.ylim(0)\n",
    "plt.xlim(2750, 4000)\n",
    "#plt.xlim(2850, 2925)\n",
    "#plt.xlim(3820, 3900)\n",
    "plt.xlabel('Time (s)')\n",
    "plt.ylabel('Rate (ct/s)')\n",
    "plt.legend()\n",
    "#plt.savefig('/home/nkhan/EXOD2/data/plots/HD_200560_lc_10s.pdf')\n",
    "#plt.savefig('/home/nkhan/EXOD2/data/plots/HD_200560_lc_10s.png')"
   ]
  },
  {
   "cell_type": "code",
   "execution_count": null,
   "id": "d3f755b9-5846-47c2-9517-e4432f830dc5",
   "metadata": {},
   "outputs": [],
   "source": [
    "tab_lc = Table.read('/home/nkhan/EXOD2/notebooks/sources/HD_200560B/0671930101/pps/lc_bin_10s.ftz')\n",
    "plt.figure()\n",
    "plt.errorbar(tab_lc['TIME'], tab_lc['RATE1'],  yerr=tab_lc['ERROR1'], ls='none', color='black', lw=0.5, label='HD 200560 | EPIC-pn 0.2-12.0')\n",
    "plt.ylim(0)\n",
    "plt.xlim(84000, 115000)\n",
    "plt.xlabel('Time (s)')\n",
    "plt.ylabel('Rate (ct/s)')\n",
    "plt.legend()\n",
    "plt.savefig('/home/nkhan/EXOD2/data/plots/HD_200560_lc_10s.pdf')\n",
    "plt.savefig('/home/nkhan/EXOD2/data/plots/HD_200560_lc_10s.png')"
   ]
  },
  {
   "cell_type": "code",
   "execution_count": null,
   "id": "4135f202-2f2a-4ade-ab8f-164cbe5c1754",
   "metadata": {},
   "outputs": [],
   "source": [
    "tab_lc"
   ]
  }
 ],
 "metadata": {
  "kernelspec": {
   "display_name": "Python 3 (ipykernel)",
   "language": "python",
   "name": "python3"
  },
  "language_info": {
   "codemirror_mode": {
    "name": "ipython",
    "version": 3
   },
   "file_extension": ".py",
   "mimetype": "text/x-python",
   "name": "python",
   "nbconvert_exporter": "python",
   "pygments_lexer": "ipython3",
   "version": "3.12.0"
  }
 },
 "nbformat": 4,
 "nbformat_minor": 5
}
