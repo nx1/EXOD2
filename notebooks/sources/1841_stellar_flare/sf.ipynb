{
 "cells": [
  {
   "cell_type": "code",
   "execution_count": null,
   "id": "67fa9f6e-172c-4bbe-a406-f71863263937",
   "metadata": {},
   "outputs": [],
   "source": [
    "import numpy as np\n",
    "import matplotlib.pyplot as plt\n",
    "from statistics import mode\n",
    "from matplotlib.colors import LogNorm\n",
    "from astropy.table import Table\n",
    "from exod.utils.plotting import use_scienceplots\n",
    "use_scienceplots()"
   ]
  },
  {
   "cell_type": "code",
   "execution_count": null,
   "id": "04041fa8-1851-45ae-b9cc-95a417d2abb7",
   "metadata": {},
   "outputs": [],
   "source": [
    "evt = Table.read('0783080101_PN.fits')\n",
    "evt['t0'] = evt['TIME'] - evt['TIME'].min()"
   ]
  },
  {
   "cell_type": "code",
   "execution_count": null,
   "id": "57dc1c3b-aa90-40a4-be15-c86a7ff742da",
   "metadata": {},
   "outputs": [],
   "source": [
    "xpos = 24473.458\n",
    "ypos = 20137.664\n",
    "size = 325.10496\n",
    "\n",
    "t_start = 607342390\n",
    "t_stop  = t_start+2000\n",
    "\n",
    "xmax = xpos + size\n",
    "xmin = xpos - size\n",
    "ymax = ypos + size\n",
    "ymin = ypos - size\n",
    "\n",
    "sub = evt[(evt['X'] > xmin) & (evt['X'] < xmax) & (evt['Y'] > ymin) & (evt['Y'] < ymax)]\n",
    "#sub = evt[(evt['RAWX'] > 21 - 3) & (evt['RAWX'] < 21+3) & (evt['RAWY'] > 181-3) & (evt['RAWY'] < 181+3) & evt['CCDNR'] == 1]\n",
    "sub = sub[(sub['TIME'] > t_start) & (sub['TIME'] < t_stop)]\n",
    "print(len(sub))"
   ]
  },
  {
   "cell_type": "code",
   "execution_count": null,
   "id": "ee4087e6-3ad4-4866-8d4b-7491bbd29b5f",
   "metadata": {},
   "outputs": [],
   "source": [
    "tab_filt = sub\n",
    "tab_filt = tab_filt[tab_filt['CCDNR'] == mode(tab_filt['CCDNR'])]\n",
    "xbins = np.arange(tab_filt['RAWX'].min(), tab_filt['RAWX'].max(), 1)  \n",
    "ybins = np.arange(tab_filt['RAWY'].min(), tab_filt['RAWY'].max(), 1)\n"
   ]
  },
  {
   "cell_type": "code",
   "execution_count": null,
   "id": "68c71274-48a3-4f0f-b8cf-0405578c7e5c",
   "metadata": {},
   "outputs": [],
   "source": [
    "tab_filt"
   ]
  },
  {
   "cell_type": "code",
   "execution_count": null,
   "id": "844e148d-8e93-4cac-a203-41568d72f93c",
   "metadata": {},
   "outputs": [],
   "source": [
    "im, _, _ = np.histogram2d(x=tab_filt['RAWX'], y=tab_filt['RAWY'], bins=[xbins,ybins])\n",
    "plt.figure()\n",
    "plt.imshow(im, aspect='equal', cmap='hot')\n",
    "plt.show()"
   ]
  },
  {
   "cell_type": "code",
   "execution_count": null,
   "id": "10705ba0-0133-42ea-b5d6-e9e6a39346e1",
   "metadata": {},
   "outputs": [],
   "source": [
    "sub.to_pandas()['RAWY'].value_counts()"
   ]
  },
  {
   "cell_type": "code",
   "execution_count": null,
   "id": "f586a13d-75a1-4cad-b1b9-3eb2f8958066",
   "metadata": {},
   "outputs": [],
   "source": [
    "sub.to_pandas()['RAWX'].value_counts()"
   ]
  },
  {
   "cell_type": "code",
   "execution_count": null,
   "id": "39f1504a-3145-413f-aebf-56fc5be758ed",
   "metadata": {},
   "outputs": [],
   "source": [
    "plt.figure(figsize=(15,5))\n",
    "plt.scatter(sub['TIME'], sub['PI']/1000, marker='.', s=10)\n",
    "\n",
    "plt.xlim(t_start, t_stop)\n",
    "plt.ylim(0,12)\n",
    "plt.xlabel('Time (s)')\n",
    "plt.ylabel('PI / 1000 (keV)')"
   ]
  },
  {
   "cell_type": "code",
   "execution_count": null,
   "id": "62297bd6-e97f-42fd-ad89-07a4101cd219",
   "metadata": {},
   "outputs": [],
   "source": [
    "Energies = [[200, 12000],\n",
    "            [200,2000],\n",
    "            [2000,12000]]\n",
    "\n",
    "colors = ['black', 'red', 'blue']\n",
    "\n",
    "i=0\n",
    "for E_lo, E_hi in Energies:\n",
    "    sub2 = sub[(sub['PI'] > E_lo) & (sub['PI'] < E_hi)]\n",
    "    x = np.arange(t_start, t_stop, 39)\n",
    "    y = sub2['TIME']\n",
    "    bins, edges = np.histogram(y, bins=x)\n",
    "    bins = bins / 39\n",
    "    plt.step(x[:-1], bins, label=f'{E_lo/1000} - {E_hi/1000} keV', color=colors[i])\n",
    "    plt.ylabel('Count Rate (ct/s)')\n",
    "    plt.xlabel('Time (s)')\n",
    "    plt.legend()\n",
    "    i+=1"
   ]
  },
  {
   "cell_type": "code",
   "execution_count": null,
   "id": "f0ebc061-50ea-4c11-89bb-3784a79a8f37",
   "metadata": {},
   "outputs": [],
   "source": [
    "plt.figure()\n",
    "plt.step(sub['t0'], sub['PI']/1000)\n",
    "#plt.xlim(89810,89860)\n",
    "#plt.ylim(0.14,0.3)\n",
    "plt.xlabel('Time (s)')\n",
    "plt.ylabel('PI / 1000 (keV)')"
   ]
  },
  {
   "cell_type": "code",
   "execution_count": null,
   "id": "8e542ff0-5228-472d-8df8-ad8e90bc4505",
   "metadata": {},
   "outputs": [],
   "source": [
    "import numpy as np\n",
    "import matplotlib.pyplot as plt\n",
    "import matplotlib.gridspec as gridspec\n",
    "\n",
    "# Create a figure with GridSpec to handle two panels\n",
    "fig = plt.figure()\n",
    "gs = gridspec.GridSpec(1, 2, width_ratios=[2.5, 1], wspace=0.0)\n",
    "\n",
    "ax0 = fig.add_subplot(gs[0])\n",
    "ax0.scatter(sub['t0'], sub['PI'] / 1000, marker='.', s=10, label='XMM PN 0.2-12.0 keV\\nHydra A burst')\n",
    "ax0.set_xlim(89815, 89855)\n",
    "ax0.set_ylim(0.1, 0.3)\n",
    "ax0.set_xlabel('Time (s)')\n",
    "ax0.set_ylabel('Photon Energy (keV)')\n",
    "leg = ax0.legend(loc='upper right')\n",
    "leg.legend_handles[0].set_visible(False)\n",
    "\n",
    "ax1 = fig.add_subplot(gs[1], sharey=ax0)\n",
    "ax1.hist(sub['PI'] / 1000, bins=np.linspace(0.1, 0.3, 20), orientation='horizontal', histtype='step')\n",
    "ax1.set_ylim(0.1, 0.3)\n",
    "ax1.set_xlabel('Count')\n",
    "ax1.yaxis.set_ticks_position(\"right\")\n",
    "plt.savefig('../../../data/plots/hydra_A_spec_lc.png')\n",
    "plt.savefig('../../../data/plots/hydra_A_spec_lc.pdf')\n",
    "\n",
    "plt.show()\n"
   ]
  },
  {
   "cell_type": "code",
   "execution_count": null,
   "id": "8279c94c-df1a-4ed5-83c4-54d498a51480",
   "metadata": {},
   "outputs": [],
   "source": [
    "print(sub)"
   ]
  },
  {
   "cell_type": "code",
   "execution_count": null,
   "id": "b4e3eb16-e012-4d16-b376-7a03979f5904",
   "metadata": {},
   "outputs": [],
   "source": [
    "xpos = 22933.122\n",
    "ypos = 26315.909\n",
    "size = 100\n",
    "xmax = xpos + size\n",
    "xmin = xpos - size\n",
    "ymax = ypos + size\n",
    "ymin = ypos - size\n",
    "\n",
    "sub = evt[(evt['X'] > xmin) & (evt['X'] < xmax) & (evt['Y'] > ymin) & (evt['Y'] < ymax)]\n",
    "sub['t0'] = sub['TIME'] - min(sub['TIME'])\n",
    "plt.figure()\n",
    "plt.scatter(sub['t0'], sub['RAWX'], marker='.', s=10)\n",
    "plt.xlim(89815,89856)\n",
    "#plt.ylim(181,183)\n",
    "plt.xlabel('Time (s)')\n",
    "plt.ylabel('PI / 1000 (keV)')\n"
   ]
  },
  {
   "cell_type": "code",
   "execution_count": null,
   "id": "d1f7cdf1-4fd0-47e0-b47e-28c326d0886b",
   "metadata": {},
   "outputs": [],
   "source": [
    "89856 - 89815"
   ]
  },
  {
   "cell_type": "code",
   "execution_count": null,
   "id": "0e7f1db2-567e-42ff-8cfc-cd038293349c",
   "metadata": {},
   "outputs": [],
   "source": [
    "xpos = 22933.122\n",
    "ypos = 26315.909\n",
    "size = 100\n",
    "xmax = xpos + size\n",
    "xmin = xpos - size\n",
    "ymax = ypos + size\n",
    "ymin = ypos - size\n",
    "\n",
    "sub = evt[(evt['X'] > xmin) & (evt['X'] < xmax) & (evt['Y'] > ymin) & (evt['Y'] < ymax)]\n",
    "sub['t0'] = sub['TIME'] - min(sub['TIME'])\n",
    "print(len(sub))\n",
    "plt.figure()\n",
    "plt.scatter(sub['t0'], sub['RAWY'], marker='.', s=10)\n",
    "plt.xlim(89810,89860)\n",
    "plt.ylim(181,183)\n",
    "plt.xlabel('Time (s)')\n",
    "plt.ylabel('PI / 1000 (keV)')\n"
   ]
  },
  {
   "cell_type": "code",
   "execution_count": null,
   "id": "7a06605b-3887-4f51-92fc-7ee07f782e1a",
   "metadata": {},
   "outputs": [],
   "source": [
    "tab_lc = Table.read('0843890301_PN0_dt1.lc')\n",
    "tab_lc['t0'] = tab_lc['TIME'] - min(tab_lc['TIME'])\n",
    "tab_lc"
   ]
  },
  {
   "cell_type": "code",
   "execution_count": null,
   "id": "d715dc83-6e5d-4107-a27f-241207bbdd7e",
   "metadata": {},
   "outputs": [],
   "source": [
    "sub = tab_lc[(tab_lc['t0'] > 90280) & (tab_lc['t0'] < 90350)]\n",
    "#plt.step(sub['t0'], sub['RATE'], color='black')\n",
    "plt.errorbar(sub['t0'], sub['RATE'], yerr=sub['ERROR'], ls='none', color='black', capsize=1.0, label='Hydra A Burst')\n",
    "plt.errorbar(sub['t0'], sub['BACKV'], yerr=sub['BACKE'], ls='none', color='red', label='Background')\n",
    "plt.ylim(0,15)\n",
    "#plt.xlim(90200,90400)\n",
    "plt.legend()"
   ]
  },
  {
   "cell_type": "code",
   "execution_count": null,
   "id": "b1e0acaf-14e6-4793-a364-a4190753f67e",
   "metadata": {},
   "outputs": [],
   "source": [
    "evt = Table.read('pnfiltered.ds')\n",
    "sub = evt[(evt['X'] > xmin) & (evt['X'] < xmax) & (evt['Y'] > ymin) & (evt['Y'] < ymax)]\n",
    "sub['t0'] = sub['TIME'] - min(sub['TIME'])\n",
    "sub = sub[(sub['t0'] > 89310) & (sub['t0'] < 92000)]\n",
    "sub"
   ]
  },
  {
   "cell_type": "code",
   "execution_count": null,
   "id": "f6644475-b9f4-4470-b8b5-090b72d28b0c",
   "metadata": {},
   "outputs": [],
   "source": [
    "plt.figure(figsize=(10,10))\n",
    "plt.scatter(sub['t0'], sub['PI']/1000)"
   ]
  },
  {
   "cell_type": "code",
   "execution_count": null,
   "id": "acaa752e-715b-4399-b9ca-8736392e5ba1",
   "metadata": {},
   "outputs": [],
   "source": []
  },
  {
   "cell_type": "code",
   "execution_count": null,
   "id": "cf01c0ac-e84d-4f80-86ac-406a0503d9d0",
   "metadata": {},
   "outputs": [],
   "source": []
  },
  {
   "cell_type": "code",
   "execution_count": null,
   "id": "65e5e809-9f92-44d1-9792-77a42dec1ef4",
   "metadata": {},
   "outputs": [],
   "source": []
  },
  {
   "cell_type": "code",
   "execution_count": null,
   "id": "26df8112-f0be-48c9-972f-0e95cb89b97c",
   "metadata": {},
   "outputs": [],
   "source": []
  }
 ],
 "metadata": {
  "kernelspec": {
   "display_name": "Python 3 (ipykernel)",
   "language": "python",
   "name": "python3"
  },
  "language_info": {
   "codemirror_mode": {
    "name": "ipython",
    "version": 3
   },
   "file_extension": ".py",
   "mimetype": "text/x-python",
   "name": "python",
   "nbconvert_exporter": "python",
   "pygments_lexer": "ipython3",
   "version": "3.12.0"
  }
 },
 "nbformat": 4,
 "nbformat_minor": 5
}
