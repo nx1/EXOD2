{
 "cells": [
  {
   "cell_type": "code",
   "execution_count": 9,
   "id": "67fa9f6e-172c-4bbe-a406-f71863263937",
   "metadata": {},
   "outputs": [],
   "source": [
    "import matplotlib.pyplot as plt\n",
    "from astropy.table import Table\n",
    "from exod.utils.plotting import use_scienceplots\n",
    "use_scienceplots()"
   ]
  },
  {
   "cell_type": "code",
   "execution_count": 10,
   "id": "04041fa8-1851-45ae-b9cc-95a417d2abb7",
   "metadata": {},
   "outputs": [
    {
     "name": "stderr",
     "output_type": "stream",
     "text": [
      "WARNING: hdu= was not specified but multiple tables are present, reading in first available table (hdu=1) [astropy.io.fits.connect]\n",
      "WARNING: UnitsWarning: '0.05 arcsec' did not parse as fits unit: Numeric factor not supported by FITS If this is meant to be a custom unit, define it with 'u.def_unit'. To have it recognized inside a file reader or other code, enable it with 'u.add_enabled_units'. For details, see https://docs.astropy.org/en/latest/units/combining_and_defining.html [astropy.units.core]\n",
      "WARNING: UnitsWarning: 'channel' did not parse as fits unit: At col 0, Unit 'channel' not supported by the FITS standard.  If this is meant to be a custom unit, define it with 'u.def_unit'. To have it recognized inside a file reader or other code, enable it with 'u.add_enabled_units'. For details, see https://docs.astropy.org/en/latest/units/combining_and_defining.html [astropy.units.core]\n"
     ]
    }
   ],
   "source": [
    "evt = Table.read('0783880201_PN.fits')\n",
    "evt['t0'] = evt['TIME'] - evt['TIME'].min()"
   ]
  },
  {
   "cell_type": "code",
   "execution_count": 11,
   "id": "14b38575-802c-440b-ab1a-1bee6ac2e65e",
   "metadata": {},
   "outputs": [
    {
     "name": "stdout",
     "output_type": "stream",
     "text": [
      "582129960.8217952\n",
      "582130020.8217952\n"
     ]
    }
   ],
   "source": [
    "print(evt['TIME'][0] + 90280)\n",
    "print(evt['TIME'][0] + 90340)"
   ]
  },
  {
   "cell_type": "code",
   "execution_count": 12,
   "id": "eee44385-6e3f-49af-b1d0-06e0dcff4270",
   "metadata": {},
   "outputs": [],
   "source": [
    "# ((TIME > 704262700) && (TIME < 704263723))\n",
    "# expression='RAWX>50'"
   ]
  },
  {
   "cell_type": "code",
   "execution_count": null,
   "id": "262d81ea-e73b-406e-bb02-c7875eb6feed",
   "metadata": {},
   "outputs": [],
   "source": []
  },
  {
   "cell_type": "code",
   "execution_count": 43,
   "id": "57dc1c3b-aa90-40a4-be15-c86a7ff742da",
   "metadata": {},
   "outputs": [
    {
     "name": "stdout",
     "output_type": "stream",
     "text": [
      "95\n"
     ]
    }
   ],
   "source": [
    "xpos = 28283.166\n",
    "ypos = 23937.158\n",
    "size = 215.34088\n",
    "\n",
    "t_start = 582092133\n",
    "t_stop  = 582092100+60\n",
    "\n",
    "xmax = xpos + size\n",
    "xmin = xpos - size\n",
    "ymax = ypos + size\n",
    "ymin = ypos - size\n",
    "\n",
    "sub = evt[(evt['X'] > xmin) & (evt['X'] < xmax) & (evt['Y'] > ymin) & (evt['Y'] < ymax)]\n",
    "#sub = evt[(evt['RAWX'] > 21 - 3) & (evt['RAWX'] < 21+3) & (evt['RAWY'] > 181-3) & (evt['RAWY'] < 181+3) & evt['CCDNR'] == 1]\n",
    "sub = sub[(sub['TIME'] > t_start) & (sub['TIME'] < t_stop)]\n",
    "print(len(sub))"
   ]
  },
  {
   "cell_type": "code",
   "execution_count": 47,
   "id": "ee4087e6-3ad4-4866-8d4b-7491bbd29b5f",
   "metadata": {},
   "outputs": [
    {
     "data": {
      "text/html": [
       "<div><i>Table length=95</i>\n",
       "<table id=\"table140706739804720\" class=\"table-striped table-bordered table-condensed\">\n",
       "<thead><tr><th>TIME</th><th>RAWX</th><th>RAWY</th><th>DETX</th><th>DETY</th><th>X</th><th>Y</th><th>PHA</th><th>PI</th><th>FLAG</th><th>PATTERN</th><th>PAT_ID</th><th>PAT_SEQ</th><th>CCDNR</th><th>TIME_RAW</th><th>t0</th></tr></thead>\n",
       "<thead><tr><th>s</th><th>pix</th><th>pix</th><th>0.05 arcsec</th><th>0.05 arcsec</th><th>0.05 arcsec</th><th>0.05 arcsec</th><th>channel</th><th>eV</th><th></th><th></th><th></th><th></th><th></th><th>s</th><th>s</th></tr></thead>\n",
       "<thead><tr><th>float64</th><th>int16</th><th>int16</th><th>int16</th><th>int16</th><th>int32</th><th>int32</th><th>int16</th><th>int16</th><th>int32</th><th>uint8</th><th>int16</th><th>uint8</th><th>uint8</th><th>float64</th><th>float64</th></tr></thead>\n",
       "<tr><td>582092134.6963714</td><td>21</td><td>182</td><td>-3931</td><td>472</td><td>28238</td><td>24006</td><td>34</td><td>188</td><td>0</td><td>0</td><td>0</td><td>0</td><td>1</td><td>582092134.6917858</td><td>52458.16594564915</td></tr>\n",
       "<tr><td>582092134.8217028</td><td>21</td><td>182</td><td>-3919</td><td>483</td><td>28231</td><td>24021</td><td>55</td><td>305</td><td>0</td><td>0</td><td>0</td><td>0</td><td>1</td><td>582092134.8909765</td><td>52458.29127705097</td></tr>\n",
       "<tr><td>582092135.3833988</td><td>21</td><td>182</td><td>-3962</td><td>488</td><td>28273</td><td>24011</td><td>44</td><td>241</td><td>0</td><td>0</td><td>0</td><td>0</td><td>1</td><td>582092135.289358</td><td>52458.852972984314</td></tr>\n",
       "<tr><td>582092135.4581828</td><td>21</td><td>182</td><td>-3967</td><td>498</td><td>28281</td><td>24018</td><td>51</td><td>281</td><td>0</td><td>0</td><td>0</td><td>0</td><td>1</td><td>582092135.4885719</td><td>52458.927757024765</td></tr>\n",
       "<tr><td>582092135.7606704</td><td>21</td><td>182</td><td>-3985</td><td>446</td><td>28280</td><td>23963</td><td>39</td><td>217</td><td>0</td><td>0</td><td>0</td><td>0</td><td>1</td><td>582092135.6877626</td><td>52459.230244636536</td></tr>\n",
       "<tr><td>582092136.2266443</td><td>21</td><td>182</td><td>-3940</td><td>444</td><td>28237</td><td>23977</td><td>52</td><td>288</td><td>0</td><td>0</td><td>0</td><td>0</td><td>1</td><td>582092136.2853553</td><td>52459.6962184906</td></tr>\n",
       "<tr><td>582092136.5408427</td><td>21</td><td>182</td><td>-3983</td><td>462</td><td>28284</td><td>23979</td><td>56</td><td>309</td><td>0</td><td>0</td><td>0</td><td>0</td><td>1</td><td>582092136.4845282</td><td>52460.01041686535</td></tr>\n",
       "<tr><td>582092136.6762903</td><td>21</td><td>182</td><td>-3989</td><td>491</td><td>28299</td><td>24004</td><td>48</td><td>263</td><td>0</td><td>0</td><td>0</td><td>0</td><td>1</td><td>582092136.6837189</td><td>52460.145864486694</td></tr>\n",
       "<tr><td>582092136.8140293</td><td>21</td><td>182</td><td>-3939</td><td>455</td><td>28240</td><td>23988</td><td>47</td><td>261</td><td>0</td><td>0</td><td>0</td><td>0</td><td>1</td><td>582092136.8829302</td><td>52460.283603549</td></tr>\n",
       "<tr><td>...</td><td>...</td><td>...</td><td>...</td><td>...</td><td>...</td><td>...</td><td>...</td><td>...</td><td>...</td><td>...</td><td>...</td><td>...</td><td>...</td><td>...</td><td>...</td></tr>\n",
       "<tr><td>582092157.9560364</td><td>21</td><td>182</td><td>-3939</td><td>470</td><td>28245</td><td>24002</td><td>46</td><td>252</td><td>0</td><td>0</td><td>0</td><td>0</td><td>1</td><td>582092157.9975309</td><td>52481.42561066151</td></tr>\n",
       "<tr><td>582092158.277093</td><td>21</td><td>182</td><td>-3935</td><td>459</td><td>28237</td><td>23993</td><td>38</td><td>209</td><td>0</td><td>0</td><td>0</td><td>0</td><td>1</td><td>582092158.1967217</td><td>52481.74666726589</td></tr>\n",
       "<tr><td>582092158.3235177</td><td>21</td><td>182</td><td>-3960</td><td>485</td><td>28270</td><td>24009</td><td>47</td><td>259</td><td>0</td><td>0</td><td>0</td><td>0</td><td>1</td><td>582092158.3959124</td><td>52481.793091893196</td></tr>\n",
       "<tr><td>582092158.5984849</td><td>21</td><td>182</td><td>-3950</td><td>442</td><td>28246</td><td>23972</td><td>47</td><td>258</td><td>0</td><td>0</td><td>0</td><td>0</td><td>1</td><td>582092158.5951056</td><td>52482.0680590868</td></tr>\n",
       "<tr><td>582092158.8414644</td><td>21</td><td>182</td><td>-3961</td><td>440</td><td>28255</td><td>23966</td><td>45</td><td>250</td><td>0</td><td>0</td><td>0</td><td>0</td><td>1</td><td>582092158.7943169</td><td>52482.31103861332</td></tr>\n",
       "<tr><td>582092159.0339026</td><td>21</td><td>182</td><td>-3938</td><td>458</td><td>28240</td><td>23991</td><td>44</td><td>240</td><td>0</td><td>0</td><td>0</td><td>0</td><td>1</td><td>582092158.9935076</td><td>52482.50347685814</td></tr>\n",
       "<tr><td>582092159.1224005</td><td>21</td><td>182</td><td>-3993</td><td>505</td><td>28308</td><td>24016</td><td>58</td><td>319</td><td>0</td><td>0</td><td>0</td><td>0</td><td>1</td><td>582092159.1926984</td><td>52482.59197473526</td></tr>\n",
       "<tr><td>582092159.3750707</td><td>21</td><td>182</td><td>-3991</td><td>487</td><td>28300</td><td>24000</td><td>58</td><td>317</td><td>0</td><td>0</td><td>0</td><td>0</td><td>1</td><td>582092159.3918892</td><td>52482.84464490414</td></tr>\n",
       "<tr><td>582092159.5309596</td><td>21</td><td>182</td><td>-3974</td><td>457</td><td>28273</td><td>23977</td><td>62</td><td>342</td><td>0</td><td>0</td><td>0</td><td>0</td><td>1</td><td>582092159.5910825</td><td>52483.0005338192</td></tr>\n",
       "</table></div>"
      ],
      "text/plain": [
       "<Table length=95>\n",
       "       TIME        RAWX  RAWY ... CCDNR      TIME_RAW             t0        \n",
       "        s          pix   pix  ...               s                 s         \n",
       "     float64      int16 int16 ... uint8      float64           float64      \n",
       "----------------- ----- ----- ... ----- ----------------- ------------------\n",
       "582092134.6963714    21   182 ...     1 582092134.6917858  52458.16594564915\n",
       "582092134.8217028    21   182 ...     1 582092134.8909765  52458.29127705097\n",
       "582092135.3833988    21   182 ...     1  582092135.289358 52458.852972984314\n",
       "582092135.4581828    21   182 ...     1 582092135.4885719 52458.927757024765\n",
       "582092135.7606704    21   182 ...     1 582092135.6877626 52459.230244636536\n",
       "582092136.2266443    21   182 ...     1 582092136.2853553   52459.6962184906\n",
       "582092136.5408427    21   182 ...     1 582092136.4845282  52460.01041686535\n",
       "582092136.6762903    21   182 ...     1 582092136.6837189 52460.145864486694\n",
       "582092136.8140293    21   182 ...     1 582092136.8829302    52460.283603549\n",
       "              ...   ...   ... ...   ...               ...                ...\n",
       "582092157.9560364    21   182 ...     1 582092157.9975309  52481.42561066151\n",
       " 582092158.277093    21   182 ...     1 582092158.1967217  52481.74666726589\n",
       "582092158.3235177    21   182 ...     1 582092158.3959124 52481.793091893196\n",
       "582092158.5984849    21   182 ...     1 582092158.5951056   52482.0680590868\n",
       "582092158.8414644    21   182 ...     1 582092158.7943169  52482.31103861332\n",
       "582092159.0339026    21   182 ...     1 582092158.9935076  52482.50347685814\n",
       "582092159.1224005    21   182 ...     1 582092159.1926984  52482.59197473526\n",
       "582092159.3750707    21   182 ...     1 582092159.3918892  52482.84464490414\n",
       "582092159.5309596    21   182 ...     1 582092159.5910825   52483.0005338192"
      ]
     },
     "execution_count": 47,
     "metadata": {},
     "output_type": "execute_result"
    }
   ],
   "source": [
    "sub"
   ]
  },
  {
   "cell_type": "code",
   "execution_count": 45,
   "id": "10705ba0-0133-42ea-b5d6-e9e6a39346e1",
   "metadata": {},
   "outputs": [
    {
     "data": {
      "text/plain": [
       "RAWY\n",
       "182    95\n",
       "Name: count, dtype: int64"
      ]
     },
     "execution_count": 45,
     "metadata": {},
     "output_type": "execute_result"
    }
   ],
   "source": [
    "sub.to_pandas()['RAWY'].value_counts()"
   ]
  },
  {
   "cell_type": "code",
   "execution_count": 46,
   "id": "f586a13d-75a1-4cad-b1b9-3eb2f8958066",
   "metadata": {},
   "outputs": [
    {
     "data": {
      "text/plain": [
       "RAWX\n",
       "21    95\n",
       "Name: count, dtype: int64"
      ]
     },
     "execution_count": 46,
     "metadata": {},
     "output_type": "execute_result"
    }
   ],
   "source": [
    "sub.to_pandas()['RAWX'].value_counts()"
   ]
  },
  {
   "cell_type": "code",
   "execution_count": 40,
   "id": "39f1504a-3145-413f-aebf-56fc5be758ed",
   "metadata": {},
   "outputs": [
    {
     "data": {
      "text/plain": [
       "Text(0, 0.5, 'PI / 1000 (keV)')"
      ]
     },
     "execution_count": 40,
     "metadata": {},
     "output_type": "execute_result"
    },
    {
     "data": {
      "image/png": "[encoded data removed]",
      "text/plain": [
       "<Figure size 1500x500 with 1 Axes>"
      ]
     },
     "metadata": {},
     "output_type": "display_data"
    }
   ],
   "source": [
    "plt.figure(figsize=(15,5))\n",
    "plt.scatter(sub['TIME'], sub['PI']/1000, marker='.', s=10)\n",
    "plt.xlim(582092133, 582092100+60)\n",
    "plt.ylim(0.1,0.3)\n",
    "plt.xlabel('Time (s)')\n",
    "plt.ylabel('PI / 1000 (keV)')"
   ]
  },
  {
   "cell_type": "code",
   "execution_count": 209,
   "id": "f0ebc061-50ea-4c11-89bb-3784a79a8f37",
   "metadata": {},
   "outputs": [
    {
     "data": {
      "text/plain": [
       "Text(0, 0.5, 'PI / 1000 (keV)')"
      ]
     },
     "execution_count": 209,
     "metadata": {},
     "output_type": "execute_result"
    },
    {
     "data": {
      "image/png": "[encoded data removed]",
      "text/plain": [
       "<Figure size 350x262.5 with 1 Axes>"
      ]
     },
     "metadata": {},
     "output_type": "display_data"
    }
   ],
   "source": [
    "plt.figure()\n",
    "plt.step(sub['t0'], sub['PI']/1000)\n",
    "plt.xlim(89810,89860)\n",
    "plt.ylim(0.14,0.3)\n",
    "plt.xlabel('Time (s)')\n",
    "plt.ylabel('PI / 1000 (keV)')\n"
   ]
  },
  {
   "cell_type": "code",
   "execution_count": 184,
   "id": "8e542ff0-5228-472d-8df8-ad8e90bc4505",
   "metadata": {},
   "outputs": [
    {
     "data": {
      "image/png": "[encoded data removed]",
      "text/plain": [
       "<Figure size 350x262.5 with 2 Axes>"
      ]
     },
     "metadata": {},
     "output_type": "display_data"
    }
   ],
   "source": [
    "import numpy as np\n",
    "import matplotlib.pyplot as plt\n",
    "import matplotlib.gridspec as gridspec\n",
    "\n",
    "# Create a figure with GridSpec to handle two panels\n",
    "fig = plt.figure()\n",
    "gs = gridspec.GridSpec(1, 2, width_ratios=[2.5, 1], wspace=0.0)\n",
    "\n",
    "ax0 = fig.add_subplot(gs[0])\n",
    "ax0.scatter(sub['t0'], sub['PI'] / 1000, marker='.', s=10, label='XMM PN 0.2-12.0 keV\\nHydra A burst')\n",
    "ax0.set_xlim(89815, 89855)\n",
    "ax0.set_ylim(0.1, 0.3)\n",
    "ax0.set_xlabel('Time (s)')\n",
    "ax0.set_ylabel('Photon Energy (keV)')\n",
    "leg = ax0.legend(loc='upper right')\n",
    "leg.legend_handles[0].set_visible(False)\n",
    "\n",
    "ax1 = fig.add_subplot(gs[1], sharey=ax0)\n",
    "ax1.hist(sub['PI'] / 1000, bins=np.linspace(0.1, 0.3, 20), orientation='horizontal', histtype='step')\n",
    "ax1.set_ylim(0.1, 0.3)\n",
    "ax1.set_xlabel('Count')\n",
    "ax1.yaxis.set_ticks_position(\"right\")\n",
    "plt.savefig('../../data/plots/hydra_A_spec_lc.png')\n",
    "plt.savefig('../../data/plots/hydra_A_spec_lc.pdf')\n",
    "\n",
    "plt.show()\n"
   ]
  },
  {
   "cell_type": "code",
   "execution_count": 121,
   "id": "8279c94c-df1a-4ed5-83c4-54d498a51480",
   "metadata": {},
   "outputs": [
    {
     "name": "stdout",
     "output_type": "stream",
     "text": [
      "       TIME       RAWX RAWY ... CCDNR      TIME_RAW             t0        \n",
      "        s         pix  pix  ...               s                 s         \n",
      "----------------- ---- ---- ... ----- ----------------- ------------------\n",
      "704173298.3822162   21  182 ...     1 704173298.4574909                0.0\n",
      "704173588.9237885   21  182 ...     1 704173588.8824484  290.5415723323822\n",
      "704173996.8256985   21  180 ...     1 704173996.8318961  698.4434822797775\n",
      " 704174339.721331   21  180 ...     1  704174339.644863 1041.3391147851944\n",
      " 704174519.133322   21  182 ...     1  704174519.118729 1220.7511057853699\n",
      "  704175063.82195   21  181 ...     1 704175063.9144958 1765.4397337436676\n",
      "704175112.0772047   21  180 ...     1 704175112.1194637  1813.694988489151\n",
      "704175250.8726841   21  182 ...     1 704175250.9577171 1952.4904679059982\n",
      "704175602.3857412   21  180 ...     1 704175602.3360579  2304.003525018692\n",
      "              ...  ...  ... ...   ...               ...                ...\n",
      "704282602.1861234   21  181 ...     1 704282602.1099864 109303.80390715599\n",
      "704282716.6999999   20  181 ...     1 704282716.6467285 109418.31778371334\n",
      " 704282732.965813   20  181 ...     1 704282732.9806663  109434.5835968256\n",
      "704282863.9983613   21  182 ...     1 704282864.0505369 109565.61614513397\n",
      "704282932.8400131   20  180 ...     1 704282932.7725657 109634.45779693127\n",
      "704282953.8382277   21  181 ...     1 704282953.8871585 109655.45601153374\n",
      "704282989.2487519   22  180 ...     1 704282989.3437546  109690.8665356636\n",
      "704282991.5705618   21  181 ...     1 704282991.5349003 109693.18834555149\n",
      "704283211.4872192   21  181 ...     1 704283211.4454356  109913.1050029993\n",
      "  704283270.52429   20  181 ...     1 704283270.6061339  109972.1420737505\n",
      "Length = 491 rows\n"
     ]
    }
   ],
   "source": [
    "print(sub)"
   ]
  },
  {
   "cell_type": "code",
   "execution_count": 118,
   "id": "b4e3eb16-e012-4d16-b376-7a03979f5904",
   "metadata": {},
   "outputs": [
    {
     "data": {
      "text/plain": [
       "Text(0, 0.5, 'PI / 1000 (keV)')"
      ]
     },
     "execution_count": 118,
     "metadata": {},
     "output_type": "execute_result"
    },
    {
     "data": {
      "image/png": "[encoded data removed]",
      "text/plain": [
       "<Figure size 350x262.5 with 1 Axes>"
      ]
     },
     "metadata": {},
     "output_type": "display_data"
    }
   ],
   "source": [
    "xpos = 22933.122\n",
    "ypos = 26315.909\n",
    "size = 100\n",
    "xmax = xpos + size\n",
    "xmin = xpos - size\n",
    "ymax = ypos + size\n",
    "ymin = ypos - size\n",
    "\n",
    "sub = evt[(evt['X'] > xmin) & (evt['X'] < xmax) & (evt['Y'] > ymin) & (evt['Y'] < ymax)]\n",
    "sub['t0'] = sub['TIME'] - min(sub['TIME'])\n",
    "plt.figure()\n",
    "plt.scatter(sub['t0'], sub['RAWX'], marker='.', s=10)\n",
    "plt.xlim(89815,89856)\n",
    "#plt.ylim(181,183)\n",
    "plt.xlabel('Time (s)')\n",
    "plt.ylabel('PI / 1000 (keV)')\n"
   ]
  },
  {
   "cell_type": "code",
   "execution_count": 119,
   "id": "d1f7cdf1-4fd0-47e0-b47e-28c326d0886b",
   "metadata": {},
   "outputs": [
    {
     "data": {
      "text/plain": [
       "41"
      ]
     },
     "execution_count": 119,
     "metadata": {},
     "output_type": "execute_result"
    }
   ],
   "source": [
    "89856 - 89815"
   ]
  },
  {
   "cell_type": "code",
   "execution_count": 120,
   "id": "0e7f1db2-567e-42ff-8cfc-cd038293349c",
   "metadata": {},
   "outputs": [
    {
     "name": "stdout",
     "output_type": "stream",
     "text": [
      "491\n"
     ]
    },
    {
     "data": {
      "text/plain": [
       "Text(0, 0.5, 'PI / 1000 (keV)')"
      ]
     },
     "execution_count": 120,
     "metadata": {},
     "output_type": "execute_result"
    },
    {
     "data": {
      "image/png": "[encoded data removed]",
      "text/plain": [
       "<Figure size 350x262.5 with 1 Axes>"
      ]
     },
     "metadata": {},
     "output_type": "display_data"
    }
   ],
   "source": [
    "xpos = 22933.122\n",
    "ypos = 26315.909\n",
    "size = 100\n",
    "xmax = xpos + size\n",
    "xmin = xpos - size\n",
    "ymax = ypos + size\n",
    "ymin = ypos - size\n",
    "\n",
    "sub = evt[(evt['X'] > xmin) & (evt['X'] < xmax) & (evt['Y'] > ymin) & (evt['Y'] < ymax)]\n",
    "sub['t0'] = sub['TIME'] - min(sub['TIME'])\n",
    "print(len(sub))\n",
    "plt.figure()\n",
    "plt.scatter(sub['t0'], sub['RAWY'], marker='.', s=10)\n",
    "plt.xlim(89810,89860)\n",
    "plt.ylim(181,183)\n",
    "plt.xlabel('Time (s)')\n",
    "plt.ylabel('PI / 1000 (keV)')\n"
   ]
  },
  {
   "cell_type": "code",
   "execution_count": 50,
   "id": "7a06605b-3887-4f51-92fc-7ee07f782e1a",
   "metadata": {},
   "outputs": [
    {
     "name": "stderr",
     "output_type": "stream",
     "text": [
      "WARNING: hdu= was not specified but multiple tables are present, reading in first available table (hdu=1) [astropy.io.fits.connect]\n",
      "WARNING: UnitsWarning: 'fraction' did not parse as fits unit: At col 0, Unit 'fraction' not supported by the FITS standard.  If this is meant to be a custom unit, define it with 'u.def_unit'. To have it recognized inside a file reader or other code, enable it with 'u.add_enabled_units'. For details, see https://docs.astropy.org/en/latest/units/combining_and_defining.html [astropy.units.core]\n"
     ]
    },
    {
     "data": {
      "text/html": [
       "<div><i>Table length=110467</i>\n",
       "<table id=\"table140166521427136\" class=\"table-striped table-bordered table-condensed\">\n",
       "<thead><tr><th>TIME</th><th>RATE</th><th>ERROR</th><th>FRACEXP</th><th>BACKV</th><th>BACKE</th><th>t0</th></tr></thead>\n",
       "<thead><tr><th>s</th><th>ct / s</th><th>ct / s</th><th>fraction</th><th>ct / s</th><th>ct / s</th><th>s</th></tr></thead>\n",
       "<thead><tr><th>float64</th><th>float32</th><th>float32</th><th>float32</th><th>float32</th><th>float32</th><th>float64</th></tr></thead>\n",
       "<tr><td>704172823.232283</td><td>0.0</td><td>0.0</td><td>0.6467242</td><td>0.0</td><td>0.0</td><td>0.0</td></tr>\n",
       "<tr><td>704172824.232283</td><td>0.0</td><td>0.0</td><td>0.7451414</td><td>0.0</td><td>0.0</td><td>1.0</td></tr>\n",
       "<tr><td>704172825.232283</td><td>0.0</td><td>0.0</td><td>0.7451619</td><td>0.0</td><td>0.0</td><td>2.0</td></tr>\n",
       "<tr><td>704172826.232283</td><td>0.0</td><td>0.0</td><td>0.7451209</td><td>0.0</td><td>0.0</td><td>3.0</td></tr>\n",
       "<tr><td>704172827.232283</td><td>0.0</td><td>0.0</td><td>0.75514686</td><td>0.0</td><td>0.0</td><td>4.0</td></tr>\n",
       "<tr><td>704172828.232283</td><td>0.0</td><td>0.0</td><td>0.7618035</td><td>0.0</td><td>0.0</td><td>5.0</td></tr>\n",
       "<tr><td>704172829.232283</td><td>0.0</td><td>0.0</td><td>0.7617626</td><td>0.0</td><td>0.0</td><td>6.0</td></tr>\n",
       "<tr><td>704172830.232283</td><td>0.0</td><td>0.0</td><td>0.7618035</td><td>0.0</td><td>0.0</td><td>7.0</td></tr>\n",
       "<tr><td>704172831.232283</td><td>0.0</td><td>0.0</td><td>0.8249761</td><td>0.0</td><td>0.0</td><td>8.0</td></tr>\n",
       "<tr><td>...</td><td>...</td><td>...</td><td>...</td><td>...</td><td>...</td><td>...</td></tr>\n",
       "<tr><td>704283281.232283</td><td>0.0</td><td>0.0</td><td>0.7905071</td><td>0.0</td><td>0.0</td><td>110458.0</td></tr>\n",
       "<tr><td>704283282.232283</td><td>0.0</td><td>0.0</td><td>0.7905276</td><td>0.0</td><td>0.0</td><td>110459.0</td></tr>\n",
       "<tr><td>704283283.232283</td><td>0.0</td><td>0.0</td><td>0.7905071</td><td>0.0</td><td>0.0</td><td>110460.0</td></tr>\n",
       "<tr><td>704283284.232283</td><td>0.0</td><td>0.0</td><td>0.7913177</td><td>0.0</td><td>0.0</td><td>110461.0</td></tr>\n",
       "<tr><td>704283285.232283</td><td>-2.0890923</td><td>2.0890923</td><td>0.8201425</td><td>1.0197469</td><td>1.0197469</td><td>110462.0</td></tr>\n",
       "<tr><td>704283286.232283</td><td>0.0</td><td>0.0</td><td>0.820163</td><td>0.0</td><td>0.0</td><td>110463.0</td></tr>\n",
       "<tr><td>704283287.232283</td><td>0.0</td><td>0.0</td><td>0.8201425</td><td>0.0</td><td>0.0</td><td>110464.0</td></tr>\n",
       "<tr><td>704283288.232283</td><td>0.0</td><td>0.0</td><td>0.8201425</td><td>0.0</td><td>0.0</td><td>110465.0</td></tr>\n",
       "<tr><td>704283289.232283</td><td>0.0</td><td>0.0</td><td>0.06416154</td><td>0.0</td><td>0.0</td><td>110466.0</td></tr>\n",
       "</table></div>"
      ],
      "text/plain": [
       "<Table length=110467>\n",
       "      TIME          RATE      ERROR    FRACEXP     BACKV     BACKE      t0   \n",
       "       s           ct / s     ct / s   fraction    ct / s    ct / s     s    \n",
       "    float64       float32    float32   float32    float32   float32  float64 \n",
       "---------------- ---------- --------- ---------- --------- --------- --------\n",
       "704172823.232283        0.0       0.0  0.6467242       0.0       0.0      0.0\n",
       "704172824.232283        0.0       0.0  0.7451414       0.0       0.0      1.0\n",
       "704172825.232283        0.0       0.0  0.7451619       0.0       0.0      2.0\n",
       "704172826.232283        0.0       0.0  0.7451209       0.0       0.0      3.0\n",
       "704172827.232283        0.0       0.0 0.75514686       0.0       0.0      4.0\n",
       "704172828.232283        0.0       0.0  0.7618035       0.0       0.0      5.0\n",
       "704172829.232283        0.0       0.0  0.7617626       0.0       0.0      6.0\n",
       "704172830.232283        0.0       0.0  0.7618035       0.0       0.0      7.0\n",
       "704172831.232283        0.0       0.0  0.8249761       0.0       0.0      8.0\n",
       "             ...        ...       ...        ...       ...       ...      ...\n",
       "704283281.232283        0.0       0.0  0.7905071       0.0       0.0 110458.0\n",
       "704283282.232283        0.0       0.0  0.7905276       0.0       0.0 110459.0\n",
       "704283283.232283        0.0       0.0  0.7905071       0.0       0.0 110460.0\n",
       "704283284.232283        0.0       0.0  0.7913177       0.0       0.0 110461.0\n",
       "704283285.232283 -2.0890923 2.0890923  0.8201425 1.0197469 1.0197469 110462.0\n",
       "704283286.232283        0.0       0.0   0.820163       0.0       0.0 110463.0\n",
       "704283287.232283        0.0       0.0  0.8201425       0.0       0.0 110464.0\n",
       "704283288.232283        0.0       0.0  0.8201425       0.0       0.0 110465.0\n",
       "704283289.232283        0.0       0.0 0.06416154       0.0       0.0 110466.0"
      ]
     },
     "execution_count": 50,
     "metadata": {},
     "output_type": "execute_result"
    }
   ],
   "source": [
    "tab_lc = Table.read('0843890301_PN0_dt1.lc')\n",
    "tab_lc['t0'] = tab_lc['TIME'] - min(tab_lc['TIME'])\n",
    "tab_lc"
   ]
  },
  {
   "cell_type": "code",
   "execution_count": 38,
   "id": "d715dc83-6e5d-4107-a27f-241207bbdd7e",
   "metadata": {},
   "outputs": [
    {
     "data": {
      "text/plain": [
       "<matplotlib.legend.Legend at 0x7f7b0f7acb00>"
      ]
     },
     "execution_count": 38,
     "metadata": {},
     "output_type": "execute_result"
    },
    {
     "data": {
      "image/png": "[encoded data removed]",
      "text/plain": [
       "<Figure size 350x262.5 with 1 Axes>"
      ]
     },
     "metadata": {},
     "output_type": "display_data"
    }
   ],
   "source": [
    "sub = tab_lc[(tab_lc['t0'] > 90280) & (tab_lc['t0'] < 90350)]\n",
    "#plt.step(sub['t0'], sub['RATE'], color='black')\n",
    "plt.errorbar(sub['t0'], sub['RATE'], yerr=sub['ERROR'], ls='none', color='black', capsize=1.0, label='Hydra A Burst')\n",
    "plt.errorbar(sub['t0'], sub['BACKV'], yerr=sub['BACKE'], ls='none', color='red', label='Background')\n",
    "plt.ylim(0,15)\n",
    "#plt.xlim(90200,90400)\n",
    "plt.legend()"
   ]
  },
  {
   "cell_type": "code",
   "execution_count": null,
   "id": "02825fb1-3c82-477e-b823-8dd459e8a149",
   "metadata": {},
   "outputs": [],
   "source": []
  },
  {
   "cell_type": "code",
   "execution_count": null,
   "id": "b1542ff8-3d46-4943-bcc8-1117d499617a",
   "metadata": {},
   "outputs": [],
   "source": []
  },
  {
   "cell_type": "code",
   "execution_count": 33,
   "id": "b1e0acaf-14e6-4793-a364-a4190753f67e",
   "metadata": {},
   "outputs": [
    {
     "data": {
      "text/html": [
       "<div><i>Table length=40</i>\n",
       "<table id=\"table139797378261952\" class=\"table-striped table-bordered table-condensed\">\n",
       "<thead><tr><th>TIME</th><th>RAWX</th><th>RAWY</th><th>DETX</th><th>DETY</th><th>X</th><th>Y</th><th>PHA</th><th>PI</th><th>FLAG</th><th>PATTERN</th><th>PAT_ID</th><th>PAT_SEQ</th><th>CCDNR</th><th>TIME_RAW</th><th>t0</th></tr></thead>\n",
       "<thead><tr><th>s</th><th>pix</th><th>pix</th><th>0.05 arcsec</th><th>0.05 arcsec</th><th>0.05 arcsec</th><th>0.05 arcsec</th><th>channel</th><th>eV</th><th></th><th></th><th></th><th></th><th></th><th>s</th><th>s</th></tr></thead>\n",
       "<thead><tr><th>float64</th><th>int16</th><th>int16</th><th>int16</th><th>int16</th><th>int32</th><th>int32</th><th>int16</th><th>int16</th><th>int32</th><th>uint8</th><th>int16</th><th>uint8</th><th>uint8</th><th>float64</th><th>float64</th></tr></thead>\n",
       "<tr><td>704263116.2505789</td><td>21</td><td>182</td><td>-3983</td><td>437</td><td>22877</td><td>26415</td><td>37</td><td>206</td><td>0</td><td>0</td><td>0</td><td>0</td><td>1</td><td>704263116.3250495</td><td>89527.3267903328</td></tr>\n",
       "<tr><td>704263116.4301655</td><td>21</td><td>182</td><td>-3918</td><td>454</td><td>22944</td><td>26410</td><td>50</td><td>274</td><td>0</td><td>0</td><td>0</td><td>0</td><td>1</td><td>704263116.5242225</td><td>89527.50637698174</td></tr>\n",
       "<tr><td>704263118.9160355</td><td>21</td><td>182</td><td>-3994</td><td>448</td><td>22868</td><td>26402</td><td>37</td><td>202</td><td>0</td><td>0</td><td>0</td><td>0</td><td>1</td><td>704263118.914559</td><td>89529.99224698544</td></tr>\n",
       "<tr><td>704263119.7135804</td><td>21</td><td>182</td><td>-3922</td><td>490</td><td>22947</td><td>26374</td><td>47</td><td>261</td><td>0</td><td>0</td><td>0</td><td>0</td><td>1</td><td>704263119.711325</td><td>89530.78979182243</td></tr>\n",
       "<tr><td>704263121.134458</td><td>21</td><td>182</td><td>-3936</td><td>505</td><td>22936</td><td>26357</td><td>40</td><td>221</td><td>0</td><td>0</td><td>0</td><td>0</td><td>1</td><td>704263121.1057045</td><td>89532.21066939831</td></tr>\n",
       "<tr><td>704263121.2332034</td><td>21</td><td>182</td><td>-3984</td><td>502</td><td>22888</td><td>26351</td><td>38</td><td>207</td><td>0</td><td>0</td><td>0</td><td>0</td><td>1</td><td>704263121.3048954</td><td>89532.30941486359</td></tr>\n",
       "<tr><td>704263121.6657883</td><td>21</td><td>182</td><td>-3927</td><td>460</td><td>22936</td><td>26403</td><td>41</td><td>223</td><td>0</td><td>0</td><td>0</td><td>0</td><td>1</td><td>704263121.7032797</td><td>89532.74199974537</td></tr>\n",
       "<tr><td>704263122.9499079</td><td>21</td><td>182</td><td>-3990</td><td>442</td><td>22871</td><td>26409</td><td>44</td><td>245</td><td>0</td><td>0</td><td>0</td><td>0</td><td>1</td><td>704263122.898448</td><td>89534.02611935139</td></tr>\n",
       "<tr><td>704263123.4943091</td><td>21</td><td>182</td><td>-3985</td><td>476</td><td>22882</td><td>26376</td><td>38</td><td>207</td><td>0</td><td>0</td><td>0</td><td>0</td><td>1</td><td>704263123.4960232</td><td>89534.57052052021</td></tr>\n",
       "<tr><td>...</td><td>...</td><td>...</td><td>...</td><td>...</td><td>...</td><td>...</td><td>...</td><td>...</td><td>...</td><td>...</td><td>...</td><td>...</td><td>...</td><td>...</td><td>...</td></tr>\n",
       "<tr><td>704263284.7025553</td><td>21</td><td>180</td><td>-3928</td><td>618</td><td>22964</td><td>26247</td><td>170</td><td>939</td><td>0</td><td>0</td><td>0</td><td>0</td><td>1</td><td>704263284.6442212</td><td>89695.77876675129</td></tr>\n",
       "<tr><td>704263958.1375443</td><td>22</td><td>181</td><td>-4044</td><td>553</td><td>22838</td><td>26290</td><td>133</td><td>743</td><td>0</td><td>0</td><td>0</td><td>0</td><td>1</td><td>704263958.1201525</td><td>90369.21375572681</td></tr>\n",
       "<tr><td>704264280.5330846</td><td>21</td><td>182</td><td>-3926</td><td>460</td><td>22937</td><td>26403</td><td>266</td><td>1461</td><td>0</td><td>0</td><td>0</td><td>0</td><td>1</td><td>704264280.6157216</td><td>90691.60929608345</td></tr>\n",
       "<tr><td>704264455.442963</td><td>20</td><td>181</td><td>-3854</td><td>517</td><td>23018</td><td>26360</td><td>264</td><td>1857</td><td>16</td><td>1</td><td>5122</td><td>0</td><td>1</td><td>704264455.50833</td><td>90866.5191744566</td></tr>\n",
       "<tr><td>704264735.5165545</td><td>20</td><td>181</td><td>-3881</td><td>568</td><td>23001</td><td>26305</td><td>109</td><td>608</td><td>16</td><td>0</td><td>0</td><td>0</td><td>1</td><td>704264735.5754998</td><td>91146.59276592731</td></tr>\n",
       "<tr><td>704265025.0520228</td><td>20</td><td>180</td><td>-3886</td><td>634</td><td>23008</td><td>26239</td><td>579</td><td>3462</td><td>16</td><td>3</td><td>5121</td><td>1</td><td>1</td><td>704265025.0048476</td><td>91436.12823426723</td></tr>\n",
       "<tr><td>704265237.9063437</td><td>21</td><td>180</td><td>-3914</td><td>597</td><td>22974</td><td>26270</td><td>43</td><td>235</td><td>0</td><td>0</td><td>0</td><td>0</td><td>1</td><td>704265237.9435412</td><td>91648.98255515099</td></tr>\n",
       "<tr><td>704265273.3676727</td><td>21</td><td>181</td><td>-3914</td><td>547</td><td>22965</td><td>26320</td><td>194</td><td>1070</td><td>0</td><td>0</td><td>0</td><td>0</td><td>1</td><td>704265273.4001399</td><td>91684.44388413429</td></tr>\n",
       "<tr><td>704265423.6275069</td><td>22</td><td>181</td><td>-4008</td><td>580</td><td>22879</td><td>26270</td><td>108</td><td>604</td><td>0</td><td>0</td><td>0</td><td>0</td><td>1</td><td>704265423.5926279</td><td>91834.70371830463</td></tr>\n",
       "</table></div>"
      ],
      "text/plain": [
       "<Table length=40>\n",
       "       TIME        RAWX  RAWY ... CCDNR      TIME_RAW             t0       \n",
       "        s          pix   pix  ...               s                 s        \n",
       "     float64      int16 int16 ... uint8      float64           float64     \n",
       "----------------- ----- ----- ... ----- ----------------- -----------------\n",
       "704263116.2505789    21   182 ...     1 704263116.3250495  89527.3267903328\n",
       "704263116.4301655    21   182 ...     1 704263116.5242225 89527.50637698174\n",
       "704263118.9160355    21   182 ...     1  704263118.914559 89529.99224698544\n",
       "704263119.7135804    21   182 ...     1  704263119.711325 89530.78979182243\n",
       " 704263121.134458    21   182 ...     1 704263121.1057045 89532.21066939831\n",
       "704263121.2332034    21   182 ...     1 704263121.3048954 89532.30941486359\n",
       "704263121.6657883    21   182 ...     1 704263121.7032797 89532.74199974537\n",
       "704263122.9499079    21   182 ...     1  704263122.898448 89534.02611935139\n",
       "704263123.4943091    21   182 ...     1 704263123.4960232 89534.57052052021\n",
       "              ...   ...   ... ...   ...               ...               ...\n",
       "704263284.7025553    21   180 ...     1 704263284.6442212 89695.77876675129\n",
       "704263958.1375443    22   181 ...     1 704263958.1201525 90369.21375572681\n",
       "704264280.5330846    21   182 ...     1 704264280.6157216 90691.60929608345\n",
       " 704264455.442963    20   181 ...     1   704264455.50833  90866.5191744566\n",
       "704264735.5165545    20   181 ...     1 704264735.5754998 91146.59276592731\n",
       "704265025.0520228    20   180 ...     1 704265025.0048476 91436.12823426723\n",
       "704265237.9063437    21   180 ...     1 704265237.9435412 91648.98255515099\n",
       "704265273.3676727    21   181 ...     1 704265273.4001399 91684.44388413429\n",
       "704265423.6275069    22   181 ...     1 704265423.5926279 91834.70371830463"
      ]
     },
     "execution_count": 33,
     "metadata": {},
     "output_type": "execute_result"
    }
   ],
   "source": [
    "evt = Table.read('pnfiltered.ds')\n",
    "sub = evt[(evt['X'] > xmin) & (evt['X'] < xmax) & (evt['Y'] > ymin) & (evt['Y'] < ymax)]\n",
    "sub['t0'] = sub['TIME'] - min(sub['TIME'])\n",
    "sub = sub[(sub['t0'] > 89310) & (sub['t0'] < 92000)]\n",
    "sub"
   ]
  },
  {
   "cell_type": "code",
   "execution_count": 34,
   "id": "f6644475-b9f4-4470-b8b5-090b72d28b0c",
   "metadata": {},
   "outputs": [
    {
     "data": {
      "text/plain": [
       "<matplotlib.collections.PathCollection at 0x7f2543789d90>"
      ]
     },
     "execution_count": 34,
     "metadata": {},
     "output_type": "execute_result"
    },
    {
     "data": {
      "image/png": "[encoded data removed]",
      "text/plain": [
       "<Figure size 1000x1000 with 1 Axes>"
      ]
     },
     "metadata": {},
     "output_type": "display_data"
    }
   ],
   "source": [
    "plt.figure(figsize=(10,10))\n",
    "plt.scatter(sub['t0'], sub['PI']/1000)"
   ]
  },
  {
   "cell_type": "code",
   "execution_count": null,
   "id": "acaa752e-715b-4399-b9ca-8736392e5ba1",
   "metadata": {},
   "outputs": [],
   "source": []
  }
 ],
 "metadata": {
  "kernelspec": {
   "display_name": "Python 3 (ipykernel)",
   "language": "python",
   "name": "python3"
  },
  "language_info": {
   "codemirror_mode": {
    "name": "ipython",
    "version": 3
   },
   "file_extension": ".py",
   "mimetype": "text/x-python",
   "name": "python",
   "nbconvert_exporter": "python",
   "pygments_lexer": "ipython3",
   "version": "3.12.0"
  }
 },
 "nbformat": 4,
 "nbformat_minor": 5
}
