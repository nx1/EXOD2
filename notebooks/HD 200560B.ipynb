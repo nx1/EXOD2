{
 "cells": [
  {
   "cell_type": "code",
   "execution_count": 234,
   "id": "c4e15fab-4282-4384-a87d-13b7e8e5fcbc",
   "metadata": {},
   "outputs": [],
   "source": [
    "from xspec import *\n",
    "\n",
    "from astropy.table import Table\n",
    "import matplotlib.pyplot as plt\n",
    "import scienceplots\n",
    "plt.style.use('science')"
   ]
  },
  {
   "cell_type": "code",
   "execution_count": 2,
   "id": "55fcf3db-dd92-46d7-915c-97ab1a79c5f7",
   "metadata": {},
   "outputs": [
    {
     "name": "stdout",
     "output_type": "stream",
     "text": [
      "/home/nkhan/EXOD2/notebooks/HD_200560B/0671930101/pps\n"
     ]
    },
    {
     "name": "stderr",
     "output_type": "stream",
     "text": [
      "/home/nkhan/EXOD2/venv/lib/python3.12/site-packages/IPython/core/magics/osm.py:417: UserWarning: using dhist requires you to install the `pickleshare` library.\n",
      "  self.shell.db['dhist'] = compress_dhist(dhist)[-100:]\n"
     ]
    }
   ],
   "source": [
    "cd HD_200560B/0671930101/pps/"
   ]
  },
  {
   "cell_type": "code",
   "execution_count": 3,
   "id": "7630f3a3-9315-4a58-a0c1-e3e1b9d799e3",
   "metadata": {},
   "outputs": [
    {
     "name": "stdout",
     "output_type": "stream",
     "text": [
      "Warning: RMF FILTER keyword (Medium) is not consistent with that in spectrum (Thin1)\n",
      "\n",
      "1 spectrum  in use\n",
      " \n",
      "Spectral Data File: P0671930101PNS003SRSPEC0001.FTZ  Spectrum 1\n",
      "Net count rate (cts/s) for Spectrum:1  4.822e-01 +/- 2.390e-03 (86.9 % total)\n",
      " Assigned to Data Group 1 and Plot Group 1\n",
      "  Noticed Channels:  1-168\n",
      "  Telescope: XMM Instrument: EPN  Channel Type: PI\n",
      "  Exposure Time: 1.06e+05 sec\n",
      " Using fit statistic: chi\n",
      " Using Background File                P0671930101PNS003BGSPEC0001.FTZ\n",
      "  Background Exposure Time: 1.06e+05 sec\n",
      " Using Response (RMF) File            epn_e3_ff20_sdY8.rmf for Source 1\n",
      " Using Auxiliary Response (ARF) File  P0671930101PNS003SRCARF0001.FTZ\n",
      "\n",
      "Warning: RMF FILTER keyword (Medium) is not consistent with that in spectrum (Thin1)\n",
      "Response successfully loaded.\n",
      "Spectrum 1  Spectral Data File: P0671930101PNS003SRSPEC0001.FTZ\n",
      "Net count rate (cts/s) for Spectrum:1  4.822e-01 +/- 2.390e-03 (86.9 % total)\n",
      " Assigned to Data Group 1 and Plot Group 1\n",
      "  Noticed Channels:  1-168\n",
      "  Telescope: XMM Instrument: EPN  Channel Type: PI\n",
      "  Exposure Time: 1.06e+05 sec\n",
      " Using fit statistic: chi\n",
      " Using Background File                P0671930101PNS003BGSPEC0001.FTZ\n",
      "  Background Exposure Time: 1.06e+05 sec\n",
      " Using Response (RMF) File            epn_e3_ff20_sdY8.rmf for Source 1\n",
      "\n",
      " Spectral data counts: 58798\n",
      " Model predicted rate: 0.0\n",
      "\n",
      "     5 channels (1-5) ignored in spectrum #     1\n",
      "\n",
      "    16 channels (153-168) ignored in spectrum #     1\n",
      "\n"
     ]
    }
   ],
   "source": [
    "f = \"P0671930101PNS003SRSPEC0001.FTZ\"\n",
    "r = \"epn_e3_ff20_sdY8.rmf\"\n",
    "s = Spectrum(f, respFile=r)\n",
    "Plot.xAxis = 'keV'\n",
    "s.ignore(\"0.0-0.5\")\n",
    "s.ignore(\"10.0-**\")"
   ]
  },
  {
   "cell_type": "code",
   "execution_count": 22,
   "id": "2faf2d16-1551-4209-8f83-5c485d57453a",
   "metadata": {},
   "outputs": [
    {
     "name": "stdout",
     "output_type": "stream",
     "text": [
      "\n",
      "========================================================================\n",
      "Model TBabs<1>*diskbb<2> Source No.: 1   Active/On\n",
      "Model Model Component  Parameter  Unit     Value\n",
      " par  comp\n",
      "   1    1   TBabs      nH         10^22    1.00000      +/-  0.0          \n",
      "   2    2   diskbb     Tin        keV      1.00000      +/-  0.0          \n",
      "   3    2   diskbb     norm                1.00000      +/-  0.0          \n",
      "________________________________________________________________________\n",
      "\n",
      "\n",
      "Fit statistic  : Chi-Squared                37804.83     using 147 bins.\n",
      "\n",
      "Test statistic : Chi-Squared                37804.83     using 147 bins.\n",
      " Null hypothesis probability of 0.00e+00 with 144 degrees of freedom\n",
      " Current data and model not fit yet.\n",
      "                                   Parameters\n",
      "Chi-Squared  |beta|/N    Lvl          1:nH         2:Tin        3:norm\n",
      "32214.7      967.644      -3     0.0343786       2.11888       2.97138\n",
      "26900.1      9566.65      -4    0.00874156       1.59568       3.18555\n",
      "25709        5179.66       0    0.00373020       1.59594       3.70904\n",
      "25185.2      5758.89       0    0.00169742       1.57783       4.07839\n",
      "24844.8      6028.26       0   0.000768159       1.55503       4.41139\n",
      "24569.3      6200.24       0   0.000327680       1.53098       4.74314\n",
      "24318.5      6335.27       0   0.000116023       1.50681       5.08729\n",
      "24077        6455.48       0   1.37546e-05       1.48290       5.45010\n",
      "23839.7      6569.65       0   1.37233e-06       1.45941       5.83497\n",
      "23602.1      6680.49       0   6.21771e-07       1.43640       6.24402\n",
      "Number of trials exceeded: continue fitting? 23362.9      6790.74       0   2.57689e-07       1.41387       6.67926\n",
      "23121.7      6901.1        0   8.10759e-08       1.39184       7.14242\n",
      "22878.5      7011.68       0   3.82410e-08       1.37030       7.63516\n",
      "22633.4      7122.44       0   1.74647e-08       1.34925       8.15912\n",
      "22386.3      7233.29       0   7.38836e-09       1.32866       8.71602\n",
      "22137.4      7344.12       0   2.50175e-09       1.30854       9.30762\n",
      "21886.8      7454.83       0   1.32146e-10       1.28886       9.93575\n",
      "21634.6      7565.28       0   6.03341e-11       1.26963       10.6023\n",
      "21380.9      7675.38       0   2.55164e-11       1.25084       11.3092\n",
      "21125.9      7784.94       0   8.63613e-12       1.23246       12.0585\n",
      "Number of trials exceeded: continue fitting? 20869.6      7893.96       0   4.52753e-13       1.21450       12.8522\n",
      "20612.2      8003.06       0   2.04844e-13       1.19695       13.6924\n",
      "20354.2      8109.08       0   8.46648e-14       1.17978       14.5811\n",
      "20097.4      8209.13       0   2.64277e-14       1.16292       15.5185\n",
      "19834.4      8328.36       0   1.22747e-14       1.14663       16.5157\n",
      "19608.4      8409.18       0   5.47340e-15       1.12967       17.5158\n",
      "19359.1      8610.82       0   2.18265e-15       1.11359       18.6076\n",
      "19030.9      8480.68       0   5.49954e-16       1.09966       19.8915\n",
      "18768.5      9857.07       0   1.59592e-16       1.08544       21.0998\n",
      "18453.8      8166.58       0   7.00371e-17       1.07113       22.5381\n",
      "Number of trials exceeded: continue fitting? 17133.1      7035.22      -1   2.45162e-17      0.924966       36.3355\n",
      "14604.2      10160.3      -1   8.25897e-18      0.813604       63.7592\n",
      "11710.8      25888.8      -1   3.87948e-18      0.734227       107.770\n",
      "9133.33      6346.54      -1   1.01441e-18      0.666541       176.229\n",
      "***Warning: Zero alpha-matrix diagonal element for parameter 1\n",
      " Parameter 1 is pegged at 1.01441e-18 due to zero or negative pivot element, likely\n",
      " caused by the fit being insensitive to the parameter.\n",
      "7274.8       8394.55      -1   1.01441e-18      0.615483       262.511\n",
      "6023.86      6461.43      -1   1.01441e-18      0.576592       360.088\n",
      "5186.01      4549.32      -1   1.01441e-18      0.546396       463.723\n",
      "4624.34      2964.87      -1   1.01441e-18      0.522677       568.556\n",
      "4247.99      1759.43      -1   1.01441e-18      0.503896       670.459\n",
      "Number of trials exceeded: continue fitting? 4164.7       898.789      -2   1.01441e-18      0.443621       1011.99\n",
      "3545.4       17300.5      -3   1.01441e-18      0.424770       1342.26\n",
      "3496.85      6045.2       -4   1.01441e-18      0.427698       1356.64\n",
      "3496.83      108.509      -5   1.01441e-18      0.427409       1359.60\n",
      "3496.83      1.77827      -6   1.01441e-18      0.427427       1359.36\n",
      "***Warning: Zero alpha-matrix diagonal element for parameter 1\n",
      " Parameter 1 is pegged at 1.01441e-18 due to zero or negative pivot element, likely\n",
      " caused by the fit being insensitive to the parameter.\n",
      "3496.83      0.0651432    -1   1.01441e-18      0.427427       1359.37\n",
      "==============================\n",
      " Variances and Principal Axes\n",
      "                 2        3  \n",
      " 3.1169E-07|  1.0000   0.0001  \n",
      " 1.2387E+03| -0.0001   1.0000  \n",
      "------------------------------\n",
      "\n",
      "========================\n",
      "  Covariance Matrix\n",
      "        1           2   \n",
      "   7.232e-06  -9.258e-02\n",
      "  -9.258e-02   1.239e+03\n",
      "------------------------\n",
      "\n",
      "========================================================================\n",
      "Model TBabs<1>*diskbb<2> Source No.: 1   Active/On\n",
      "Model Model Component  Parameter  Unit     Value\n",
      " par  comp\n",
      "   1    1   TBabs      nH         10^22    1.01441E-18  +/-  -1.00000     \n",
      "   2    2   diskbb     Tin        keV      0.427427     +/-  2.68917E-03  \n",
      "   3    2   diskbb     norm                1359.37      +/-  35.1956      \n",
      "________________________________________________________________________\n",
      "\n",
      "\n",
      "Fit statistic  : Chi-Squared                 3496.83     using 147 bins.\n",
      "\n",
      "Test statistic : Chi-Squared                 3496.83     using 147 bins.\n",
      " Null hypothesis probability of 0.00e+00 with 144 degrees of freedom\n"
     ]
    },
    {
     "data": {
      "image/png": "[encoded data removed]",
      "text/plain": [
       "<Figure size 350x262.5 with 1 Axes>"
      ]
     },
     "metadata": {},
     "output_type": "display_data"
    }
   ],
   "source": [
    "# Get Spectrum Data\n",
    "Plot(\"data\")\n",
    "x = Plot.x()\n",
    "y = Plot.y()\n",
    "x_err = Plot.xErr()\n",
    "y_err = Plot.yErr()\n",
    "\n",
    "# Get Model Data\n",
    "m = Model('TBabs*diskbb')\n",
    "Fit.perform()\n",
    "y_model = Plot.model()\n",
    "\n",
    "# Get Model Data\n",
    "m1 = Model('pow')\n",
    "Fit.perform()\n",
    "y_model1 = Plot.model()\n",
    "\n",
    "plt.figure()\n",
    "plt.errorbar(x, y, xerr=x_err, yerr=y_err, ls='none', color='black', lw=1.0, label='HD 200560')\n",
    "plt.step(x, y_model)\n",
    "plt.step(x, y_model1)\n",
    "\n",
    "plt.xlabel('Energy (keV)')\n",
    "plt.ylabel(r'counts s$^{-1}$ keV$^{-1}$')\n",
    "plt.yscale('log')\n",
    "plt.xscale('log')\n",
    "plt.ylim(1e-5)\n",
    "plt.xlim(0.5, 10.0)\n",
    "plt.xticks([0.5,1.0,2.0,5.0, 10.0], labels=[0.5,1.0,2.0,5.0, 10.0])\n",
    "plt.legend()\n",
    "plt.show()"
   ]
  },
  {
   "cell_type": "code",
   "execution_count": 266,
   "id": "805dc3b1-882e-40af-9cae-f0e1f8e88c06",
   "metadata": {},
   "outputs": [],
   "source": [
    "from astropy.io import fits"
   ]
  },
  {
   "cell_type": "code",
   "execution_count": null,
   "id": "9abe2a4b-eee1-4448-869f-7b7ea7b96467",
   "metadata": {},
   "outputs": [],
   "source": []
  },
  {
   "cell_type": "code",
   "execution_count": null,
   "id": "59788624-e39c-4905-913c-47c7bb37b3b7",
   "metadata": {},
   "outputs": [],
   "source": []
  },
  {
   "cell_type": "code",
   "execution_count": 285,
   "id": "576cd99e-f8f2-4d4b-8a59-c8c2da927865",
   "metadata": {},
   "outputs": [],
   "source": [
    "from mpl_toolkits.axes_grid1.inset_locator import inset_axes\n",
    "\n"
   ]
  },
  {
   "cell_type": "code",
   "execution_count": 330,
   "id": "1e0bca92-5a30-403c-9d2a-0637a5012869",
   "metadata": {},
   "outputs": [
    {
     "data": {
      "image/png": "[encoded data removed]",
      "text/plain": [
       "<Figure size 350x262.5 with 3 Axes>"
      ]
     },
     "metadata": {},
     "output_type": "display_data"
    }
   ],
   "source": [
    "#import matplotlib.pyplot as plt\n",
    "#from astropy.table import Table\n",
    "#from mpl_toolkits.axes_grid1.inset_locator import inset_axes\n",
    "\n",
    "# Read the data\n",
    "tab_lc = Table.read('./2E_3943/0511001101/pps/P0511001101PNX000SRCTSR8001.FTZ')\n",
    "\n",
    "# Create the main plot\n",
    "fig, ax = plt.subplots() # figsize=(10, 6)\n",
    "t0 = tab_lc['TIME'] - tab_lc['TIME'].min()\n",
    "ax.errorbar(t0, tab_lc['RATE'],  yerr=tab_lc['ERROR'], ls='none', color='black', lw=0.5, label='2E 3943 | EPIC-pn 0.2-12.0')\n",
    "#ax.plot(t0, tab_lc['BACK1V'], color='red', lw=0.5)\n",
    "ax.set_xlim(2750, 4000)\n",
    "ax.set_ylim(0)\n",
    "\n",
    "ax.set_xlabel('Time (s)')\n",
    "ax.set_ylabel('Rate (ct/s)')\n",
    "ax.legend()\n",
    "\n",
    "# First inset\n",
    "ax_inset1 = inset_axes(ax, width=\"20%\", height=\"30%\", loc=\"center\", bbox_to_anchor=(-0.11, 0.13, 1, 1), bbox_transform=fig.transFigure)\n",
    "ax_inset1.errorbar(t0, tab_lc['RATE'], yerr=tab_lc['ERROR'], ls='none', color='black', lw=0.5)\n",
    "ax_inset1.set_xlim(2850, 2925)\n",
    "ax_inset1.set_ylim(bottom=0)\n",
    "ax_inset1.set_yticks([])\n",
    "\n",
    "# Second inset\n",
    "ax_inset2 = inset_axes(ax, width=\"20%\", height=\"30%\", loc=\"center\", bbox_to_anchor=(0.15, 0.13, 1, 1), bbox_transform=fig.transFigure)\n",
    "ax_inset2.errorbar(t0, tab_lc['RATE'], yerr=tab_lc['ERROR'], ls='none', color='black', lw=0.5)\n",
    "ax_inset2.set_xlim(3800, 3900)\n",
    "ax_inset2.set_ylim(bottom=0)\n",
    "ax_inset2.set_yticks([])\n",
    "plt.savefig('../data/plots/double_burst_e2_3943.png')\n",
    "plt.savefig('../data/plots/double_burst_e2_3943.pdf')\n",
    "plt.show()\n"
   ]
  },
  {
   "cell_type": "code",
   "execution_count": 283,
   "id": "c8723a31-5ea0-4e8e-be8d-909187a54895",
   "metadata": {},
   "outputs": [
    {
     "name": "stderr",
     "output_type": "stream",
     "text": [
      "WARNING: hdu= was not specified but multiple tables are present, reading in first available table (hdu=1) [astropy.io.fits.connect]\n",
      "WARNING: UnitsWarning: 'fraction' did not parse as fits unit: At col 0, Unit 'fraction' not supported by the FITS standard.  If this is meant to be a custom unit, define it with 'u.def_unit'. To have it recognized inside a file reader or other code, enable it with 'u.add_enabled_units'. For details, see https://docs.astropy.org/en/latest/units/combining_and_defining.html [astropy.units.core]\n",
      "/home/nkhan/EXOD2/venv/lib/python3.12/site-packages/numpy/ma/core.py:2820: RuntimeWarning: invalid value encountered in cast\n",
      "  _data = np.array(data, dtype=dtype, copy=copy,\n",
      "/home/nkhan/EXOD2/venv/lib/python3.12/site-packages/numpy/ma/core.py:1044: RuntimeWarning: invalid value encountered in cast\n",
      "  np.copyto(result, da, casting='unsafe', where=m)\n"
     ]
    },
    {
     "data": {
      "text/plain": [
       "<matplotlib.legend.Legend at 0x7ff7302f97c0>"
      ]
     },
     "execution_count": 283,
     "metadata": {},
     "output_type": "execute_result"
    },
    {
     "data": {
      "image/png": "[encoded data removed]",
      "text/plain": [
       "<Figure size 350x262.5 with 1 Axes>"
      ]
     },
     "metadata": {},
     "output_type": "display_data"
    }
   ],
   "source": [
    "tab_lc = Table.read('./2E_3943/0511001101/pps/P0511001101PNX000SRCTSR8001.FTZ')\n",
    "plt.figure()\n",
    "t0 = tab_lc['TIME'] - tab_lc['TIME'].min()\n",
    "plt.errorbar(t0, tab_lc['RATE'],  yerr=tab_lc['ERROR'], ls='none', color='black', lw=0.5, label='2E 3943 | EPIC-pn 0.2-12.0')\n",
    "plt.plot(t0, tab_lc['BACK1V'], color='red', lw=0.5)\n",
    "#plt.ylim(0)\n",
    "plt.xlim(2750, 4000)\n",
    "#plt.xlim(2850, 2925)\n",
    "#plt.xlim(3820, 3900)\n",
    "plt.xlabel('Time (s)')\n",
    "plt.ylabel('Rate (ct/s)')\n",
    "plt.legend()\n",
    "#plt.savefig('/home/nkhan/EXOD2/data/plots/HD_200560_lc_10s.pdf')\n",
    "#plt.savefig('/home/nkhan/EXOD2/data/plots/HD_200560_lc_10s.png')"
   ]
  },
  {
   "cell_type": "code",
   "execution_count": 60,
   "id": "d3f755b9-5846-47c2-9517-e4432f830dc5",
   "metadata": {},
   "outputs": [
    {
     "data": {
      "image/png": "[encoded data removed]",
      "text/plain": [
       "<Figure size 350x262.5 with 1 Axes>"
      ]
     },
     "metadata": {},
     "output_type": "display_data"
    }
   ],
   "source": [
    "tab_lc = Table.read('./lc_bin_10s.ftz')\n",
    "plt.figure()\n",
    "plt.errorbar(tab_lc['TIME'], tab_lc['RATE1'],  yerr=tab_lc['ERROR1'], ls='none', color='black', lw=0.5, label='HD 200560 | EPIC-pn 0.2-12.0')\n",
    "plt.ylim(0)\n",
    "plt.xlim(84000, 115000)\n",
    "plt.xlabel('Time (s)')\n",
    "plt.ylabel('Rate (ct/s)')\n",
    "plt.legend()\n",
    "plt.savefig('/home/nkhan/EXOD2/data/plots/HD_200560_lc_10s.pdf')\n",
    "plt.savefig('/home/nkhan/EXOD2/data/plots/HD_200560_lc_10s.png')"
   ]
  },
  {
   "cell_type": "code",
   "execution_count": 61,
   "id": "4135f202-2f2a-4ade-ab8f-164cbe5c1754",
   "metadata": {},
   "outputs": [
    {
     "data": {
      "text/html": [
       "<div><i>Table length=12464</i>\n",
       "<table id=\"table140563708293008\" class=\"table-striped table-bordered table-condensed\">\n",
       "<thead><tr><th>TIME</th><th>XAX_E</th><th>RATE1</th><th>ERROR1</th><th>FRACEXP</th></tr></thead>\n",
       "<thead><tr><th>s</th><th></th><th>ct / s</th><th>ct / s</th><th></th></tr></thead>\n",
       "<thead><tr><th>float64</th><th>float64</th><th>float32</th><th>float32</th><th>float32</th></tr></thead>\n",
       "<tr><td>0.0</td><td>5.0</td><td>0.13093755</td><td>0.30730623</td><td>1.0220001</td></tr>\n",
       "<tr><td>10.0</td><td>5.0</td><td>0.46091405</td><td>0.32778057</td><td>1.0220001</td></tr>\n",
       "<tr><td>20.0</td><td>5.0</td><td>0.54521</td><td>0.3204014</td><td>1.0220001</td></tr>\n",
       "<tr><td>30.0</td><td>5.0</td><td>0.12125345</td><td>0.27368617</td><td>0.87600005</td></tr>\n",
       "<tr><td>40.0</td><td>5.0</td><td>0.25160432</td><td>0.20458838</td><td>1.0220001</td></tr>\n",
       "<tr><td>50.0</td><td>5.0</td><td>0.54223436</td><td>0.3217626</td><td>1.0220001</td></tr>\n",
       "<tr><td>60.0</td><td>5.0</td><td>0.53462905</td><td>0.31723988</td><td>1.0220001</td></tr>\n",
       "<tr><td>70.0</td><td>5.0</td><td>0.2713952</td><td>0.30640864</td><td>1.0220001</td></tr>\n",
       "<tr><td>80.0</td><td>5.0</td><td>0.82040626</td><td>0.45644572</td><td>1.0220001</td></tr>\n",
       "<tr><td>90.0</td><td>5.0</td><td>0.1797316</td><td>0.4223922</td><td>0.87600005</td></tr>\n",
       "<tr><td>100.0</td><td>5.0</td><td>0.28006792</td><td>0.31624022</td><td>1.0220001</td></tr>\n",
       "<tr><td>110.0</td><td>5.0</td><td>1.0140226</td><td>0.4107416</td><td>1.0220001</td></tr>\n",
       "<tr><td>120.0</td><td>5.0</td><td>0.5810113</td><td>0.29801863</td><td>1.0220001</td></tr>\n",
       "<tr><td>130.0</td><td>5.0</td><td>1.0583462</td><td>0.38151678</td><td>1.0220001</td></tr>\n",
       "<tr><td>140.0</td><td>5.0</td><td>0.85382944</td><td>0.43932542</td><td>1.0220001</td></tr>\n",
       "<tr><td>150.0</td><td>5.0</td><td>0.9945936</td><td>0.46137875</td><td>1.0220001</td></tr>\n",
       "<tr><td>160.0</td><td>5.0</td><td>-0.242524</td><td>0.3236695</td><td>0.87600005</td></tr>\n",
       "<tr><td>170.0</td><td>5.0</td><td>1.0911204</td><td>0.40558985</td><td>1.0220001</td></tr>\n",
       "<tr><td>180.0</td><td>5.0</td><td>1.3415676</td><td>0.507965</td><td>1.0220001</td></tr>\n",
       "<tr><td>190.0</td><td>5.0</td><td>1.1745577</td><td>0.3983743</td><td>1.0220001</td></tr>\n",
       "<tr><td>200.0</td><td>5.0</td><td>-0.54633874</td><td>0.43714067</td><td>1.0220001</td></tr>\n",
       "<tr><td>210.0</td><td>5.0</td><td>0.42977118</td><td>0.30186486</td><td>1.0220001</td></tr>\n",
       "<tr><td>220.0</td><td>5.0</td><td>0.36917406</td><td>0.33285728</td><td>1.0220001</td></tr>\n",
       "<tr><td>230.0</td><td>5.0</td><td>0.116687246</td><td>0.27035373</td><td>0.87600005</td></tr>\n",
       "<tr><td>240.0</td><td>5.0</td><td>0.9719466</td><td>0.4970045</td><td>1.0220001</td></tr>\n",
       "<tr><td>250.0</td><td>5.0</td><td>0.7355326</td><td>0.33336625</td><td>1.0220001</td></tr>\n",
       "<tr><td>260.0</td><td>5.0</td><td>0.27116695</td><td>0.31958154</td><td>1.0220001</td></tr>\n",
       "<tr><td>270.0</td><td>5.0</td><td>0.4975188</td><td>0.3569325</td><td>1.0220001</td></tr>\n",
       "<tr><td>280.0</td><td>5.0</td><td>0.48577797</td><td>0.34795082</td><td>1.0220001</td></tr>\n",
       "<tr><td>...</td><td>...</td><td>...</td><td>...</td><td>...</td></tr>\n",
       "<tr><td>124350.0</td><td>5.0</td><td>0.5270754</td><td>0.6360447</td><td>1.0220001</td></tr>\n",
       "<tr><td>124360.0</td><td>5.0</td><td>0.42442724</td><td>0.6936082</td><td>1.0220001</td></tr>\n",
       "<tr><td>124370.0</td><td>5.0</td><td>-1.2297363</td><td>1.5235806</td><td>0.29200003</td></tr>\n",
       "<tr><td>124380.0</td><td>5.0</td><td>--</td><td>--</td><td>--</td></tr>\n",
       "<tr><td>124390.0</td><td>5.0</td><td>--</td><td>--</td><td>--</td></tr>\n",
       "<tr><td>124400.0</td><td>5.0</td><td>--</td><td>--</td><td>--</td></tr>\n",
       "<tr><td>124410.0</td><td>5.0</td><td>--</td><td>--</td><td>--</td></tr>\n",
       "<tr><td>124420.0</td><td>5.0</td><td>-9.046848</td><td>9.046848</td><td>0.14600001</td></tr>\n",
       "<tr><td>124430.0</td><td>5.0</td><td>-0.27372715</td><td>0.554838</td><td>1.0220001</td></tr>\n",
       "<tr><td>124440.0</td><td>5.0</td><td>0.97573346</td><td>0.66891086</td><td>1.0220001</td></tr>\n",
       "<tr><td>124450.0</td><td>5.0</td><td>0.41919547</td><td>0.5847985</td><td>1.0220001</td></tr>\n",
       "<tr><td>124460.0</td><td>5.0</td><td>0.01153652</td><td>0.7277401</td><td>0.73</td></tr>\n",
       "<tr><td>124470.0</td><td>5.0</td><td>--</td><td>--</td><td>--</td></tr>\n",
       "<tr><td>124480.0</td><td>5.0</td><td>--</td><td>--</td><td>--</td></tr>\n",
       "<tr><td>124490.0</td><td>5.0</td><td>--</td><td>--</td><td>--</td></tr>\n",
       "<tr><td>124500.0</td><td>5.0</td><td>--</td><td>--</td><td>--</td></tr>\n",
       "<tr><td>124510.0</td><td>5.0</td><td>--</td><td>--</td><td>--</td></tr>\n",
       "<tr><td>124520.0</td><td>5.0</td><td>0.7825743</td><td>0.8400203</td><td>0.73</td></tr>\n",
       "<tr><td>124530.0</td><td>5.0</td><td>-0.68860686</td><td>0.78683364</td><td>0.87600005</td></tr>\n",
       "<tr><td>124540.0</td><td>5.0</td><td>-0.09448057</td><td>0.64461124</td><td>1.0220001</td></tr>\n",
       "<tr><td>124550.0</td><td>5.0</td><td>2.6710107</td><td>1.3619618</td><td>0.58400005</td></tr>\n",
       "<tr><td>124560.0</td><td>5.0</td><td>--</td><td>--</td><td>--</td></tr>\n",
       "<tr><td>124570.0</td><td>5.0</td><td>--</td><td>--</td><td>--</td></tr>\n",
       "<tr><td>124580.0</td><td>5.0</td><td>--</td><td>--</td><td>--</td></tr>\n",
       "<tr><td>124590.0</td><td>5.0</td><td>--</td><td>--</td><td>--</td></tr>\n",
       "<tr><td>124600.0</td><td>5.0</td><td>--</td><td>--</td><td>--</td></tr>\n",
       "<tr><td>124610.0</td><td>5.0</td><td>-0.7679135</td><td>0.92020184</td><td>0.87600005</td></tr>\n",
       "<tr><td>124620.0</td><td>5.0</td><td>0.071573846</td><td>0.69339764</td><td>1.0220001</td></tr>\n",
       "<tr><td>124630.0</td><td>5.0</td><td>0.07289675</td><td>1.169276</td><td>0.43800002</td></tr>\n",
       "</table></div>"
      ],
      "text/plain": [
       "<Table length=12464>\n",
       "  TIME    XAX_E     RATE1      ERROR1    FRACEXP  \n",
       "   s                ct / s     ct / s             \n",
       "float64  float64   float32    float32    float32  \n",
       "-------- ------- ----------- ---------- ----------\n",
       "     0.0     5.0  0.13093755 0.30730623  1.0220001\n",
       "    10.0     5.0  0.46091405 0.32778057  1.0220001\n",
       "    20.0     5.0     0.54521  0.3204014  1.0220001\n",
       "    30.0     5.0  0.12125345 0.27368617 0.87600005\n",
       "    40.0     5.0  0.25160432 0.20458838  1.0220001\n",
       "    50.0     5.0  0.54223436  0.3217626  1.0220001\n",
       "    60.0     5.0  0.53462905 0.31723988  1.0220001\n",
       "    70.0     5.0   0.2713952 0.30640864  1.0220001\n",
       "    80.0     5.0  0.82040626 0.45644572  1.0220001\n",
       "    90.0     5.0   0.1797316  0.4223922 0.87600005\n",
       "   100.0     5.0  0.28006792 0.31624022  1.0220001\n",
       "   110.0     5.0   1.0140226  0.4107416  1.0220001\n",
       "   120.0     5.0   0.5810113 0.29801863  1.0220001\n",
       "   130.0     5.0   1.0583462 0.38151678  1.0220001\n",
       "   140.0     5.0  0.85382944 0.43932542  1.0220001\n",
       "   150.0     5.0   0.9945936 0.46137875  1.0220001\n",
       "   160.0     5.0   -0.242524  0.3236695 0.87600005\n",
       "   170.0     5.0   1.0911204 0.40558985  1.0220001\n",
       "   180.0     5.0   1.3415676   0.507965  1.0220001\n",
       "   190.0     5.0   1.1745577  0.3983743  1.0220001\n",
       "   200.0     5.0 -0.54633874 0.43714067  1.0220001\n",
       "   210.0     5.0  0.42977118 0.30186486  1.0220001\n",
       "   220.0     5.0  0.36917406 0.33285728  1.0220001\n",
       "   230.0     5.0 0.116687246 0.27035373 0.87600005\n",
       "   240.0     5.0   0.9719466  0.4970045  1.0220001\n",
       "   250.0     5.0   0.7355326 0.33336625  1.0220001\n",
       "   260.0     5.0  0.27116695 0.31958154  1.0220001\n",
       "   270.0     5.0   0.4975188  0.3569325  1.0220001\n",
       "   280.0     5.0  0.48577797 0.34795082  1.0220001\n",
       "     ...     ...         ...        ...        ...\n",
       "124350.0     5.0   0.5270754  0.6360447  1.0220001\n",
       "124360.0     5.0  0.42442724  0.6936082  1.0220001\n",
       "124370.0     5.0  -1.2297363  1.5235806 0.29200003\n",
       "124380.0     5.0          --         --         --\n",
       "124390.0     5.0          --         --         --\n",
       "124400.0     5.0          --         --         --\n",
       "124410.0     5.0          --         --         --\n",
       "124420.0     5.0   -9.046848   9.046848 0.14600001\n",
       "124430.0     5.0 -0.27372715   0.554838  1.0220001\n",
       "124440.0     5.0  0.97573346 0.66891086  1.0220001\n",
       "124450.0     5.0  0.41919547  0.5847985  1.0220001\n",
       "124460.0     5.0  0.01153652  0.7277401       0.73\n",
       "124470.0     5.0          --         --         --\n",
       "124480.0     5.0          --         --         --\n",
       "124490.0     5.0          --         --         --\n",
       "124500.0     5.0          --         --         --\n",
       "124510.0     5.0          --         --         --\n",
       "124520.0     5.0   0.7825743  0.8400203       0.73\n",
       "124530.0     5.0 -0.68860686 0.78683364 0.87600005\n",
       "124540.0     5.0 -0.09448057 0.64461124  1.0220001\n",
       "124550.0     5.0   2.6710107  1.3619618 0.58400005\n",
       "124560.0     5.0          --         --         --\n",
       "124570.0     5.0          --         --         --\n",
       "124580.0     5.0          --         --         --\n",
       "124590.0     5.0          --         --         --\n",
       "124600.0     5.0          --         --         --\n",
       "124610.0     5.0  -0.7679135 0.92020184 0.87600005\n",
       "124620.0     5.0 0.071573846 0.69339764  1.0220001\n",
       "124630.0     5.0  0.07289675   1.169276 0.43800002"
      ]
     },
     "execution_count": 61,
     "metadata": {},
     "output_type": "execute_result"
    }
   ],
   "source": [
    "tab_lc"
   ]
  },
  {
   "cell_type": "code",
   "execution_count": 3,
   "id": "ada51b58-27c2-4678-81e9-a13f97e8981c",
   "metadata": {},
   "outputs": [],
   "source": []
  },
  {
   "cell_type": "code",
   "execution_count": 1,
   "id": "6cadcfcd-e058-4913-96cd-7b9422acbb95",
   "metadata": {},
   "outputs": [],
   "source": []
  },
  {
   "cell_type": "code",
   "execution_count": null,
   "id": "8e1303c2-3bb7-403d-99f1-c68ee0479c7e",
   "metadata": {},
   "outputs": [],
   "source": []
  },
  {
   "cell_type": "code",
   "execution_count": null,
   "id": "e5ae23c0-399f-453d-be89-3413136ee4bf",
   "metadata": {},
   "outputs": [],
   "source": []
  },
  {
   "cell_type": "code",
   "execution_count": null,
   "id": "b11bd6d1-bd26-4341-9ee5-529a280da877",
   "metadata": {},
   "outputs": [],
   "source": []
  },
  {
   "cell_type": "code",
   "execution_count": null,
   "id": "57bfad09-fec0-41dd-abdb-28af2a788835",
   "metadata": {},
   "outputs": [],
   "source": []
  },
  {
   "cell_type": "code",
   "execution_count": null,
   "id": "5c2631af-4505-48e9-aefd-9483b3be7b8e",
   "metadata": {},
   "outputs": [],
   "source": []
  },
  {
   "cell_type": "code",
   "execution_count": null,
   "id": "dff5bac4-0a50-47af-bd60-aa3ef494786b",
   "metadata": {},
   "outputs": [],
   "source": []
  },
  {
   "cell_type": "code",
   "execution_count": null,
   "id": "d12bd704-71d3-4b56-8032-6b0925d1c284",
   "metadata": {},
   "outputs": [],
   "source": []
  },
  {
   "cell_type": "code",
   "execution_count": null,
   "id": "55a60ca8-c46d-4994-9ca9-c2d1b76131ee",
   "metadata": {},
   "outputs": [],
   "source": []
  },
  {
   "cell_type": "code",
   "execution_count": null,
   "id": "eb2b3bcc-a697-4637-8571-9dc156e6e980",
   "metadata": {},
   "outputs": [],
   "source": []
  },
  {
   "cell_type": "code",
   "execution_count": null,
   "id": "d0de74e0-c524-48f3-9e88-3839b750051d",
   "metadata": {},
   "outputs": [],
   "source": [
    " "
   ]
  },
  {
   "cell_type": "code",
   "execution_count": null,
   "id": "9d1a1b0e-ac5b-42f8-ae1c-cdef495c9111",
   "metadata": {},
   "outputs": [],
   "source": []
  },
  {
   "cell_type": "code",
   "execution_count": null,
   "id": "07ad7d25-1403-4667-8954-4ea79cdf92e6",
   "metadata": {},
   "outputs": [],
   "source": []
  },
  {
   "cell_type": "code",
   "execution_count": 343,
   "id": "c9831ea5-df7b-4d2a-8a2d-656e9691b191",
   "metadata": {},
   "outputs": [],
   "source": []
  },
  {
   "cell_type": "code",
   "execution_count": null,
   "id": "d6cc9dc1-a683-4735-90bc-c377b1a22518",
   "metadata": {},
   "outputs": [],
   "source": []
  },
  {
   "cell_type": "code",
   "execution_count": null,
   "id": "fe4f3e5e-48bd-462a-8107-f9f23fcef0e2",
   "metadata": {},
   "outputs": [],
   "source": []
  },
  {
   "cell_type": "code",
   "execution_count": null,
   "id": "3c8e924a-b3b5-403d-b6bc-5b2370df4bbb",
   "metadata": {},
   "outputs": [],
   "source": []
  },
  {
   "cell_type": "code",
   "execution_count": 82,
   "id": "e7d92e88-cd46-45ed-bff3-6f9395f4e6d3",
   "metadata": {},
   "outputs": [],
   "source": []
  },
  {
   "cell_type": "code",
   "execution_count": null,
   "id": "baf79d26-d037-412a-b700-ffa9cb131788",
   "metadata": {},
   "outputs": [],
   "source": []
  },
  {
   "cell_type": "code",
   "execution_count": null,
   "id": "5163cfd9-bb38-4197-bda9-32d0ef1fa050",
   "metadata": {},
   "outputs": [],
   "source": []
  },
  {
   "cell_type": "code",
   "execution_count": null,
   "id": "04eb4b5a-b039-4bc2-8ee2-1c7b18420f51",
   "metadata": {},
   "outputs": [],
   "source": []
  },
  {
   "cell_type": "code",
   "execution_count": null,
   "id": "3ba2be24-913c-475e-a19d-69c8c961d550",
   "metadata": {},
   "outputs": [],
   "source": []
  }
 ],
 "metadata": {
  "kernelspec": {
   "display_name": "Python 3 (ipykernel)",
   "language": "python",
   "name": "python3"
  },
  "language_info": {
   "codemirror_mode": {
    "name": "ipython",
    "version": 3
   },
   "file_extension": ".py",
   "mimetype": "text/x-python",
   "name": "python",
   "nbconvert_exporter": "python",
   "pygments_lexer": "ipython3",
   "version": "3.12.0"
  }
 },
 "nbformat": 4,
 "nbformat_minor": 5
}
