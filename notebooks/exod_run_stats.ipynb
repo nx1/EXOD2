{
 "cells": [
  {
   "cell_type": "code",
   "execution_count": null,
   "id": "3ee89885-538a-49fd-89af-3487a451dbdb",
   "metadata": {},
   "outputs": [],
   "source": [
    "import numpy as np\n",
    "import matplotlib.pyplot as plt\n",
    "from exod.utils.path import data_results\n",
    "import pandas as pd\n",
    "from glob import glob\n",
    "import re\n",
    "\n",
    "from astropy.visualization import hist\n",
    "from astropy.table import Table\n",
    "from astropy.coordinates import SkyCoord, match_coordinates_sky\n",
    "import astropy.units as u\n",
    "\n",
    "pd.set_option('display.max_rows', 20)"
   ]
  },
  {
   "cell_type": "code",
   "execution_count": null,
   "id": "d13d8b68-f3bd-4b8c-a0c4-0f9d03257cb9",
   "metadata": {
    "jupyter": {
     "source_hidden": true
    }
   },
   "outputs": [],
   "source": [
    "# Observations to Exclude (No regions, previous results)\n",
    "exclude = ['0865470301',\n",
    "           '0865011601',\n",
    "           '0872393301',\n",
    "           '0872790301',\n",
    "           '0870990201',\n",
    "           '0891010101',\n",
    "           '0865320201',\n",
    "           '0872790501',\n",
    "           '0891801301',\n",
    "           '0891802301',\n",
    "           '0861450301',\n",
    "           '0891802501',\n",
    "           '0870930301',\n",
    "           '0870400101',\n",
    "           '0862770501',\n",
    "           '0872390501',\n",
    "           '0865050301',\n",
    "           '0865011801',\n",
    "           '0872790201',\n",
    "           '0882870201',\n",
    "           '0871590201',\n",
    "           '0861680101',\n",
    "           '0862990201',\n",
    "           '0862770201',\n",
    "           '0865011701',\n",
    "           '0884550101',\n",
    "           '0865380101',\n",
    "           '0882160401',\n",
    "           '0865380301',\n",
    "           '0872790601',\n",
    "           '0862990301',\n",
    "           '0870930501',\n",
    "           '0865380201',\n",
    "           '0881420201',\n",
    "           '0872790401',\n",
    "           '0881420301',\n",
    "           '0872391301',\n",
    "           '0871191001',\n",
    "           '0870930401',\n",
    "           '0861880101',\n",
    "           '0864340101',\n",
    "           '0865050701',\n",
    "           '0872790101',\n",
    "           '0871591801',\n",
    "           '0872392901',\n",
    "           '0865470201',\n",
    "           '0891804001',\n",
    "           '0882870101',\n",
    "           '0881420401',\n",
    "           '0860190301',\n",
    "           '0870210101',\n",
    "           '0891802601',\n",
    "           '0871591301',\n",
    "           '0870880101',\n",
    "           '0870930101',\n",
    "           '0864430201',\n",
    "           '0891804201',\n",
    "           '0862090801',\n",
    "           '0911990401',\n",
    "           '0865011401',\n",
    "           '0871190101',\n",
    "           '0890660101',\n",
    "           '0861840101',\n",
    "           '0865011301',\n",
    "           '0865011001',\n",
    "           '0882160601',\n",
    "           '0865010101',\n",
    "           '0890650101',\n",
    "           '0872392801',\n",
    "           '0861680201',\n",
    "           '0872390801',\n",
    "           '0865011101',\n",
    "           '0870931001',\n",
    "           '0861172301',\n",
    "           '0891010201',\n",
    "           '0865011501',\n",
    "           '0865380401',\n",
    "           '0891802401',\n",
    "           '0871590701',\n",
    "           '0861360101',\n",
    "           '0862770101',\n",
    "           '0865011201',\n",
    "           '0891801901',\n",
    "           '0882870601']"
   ]
  },
  {
   "cell_type": "code",
   "execution_count": null,
   "id": "ee8b43a2-0188-4d95-97be-1b08c83ae9eb",
   "metadata": {},
   "outputs": [],
   "source": [
    "# Simulation List\n",
    "df_simlist = pd.read_csv('../data/results_combined/t_25s_5k_obs/EXOD_simlist_2024-02-16_15-29-21.csv')\n",
    "df_simlist_run = df_simlist[df_simlist['status'] == 'Run']\n",
    "df_simlist"
   ]
  },
  {
   "cell_type": "code",
   "execution_count": null,
   "id": "95369a49-48a7-4210-a721-a0ce630e4488",
   "metadata": {},
   "outputs": [],
   "source": []
  },
  {
   "cell_type": "code",
   "execution_count": null,
   "id": "907d54c8-7fab-4b52-96bc-6b0e9b49154f",
   "metadata": {},
   "outputs": [],
   "source": [
    "# Detector Info\n",
    "dfs = []\n",
    "regex = re.compile(r'\\d{10}')\n",
    "\n",
    "for f in glob('../data/results_combined/t_25s_5k_obs/*/*detector_info.csv'):\n",
    "    obsid = regex.findall(f)[0]\n",
    "    if obsid in exclude:\n",
    "        continue\n",
    "    df = pd.read_csv(f, index_col=0, header=None, names=['Metric', 'Value'])\n",
    "    df = df.T  \n",
    "    df['obsid'] = obsid\n",
    "    dfs.append(df)\n",
    "\n",
    "df_detector = pd.concat(dfs, ignore_index=True)\n",
    "df_detector\n"
   ]
  },
  {
   "cell_type": "code",
   "execution_count": null,
   "id": "587ca9d1-640d-40d1-83e9-88c1bb699540",
   "metadata": {
    "jupyter": {
     "source_hidden": true
    }
   },
   "outputs": [],
   "source": [
    "# Event List Info\n",
    "dfs = []\n",
    "for f in glob('../data/results_combined/t_25s_5k_obs/*/*evt_info.csv'):\n",
    "    obsid = regex.findall(f)[0]\n",
    "    if obsid in exclude:\n",
    "        continue\n",
    "    df = pd.read_csv(f, index_col=0, header=None, names=['Metric', 'Value'])\n",
    "    df = df.T  \n",
    "    df['obsid'] = obsid\n",
    "    dfs.append(df)\n",
    "\n",
    "df_evt = pd.concat(dfs, ignore_index=True)\n",
    "df_evt\n"
   ]
  },
  {
   "cell_type": "code",
   "execution_count": null,
   "id": "b52dd57f-a074-4e0a-b79c-4677d7d7b136",
   "metadata": {
    "jupyter": {
     "source_hidden": true
    }
   },
   "outputs": [],
   "source": [
    "# Data Loader Info\n",
    "dfs = []\n",
    "\n",
    "for f in glob('../data/results_combined/t_25s_5k_obs/*/*dl_info.csv'):\n",
    "    obsid = regex.findall(f)[0]\n",
    "    if obsid in exclude:\n",
    "        continue\n",
    "    df = pd.read_csv(f, index_col=0, header=None, names=['Metric', 'Value'])\n",
    "    df = df.T  \n",
    "    df['obsid'] = obsid\n",
    "    dfs.append(df)\n",
    "\n",
    "df_dl = pd.concat(dfs, ignore_index=True)\n",
    "df_dl\n"
   ]
  },
  {
   "cell_type": "code",
   "execution_count": null,
   "id": "6e191c08-efa4-4763-bddd-71eddbe8fd7f",
   "metadata": {
    "jupyter": {
     "source_hidden": true
    }
   },
   "outputs": [],
   "source": [
    "# Data Cube Info\n",
    "dfs = []\n",
    "regex = re.compile(r'\\d{10}')\n",
    "exclude = []  # Add your exclusion list here\n",
    "\n",
    "for f in glob('../data/results_combined/t_25s_5k_obs/*/*data_cube_info.csv'):\n",
    "    obsid = regex.findall(f)[0]\n",
    "    if obsid in exclude:\n",
    "        continue\n",
    "    df = pd.read_csv(f, index_col=0, header=None, names=['Metric', 'Value'])\n",
    "    df = df.T  \n",
    "    df['obsid'] = obsid\n",
    "    dfs.append(df)\n",
    "\n",
    "df_data_cube = pd.concat(dfs, ignore_index=True)\n",
    "df_data_cube\n"
   ]
  },
  {
   "cell_type": "code",
   "execution_count": null,
   "id": "5508a4a3-30d0-4d83-9df5-ba1af1625225",
   "metadata": {},
   "outputs": [],
   "source": [
    "# Detected Regions\n",
    "dfs = []\n",
    "for f in glob('../data/results_combined/t_25s_5k_obs/*/*regions.csv'):\n",
    "    \n",
    "    obsid = regex.findall(f)[0]\n",
    "    if obsid in exclude:\n",
    "        continue\n",
    "    if '_regions' in f:\n",
    "        continue\n",
    "    df = pd.read_csv(f)\n",
    "    df['obsid'] = obsid\n",
    "    #df = df.T  \n",
    "    #df['obsid'] = obsid\n",
    "    dfs.append(df)\n",
    "\n",
    "df_regions = pd.concat(dfs, ignore_index=True)\n",
    "df_regions\n"
   ]
  },
  {
   "cell_type": "code",
   "execution_count": null,
   "id": "0d5dd1b6-712d-4ee4-ab29-cad8d7f6e5a9",
   "metadata": {},
   "outputs": [],
   "source": [
    "# Date Range: 2013-05-05 - 2022-10-11\n",
    "# Obs run: 3625 / 5000\n",
    "\n",
    "# Start: 2024-02-16 15:29:21,373\n",
    "# End:   2024-02-19 03:46:37,864\n",
    "# Time Taken: 60 hours (3617 min) \n",
    "# 3617 / 5000 = 0.72m/obs (over all obs)\n",
    "# 3617 / 3625 = 1m/obs    (successful obs)"
   ]
  },
  {
   "cell_type": "code",
   "execution_count": null,
   "id": "68945b77-f94b-4af0-bfe7-a32960da229c",
   "metadata": {},
   "outputs": [],
   "source": [
    "# All Regions Plot\n",
    "sky_coords = SkyCoord(ra=df_regions['ra_deg'].values, dec=df_regions['dec_deg'].values, unit='deg', frame='icrs')\n",
    "sky_coords\n",
    "\n",
    "ra_rad = sky_coords.ra.wrap_at(180 * u.deg).radian\n",
    "dec_rad = sky_coords.dec.radian\n",
    "\n",
    "# Plotting with Aitoff projection\n",
    "plt.figure(figsize=(15, 10))\n",
    "plt.subplot(111, projection='aitoff')\n",
    "\n",
    "plt.title(f'Detected Regions by EXOD: {len(sky_coords)}')\n",
    "\n",
    "galactic_coords = sky_coords.galactic\n",
    "galactic_center = SkyCoord(0, 0, unit=\"deg\", frame=\"galactic\")\n",
    "\n",
    "# Scatter plot the Galactic coordinates\n",
    "I_log = np.log10(df_regions['intensity_mean'])\n",
    "m = plt.scatter(galactic_coords.l.wrap_at(180 * u.deg).radian,\n",
    "            galactic_coords.b.radian,\n",
    "            marker='s', label='Detected Regions', s=1.0, c=I_log, cmap='hot')\n",
    "\n",
    "#plt.scatter(0, 0, marker='+', color='Blue', label='Galactic Center')\n",
    "plt.colorbar(m, shrink=1.0, orientation='horizontal', label='Log Intensity')\n",
    "plt.legend()\n",
    "plt.grid(True)\n",
    "plt.tight_layout()\n",
    "plt.show()"
   ]
  },
  {
   "cell_type": "code",
   "execution_count": null,
   "id": "55aa7c68-3809-4817-98cc-3d6b4acf751f",
   "metadata": {},
   "outputs": [],
   "source": [
    "df_data_cube['memory_mb'].astype('float').plot(figsize=(4,3),kind='hist', bins=100, xlabel='Data Cube Memory (MB)')"
   ]
  },
  {
   "cell_type": "code",
   "execution_count": null,
   "id": "4dc56530-1465-4d7f-ac65-f952dfc81119",
   "metadata": {},
   "outputs": [],
   "source": [
    "fig, ax = plt.subplots(1,2, figsize=(10,3))\n",
    "ax[0].hist(np.array(df_evt['exposure'], dtype='float'), bins=50)\n",
    "ax[1].hist(np.log10(np.array(df_evt['N_events'], dtype='int')), bins=50)\n",
    "ax[1].set_xlabel(r'$10^{N}$ Events')\n",
    "ax[0].set_xlabel('Exposure')\n",
    "plt.show()"
   ]
  },
  {
   "cell_type": "code",
   "execution_count": null,
   "id": "78b735b9-1491-44e3-8b83-cc957a65e303",
   "metadata": {
    "jupyter": {
     "source_hidden": true
    }
   },
   "outputs": [],
   "source": [
    "fig, ax = plt.subplots(1,1, figsize=(5,5))\n",
    "ax.hist(np.array(df_evt['mean_rate'], dtype='float'), bins=100)\n",
    "ax.set_xlabel(r'Mean Rate (Events/Exposure)')\n",
    "plt.show()"
   ]
  },
  {
   "cell_type": "code",
   "execution_count": null,
   "id": "0d0df5cb-14c6-46f7-9eca-b106f99a44c2",
   "metadata": {
    "scrolled": true
   },
   "outputs": [],
   "source": [
    "# Crossmatching with XMM catalogue For column descriptions see:\n",
    "# http://xmmssc.irap.omp.eu/Catalogue/4XMM-DR13/4XMM-DR13_Catalogue_User_Guide.html#Catalogue\n",
    "# Basic energy bands:\n",
    "# 1 = 0.2 - 0.5 keV\n",
    "# 2 = 0.5 - 1.0 keV\n",
    "# 3 = 1.0 - 2.0 keV\n",
    "# 4 = 2.0 - 4.5 keV\n",
    "# 5 = 4.5 - 12.0 keV\n",
    "# Broad energy bands: \t\n",
    "# 6 = 0.2 - 2.0  keV | soft band, no images made\n",
    "# 7 = 2.0 - 12.0 keV | hard band, no images made\n",
    "# 8 = 0.2 - 12.0 keV | total band\n",
    "# 9 = 0.5 - 4.5  keV | XID band\n",
    "\n",
    "tab_xmm = Table.read('../data/util/4XMM_slim_DR13cat_v1.0.fits')\n",
    "tab_xmm"
   ]
  },
  {
   "cell_type": "code",
   "execution_count": null,
   "id": "a7e0d9be-092c-4556-8d29-a506b17e2d4b",
   "metadata": {},
   "outputs": [],
   "source": [
    "skycoord_xmm = SkyCoord(ra=tab_xmm['SC_RA'], dec=tab_xmm['SC_DEC'], unit=u.deg)\n",
    "skycoord_xmm"
   ]
  },
  {
   "cell_type": "code",
   "execution_count": null,
   "id": "6c78633a-5094-49f3-a556-bd3c884794fe",
   "metadata": {},
   "outputs": [],
   "source": [
    "# Find nearest matches\n",
    "coord1 = sky_coords\n",
    "coord2 = skycoord_xmm\n",
    "idx, sep2d, d3d = match_coordinates_sky(coord1, coord2)\n",
    "\n",
    "# Calculate the differences in RA and Dec for the nearest matches\n",
    "ra_diff  = coord1.ra  - coord2[idx].ra\n",
    "dec_diff = coord1.dec - coord2[idx].dec\n",
    "\n",
    "# Get subset for below specifed distance\n",
    "dist_arcsec  = 20\n",
    "mask_sub     = sep2d.arcsec < dist_arcsec\n",
    "ra_diff_sub  = ra_diff[mask_sub]\n",
    "dec_diff_sub = dec_diff[mask_sub]\n",
    "\n",
    "fig, ax = plt.subplots(1,2, figsize=(10,5))\n",
    "ax[0].scatter(ra_diff.arcsec, dec_diff.arcsec,  s=1, color='black')\n",
    "ax[0].set_title(f'Offset, all sources ({len(ra_diff)})')\n",
    "ax[0].set_xlabel('Ra offset (arcsec)')\n",
    "ax[0].set_ylabel('Dec offset  (arcsec)')\n",
    "\n",
    "\n",
    "ax[1].set_title(f'Offset, sources < {dist_arcsec}\" ({len(ra_diff_sub)})')\n",
    "ax[1].scatter(ra_diff_sub.arcsec, dec_diff_sub.arcsec,  s=1, color='black')\n",
    "ax[1].set_xlabel('Ra offset (arcsec)')\n",
    "ax[1].set_ylabel('Dec offset  (arcsec)')\n",
    "#ax[1].set_xlim(-30,30)\n",
    "#ax[1].set_ylim(-30,30)\n",
    "\n",
    "\n",
    "fig, ax = plt.subplots(1,2, figsize=(10,3))\n",
    "ax[0].hist(ra_diff_sub.arcsec, bins=20, color='black')\n",
    "ax[0].set_xlabel('Ra offset (arcsec)')\n",
    "ax[1].hist(dec_diff_sub.arcsec, bins=20, color='black', orientation='horizontal')\n",
    "ax[1].set_xlabel('Dec offset (arcsec)')\n",
    "\n"
   ]
  },
  {
   "cell_type": "code",
   "execution_count": null,
   "id": "f1c4f944-44db-43cd-8503-790a6265fd44",
   "metadata": {
    "scrolled": true
   },
   "outputs": [],
   "source": [
    "cmatch = sky_coords.match_to_catalog_sky(skycoord_xmm)\n",
    "tab_cmatch = Table(cmatch)\n",
    "tab_cmatch.rename_columns(names=tab_cmatch.colnames, new_names=['idx', 'sep2d', 'dist3d'])\n",
    "tab_cmatch['sep2d_arcsec'] = tab_cmatch['sep2d'].to(u.arcsec)\n",
    "tab_cmatch['idx_orig'] = np.arange(len(tab_cmatch))\n",
    "tab_cmatch"
   ]
  },
  {
   "cell_type": "code",
   "execution_count": null,
   "id": "5dda9e81-aef7-49d9-9839-270ed4c617cb",
   "metadata": {},
   "outputs": [],
   "source": [
    "tab_cmatch_good = tab_cmatch[tab_cmatch['sep2d_arcsec'] <= 20]\n",
    "tab_cmatch_none = tab_cmatch[tab_cmatch['sep2d_arcsec'] > 20]\n",
    "tab_xmm_good = tab_xmm[tab_cmatch_good['idx']]\n",
    "tab_xmm_none = tab_xmm[tab_cmatch_none['idx']]"
   ]
  },
  {
   "cell_type": "code",
   "execution_count": null,
   "id": "45ea9f6d-6d69-4c8b-8992-9f3942666466",
   "metadata": {},
   "outputs": [],
   "source": [
    "# Crossmatch Plot\n",
    "sc_good = SkyCoord(ra=tab_xmm_good['SC_RA'], dec=tab_xmm_good['SC_DEC'], unit='deg', frame='icrs')\n",
    "sc_none = sky_coords[tab_cmatch_none['idx_orig']]\n",
    "\n",
    "def sc_to_gal(sc):\n",
    "    ra_rad = sc.ra.wrap_at(180 * u.deg).radian\n",
    "    dec_rad = sc.dec.radian\n",
    "    return sc.galactic\n",
    "    \n",
    "sc_gal_good = sc_to_gal(sc_good)\n",
    "sc_gal_none = sc_to_gal(sc_none)\n",
    "\n",
    "# Plotting with Aitoff projection\n",
    "plt.figure(figsize=(15, 10))\n",
    "plt.subplot(111, projection='aitoff')\n",
    "plt.title(f'Detected Regions by EXOD: {len(sky_coords)}')\n",
    "plt.scatter(sc_gal_good.l.wrap_at(180 * u.deg).radian, sc_gal_good.b.radian, marker='.', label=f'Counterpart Sources {len(tab_xmm_good)}', s=1.0, color='blue')\n",
    "plt.scatter(sc_gal_none.l.wrap_at(180 * u.deg).radian, sc_gal_none.b.radian, marker='.', label=f'No Counterparts {len(tab_xmm_none)}', s=1.0, color='red')\n",
    "plt.legend()\n",
    "plt.grid(True)\n",
    "plt.tight_layout()\n",
    "plt.show()"
   ]
  },
  {
   "cell_type": "code",
   "execution_count": null,
   "id": "2e302dd4-1694-405f-9385-09fce783697c",
   "metadata": {},
   "outputs": [],
   "source": [
    "# Plot sources with large seperations\n",
    "mask_sub = abs(dec_diff.arcsec) > 1000\n",
    "\n",
    "# All Regions Plot\n",
    "sky_coords = coord1[mask_sub]\n",
    "ra_rad = sky_coords.ra.wrap_at(180 * u.deg).radian\n",
    "dec_rad = sky_coords.dec.radian\n",
    "\n",
    "# Plotting with Aitoff projection\n",
    "plt.figure(figsize=(15, 10))\n",
    "plt.subplot(111, projection='aitoff')\n",
    "plt.title(f'Sources with abs(Dec) > 1000 arcsec')\n",
    "galactic_coords = sky_coords.galactic\n",
    "galactic_center = SkyCoord(0, 0, unit=\"deg\", frame=\"galactic\")\n",
    "\n",
    "# Scatter plot the Galactic coordinates\n",
    "\n",
    "m = plt.scatter(galactic_coords.l.wrap_at(180 * u.deg).radian,\n",
    "            galactic_coords.b.radian, marker='s', label='Detected Regions', s=1.0)\n",
    "plt.legend()\n",
    "plt.grid(True)\n",
    "plt.tight_layout()\n",
    "plt.show()\n"
   ]
  },
  {
   "cell_type": "code",
   "execution_count": null,
   "id": "e3e94909-b01b-4a13-a1aa-67e1a3cbe1ce",
   "metadata": {},
   "outputs": [],
   "source": [
    "N_src  = len(tab_cmatch)\n",
    "N_good = len(tab_cmatch_good)\n",
    "\n",
    "hist(tab_cmatch_good['sep2d_arcsec'], bins='knuth', histtype='stepfilled', ec='k', fc='#AAAAAA')\n",
    "plt.title(rf'Distribution of {N_good}/{N_src} regions with with XMM counterparts $\\leq$ 20\"')\n",
    "plt.xlabel('Seperation (arcseconds)')\n",
    "\n",
    "mu  = np.mean(tab_cmatch_good['sep2d_arcsec'])\n",
    "std = np.std(tab_cmatch_good['sep2d_arcsec'])\n",
    "plt.axvline(mu, color='red', label=fr'mean={mu:.2f}$\\pm${std:.2f}')\n",
    "plt.axvline(mu+std, color='green')\n",
    "plt.axvline(mu-std, color='green')\n",
    "plt.legend()\n",
    "plt.show()"
   ]
  },
  {
   "cell_type": "code",
   "execution_count": null,
   "id": "2adc192e-77a6-4616-801d-cffedd2ebbba",
   "metadata": {
    "jupyter": {
     "source_hidden": true
    }
   },
   "outputs": [],
   "source": [
    "N_src  = len(tab_cmatch)\n",
    "N_good = len(tab_cmatch_none)\n",
    "\n",
    "hist(tab_cmatch_none['sep2d_arcsec'], bins='knuth', histtype='stepfilled', ec='k', fc='#AAAAAA')\n",
    "plt.title(rf'Distribution of {N_good}/{N_src} regions with with XMM counterparts > 20\"')\n",
    "plt.xlabel('Seperation (arcseconds)')\n",
    "plt.yscale('log')\n",
    "plt.show()"
   ]
  },
  {
   "cell_type": "code",
   "execution_count": null,
   "id": "6666d319-cfb5-4bd5-b77d-068bce1656b5",
   "metadata": {},
   "outputs": [],
   "source": [
    "# Count Rate vs Chi^2 Prob\n",
    "plt.figure(figsize=(6,6))\n",
    "plt.scatter(tab_xmm_good['SC_CHI2PROB'], tab_xmm_good['SC_EP_1_FLUX'], marker='.', s=1, color='black', label='SC_EP_1_FLUX')\n",
    "plt.scatter(tab_xmm_good['SC_CHI2PROB'], tab_xmm_good['SC_EP_5_FLUX'], marker='.', s=1, color='blue', label='SC_EP_5_FLUX')\n",
    "plt.xlim(xmin=0)\n",
    "plt.yscale('log')\n",
    "plt.xlabel('SC_CHI2PROB')\n",
    "plt.ylabel('FLUX')\n",
    "plt.legend()\n",
    "plt.show()"
   ]
  },
  {
   "cell_type": "code",
   "execution_count": null,
   "id": "4e4d3329-a4a8-4f0b-a954-da59500b50e6",
   "metadata": {},
   "outputs": [],
   "source": [
    "# Count Rate vs F_var\n",
    "plt.figure(figsize=(6,6))\n",
    "plt.scatter(tab_xmm_good['SC_HR1'], tab_xmm_good['SC_EP_1_FLUX'], marker='.', s=1, color='black', label='SC_EP_1_FLUX')\n",
    "plt.scatter(tab_xmm_good['SC_HR1'], tab_xmm_good['SC_EP_5_FLUX'], marker='.', s=1, color='blue', label='SC_EP_5_FLUX')\n",
    "plt.xlim(xmin=0)\n",
    "plt.yscale('log')\n",
    "#plt.xscale('log')\n",
    "plt.xlabel('N_DETECTIONS')\n",
    "plt.ylabel('FLUX')\n",
    "plt.legend()\n",
    "plt.show()"
   ]
  },
  {
   "cell_type": "code",
   "execution_count": null,
   "id": "fe179f2b-ff9f-4eb9-b6f1-7170f76f43ca",
   "metadata": {},
   "outputs": [],
   "source": [
    "plt.figure(figsize=(5,5))\n",
    "sub = tab_xmm_good[(tab_xmm_good['SC_CHI2PROB'] > 0.8) & (tab_xmm_good['SC_HR1'] > 0.75)]\n",
    "plt.scatter(tab_xmm_good['SC_CHI2PROB'], tab_xmm_good['SC_HR1'], marker='.', s=1, color='black')\n",
    "plt.scatter(sub['SC_CHI2PROB'], sub['SC_HR1'], marker='.', s=20, color='red')\n",
    "plt.xlim(xmin=0)\n",
    "#plt.yscale('log')\n",
    "plt.xlabel('SC_CHI2PROB')\n",
    "plt.ylabel('SC_HR1')\n",
    "plt.show()"
   ]
  },
  {
   "cell_type": "code",
   "execution_count": null,
   "id": "c3b23ac3-a3ac-41c3-ba3b-47385f4e7ea6",
   "metadata": {},
   "outputs": [],
   "source": []
  },
  {
   "cell_type": "code",
   "execution_count": null,
   "id": "431dd717-ff14-4d07-b54c-b6089d0428fa",
   "metadata": {},
   "outputs": [],
   "source": []
  },
  {
   "cell_type": "code",
   "execution_count": null,
   "id": "1dcc21b6-9e0c-4386-9031-d8c8de884fda",
   "metadata": {},
   "outputs": [],
   "source": []
  },
  {
   "cell_type": "code",
   "execution_count": null,
   "id": "9c0b25c0-cd83-4b58-88ed-88bd5277acdd",
   "metadata": {},
   "outputs": [],
   "source": []
  }
 ],
 "metadata": {
  "kernelspec": {
   "display_name": "Python 3 (ipykernel)",
   "language": "python",
   "name": "python3"
  },
  "language_info": {
   "codemirror_mode": {
    "name": "ipython",
    "version": 3
   },
   "file_extension": ".py",
   "mimetype": "text/x-python",
   "name": "python",
   "nbconvert_exporter": "python",
   "pygments_lexer": "ipython3",
   "version": "3.12.0"
  }
 },
 "nbformat": 4,
 "nbformat_minor": 5
}
