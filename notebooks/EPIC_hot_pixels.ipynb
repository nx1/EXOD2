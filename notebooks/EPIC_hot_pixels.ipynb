{
 "cells": [
  {
   "cell_type": "code",
   "execution_count": 1,
   "id": "5e022076-85c8-4f2b-b13d-8a230e007b75",
   "metadata": {},
   "outputs": [],
   "source": [
    "import numpy as np\n",
    "import pandas as pd\n",
    "from exod.xmm.event_list import EventList"
   ]
  },
  {
   "cell_type": "code",
   "execution_count": 2,
   "id": "9014c7d3-bb50-4afd-bee7-cad3f0c1f627",
   "metadata": {},
   "outputs": [
    {
     "ename": "NameError",
     "evalue": "name 'hot_pixels' is not defined",
     "output_type": "error",
     "traceback": [
      "\u001b[0;31m---------------------------------------------------------------------------\u001b[0m",
      "\u001b[0;31mNameError\u001b[0m                                 Traceback (most recent call last)",
      "Cell \u001b[0;32mIn[2], line 2\u001b[0m\n\u001b[1;32m      1\u001b[0m \u001b[38;5;66;03m# 1 row per pixel pls\u001b[39;00m\n\u001b[0;32m----> 2\u001b[0m df_hp \u001b[38;5;241m=\u001b[39m pd\u001b[38;5;241m.\u001b[39mread_csv(\u001b[43mhot_pixels\u001b[49m[\u001b[38;5;124m'\u001b[39m\u001b[38;5;124mM2\u001b[39m\u001b[38;5;124m'\u001b[39m])\n\u001b[1;32m      3\u001b[0m all_res \u001b[38;5;241m=\u001b[39m []\n\u001b[1;32m      5\u001b[0m \u001b[38;5;28;01mfor\u001b[39;00m i, row \u001b[38;5;129;01min\u001b[39;00m df_hp\u001b[38;5;241m.\u001b[39miterrows():  \n\u001b[1;32m      6\u001b[0m     \u001b[38;5;66;03m#print(row)\u001b[39;00m\n",
      "\u001b[0;31mNameError\u001b[0m: name 'hot_pixels' is not defined"
     ]
    }
   ],
   "source": [
    "# 1 row per pixel pls\n",
    "df_hp = pd.read_csv(hot_pixels['M2'])\n",
    "all_res = []\n",
    "\n",
    "for i, row in df_hp.iterrows():  \n",
    "    #print(row)\n",
    "    yrange = np.arange(row['M2_RAWY1'], row['M2_RAWY2']+1, 1)\n",
    "    n = len(yrange)\n",
    "    xrange = [row['M2_RAWX']]*n\n",
    "    ccdpn  = [row['CCDM2']]*n\n",
    "    rev1   = [row['REV1']]*n\n",
    "    rev2   = [row['REV2']]*n\n",
    "    \n",
    "    for i in range(n):\n",
    "        res = {'RAWX'  : xrange[i],\n",
    "               'RAWY'  : yrange[i],\n",
    "               'CCDNR' : ccdpn[i],\n",
    "               'REV1'  : rev1[i],\n",
    "               'REV2'  : rev2[i]}\n",
    "    \n",
    "        all_res.append(res)\n",
    "\n",
    "df_warm = pd.DataFrame(all_res)\n",
    "print(df_warm)\n",
    "#df_warm.to_csv('../data/util/hotpix_M2.csv', index=False)"
   ]
  },
  {
   "cell_type": "code",
   "execution_count": null,
   "id": "34b7abb7-c336-47a5-b439-a64b1a022085",
   "metadata": {},
   "outputs": [],
   "source": []
  }
 ],
 "metadata": {
  "kernelspec": {
   "display_name": "Python 3 (ipykernel)",
   "language": "python",
   "name": "python3"
  },
  "language_info": {
   "codemirror_mode": {
    "name": "ipython",
    "version": 3
   },
   "file_extension": ".py",
   "mimetype": "text/x-python",
   "name": "python",
   "nbconvert_exporter": "python",
   "pygments_lexer": "ipython3",
   "version": "3.12.0"
  }
 },
 "nbformat": 4,
 "nbformat_minor": 5
}
