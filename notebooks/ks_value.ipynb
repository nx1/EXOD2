{
 "cells": [
  {
   "cell_type": "code",
   "execution_count": null,
   "id": "6acd988f-da8e-4e91-af7f-feb527f994ce",
   "metadata": {},
   "outputs": [],
   "source": [
    "# Calculate KS value #TODO move to post-processing?\n",
    "ks_results = [calc_KS_poission(lc) for lc in lcs]\n",
    "df_regions['KS_stat'] = [k.statistic for k in ks_results]\n",
    "df_regions['KS_pval'] = [k.pvalue for k in ks_results]\n",
    "df_regions['KS_loc']  = [k.statistic_location for k in ks_results]\n",
    "df_regions['KS_sign'] = [k.statistic_sign for k in ks_results]\n"
   ]
  },
  {
   "cell_type": "code",
   "execution_count": null,
   "id": "bbed8865-bf1b-4d34-aa99-03bc9abee08e",
   "metadata": {},
   "outputs": [],
   "source": [
    "N_poission_realisations = 5000\n",
    "logger.info(f'Calculating Errors, using {N_poission_realisations} Poission realisations ')\n",
    "lc_mean = np.nanmean(lc)\n",
    "lc_generated = np.random.poisson(lc, size=(N_poission_realisations, len(lc)))\n",
    "lc_percentiles = np.nanpercentile(lc_generated, (16,84), axis=0)\n",
    "\n",
    "# Plot Error regions\n",
    "color = cmr.take_cmap_colors(cmap='cmr.ocean', N=1, cmap_range=(0.3, 0.3))[0]\n",
    "plt.fill_between(x=range(len(lc)),\n",
    "                 y1=lc_percentiles[0],\n",
    "                 y2=lc_percentiles[1],\n",
    "                 alpha=0.4,\n",
    "                 facecolor=color,\n",
    "                 step=\"post\",\n",
    "                 label='16 and 84 percentiles')"
   ]
  }
 ],
 "metadata": {
  "kernelspec": {
   "display_name": "Python 3 (ipykernel)",
   "language": "python",
   "name": "python3"
  },
  "language_info": {
   "codemirror_mode": {
    "name": "ipython",
    "version": 3
   },
   "file_extension": ".py",
   "mimetype": "text/x-python",
   "name": "python",
   "nbconvert_exporter": "python",
   "pygments_lexer": "ipython3",
   "version": "3.12.0"
  }
 },
 "nbformat": 4,
 "nbformat_minor": 5
}
