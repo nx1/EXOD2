{
 "cells": [
  {
   "cell_type": "code",
   "execution_count": null,
   "id": "4e92fcc4-73c4-41b5-bb74-583325a63ae3",
   "metadata": {},
   "outputs": [],
   "source": [
    "import os\n",
    "import numpy as np\n",
    "from scipy.stats import binned_statistic_dd\n",
    "import matplotlib.pyplot as plt\n",
    "from astropy.io import fits\n",
    "from astropy.table import Table, vstack\n",
    "\n",
    "from exod.utils.logger import logger\n",
    "from exod.utils.path import data_processed,data_results                                                                                          \n",
    "from tqdm import tqdm\n",
    "from astropy.table import Table\n",
    "from exod.pre_processing.read_events_files import read_EPIC_events_file                                    \n",
    "from exod.processing.variability_computation import compute_pixel_variability,convolve_variability         \n",
    "from exod.post_processing.extract_variability_regions import extract_variability_regions, get_regions_sky_position, plot_variability_with_regions                                                                          \n",
    "from exod.post_processing.testing_variability import compute_proba_constant, plot_lightcurve_alerts        \n",
    "from exod.post_processing.save_transient_sources import save_list_transients                               \n",
    "from exod.utils.path import data, data_results                                                                   \n",
    "from exod.utils.logger import logger   \n",
    "\n",
    "from exod.pre_processing.download_observations import read_observation_ids                                \n",
    "from exod.pre_processing.read_events_files import read_EPIC_events_file                                   \n",
    "from exod.utils.path import data , data_processed, data_results         \n"
   ]
  },
  {
   "cell_type": "code",
   "execution_count": null,
   "id": "5834ec06-9034-47d0-a04d-1165e7f74887",
   "metadata": {},
   "outputs": [],
   "source": [
    "obsids = read_observation_ids(data / 'observations.txt')                                                  \n",
    "obsid = obsids[4]\n",
    "obsid = '0831790701'\n",
    "args = {'obsid':obsid,\n",
    "        'size_arcsec':15,\n",
    "        'time_interval':400,\n",
    "        'box_size':3,\n",
    "        'gti_only':True,\n",
    "        'min_energy':0.2,\n",
    "        'max_energy':12}"
   ]
  },
  {
   "cell_type": "code",
   "execution_count": null,
   "id": "71e70d44-9ac5-41c2-b5fa-73b28399f4ec",
   "metadata": {},
   "outputs": [],
   "source": [
    "cube, coordinates_XY = read_EPIC_events_file(**args)"
   ]
  },
  {
   "cell_type": "code",
   "execution_count": null,
   "id": "613ca98d-87dc-4309-99aa-43fe39fd1d53",
   "metadata": {},
   "outputs": [],
   "source": [
    "#variability_map = compute_pixel_variability(cube)\n",
    "#plot_outfile = data_results / f'{obsid}' / f'{time_interval}s' / 'VariabilityRegions.png'\n",
    "#plot_variability_with_regions(variability_map=variability_map, threshold=8, outfile=plot_outfile)\n",
    "\n",
    "# Calculate the center of masses\n",
    "tab_centersofmass, bboxes = extract_variability_regions(variability_map=variability_map, threshold=8)\n",
    "logger.info(f'tab_centersofmass: {tab_centersofmass}')\n",
    "logger.info(f'bboxes: {bboxes}')\n",
    "df_reg = get_regions_sky_position(obsid=obsid,\n",
    "                                  tab_centersofmass=tab_centersofmass,\n",
    "                                  coordinates_XY=coordinates_XY)\n",
    "\n",
    "tab_p_values = compute_proba_constant(cube, bboxes)\n",
    "logger.info(f'tab_p_values: {tab_p_values}')"
   ]
  },
  {
   "cell_type": "code",
   "execution_count": null,
   "id": "5aca89e2-2998-4cf9-99ab-cb1749430637",
   "metadata": {},
   "outputs": [],
   "source": [
    "df_reg"
   ]
  },
  {
   "cell_type": "code",
   "execution_count": null,
   "id": "e2394df8-222d-45b9-8638-9fe57c979693",
   "metadata": {},
   "outputs": [],
   "source": [
    "from astropy.io import fits"
   ]
  },
  {
   "cell_type": "code",
   "execution_count": null,
   "id": "04d5885c-1c4b-4cba-ae75-7ecd9d886b0d",
   "metadata": {},
   "outputs": [],
   "source": [
    "evt = '../data/processed/0001730201/M1_pattern_clean.fits'\n",
    "hdul= fits.open(evt)"
   ]
  },
  {
   "cell_type": "code",
   "execution_count": null,
   "id": "e185f87a-dd48-4814-98e3-4d856ad843ae",
   "metadata": {},
   "outputs": [],
   "source": [
    "from glob import glob"
   ]
  },
  {
   "cell_type": "code",
   "execution_count": null,
   "id": "405bae1a-0390-487c-ae84-ca83b360beec",
   "metadata": {},
   "outputs": [],
   "source": [
    "for f in glob('../data/processed/*/*clean.fits'):\n",
    "    header = fits.getheader(f)\n",
    "    submode = header['SUBMODE']\n",
    "    instrument = header['INSTRUME']\n",
    "    if instrument == 'EMOS2':\n",
    "        print(f'{f:<60} {instrument:<6} {submode}')"
   ]
  },
  {
   "cell_type": "code",
   "execution_count": null,
   "id": "a803907e-7067-4b9a-bb34-948403817362",
   "metadata": {},
   "outputs": [],
   "source": [
    "header"
   ]
  },
  {
   "cell_type": "code",
   "execution_count": null,
   "id": "76075a5d-2500-4ca7-affb-665d047d1765",
   "metadata": {},
   "outputs": [],
   "source": [
    "from astropy.table import Table"
   ]
  },
  {
   "cell_type": "code",
   "execution_count": null,
   "id": "846d12c7-f9f2-4647-bc0c-b16e12c64527",
   "metadata": {},
   "outputs": [],
   "source": [
    "Table.read(evt, hdu=1)"
   ]
  },
  {
   "cell_type": "code",
   "execution_count": null,
   "id": "5000eea4-5ab4-44ea-bd3c-23e08fb8d76b",
   "metadata": {},
   "outputs": [],
   "source": []
  }
 ],
 "metadata": {
  "kernelspec": {
   "display_name": "Python 3 (ipykernel)",
   "language": "python",
   "name": "python3"
  },
  "language_info": {
   "codemirror_mode": {
    "name": "ipython",
    "version": 3
   },
   "file_extension": ".py",
   "mimetype": "text/x-python",
   "name": "python",
   "nbconvert_exporter": "python",
   "pygments_lexer": "ipython3",
   "version": "3.12.0"
  }
 },
 "nbformat": 4,
 "nbformat_minor": 5
}
