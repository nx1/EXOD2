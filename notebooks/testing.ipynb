{
 "cells": [
  {
   "cell_type": "code",
   "execution_count": null,
   "id": "4e92fcc4-73c4-41b5-bb74-583325a63ae3",
   "metadata": {},
   "outputs": [],
   "source": [
    "from exod.utils.path import data, data_raw\n",
    "from exod.pre_processing.download_observations import read_observation_ids\n",
    "from exod.pre_processing.read_events import read_EPIC_events_file, get_filtered_events_files, histogram_events_list\n",
    "\n",
    "from glob import glob\n",
    "import matplotlib.pyplot as plt\n",
    "from astropy.table import Table\n",
    "import numpy as np\n",
    "from scipy.stats import binned_statistic_dd\n",
    "from astropy.io import fits\n",
    "from itertools import combinations"
   ]
  },
  {
   "cell_type": "code",
   "execution_count": null,
   "id": "5834ec06-9034-47d0-a04d-1165e7f74887",
   "metadata": {},
   "outputs": [],
   "source": [
    "obsids = read_observation_ids(data / 'observations.txt')                                                  \n",
    "obsid = obsids[4]\n",
    "obsid = '0831790701'\n",
    "obsid = '0112570701'\n",
    "args = {'obsid':obsid,\n",
    "        'size_arcsec':15,\n",
    "        'time_interval':400,\n",
    "        'box_size':3,\n",
    "        'gti_only':True,\n",
    "        'min_energy':0.2,\n",
    "        'max_energy':12}"
   ]
  },
  {
   "cell_type": "code",
   "execution_count": null,
   "id": "6995e89d-2d21-4f59-8986-29dd1e538039",
   "metadata": {},
   "outputs": [],
   "source": [
    "%timeit fits.open('../data/processed/0001730201/P0001730201M1S001MIEVLI0000_FILT.fits')[1].header['TSTOP']"
   ]
  },
  {
   "cell_type": "code",
   "execution_count": null,
   "id": "d3d302c5-da86-4c3d-b11e-1bb2fcffb326",
   "metadata": {},
   "outputs": [],
   "source": [
    "%timeit fits.getheader('../data/processed/0001730201/P0001730201M1S001MIEVLI0000_FILT.fits', 1)['TSTOP']"
   ]
  },
  {
   "cell_type": "code",
   "execution_count": null,
   "id": "242790ac-733a-44bf-9821-4cfe83a33091",
   "metadata": {},
   "outputs": [],
   "source": [
    "files = get_filtered_events_files(obsid)"
   ]
  },
  {
   "cell_type": "code",
   "execution_count": null,
   "id": "be9b62d5-bc78-467f-a2eb-6ece03736b36",
   "metadata": {},
   "outputs": [],
   "source": [
    "file_intervals"
   ]
  },
  {
   "cell_type": "code",
   "execution_count": null,
   "id": "93144f6b-88fc-4077-b822-18b72d48ed5b",
   "metadata": {},
   "outputs": [],
   "source": []
  },
  {
   "cell_type": "code",
   "execution_count": null,
   "id": "07fb3302-b343-458b-a0ba-718538c13524",
   "metadata": {},
   "outputs": [],
   "source": [
    "or obsid in obsids:\n",
    "    try:\n",
    "        evt_subsets = get_overlapping_eventlist_subsets(obsid)\n",
    "    except Exception as e:\n",
    "        print(e)"
   ]
  },
  {
   "cell_type": "code",
   "execution_count": null,
   "id": "613ca98d-87dc-4309-99aa-43fe39fd1d53",
   "metadata": {},
   "outputs": [],
   "source": [
    "def plot_observation_times(obsid):\n",
    "    files = get_filtered_events_files(obsid)\n",
    "    plt.figure(figsize=(5,2))\n",
    "    colors = [f'C{i}' for i in range(1,10)]\n",
    "    file_intervals = {}\n",
    "    for i, f in enumerate(files):\n",
    "        hdul = fits.open(f)\n",
    "        h = hdul[1].header\n",
    "        TSTART, TSTOP = h['TSTART'], h['TSTOP']\n",
    "        \n",
    "        file_intervals[f] = [TSTART, TSTOP]\n",
    "        \n",
    "        tab = Table.read(f, hdu=1)\n",
    "        t0, tf = tab['TIME'].min(), tab['TIME'].max()\n",
    "        print(f'{TSTART:.2f}, {TSTOP:.2f}')\n",
    "        print(f'{t0:.2f}, {tf:.2f}')\n",
    "        print('====')\n",
    "        plt.hlines(y=i, xmin=t0, xmax=tf, label=f'{f.stem}', color=colors[i])\n",
    "        plt.hlines(y=i+0.5, xmin=TSTART, xmax=TSTOP, label=f'{f.stem}', color=colors[i])\n",
    "    plt.title(obsid)\n",
    "    plt.ylim(-1,len(files)+1)\n",
    "    plt.legend(bbox_to_anchor=[0,0,0,1])\n",
    "    plt.xlabel('Time (s)')    \n",
    "    plt.show()\n",
    "\n",
    "    grouped_intervals = group_overlapping_intervals(file_intervals)\n",
    "    for k, v in grouped_intervals.items():\n",
    "        print(k, v)\n",
    "    print(grouped_intervals)\n",
    "\n",
    "for obsid in obsids:\n",
    "    try:\n",
    "        plot_observation_times(obsid)\n",
    "    except Exception as e:\n",
    "        print(f'{e}')\n"
   ]
  },
  {
   "cell_type": "code",
   "execution_count": null,
   "id": "bec20a0a-5819-4d67-85c6-7a8e95d04602",
   "metadata": {},
   "outputs": [],
   "source": []
  },
  {
   "cell_type": "code",
   "execution_count": null,
   "id": "6e711ba6-4ef6-4bd1-9601-d4caf236741b",
   "metadata": {
    "scrolled": true
   },
   "outputs": [],
   "source": [
    "for obsid in obsids:\n",
    "    try:\n",
    "        files = get_filtered_events_files(obsid)\n",
    "        for f in files:\n",
    "            if 'PI' in f.stem:\n",
    "                tab = Table.read(f)\n",
    "                print(f)\n",
    "                \n",
    "    except FileNotFoundError:\n",
    "        pass\n",
    "        "
   ]
  },
  {
   "cell_type": "code",
   "execution_count": null,
   "id": "30ad1a92-1b7a-4891-ae2c-11b2dc5e15d5",
   "metadata": {},
   "outputs": [],
   "source": []
  },
  {
   "cell_type": "code",
   "execution_count": null,
   "id": "b21cca93-6aea-485c-a666-e42a2bf5cbd7",
   "metadata": {
    "scrolled": true
   },
   "outputs": [],
   "source": [
    "?binned_statistic_dd"
   ]
  },
  {
   "cell_type": "code",
   "execution_count": null,
   "id": "53382f42-25f2-4936-8eb5-c586167a69f6",
   "metadata": {
    "scrolled": true
   },
   "outputs": [],
   "source": [
    "for obsid in obsids:\n",
    "    print(obsid)\n",
    "    obsid_path = data_raw / obsid\n",
    "    try:\n",
    "        files = get_filtered_events_files(obsid)\n",
    "    except FileNotFoundError as e:\n",
    "        print(f'{e}')\n",
    "    for f in files:\n",
    "        tab = Table.read(f, hdu=1)\n",
    "        plt.figure(figsize=(5,5))\n",
    "        plt.scatter(tab['X'], tab['Y'], s=0.0001)\n",
    "        plt.show()\n",
    "    print('========================')"
   ]
  },
  {
   "cell_type": "code",
   "execution_count": null,
   "id": "89d3e261-3271-4d4f-9af0-1df6aca59447",
   "metadata": {},
   "outputs": [],
   "source": []
  },
  {
   "cell_type": "code",
   "execution_count": null,
   "id": "760d4a35-eb69-460f-89f9-6a440d4611c0",
   "metadata": {
    "scrolled": true
   },
   "outputs": [],
   "source": [
    "for obsid in obsids:\n",
    "    print(obsid)\n",
    "    obsid_path = data_raw / obsid\n",
    "    files = list(obsid_path.glob('*.FTZ'))\n",
    "    if not files:\n",
    "        print('No .FTZ files found!')\n",
    "        continue\n",
    "    print(f'{len(files)} .FTZ files found')\n",
    "\n",
    "    \n",
    "    for i, f in enumerate(files):\n",
    "        hdul = fits.open(f)\n",
    "        submode = hdul[0].header['SUBMODE']\n",
    "        tab = Table.read(f, hdu=1)\n",
    "        ccdnrs = np.unique(tab['CCDNR'])\n",
    "        N_ccds = len(ccdnrs)\n",
    "        fig, ax = plt.subplots(1, N_ccds, figsize=(3*N_ccds, 3))\n",
    "        try:\n",
    "            for i, ccdnr in enumerate(ccdnrs):\n",
    "                tab1 = tab[tab['CCDNR'] == ccdnr]\n",
    "                fig.suptitle(f'{f.stem} {submode}')\n",
    "                ax[i].set_facecolor('black')\n",
    "                ax[i].scatter(tab1['RAWX'], tab1['RAWY'], c=tab1['PI'], s=0.01, marker='.', cmap='coolwarm_r')\n",
    "        except TypeError:\n",
    "            ax.scatter(tab1['RAWX'], tab1['RAWY'], s=0.001)\n",
    "        plt.show()\n",
    "        \n",
    "    print('========================')"
   ]
  },
  {
   "cell_type": "code",
   "execution_count": null,
   "id": "26a4a636-6cf3-428f-ba6e-7410f6dc6f80",
   "metadata": {
    "scrolled": true
   },
   "outputs": [],
   "source": [
    "# espfilt eventfile=P0675010401PNS003PIEVLI0000_FILT.fits\n",
    "t1 = Table.read('../data/processed/0675010401/P0675010401PNS003PIEVLI0000_FILT.fits', hdu=1)\n",
    "t2 = Table.read('../data/processed/0675010401/pnS003-allevc.fits', hdu=1)\n",
    "t3 = Table.read('../data/processed/0675010401/pnS003-allimc.fits', hdu=1)\n",
    "t4 = Table.read('../data/processed/0675010401/pnS003-gti.fits', hdu=1)\n",
    "t4"
   ]
  },
  {
   "cell_type": "code",
   "execution_count": null,
   "id": "e94da3b5-13c5-4094-9384-5c1ad68e7585",
   "metadata": {},
   "outputs": [],
   "source": [
    "h1,b1 = histogram_events_list(t1, bin_size_seconds=10)\n",
    "h2,b2 = histogram_events_list(t2, bin_size_seconds=10)\n",
    "fig, ax = plt.subplots(2,1,figsize=(10,5), sharex=True)\n",
    "ax[0].scatter(b1[:-1], h1, marker='.')\n",
    "ax[1].scatter(b2[:-1], h2, marker='.')\n",
    "for r in t3:\n",
    "    ax[1].hlines(y=-10,xmin=r['START'], xmax=r['STOP'], color='red', lw=1.0)\n",
    "for r in t4:\n",
    "    ax[1].hlines(y=-10,xmin=r['START'], xmax=r['STOP'], color='cyan', lw=1.0)"
   ]
  },
  {
   "cell_type": "code",
   "execution_count": null,
   "id": "f1a05e8f-34df-4a5c-8889-16b5755b3375",
   "metadata": {},
   "outputs": [],
   "source": [
    "d1 = fits.open('../data/processed/0675010401/P0675010401PNS003PIEVLI0000_IMG.fits')[0].data\n",
    "d2 = fits.open('../data/processed/0675010401/pnS003-allimc.fits')[0].data"
   ]
  },
  {
   "cell_type": "code",
   "execution_count": null,
   "id": "d0713a46-bd4b-463c-981f-244def6577f7",
   "metadata": {},
   "outputs": [],
   "source": [
    "fig, ax = plt.subplots(1,2,figsize=(15,7.5))\n",
    "for a in ax:\n",
    "    a.set_facecolor('black')\n",
    "ax[0].set_title(f'Filtered Image sum:{np.sum(d1)}')\n",
    "ax[0].imshow(d1, norm=LogNorm(), interpolation='none', cmap='hot')\n",
    "ax[1].set_title(f'Filtered Image  + espfilt  sum:{np.sum(d2)}')\n",
    "ax[1].imshow(d2, norm=LogNorm(), interpolation='none', cmap='hot', origin='lower')"
   ]
  },
  {
   "cell_type": "code",
   "execution_count": null,
   "id": "70882ff6-5b79-4e1a-811b-6e6a2e168a03",
   "metadata": {},
   "outputs": [],
   "source": []
  },
  {
   "cell_type": "code",
   "execution_count": null,
   "id": "3f4a8ce9-c083-46f2-b1bd-dd0e2adc6c0f",
   "metadata": {},
   "outputs": [],
   "source": []
  }
 ],
 "metadata": {
  "kernelspec": {
   "display_name": "Python 3 (ipykernel)",
   "language": "python",
   "name": "python3"
  },
  "language_info": {
   "codemirror_mode": {
    "name": "ipython",
    "version": 3
   },
   "file_extension": ".py",
   "mimetype": "text/x-python",
   "name": "python",
   "nbconvert_exporter": "python",
   "pygments_lexer": "ipython3",
   "version": "3.12.0"
  }
 },
 "nbformat": 4,
 "nbformat_minor": 5
}
