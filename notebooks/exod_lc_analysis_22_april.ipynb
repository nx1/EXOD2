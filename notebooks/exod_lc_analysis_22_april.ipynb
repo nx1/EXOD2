{
 "cells": [
  {
   "cell_type": "code",
   "execution_count": null,
   "id": "17c9111b-1cf6-4b2b-8ca4-6af8b6f0c724",
   "metadata": {},
   "outputs": [],
   "source": [
    "import numpy as np\n",
    "import matplotlib.pyplot as plt\n",
    "from exod.utils.path import data_results\n",
    "from exod.post_processing.crossmatch import crossmatch_dr13_slim, crossmatch_tranin_dr12\n",
    "from exod.post_processing.collate_results import read_all_csv_1d, read_all_csv_regions\n",
    "from exod.post_processing.filter import FilterBase\n",
    "from exod.post_processing.filter import FilterRegArea, FilterRegBright, FilterRegMultipleDetections, FilterLcMinCounts, FilterLcMaxCounts, FilterLcBccdRatio, FilterLcLength\n",
    "from exod.post_processing.crossmatch import crossmatch_simbad\n",
    "import pandas as pd\n",
    "from glob import glob\n",
    "import re\n",
    "from itertools import combinations\n",
    "\n",
    "from astropy.visualization import hist\n",
    "from astropy.table import Table\n",
    "from astropy.coordinates import SkyCoord\n",
    "import astropy.units as u\n",
    "from scipy.stats import skew, kurtosis\n",
    "from tqdm import tqdm\n",
    "\n",
    "import pandas as pd\n",
    "from sklearn.preprocessing import StandardScaler\n",
    "from sklearn.metrics import silhouette_score\n",
    "from sklearn.cluster import KMeans, HDBSCAN\n",
    "from scipy.stats import ks_2samp\n",
    "import matplotlib.pyplot as plt\n",
    "import seaborn as sns\n",
    "\n",
    "\n",
    "pd.set_option('display.max_rows', 20)"
   ]
  },
  {
   "cell_type": "code",
   "execution_count": null,
   "id": "12b50673-7b89-4f4f-b93e-d0f719c945f4",
   "metadata": {},
   "outputs": [],
   "source": [
    "def get_lcs(filepath, obsid, subset):\n",
    "    csv_lc  = glob(f'{filepath}{obsid}/subset_{subset}/lcs.csv')\n",
    "    df_lc = pd.read_csv(csv_lc[0])\n",
    "    return df_lc"
   ]
  },
  {
   "cell_type": "code",
   "execution_count": null,
   "id": "96663ea0-41b3-45f8-b36b-f00f56af6bd5",
   "metadata": {},
   "outputs": [],
   "source": [
    "# Load EventList Informations and Regions\n",
    "filepath = '../data/results_combined/t_50s_2_12/'\n",
    "df_evt = read_all_csv_1d(glob_pattern=f'{filepath}*/*/*evt_info.csv')\n",
    "df_evt['dt'] = pd.to_datetime(df_evt['date'])\n",
    "df_evt.sort_values('dt', ascending=False)\n",
    "df_regions = read_all_csv_regions(glob_pattern=f'{filepath}*/*/*regions.csv')"
   ]
  },
  {
   "cell_type": "code",
   "execution_count": null,
   "id": "039f0ec2-675b-4685-a053-54665e9c3eb2",
   "metadata": {},
   "outputs": [],
   "source": [
    "# Crossmatch with CLAXBOI Table and append columns to regions\n",
    "tab_tranin_cmatch = crossmatch_tranin_dr12(df_regions)\n",
    "cols = ['PbaC0','PbaC1','PbaC2','PbaC3','PbaC4','PbaC5','PbaC6', 'SEP', 'SEP_ARCSEC']\n",
    "df_regions = pd.concat([df_regions, tab_tranin_cmatch[cols].to_pandas()], axis=1)\n",
    "df_regions"
   ]
  },
  {
   "cell_type": "code",
   "execution_count": null,
   "id": "6e5b9211-0429-44a0-b9c7-535fcce6b581",
   "metadata": {},
   "outputs": [],
   "source": [
    "# Filtering at the region level\n",
    "filters_reg = [FilterRegMultipleDetections('multiple_detections', n_obs=10),\n",
    "               FilterRegBright('max_intensity', max_intensity_mean=5000),\n",
    "               FilterRegArea('max_bbox', max_area_bbox=25)]\n",
    "\n",
    "df_regions_filtered = df_regions.copy()\n",
    "for f in filters_reg:\n",
    "    df_regions_filtered = f.apply(df_regions_filtered)\n",
    "    print(f.info())"
   ]
  },
  {
   "cell_type": "code",
   "execution_count": null,
   "id": "68ca397e-9172-4be0-9893-c84947c70e18",
   "metadata": {},
   "outputs": [],
   "source": [
    "# Read all lightcurves and extract features\n",
    "all_res = []\n",
    "for i, row in tqdm(df_regions_filtered.iterrows()):\n",
    "    obsid   = row['obsid']\n",
    "    subset  = row['subset']\n",
    "    label   = row['label']\n",
    "    csv_lc  = glob(f'{filepath}{obsid}/subset_{subset}/lcs.csv')\n",
    "    df_lc = pd.read_csv(csv_lc[0])\n",
    "    \n",
    "    n  = df_lc[f'n_{label-1}']\n",
    "    mu = df_lc[f'mu_{label-1}']\n",
    "    B_peak  = df_lc[f'B_peak_{label-1}']\n",
    "    B_eclipse = df_lc[f'B_eclipse_{label-1}']\n",
    "\n",
    "    ks = ks_2samp(n, mu)\n",
    "    \n",
    "    length     = len(df_lc)\n",
    "    n_bccd     = df_lc['bccd'].sum()\n",
    "    n_bti      = df_lc['bti'].sum()\n",
    "    ratio_bccd = n_bccd / length\n",
    "    ratio_bti  = n_bti / length\n",
    "\n",
    "    y = n - mu\n",
    "    y = np.where(y<0, 0, y) #.astype(int)\n",
    "    res = {'obsid'  : obsid,\n",
    "           'subset' : subset,\n",
    "           'label'  : label,\n",
    "           'mean'   : np.mean(y),\n",
    "           'std'    : np.std(y),\n",
    "           'var'    : np.var(y),\n",
    "           'cv'     : np.std(y) / np.mean(y),\n",
    "           'median' : np.median(y),\n",
    "           # 'mode'   : np.argmax(np.bincount(y)),\n",
    "           'skew'   : skew(y),\n",
    "           'kurt'   : kurtosis(y),\n",
    "           'min'    : np.min(y),\n",
    "           'max'    : np.max(y),\n",
    "           'range'  : np.max(y) - np.min(y),\n",
    "           'len'    : length,\n",
    "           'n_bccd' : n_bccd,\n",
    "           'n_bti'  : n_bti,\n",
    "           'ratio_bccd' : ratio_bccd,\n",
    "           'ratio_bti'  : ratio_bti,\n",
    "           'ks_stat': ks.statistic,\n",
    "           'ks_pval': ks.pvalue}\n",
    "    all_res.append(res)\n",
    "\n",
    "df_lc_stats = pd.DataFrame(all_res)\n",
    "df_lc_stats\n"
   ]
  },
  {
   "cell_type": "code",
   "execution_count": null,
   "id": "8ae9ed5c-f96c-432b-b9fe-1f1d0ba9a7fc",
   "metadata": {},
   "outputs": [],
   "source": [
    "df_regions_filtered"
   ]
  },
  {
   "cell_type": "code",
   "execution_count": null,
   "id": "1df11fd0-b2c4-41b1-9543-19041fd0e7c2",
   "metadata": {},
   "outputs": [],
   "source": [
    "df_regions_filtered = df_regions_filtered.reset_index(drop=True)\n",
    "cols = ['PbaC0','PbaC1','PbaC2','PbaC3','PbaC4','PbaC5','PbaC6', 'SEP', 'SEP_ARCSEC']\n",
    "df_lc_stats = pd.concat([df_lc_stats, df_regions_filtered[cols]], axis=1)"
   ]
  },
  {
   "cell_type": "code",
   "execution_count": null,
   "id": "b75464e3-a900-4cbd-9d91-b3f526d52234",
   "metadata": {},
   "outputs": [],
   "source": [
    "# Filtering at the lightcurve level\n",
    "filters_lc = [FilterLcMinCounts('min_counts', min_counts=5),\n",
    "              FilterLcMaxCounts('max_counts', max_counts=10*50),\n",
    "              FilterLcBccdRatio('bccd_ratio_max', ratio_bccd_max=0.5),\n",
    "              FilterLcLength('min_length', min_length=int(10000/50))]\n",
    "\n",
    "df_lc_stats_filtered = df_lc_stats.copy()\n",
    "for f in filters_lc:\n",
    "    df_lc_stats_filtered = f.apply(df_lc_stats_filtered)\n",
    "    print(f.info())"
   ]
  },
  {
   "cell_type": "code",
   "execution_count": null,
   "id": "35c9ffe4-63cb-46b0-aa58-50e8e55bee3a",
   "metadata": {},
   "outputs": [],
   "source": [
    "# Show Filter results.\n",
    "filter_info_reg    = [f.info() for f in filters_reg]\n",
    "filter_info_lc     = [f.info() for f in filters_lc]\n",
    "all_filter_info    = filter_info_reg + filter_info_lc\n",
    "df_all_filter_info = pd.DataFrame(all_filter_info)\n",
    "df_all_filter_info"
   ]
  },
  {
   "cell_type": "code",
   "execution_count": null,
   "id": "48feaaeb-dc48-41c0-bf6d-c67a1ad95574",
   "metadata": {},
   "outputs": [],
   "source": [
    "# Filter to only include common detections\n",
    "columns = ['obsid', 'subset', 'label']\n",
    "df_merged = df_lc_stats_filtered.merge(df_regions_filtered[columns], on=columns, how='inner')\n",
    "df_merged"
   ]
  },
  {
   "cell_type": "code",
   "execution_count": null,
   "id": "7d5f37cd-a5e0-4594-86a1-b66bd0a6bf60",
   "metadata": {},
   "outputs": [],
   "source": [
    "# Get removed DataFrames\n",
    "df_regions_removed = pd.concat([f.df_removed for f in filters_reg])\n",
    "df_lcs_removed     = pd.concat([f.df_removed for f in filters_lc])"
   ]
  },
  {
   "cell_type": "code",
   "execution_count": null,
   "id": "e20a6bd5-f0ed-494e-9d79-01100d226c41",
   "metadata": {},
   "outputs": [],
   "source": [
    "class FilterRegSeperation(FilterBase):\n",
    "    def __init__(self, name, max_sep):\n",
    "        self.name = name\n",
    "        self.max_sep = max_sep\n",
    "\n",
    "    def get_parameters(self):\n",
    "        return {'max_sep' : self.max_sep}\n",
    "    def apply(self, df_regions):\n",
    "        self.df = df_regions\n",
    "        mask = self.df['SEP_ARCSEC'] < self.max_sep\n",
    "        self.df_filtered = self.df[mask]\n",
    "        self.df_removed  = self.df[~mask] \n",
    "        return self.df_filtered\n",
    "\n",
    "f = FilterRegSeperation('max_sep', 20)\n",
    "df_lc_stats_filtered = f.apply(df_lc_stats_filtered)\n",
    "df_lc_stats_filtered_no_counterpart = f.df_removed\n",
    "print(f.info())"
   ]
  },
  {
   "cell_type": "code",
   "execution_count": null,
   "id": "0ede8c56-0299-44d4-830f-606e80edca0e",
   "metadata": {},
   "outputs": [],
   "source": [
    "# Clustering with K Means\n",
    "df_features = df_lc_stats_filtered\n",
    "\n",
    "cols = ['mean', 'std', 'var', 'cv', 'median', 'skew', 'kurt', 'min', 'max', 'range', 'ks_pval', 'PbaC1', 'PbaC2', 'PbaC3', 'PbaC4', 'PbaC5', 'PbaC6']\n",
    "#df_features[cols] = df_features[cols].apply(lambda x: np.log1p(x))\n",
    "df_features = df_features[~df_features.isna().any(axis=1)]\n",
    "\n",
    "X = df_features[cols]\n",
    "scaler = StandardScaler()\n",
    "X_scaled = scaler.fit_transform(X)\n",
    "\n",
    "n_clusters = 3\n",
    "\n",
    "all_res = []\n",
    "for n_clusters in range(2,20):\n",
    "    kmeans = KMeans(n_clusters=n_clusters, n_init=10, random_state=42)\n",
    "    df_features['cluster'] = kmeans.fit_predict(X_scaled)\n",
    "    \n",
    "    res = {'n_clusters' : n_clusters,\n",
    "           'inertia'    : kmeans.inertia_,\n",
    "           'silhouette' : silhouette_score(X, kmeans.labels_)}\n",
    "    all_res.append(res)\n",
    "\n",
    "metrics = pd.DataFrame(all_res)\n",
    "print(metrics)\n",
    "\n",
    "\n",
    "# intertia and Silhouette score vs n clusters\n",
    "fig, ax = plt.subplots(2,1, figsize=(8,5), sharex=True)\n",
    "ax[0].plot(metrics['n_clusters'], metrics['inertia'])\n",
    "ax[1].plot(metrics['n_clusters'], metrics['silhouette'])\n",
    "ax[1].set_xlabel('N_clusters (k)')\n",
    "ax[0].set_ylabel('Intertia')\n",
    "ax[1].set_ylabel('Silhoutte Score')\n",
    "plt.show()"
   ]
  },
  {
   "cell_type": "code",
   "execution_count": null,
   "id": "93eda577-835d-48e3-ae88-e890bbdb2701",
   "metadata": {},
   "outputs": [],
   "source": [
    "n_clusters = 3\n",
    "kmeans = KMeans(n_clusters=n_clusters, n_init=10, random_state=42)\n",
    "df_features['cluster'] = kmeans.fit_predict(X_scaled)\n",
    "print(df_features['cluster'].value_counts())"
   ]
  },
  {
   "cell_type": "code",
   "execution_count": null,
   "id": "36bd03f4-c995-4b15-9bce-75764b920334",
   "metadata": {},
   "outputs": [],
   "source": [
    "for c in range(n_clusters):\n",
    "    sub = df_features[df_features['cluster'] == c].reset_index(drop=True)\n",
    "    plt.figure(figsize=(17,20))\n",
    "    plt.title(f'Cluster={c} num={len(sub)}')\n",
    "    for i, row in sub.iterrows():\n",
    "        obsid = row['obsid']\n",
    "        subset = row['subset']\n",
    "        label = row['label']\n",
    "        \n",
    "        df_lc = get_lcs(filepath, obsid, subset)\n",
    "        t0 = df_lc['time'] - df_lc['time'].min()\n",
    "        y  = df_lc[f'n_{label-1}'] - df_lc[f'mu_{label-1}']\n",
    "        y  = np.where(y<0, 0, y).astype(int)\n",
    "        plt.plot(t0, 5*i+y, lw=0.8)\n",
    "    plt.show()"
   ]
  },
  {
   "cell_type": "code",
   "execution_count": null,
   "id": "5c827c0a-f512-4456-aa15-7ed1ecd0b993",
   "metadata": {},
   "outputs": [],
   "source": [
    "df_features[df_features['cluster'] == 2]"
   ]
  },
  {
   "cell_type": "code",
   "execution_count": null,
   "id": "f8f82927-39f5-4765-bc5b-c0f00f46900d",
   "metadata": {},
   "outputs": [],
   "source": [
    "# Add DateTime column to regions df\n",
    "df_evt = df_evt[df_evt['obsid'].isin(df_regions['obsid'])]\n",
    "df_evt = df_evt.drop_duplicates(subset=['obsid'])\n",
    "\n",
    "df_regions_filtered = df_regions_filtered.merge(df_evt[['obsid', 'dt']], on='obsid', how='left')\n",
    "df_regions_filtered = df_regions_filtered.sort_values('dt', ascending=False).reset_index(drop=True)\n",
    "df_regions_filtered"
   ]
  },
  {
   "cell_type": "code",
   "execution_count": null,
   "id": "030bea6d-a17f-4c39-aab3-741adcb249a6",
   "metadata": {
    "scrolled": true
   },
   "outputs": [],
   "source": [
    "tab_xmm_cmatch = crossmatch_dr13_slim(df_regions_filtered)\n",
    "tab_xmm_cmatch"
   ]
  },
  {
   "cell_type": "code",
   "execution_count": null,
   "id": "399fff77-405d-414d-a8e6-e18c9189f0cf",
   "metadata": {
    "jupyter": {
     "source_hidden": true
    }
   },
   "outputs": [],
   "source": [
    "# Write lightcurves to html file.\n",
    "#with open('lightcurves.html', 'w+') as f:\n",
    "for i, row in tqdm(df_regions_filtered.iterrows()):\n",
    "    obsid   = row['obsid']\n",
    "    subset  = row['subset']\n",
    "    label   = row['label']\n",
    "    ra      = row['ra']\n",
    "    dec     = row['dec']\n",
    "    ra_deg  = row['ra_deg']\n",
    "    dec_deg = row['dec_deg']\n",
    "    \n",
    "    csv_evt = glob(f'{filepath}{obsid}/subset_{subset}/evt_info.csv')\n",
    "    img_png = glob(f'{filepath}{obsid}/subset_{subset}/*detection_img.png')\n",
    "    \n",
    "    df_lc = get_lcs(filepath=filepath, obsid=obsid, subset=subset)\n",
    "    df_evt = pd.read_csv(csv_evt[0])\n",
    "    \n",
    "    inst  = df_evt.iloc[2].iloc[1]\n",
    "    date  = df_evt.iloc[4].iloc[1]\n",
    "    obj   = df_evt.iloc[5].iloc[1]\n",
    "    \n",
    "    \n",
    "    tab_closest = tab_xmm_cmatch[i]\n",
    "    c_ra      = tab_closest['SC_RA']\n",
    "    c_dec     = tab_closest['SC_DEC']\n",
    "    c_webpage = tab_closest['WEBPAGE_URL']    \n",
    "    c_var     = tab_closest['SC_VAR_FLAG']\n",
    "    c_sep     = tab_closest['SEP_ARCSEC']\n",
    "    c_flux_8  = tab_closest['SC_EP_8_FLUX']\n",
    "    \n",
    "    n = label - 1\n",
    "    \n",
    "    \n",
    "    aladin_link_orig = f'<a href=\"#!\" onclick=\"goToCoordinates(\\'{ra_deg} {dec_deg}\\')\">{ra_deg} {dec_deg}</a>'\n",
    "    aladin_link_xmm  = f'<a href=\"#!\" onclick=\"goToCoordinates(\\'{c_ra} {c_dec}\\')\">{c_ra} {c_dec}</a>'\n",
    "    img_tag          = f'<img src=\"lcs_t_50_E_02_20/{i}.png\">'\n",
    "    \n",
    "    esasky = f'https://sky.esa.int/esasky/?target={ra_deg}-{dec_deg}&hips=XMM-Newton+EPIC+color&fov=0.25&cooframe=J2000&sci=true&lang=en'\n",
    "    simbad = f'https://simbad.cds.unistra.fr/simbad/sim-basic?Ident={ra_deg}+{dec_deg}'\n",
    "    xsa    = f'https://nxsa.esac.esa.int/nxsa-web/#obsid={obsid}'\n",
    "    \n",
    "    \n",
    "    # f.write(f'{i}/{len(df_regions)} | {obsid} ({subset}) | {obj} | {date} | {inst}\\n')\n",
    "    # f.write(f'{aladin_link_orig} <-- DETECTED AT ({ra} {dec})\\n')\n",
    "    # f.write(f'{aladin_link_xmm} <-- XMM DR13 Crossmatch: (sep={c_sep:.2f}\"):  | SC_VAR_FLAG={c_var} | SC_EP_8_FLUX (0.2-12.0) = {c_flux_8:.3e}\\n')\n",
    "    # f.write(f'<a href=\"{c_webpage}\">{c_webpage}</a>\\n')\n",
    "    # f.write(f'<a href=\"{simbad}\">{simbad}</a>\\n')\n",
    "    # f.write(f'<a href=\"{esasky}\">{esasky}</a>\\n')\n",
    "    # f.write(f'<a href=\"{xsa}\">{xsa}</a>\\n')\n",
    "    # f.write(f'{img_tag}\\n')\n",
    "    \n",
    "    # print(aladin_link_orig)\n",
    "    # print(aladin_link_xmm)\n",
    "    # print(f'{i}/{len(df_regions)} | {obsid} ({subset}) | {obj} | {date} | {inst}')\n",
    "    # print(f'{ra_deg} {dec_deg} <-- DETECTED AT ({ra} {dec}) ')\n",
    "    # print(f'{c_ra} {c_dec} <-- XMM DR13 Crossmatch: (sep={c_sep:.2f}\"):  | SC_VAR_FLAG={c_var} | SC_EP_8_FLUX (0.2-12.0) = {c_flux_8:.3e}')\n",
    "    # print(f'{c_webpage}')\n",
    "    # print(f'{esasky}')\n",
    "    # print(f'{simbad}')\n",
    "    # print(f'{xsa}')\n",
    "    # print(f'{img_tag}')\n",
    "    \n",
    "    # plt.figure(figsize=(15,3))\n",
    "    # t0 = df_lc['time'] - df_lc['time'][0]\n",
    "    # plt.plot(t0, df_lc[f'n_{n}'], color='black', label='Observed (n)', lw=1.0)\n",
    "    # plt.plot(t0, df_lc[f'mu_{n}'], color='red', label=r'Expected ($\\mu$)', lw=1.0)\n",
    "    # plt.legend()\n",
    "    # plt.tight_layout()\n",
    "    # plt.savefig(f'lcs_t_50_E_02_20/{i}.png')\n",
    "    # plt.close()\n",
    "    # plt.clf()\n",
    "    #plt.show()\n",
    "    \n",
    "    # im = plt.imread(img_png[0])\n",
    "    #plt.figure(figsize=(15,15))\n",
    "    #plt.imshow(im)\n",
    "    #plt.axis('off')\n",
    "    ##plt.tight_layout()\n",
    "    #plt.show()"
   ]
  },
  {
   "cell_type": "code",
   "execution_count": null,
   "id": "e583a519-ed75-4425-989c-cd1824587637",
   "metadata": {},
   "outputs": [],
   "source": [
    "df_regions_filtered"
   ]
  },
  {
   "cell_type": "code",
   "execution_count": null,
   "id": "2979c42a-2606-4498-90a3-317ae76614dd",
   "metadata": {},
   "outputs": [],
   "source": [
    "X"
   ]
  },
  {
   "cell_type": "code",
   "execution_count": null,
   "id": "182592e3-19e8-4050-a154-d902c547cbc2",
   "metadata": {},
   "outputs": [],
   "source": [
    "df_lc_stats_filtered_no_counterpart.columns"
   ]
  },
  {
   "cell_type": "code",
   "execution_count": null,
   "id": "ea938d15-e5de-4483-a4dc-dbe0893c288b",
   "metadata": {},
   "outputs": [],
   "source": [
    "for i, row in tqdm(df_lc_stats_filtered_no_counterpart.iterrows()):\n",
    "    obsid   = row['obsid']\n",
    "    subset  = row['subset']\n",
    "    label   = row['label']\n",
    "    ra      = row['ra']\n",
    "    dec     = row['dec']\n",
    "    ra_deg  = row['ra_deg']\n",
    "    dec_deg = row['dec_deg']\n",
    "    \n",
    "    csv_evt = glob(f'{filepath}{obsid}/subset_{subset}/evt_info.csv')\n",
    "    img_png = glob(f'{filepath}{obsid}/subset_{subset}/*detection_img.png')\n",
    "    \n",
    "    df_lc = get_lcs(filepath=filepath, obsid=obsid, subset=subset)\n",
    "    df_evt = pd.read_csv(csv_evt[0])\n",
    "    \n",
    "    inst  = df_evt.iloc[2].iloc[1]\n",
    "    date  = df_evt.iloc[4].iloc[1]\n",
    "    obj   = df_evt.iloc[5].iloc[1]\n",
    "    \n",
    "    \n",
    "    tab_closest = tab_xmm_cmatch[i]\n",
    "    c_ra      = tab_closest['SC_RA']\n",
    "    c_dec     = tab_closest['SC_DEC']\n",
    "    c_webpage = tab_closest['WEBPAGE_URL']    \n",
    "    c_var     = tab_closest['SC_VAR_FLAG']\n",
    "    c_sep     = tab_closest['SEP_ARCSEC']\n",
    "    c_flux_8  = tab_closest['SC_EP_8_FLUX']\n",
    "    \n",
    "    n = label - 1\n",
    "    \n",
    "    \n",
    "    aladin_link_orig = f'<a href=\"#!\" onclick=\"goToCoordinates(\\'{ra_deg} {dec_deg}\\')\">{ra_deg} {dec_deg}</a>'\n",
    "    aladin_link_xmm  = f'<a href=\"#!\" onclick=\"goToCoordinates(\\'{c_ra} {c_dec}\\')\">{c_ra} {c_dec}</a>'\n",
    "    img_tag          = f'<img src=\"lcs_t_50_E_02_20/{i}.png\">'\n",
    "    \n",
    "    esasky = f'https://sky.esa.int/esasky/?target={ra_deg}-{dec_deg}&hips=XMM-Newton+EPIC+color&fov=0.25&cooframe=J2000&sci=true&lang=en'\n",
    "    simbad = f'https://simbad.cds.unistra.fr/simbad/sim-basic?Ident={ra_deg}+{dec_deg}'\n",
    "    xsa    = f'https://nxsa.esac.esa.int/nxsa-web/#obsid={obsid}'\n",
    "    \n",
    "    \n",
    "    print(aladin_link_orig)\n",
    "    print(aladin_link_xmm)\n",
    "    print(f'{i}/{len(df_regions)} | {obsid} ({subset}) | {obj} | {date} | {inst}')\n",
    "    print(f'{ra_deg} {dec_deg} <-- DETECTED AT ({ra} {dec}) ')\n",
    "    print(f'{c_ra} {c_dec} <-- XMM DR13 Crossmatch: (sep={c_sep:.2f}\"):  | SC_VAR_FLAG={c_var} | SC_EP_8_FLUX (0.2-12.0) = {c_flux_8:.3e}')\n",
    "    print(f'{c_webpage}')\n",
    "    print(f'{esasky}')\n",
    "    print(f'{simbad}')\n",
    "    print(f'{xsa}')\n",
    "    print(f'{img_tag}')\n",
    "\n",
    "    plt.figure(figsize=(15,3))\n",
    "    t0 = df_lc['time'] - df_lc['time'][0]\n",
    "    plt.plot(t0, df_lc[f'n_{n}'], color='black', label='Observed (n)', lw=1.0)\n",
    "    plt.plot(t0, df_lc[f'mu_{n}'], color='red', label=r'Expected ($\\mu$)', lw=1.0)\n",
    "    plt.legend()\n",
    "    plt.tight_layout()\n",
    "    plt.savefig(f'lcs_t_50_E_02_20/{i}.png')\n",
    "    plt.close()\n",
    "    plt.clf()\n",
    "    plt.show()\n",
    "    \n",
    "    # im = plt.imread(img_png[0])\n",
    "    #plt.figure(figsize=(15,15))\n",
    "    #plt.imshow(im)\n",
    "    #plt.axis('off')\n",
    "    ##plt.tight_layout()\n",
    "    #plt.show()"
   ]
  },
  {
   "cell_type": "code",
   "execution_count": null,
   "id": "a201bbf4-a8ce-420d-a56f-a63f450aa16d",
   "metadata": {},
   "outputs": [],
   "source": [
    "# Plot Lightcurves\n",
    "#for i, row in df_regions_removed.iterrows():\n",
    "for i, row in df_lc_stats_filtered_no_counterpart.iterrows():    \n",
    "    obsid = row['obsid']\n",
    "    subset = row['subset']\n",
    "    label = row['label']\n",
    "    \n",
    "    df_lc = get_lcs(filepath, obsid, subset)\n",
    "    t0 = df_lc['time'] - df_lc['time'].min()\n",
    "    print(f'{obsid} {subset} {label}')\n",
    "    plt.figure(figsize=(12,3))\n",
    "    plt.step(t0, df_lc[f'n_{label-1}'], lw=1.0, color='black')\n",
    "    plt.step(t0, df_lc[f'mu_{label-1}'], lw=1.0, color='red')\n",
    "    \n",
    "    plt.show()"
   ]
  },
  {
   "cell_type": "code",
   "execution_count": null,
   "id": "142a00b1-e117-4dfa-ae69-922197d40cd1",
   "metadata": {},
   "outputs": [],
   "source": [
    "\n"
   ]
  },
  {
   "cell_type": "code",
   "execution_count": null,
   "id": "b9155b20-8bb6-427b-84f6-dec4ee5fde7f",
   "metadata": {},
   "outputs": [],
   "source": [
    "def sigmoid(x, a=1, b=1):\n",
    "    return 1 / (1 + np.exp(-a*(x-b)))\n",
    "\n",
    "def exponential_decay(x, a=0.1):\n",
    "    return np.exp(-a * x)\n",
    "\n",
    "\n",
    "x = np.arange(0,100)\n",
    "y = sigmoid(x, a=1, b=40) * exponential_decay(x, a=0.1)\n",
    "\n",
    "lc = get_lcs(filepath=filepath, obsid='0008030201', subset='0')\n",
    "lc2 = get_lcs(filepath=filepath, obsid='0781830601', subset='0')\n",
    "\n",
    "c1 = np.convolve(lc['n_1'], y)\n",
    "c2 = np.convolve(lc2['n_0'], y)\n",
    "\n",
    "fig, ax = plt.subplots(3,2,figsize=(8,6), sharex=True)\n",
    "ax[0][0].plot(x,y)\n",
    "ax[1][0].plot(lc['n_1'])\n",
    "ax[2][0].plot(c1)\n",
    "\n",
    "ax[0][1].plot(x,y)\n",
    "ax[1][1].plot(lc2['n_0'])\n",
    "ax[2][1].plot(c2)\n",
    "\n",
    "plt.show()\n",
    "print(f'{c1.sum()} {c2.sum()}')\n",
    "print(f'{c1.max()} {c2.max()}')"
   ]
  },
  {
   "cell_type": "code",
   "execution_count": null,
   "id": "90b2221d-5ac9-4a91-9c23-dbed2c31037b",
   "metadata": {},
   "outputs": [],
   "source": []
  },
  {
   "cell_type": "code",
   "execution_count": null,
   "id": "19ef0240-4b6c-490a-88ba-c589f1544b60",
   "metadata": {},
   "outputs": [],
   "source": [
    "from tsfresh import extract_features\n",
    "extracted_features = extract_features(timeseries, column_id=\"id\", column_sort=\"time\")\n"
   ]
  },
  {
   "cell_type": "code",
   "execution_count": null,
   "id": "bcc70266-b312-41c2-9210-f231f291221a",
   "metadata": {},
   "outputs": [],
   "source": []
  },
  {
   "cell_type": "code",
   "execution_count": null,
   "id": "ec5957f2-7cf8-4be1-81ac-a8963299f699",
   "metadata": {},
   "outputs": [],
   "source": [
    "# Read all lightcurves and extract features\n",
    "t_ = []\n",
    "id_ = []\n",
    "n_ = []\n",
    "mu_ = []\n",
    "B_peak_ = []\n",
    "B_eclipse_ = []\n",
    "\n",
    "all_res = []\n",
    "for i, row in tqdm(df_regions_filtered.iterrows()):\n",
    "    obsid   = row['obsid']\n",
    "    subset  = row['subset']\n",
    "    label   = row['label']\n",
    "    csv_lc  = glob(f'{filepath}{obsid}/subset_{subset}/lcs.csv')\n",
    "    df_lc = pd.read_csv(csv_lc[0])\n",
    "\n",
    "    t  = df_lc[f'time'] - df_lc[f'time'].min()\n",
    "    n  = df_lc[f'n_{label-1}']\n",
    "    mu = df_lc[f'mu_{label-1}']\n",
    "    B_peak  = df_lc[f'B_peak_{label-1}']\n",
    "    B_eclipse = df_lc[f'B_eclipse_{label-1}']\n",
    "\n",
    "    \n",
    "    t_.extend(list(t.values))\n",
    "    id_.extend([i] * len(n))\n",
    "    n_ .extend(list(n.values))\n",
    "    mu_.extend(list(mu.values))\n",
    "    B_peak_.extend(list(B_peak.values))\n",
    "    B_eclipse_.extend(list(B_eclipse.values))\n",
    "\n",
    "    \n",
    "    res = {'n':n,\n",
    "           'mu':mu,\n",
    "           'B_peak':B_peak,\n",
    "           'B_eclipse':B_eclipse}\n",
    "    all_res.append(res)\n",
    "\n",
    "\n"
   ]
  },
  {
   "cell_type": "code",
   "execution_count": null,
   "id": "f628e06d-6792-427f-aece-102c8769ceba",
   "metadata": {},
   "outputs": [],
   "source": [
    "r = {'id':id_,\n",
    "     't':t_,\n",
    "     'n':n_,\n",
    "     'mu':mu_}\n",
    "     #'B_peak':B_peak_,\n",
    "     #'B_eclipse':B_eclipse_}\n",
    "\n",
    "all_lcs = pd.DataFrame(r)\n",
    "all_lcs"
   ]
  },
  {
   "cell_type": "code",
   "execution_count": null,
   "id": "050d7cd5-3d1b-4557-9904-63ef8eb3c019",
   "metadata": {},
   "outputs": [],
   "source": [
    "extracted_features = extract_features(all_lcs, column_id=\"id\", column_sort='t')"
   ]
  },
  {
   "cell_type": "code",
   "execution_count": null,
   "id": "7c9ef55b-20b5-4a4d-a958-8ca05cb28931",
   "metadata": {},
   "outputs": [],
   "source": [
    "extracted_features.to_csv('extracted_features_df_regions_filtered_4222.csv')"
   ]
  },
  {
   "cell_type": "code",
   "execution_count": null,
   "id": "ee04ec1f-f928-4030-9124-ad6c74875fb2",
   "metadata": {},
   "outputs": [],
   "source": [
    "from tsfresh import select_features\n",
    "from tsfresh.utilities.dataframe_functions import impute\n",
    "\n",
    "impute(extracted_features)\n"
   ]
  },
  {
   "cell_type": "code",
   "execution_count": null,
   "id": "7e03a087-6a23-4799-9873-736e684ffb19",
   "metadata": {},
   "outputs": [],
   "source": [
    "extracted_features"
   ]
  },
  {
   "cell_type": "code",
   "execution_count": null,
   "id": "17bb0ddf-5bab-4b8c-bbbb-4420c399a62b",
   "metadata": {},
   "outputs": [],
   "source": []
  },
  {
   "cell_type": "code",
   "execution_count": null,
   "id": "d47d2483-0932-4a70-9537-79d67fb2810a",
   "metadata": {},
   "outputs": [],
   "source": [
    "b = np.array([])"
   ]
  },
  {
   "cell_type": "code",
   "execution_count": null,
   "id": "a8624cba-89ba-4677-9983-2230de0151ce",
   "metadata": {},
   "outputs": [],
   "source": [
    "B_peak.values"
   ]
  },
  {
   "cell_type": "code",
   "execution_count": null,
   "id": "e1f7e3bb-9789-47be-ae7d-b4764b59ae1b",
   "metadata": {},
   "outputs": [],
   "source": [
    "df_lc_stats_filtered_no_counterpart"
   ]
  },
  {
   "cell_type": "code",
   "execution_count": null,
   "id": "5d4118fb-a791-4246-bfc1-0be48b31743b",
   "metadata": {},
   "outputs": [],
   "source": []
  }
 ],
 "metadata": {
  "kernelspec": {
   "display_name": "Python 3 (ipykernel)",
   "language": "python",
   "name": "python3"
  },
  "language_info": {
   "codemirror_mode": {
    "name": "ipython",
    "version": 3
   },
   "file_extension": ".py",
   "mimetype": "text/x-python",
   "name": "python",
   "nbconvert_exporter": "python",
   "pygments_lexer": "ipython3",
   "version": "3.12.0"
  }
 },
 "nbformat": 4,
 "nbformat_minor": 5
}
