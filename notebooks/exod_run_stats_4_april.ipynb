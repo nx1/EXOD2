{
 "cells": [
  {
   "cell_type": "code",
   "execution_count": null,
   "id": "3ee89885-538a-49fd-89af-3487a451dbdb",
   "metadata": {},
   "outputs": [],
   "source": [
    "import numpy as np\n",
    "import matplotlib.pyplot as plt\n",
    "from exod.utils.path import data_results\n",
    "import pandas as pd\n",
    "from glob import glob\n",
    "import re\n",
    "\n",
    "from astropy.visualization import hist\n",
    "from astropy.table import Table\n",
    "from astropy.coordinates import SkyCoord, match_coordinates_sky\n",
    "import astropy.units as u\n",
    "\n",
    "pd.set_option('display.max_rows', 20)"
   ]
  },
  {
   "cell_type": "code",
   "execution_count": null,
   "id": "39964efa-45a2-4d8c-8bb5-035d3e288fc7",
   "metadata": {},
   "outputs": [],
   "source": []
  },
  {
   "cell_type": "code",
   "execution_count": null,
   "id": "ee8b43a2-0188-4d95-97be-1b08c83ae9eb",
   "metadata": {},
   "outputs": [],
   "source": [
    "# Simulation List\n",
    "df_simlist = pd.read_csv('../data/results_combined/t_5_500_obs/EXOD_simlist_2024-04-03_16-38-40.csv')\n",
    "df_simlist_run = df_simlist[df_simlist['status'] == 'Run']\n",
    "print(f'{len(df_simlist_run)} / {len(df_simlist)} Run successfully')\n",
    "df_simlist"
   ]
  },
  {
   "cell_type": "code",
   "execution_count": null,
   "id": "30aa2607-393d-4c1f-b0e6-acf605100ee7",
   "metadata": {},
   "outputs": [],
   "source": [
    "print(df_simlist['status'].value_counts())\n",
    "print('-----')\n",
    "for s in df_simlist['status'].value_counts().index:\n",
    "    print(s)\n"
   ]
  },
  {
   "cell_type": "code",
   "execution_count": null,
   "id": "587ca9d1-640d-40d1-83e9-88c1bb699540",
   "metadata": {},
   "outputs": [],
   "source": [
    "# Event List Info\n",
    "dfs = []\n",
    "regex = re.compile(r'\\d{10}')\n",
    "for f in glob('../data/results_combined/t_5_500_obs/*/*/*evt_info.csv'):\n",
    "    obsid = regex.findall(f)[0]\n",
    "    df = pd.read_csv(f, index_col=0, header=None, names=['Metric', 'Value'])\n",
    "    df = df.T  \n",
    "    dfs.append(df)\n",
    "\n",
    "df_evt = pd.concat(dfs, ignore_index=True)\n",
    "df_evt\n"
   ]
  },
  {
   "cell_type": "code",
   "execution_count": null,
   "id": "b52dd57f-a074-4e0a-b79c-4677d7d7b136",
   "metadata": {},
   "outputs": [],
   "source": [
    "# Data Loader Info\n",
    "dfs = []\n",
    "\n",
    "for f in glob('../data/results_combined/t_5_500_obs/*/*/*dl_info.csv'):\n",
    "    obsid = regex.findall(f)[0]\n",
    "    df = pd.read_csv(f, index_col=0, header=None, names=['Metric', 'Value'])\n",
    "    df = df.T  \n",
    "    df['obsid'] = obsid\n",
    "    dfs.append(df)\n",
    "\n",
    "df_dl = pd.concat(dfs, ignore_index=True)\n",
    "df_dl\n"
   ]
  },
  {
   "cell_type": "code",
   "execution_count": null,
   "id": "6e191c08-efa4-4763-bddd-71eddbe8fd7f",
   "metadata": {},
   "outputs": [],
   "source": [
    "# Data Cube Info\n",
    "dfs = []\n",
    "\n",
    "\n",
    "for f in glob('../data/results_combined/t_5_500_obs/*/*/*data_cube_info.csv'):\n",
    "    obsid = regex.findall(f)[0]\n",
    "    df = pd.read_csv(f, index_col=0, header=None, names=['Metric', 'Value'])\n",
    "    df = df.T  \n",
    "    df['obsid'] = obsid\n",
    "    dfs.append(df)\n",
    "\n",
    "df_data_cube = pd.concat(dfs, ignore_index=True)\n",
    "df_data_cube\n"
   ]
  },
  {
   "cell_type": "code",
   "execution_count": null,
   "id": "5508a4a3-30d0-4d83-9df5-ba1af1625225",
   "metadata": {},
   "outputs": [],
   "source": [
    "# Detected Regions\n",
    "dfs = []\n",
    "for f in glob('../data/results_combined/t_5_500_obs/*/*/*regions.csv'):\n",
    "    obsid = regex.findall(f)[0]\n",
    "    if '_regions' in f:\n",
    "        continue\n",
    "    df = pd.read_csv(f)\n",
    "    df['obsid'] = obsid\n",
    "    #df = df.T  \n",
    "    #df['obsid'] = obsid\n",
    "    dfs.append(df)\n",
    "\n",
    "df_regions = pd.concat(dfs, ignore_index=True)\n",
    "df_regions\n"
   ]
  },
  {
   "cell_type": "code",
   "execution_count": null,
   "id": "0d5dd1b6-712d-4ee4-ab29-cad8d7f6e5a9",
   "metadata": {},
   "outputs": [],
   "source": [
    "fig, ax = plt.subplots(figsize=(5,3))\n",
    "ax.hist(np.array(df_evt['mean_rate'], dtype='float'), bins=100)\n",
    "ax.set_xlabel(r'Mean Rate (Events/Exposure)')\n",
    "plt.show()"
   ]
  },
  {
   "cell_type": "code",
   "execution_count": null,
   "id": "68945b77-f94b-4af0-bfe7-a32960da229c",
   "metadata": {},
   "outputs": [],
   "source": [
    "# All Regions Plot\n",
    "sky_coords = SkyCoord(ra=df_regions['ra_deg'].values, dec=df_regions['dec_deg'].values, unit='deg', frame='icrs')\n",
    "sky_coords\n",
    "\n",
    "ra_rad = sky_coords.ra.wrap_at(180 * u.deg).radian\n",
    "dec_rad = sky_coords.dec.radian\n",
    "\n",
    "# Plotting with Aitoff projection\n",
    "plt.figure(figsize=(15, 10))\n",
    "plt.subplot(111, projection='aitoff')\n",
    "\n",
    "plt.title(f'Detected Regions by EXOD: {len(sky_coords)}')\n",
    "\n",
    "galactic_coords = sky_coords.galactic\n",
    "galactic_center = SkyCoord(0, 0, unit=\"deg\", frame=\"galactic\")\n",
    "\n",
    "# Scatter plot the Galactic coordinates\n",
    "I_log = np.log10(df_regions['intensity_mean'])\n",
    "m = plt.scatter(galactic_coords.l.wrap_at(180 * u.deg).radian,\n",
    "            galactic_coords.b.radian,\n",
    "            marker='s', label='Detected Regions', s=10.0, c=I_log, cmap='hot')\n",
    "\n",
    "#plt.scatter(0, 0, marker='+', color='Blue', label='Galactic Center')\n",
    "plt.colorbar(m, shrink=1.0, orientation='horizontal', label='Log Average Total Counts')\n",
    "plt.legend()\n",
    "plt.grid(True)\n",
    "plt.tight_layout()\n",
    "plt.show()"
   ]
  },
  {
   "cell_type": "code",
   "execution_count": null,
   "id": "0d0df5cb-14c6-46f7-9eca-b106f99a44c2",
   "metadata": {
    "scrolled": true
   },
   "outputs": [],
   "source": [
    "# Crossmatching with XMM catalogue For column descriptions see:\n",
    "# http://xmmssc.irap.omp.eu/Catalogue/4XMM-DR13/4XMM-DR13_Catalogue_User_Guide.html#Catalogue\n",
    "# Basic energy bands:\n",
    "# 1 = 0.2 - 0.5 keV\n",
    "# 2 = 0.5 - 1.0 keV\n",
    "# 3 = 1.0 - 2.0 keV\n",
    "# 4 = 2.0 - 4.5 keV\n",
    "# 5 = 4.5 - 12.0 keV\n",
    "# Broad energy bands: \t\n",
    "# 6 = 0.2 - 2.0  keV | soft band, no images made\n",
    "# 7 = 2.0 - 12.0 keV | hard band, no images made\n",
    "# 8 = 0.2 - 12.0 keV | total band\n",
    "# 9 = 0.5 - 4.5  keV | XID band\n",
    "\n",
    "tab_xmm = Table.read('../data/util/4XMM_slim_DR13cat_v1.0.fits')\n",
    "tab_xmm"
   ]
  },
  {
   "cell_type": "code",
   "execution_count": null,
   "id": "a7e0d9be-092c-4556-8d29-a506b17e2d4b",
   "metadata": {},
   "outputs": [],
   "source": [
    "skycoord_xmm = SkyCoord(ra=tab_xmm['SC_RA'], dec=tab_xmm['SC_DEC'], unit=u.deg)\n",
    "skycoord_xmm"
   ]
  },
  {
   "cell_type": "code",
   "execution_count": null,
   "id": "6c78633a-5094-49f3-a556-bd3c884794fe",
   "metadata": {},
   "outputs": [],
   "source": [
    "# Find nearest matches\n",
    "coord1 = sky_coords\n",
    "coord2 = skycoord_xmm\n",
    "\n",
    "idx, sep2d, d3d = match_coordinates_sky(coord1, coord2)\n",
    "\n",
    "# Calculate the differences in RA and Dec for the nearest matches\n",
    "ra_diff  = coord1.ra  - coord2[idx].ra\n",
    "dec_diff = coord1.dec - coord2[idx].dec\n",
    "\n",
    "# Get subset for below specifed distance\n",
    "dist_arcsec  = 20\n",
    "mask_sub     = sep2d.arcsec < dist_arcsec\n",
    "ra_diff_sub  = ra_diff[mask_sub]\n",
    "dec_diff_sub = dec_diff[mask_sub]\n",
    "\n",
    "fig, ax = plt.subplots(1,2, figsize=(10,5))\n",
    "ax[0].scatter(ra_diff.arcsec, dec_diff.arcsec,  s=1, color='black')\n",
    "ax[0].set_title(f'Offset, all sources ({len(ra_diff)})')\n",
    "ax[0].set_xlabel('Ra offset (arcsec)')\n",
    "ax[0].set_ylabel('Dec offset  (arcsec)')\n",
    "\n",
    "\n",
    "ax[1].set_title(f'Offset, sources < {dist_arcsec}\" ({len(ra_diff_sub)})')\n",
    "ax[1].scatter(ra_diff_sub.arcsec, dec_diff_sub.arcsec,  s=1, color='black')\n",
    "ax[1].set_xlabel('Ra offset (arcsec)')\n",
    "ax[1].set_ylabel('Dec offset  (arcsec)')\n",
    "#ax[1].set_xlim(-30,30)\n",
    "#ax[1].set_ylim(-30,30)\n",
    "\n",
    "\n",
    "fig, ax = plt.subplots(1,2, figsize=(10,3))\n",
    "ax[0].hist(ra_diff_sub.arcsec, bins=10, color='black')\n",
    "ax[0].set_xlabel('Ra offset (arcsec)')\n",
    "ax[1].hist(dec_diff_sub.arcsec, bins=10, color='black', orientation='horizontal')\n",
    "ax[1].set_xlabel('Dec offset (arcsec)')\n"
   ]
  },
  {
   "cell_type": "code",
   "execution_count": null,
   "id": "f1c4f944-44db-43cd-8503-790a6265fd44",
   "metadata": {
    "scrolled": true
   },
   "outputs": [],
   "source": [
    "cmatch = sky_coords.match_to_catalog_sky(skycoord_xmm)\n",
    "tab_cmatch = Table(cmatch)\n",
    "tab_cmatch.rename_columns(names=tab_cmatch.colnames, new_names=['idx', 'sep2d', 'dist3d'])\n",
    "tab_cmatch['sep2d_arcsec'] = tab_cmatch['sep2d'].to(u.arcsec)\n",
    "tab_cmatch['idx_orig'] = np.arange(len(tab_cmatch))\n",
    "tab_cmatch"
   ]
  },
  {
   "cell_type": "code",
   "execution_count": null,
   "id": "5dda9e81-aef7-49d9-9839-270ed4c617cb",
   "metadata": {},
   "outputs": [],
   "source": [
    "tab_cmatch_good = tab_cmatch[tab_cmatch['sep2d_arcsec'] <= 20]\n",
    "tab_cmatch_none = tab_cmatch[tab_cmatch['sep2d_arcsec'] > 20]\n",
    "tab_xmm_good = tab_xmm[tab_cmatch_good['idx']]\n",
    "tab_xmm_none = tab_xmm[tab_cmatch_none['idx']]"
   ]
  },
  {
   "cell_type": "code",
   "execution_count": null,
   "id": "45ea9f6d-6d69-4c8b-8992-9f3942666466",
   "metadata": {},
   "outputs": [],
   "source": [
    "# Crossmatch Plot\n",
    "sc_good = SkyCoord(ra=tab_xmm_good['SC_RA'], dec=tab_xmm_good['SC_DEC'], unit='deg', frame='icrs')\n",
    "sc_none = sky_coords[tab_cmatch_none['idx_orig']]\n",
    "\n",
    "def sc_to_gal(sc):\n",
    "    ra_rad = sc.ra.wrap_at(180 * u.deg).radian\n",
    "    dec_rad = sc.dec.radian\n",
    "    return sc.galactic\n",
    "    \n",
    "sc_gal_good = sc_to_gal(sc_good)\n",
    "sc_gal_none = sc_to_gal(sc_none)\n",
    "\n",
    "# Plotting with Aitoff projection\n",
    "plt.figure(figsize=(15, 10))\n",
    "plt.subplot(111, projection='aitoff')\n",
    "plt.title(f'Detected Regions by EXOD: {len(sky_coords)}')\n",
    "plt.scatter(sc_gal_good.l.wrap_at(180 * u.deg).radian, sc_gal_good.b.radian, marker='.', label=f'Counterpart Sources {len(tab_xmm_good)}', s=1.0, color='blue')\n",
    "plt.scatter(sc_gal_none.l.wrap_at(180 * u.deg).radian, sc_gal_none.b.radian, marker='.', label=f'No Counterparts {len(tab_xmm_none)}', s=1.0, color='red')\n",
    "plt.legend()\n",
    "plt.grid(True)\n",
    "plt.tight_layout()\n",
    "plt.show()"
   ]
  },
  {
   "cell_type": "code",
   "execution_count": null,
   "id": "2e302dd4-1694-405f-9385-09fce783697c",
   "metadata": {},
   "outputs": [],
   "source": [
    "# Plot sources with large seperations\n",
    "sep_min = 100\n",
    "mask_sub = abs(dec_diff.arcsec) > sep_min\n",
    "\n",
    "# All Regions Plot\n",
    "sky_coords = coord1[mask_sub]\n",
    "ra_rad = sky_coords.ra.wrap_at(180 * u.deg).radian\n",
    "dec_rad = sky_coords.dec.radian\n",
    "\n",
    "# Plotting with Aitoff projection\n",
    "plt.figure(figsize=(15, 10))\n",
    "plt.subplot(111, projection='aitoff')\n",
    "plt.title(f'Sources with abs(Dec) > {sep_min} arcsec')\n",
    "galactic_coords = sky_coords.galactic\n",
    "galactic_center = SkyCoord(0, 0, unit=\"deg\", frame=\"galactic\")\n",
    "\n",
    "# Scatter plot the Galactic coordinates\n",
    "\n",
    "m = plt.scatter(galactic_coords.l.wrap_at(180 * u.deg).radian,\n",
    "            galactic_coords.b.radian, marker='s', label='Detected Regions', s=10.0, color='red')\n",
    "plt.legend()\n",
    "plt.grid(True)\n",
    "plt.tight_layout()\n",
    "plt.show()\n"
   ]
  },
  {
   "cell_type": "code",
   "execution_count": null,
   "id": "91d0dcaa-7643-44bb-92c3-0c004958e633",
   "metadata": {},
   "outputs": [],
   "source": [
    "# To find the optimal seperation, plot the histogram of seperations and find the lowest point.\n"
   ]
  },
  {
   "cell_type": "code",
   "execution_count": null,
   "id": "e3e94909-b01b-4a13-a1aa-67e1a3cbe1ce",
   "metadata": {},
   "outputs": [],
   "source": [
    "N_src  = len(tab_cmatch)\n",
    "N_good = len(tab_cmatch_good)\n",
    "\n",
    "hist(tab_cmatch_good['sep2d_arcsec'], bins='knuth', histtype='stepfilled', ec='k', fc='#AAAAAA')\n",
    "plt.title(rf'Distribution of {N_good}/{N_src} regions with with XMM counterparts $\\leq$ 20\"')\n",
    "plt.xlabel('Seperation (arcseconds)')\n",
    "\n",
    "mu  = np.mean(tab_cmatch_good['sep2d_arcsec'])\n",
    "std = np.std(tab_cmatch_good['sep2d_arcsec'])\n",
    "plt.axvline(mu, color='red', label=fr'mean={mu:.2f}$\\pm${std:.2f}')\n",
    "plt.axvline(mu+std, color='green')\n",
    "plt.axvline(mu-std, color='green')\n",
    "plt.legend()\n",
    "plt.show()"
   ]
  },
  {
   "cell_type": "code",
   "execution_count": null,
   "id": "2adc192e-77a6-4616-801d-cffedd2ebbba",
   "metadata": {
    "jupyter": {
     "source_hidden": true
    }
   },
   "outputs": [],
   "source": [
    "N_src  = len(tab_cmatch)\n",
    "N_good = len(tab_cmatch_none)\n",
    "\n",
    "hist(tab_cmatch_none['sep2d_arcsec'], bins='knuth', histtype='stepfilled', ec='k', fc='#AAAAAA')\n",
    "plt.title(rf'Distribution of {N_good}/{N_src} regions with with XMM counterparts > 20\"')\n",
    "plt.xlabel('Seperation (arcseconds)')\n",
    "plt.yscale('log')\n",
    "plt.show()"
   ]
  },
  {
   "cell_type": "code",
   "execution_count": null,
   "id": "6666d319-cfb5-4bd5-b77d-068bce1656b5",
   "metadata": {},
   "outputs": [],
   "source": [
    "# Count Rate vs Chi^2 Prob\n",
    "plt.figure(figsize=(6,6))\n",
    "plt.scatter(tab_xmm_good['SC_CHI2PROB'], tab_xmm_good['SC_EP_1_FLUX'], marker='.', s=10, color='black', label='SC_EP_1_FLUX')\n",
    "plt.scatter(tab_xmm_good['SC_CHI2PROB'], tab_xmm_good['SC_EP_5_FLUX'], marker='.', s=10, color='blue', label='SC_EP_5_FLUX')\n",
    "plt.xlim(xmin=0)\n",
    "plt.yscale('log')\n",
    "plt.xlabel('SC_CHI2PROB')\n",
    "plt.ylabel('FLUX')\n",
    "plt.legend()\n",
    "plt.show()"
   ]
  },
  {
   "cell_type": "code",
   "execution_count": null,
   "id": "4e4d3329-a4a8-4f0b-a954-da59500b50e6",
   "metadata": {},
   "outputs": [],
   "source": [
    "# Count Rate vs F_var\n",
    "plt.figure(figsize=(6,6))\n",
    "plt.scatter(tab_xmm_good['SC_HR1'], tab_xmm_good['SC_EP_1_FLUX'], marker='.', s=1, color='black', label='SC_EP_1_FLUX')\n",
    "plt.scatter(tab_xmm_good['SC_HR1'], tab_xmm_good['SC_EP_5_FLUX'], marker='.', s=1, color='blue', label='SC_EP_5_FLUX')\n",
    "plt.xlim(xmin=0)\n",
    "plt.yscale('log')\n",
    "#plt.xscale('log')\n",
    "plt.xlabel('N_DETECTIONS')\n",
    "plt.ylabel('FLUX')\n",
    "plt.legend()\n",
    "plt.show()"
   ]
  },
  {
   "cell_type": "code",
   "execution_count": null,
   "id": "fe179f2b-ff9f-4eb9-b6f1-7170f76f43ca",
   "metadata": {},
   "outputs": [],
   "source": [
    "plt.figure(figsize=(5,5))\n",
    "sub = tab_xmm_good[(tab_xmm_good['SC_CHI2PROB'] > 0.8) & (tab_xmm_good['SC_HR1'] > 0.75)]\n",
    "plt.scatter(tab_xmm_good['SC_CHI2PROB'], tab_xmm_good['SC_HR1'], marker='.', s=1, color='black')\n",
    "plt.scatter(sub['SC_CHI2PROB'], sub['SC_HR1'], marker='.', s=20, color='red')\n",
    "plt.xlim(xmin=0)\n",
    "#plt.yscale('log')\n",
    "plt.xlabel('SC_CHI2PROB')\n",
    "plt.ylabel('SC_HR1')\n",
    "plt.show()"
   ]
  },
  {
   "cell_type": "code",
   "execution_count": null,
   "id": "c3b23ac3-a3ac-41c3-ba3b-47385f4e7ea6",
   "metadata": {},
   "outputs": [],
   "source": []
  },
  {
   "cell_type": "code",
   "execution_count": null,
   "id": "431dd717-ff14-4d07-b54c-b6089d0428fa",
   "metadata": {},
   "outputs": [],
   "source": []
  },
  {
   "cell_type": "code",
   "execution_count": null,
   "id": "1dcc21b6-9e0c-4386-9031-d8c8de884fda",
   "metadata": {},
   "outputs": [],
   "source": []
  },
  {
   "cell_type": "code",
   "execution_count": null,
   "id": "9c0b25c0-cd83-4b58-88ed-88bd5277acdd",
   "metadata": {},
   "outputs": [],
   "source": []
  },
  {
   "cell_type": "code",
   "execution_count": null,
   "id": "291ab0af-9c9b-4b49-9ebf-779cb88185bd",
   "metadata": {},
   "outputs": [],
   "source": []
  }
 ],
 "metadata": {
  "kernelspec": {
   "display_name": "Python 3 (ipykernel)",
   "language": "python",
   "name": "python3"
  },
  "language_info": {
   "codemirror_mode": {
    "name": "ipython",
    "version": 3
   },
   "file_extension": ".py",
   "mimetype": "text/x-python",
   "name": "python",
   "nbconvert_exporter": "python",
   "pygments_lexer": "ipython3",
   "version": "3.12.0"
  }
 },
 "nbformat": 4,
 "nbformat_minor": 5
}
