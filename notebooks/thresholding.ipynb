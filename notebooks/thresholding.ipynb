{
 "cells": [
  {
   "cell_type": "code",
   "execution_count": null,
   "id": "f64b66c2-1fb2-4b3e-8cf2-7cb29ea5b72a",
   "metadata": {},
   "outputs": [],
   "source": [
    "import matplotlib.pyplot as plt\n",
    "import pandas as pd\n",
    "\n",
    "import numpy as np\n",
    "from scipy.stats import binned_statistic_dd\n",
    "from exod.pre_processing.read_events import get_filtered_events_files\n",
    "from astropy.table import Table\n",
    "\n",
    "from exod.pre_processing.event_filtering import filter_obsid_events\n",
    "from exod.pre_processing.download_observations import download_observation_events\n",
    "from exod.processing.variability import extract_var_regions, get_regions_sky_position, \\\n",
    "    plot_var_with_regions, get_region_lightcurves, calc_KS_poission, plot_region_lightcurves, calc_var_img\n",
    "from exod.utils.logger import logger, get_current_date_string\n",
    "\n",
    "from exod.pre_processing.download_observations import read_observation_ids\n",
    "from exod.pre_processing.read_events import read_EPIC_events_file\n",
    "from exod.utils.path import data, data_results\n",
    "from matplotlib.colors import LogNorm\n",
    "import random\n",
    "from skimage.measure import label, regionprops\n",
    "from scipy.stats import zscore\n",
    "from astropy.stats import sigma_clip"
   ]
  },
  {
   "cell_type": "code",
   "execution_count": null,
   "id": "0a98003c-9c97-4fe3-9bd7-cfec957eca8b",
   "metadata": {},
   "outputs": [],
   "source": [
    " V_filt, lo, hi = sigma_clip(\n",
    "                            v_arr,\n",
    "                            sigma=3,\n",
    "                            sigma_lower=None,\n",
    "                            sigma_upper=None,\n",
    "                            maxiters=5,\n",
    "                            cenfunc='median',\n",
    "                            stdfunc='std',\n",
    "                            axis=None,\n",
    "                            masked=True,\n",
    "                            return_bounds=True,\n",
    "                            copy=True,\n",
    "                            grow=False\n",
    "                        )"
   ]
  },
  {
   "cell_type": "code",
   "execution_count": null,
   "id": "d3b13772-818a-43d1-8788-d28444500752",
   "metadata": {},
   "outputs": [],
   "source": [
    "obsids = read_observation_ids('../data/observations.txt')\n",
    "\n",
    "for obsid in obsids:\n",
    "    args = {'obsid':obsid,\n",
    "            'size_arcsec':15,\n",
    "            'time_interval':100,\n",
    "            'gti_only':True,\n",
    "            'min_energy':0.2,\n",
    "            'max_energy':12}\n",
    "    try:\n",
    "        cube, coordinates_XY = read_EPIC_events_file(**args)\n",
    "        var_img = calc_var_img(cube=cube)\n",
    "        fig, ax = plt.subplots(2,1, figsize=(10,5))\n",
    "        \n",
    "        v_arr = var_img.flatten()\n",
    "\n",
    "        v_filt, lo, hi = sigma_clip(\n",
    "                            v_arr,\n",
    "                            sigma=3,\n",
    "                            sigma_lower=None,\n",
    "                            sigma_upper=None,\n",
    "                            maxiters=5,\n",
    "                            cenfunc='median',\n",
    "                            stdfunc='std',\n",
    "                            axis=None,\n",
    "                            masked=True,\n",
    "                            return_bounds=True,\n",
    "                            copy=True,\n",
    "                            grow=False\n",
    "                        )\n",
    "                         \n",
    "        ax[0].axhline(hi, color='red')\n",
    "        ax[0].plot(v_arr)\n",
    "        ax[1].plot(v_filt)\n",
    "        plt.show()\n",
    "        \n",
    "        print(threshold_percent, n_pixels, n_brightest, value)\n",
    "    except Exception as e:\n",
    "        print(e)"
   ]
  },
  {
   "cell_type": "code",
   "execution_count": null,
   "id": "7997d43f-1a97-4036-8d2e-9b0b713360d0",
   "metadata": {},
   "outputs": [],
   "source": [
    "obsids = read_observation_ids('../data/observations.txt')\n",
    "for obsid in obsids:\n",
    "    args = {'obsid':obsid,\n",
    "            'size_arcsec':5,\n",
    "            'time_interval':100,\n",
    "            'box_size':3,\n",
    "            'gti_only':True,\n",
    "            'min_energy':0.2,\n",
    "            'max_energy':12}\n",
    "    \n",
    "    # Read the event files and create the data cube\n",
    "    try:\n",
    "        cube, coordinates_XY = read_EPIC_events_file(**args)\n",
    "    except:\n",
    "        continue\n",
    "    var_img = calc_var_img(cube=cube)\n",
    "\n",
    "    fig, ax = plt.subplots(1,2,figsize=(10,5))\n",
    "    threshold = 4\n",
    "    ax[0].set_title('Variability Image')\n",
    "    ax[0].imshow(var_img)\n",
    "    ax[1].set_title(f'Mask Threshold = {threshold}')\n",
    "    ax[1].imshow(var_img>threshold, cmap='grey')\n",
    "    fig.suptitle(f'{np.mean(var_img)} thresh={threshold}')\n",
    "    plt.show()\n",
    "    "
   ]
  },
  {
   "cell_type": "code",
   "execution_count": null,
   "id": "10d478bb-75e5-471a-bb58-37c536822662",
   "metadata": {},
   "outputs": [],
   "source": []
  },
  {
   "cell_type": "code",
   "execution_count": null,
   "id": "d7602939-2541-4a4c-a102-02102cae9c73",
   "metadata": {},
   "outputs": [],
   "source": [
    "np.mean(var_img)\n",
    "np.mean(var_img[var_img > 0])\n",
    "np.mean(var_img[var_img > 1])"
   ]
  },
  {
   "cell_type": "code",
   "execution_count": null,
   "id": "6708c778-6197-48ec-9a91-ed7eaab182d3",
   "metadata": {},
   "outputs": [],
   "source": [
    "plt.imshow(var_img > 3)"
   ]
  },
  {
   "cell_type": "code",
   "execution_count": null,
   "id": "ca607553-f43c-4ddf-b3c1-f9a0d5b3fdbd",
   "metadata": {},
   "outputs": [],
   "source": []
  },
  {
   "cell_type": "code",
   "execution_count": null,
   "id": "b580b11c-b954-4497-96fd-afbbd7551807",
   "metadata": {},
   "outputs": [],
   "source": [
    "logger.info('Extracting variable Regions')\n",
    "threshold = 4\n",
    "threshold_value = threshold * np.median(var_img)\n",
    "logger.info(f'Threshold multiplier: {threshold} threshold_value: {threshold_value}')\n",
    "var_img_mask = var_img > threshold_value\n",
    "\n",
    "var_img_mask_labelled = label(var_img_mask,\n",
    "                             background=None,\n",
    "                              return_num=False, \n",
    "                              connectivity=5)\n",
    "\n",
    "# Plot the labelled variable regions\n",
    "plt.figure(figsize=(8,8))\n",
    "plt.title('Identified Variable Regions')\n",
    "plt.imshow(var_img_mask_labelled.T,\n",
    "           cmap='tab20c',\n",
    "           interpolation='none',\n",
    "           origin='lower')\n",
    "plt.colorbar()\n",
    "\n",
    "# Obtain the region properties for the detected regions.\n",
    "regions = regionprops(label_image=var_img_mask_labelled,\n",
    "                      intensity_image=var_img)\n",
    "\n",
    "all_res = []\n",
    "for i, r in enumerate(regions):\n",
    "    # We can pull out a lot from each region here\n",
    "    # See: https://scikit-image.org/docs/stable/api/skimage.measure.html#skimage.measure.regionprops\n",
    "    res = {'region_number'     : i,\n",
    "           'weighted_centroid' : r.weighted_centroid,\n",
    "           'x_centroid'        : r.weighted_centroid[0],\n",
    "           'y_centroid'        : r.weighted_centroid[1],\n",
    "           'bbox'              : r.bbox,\n",
    "           'intensity_mean'    : r.intensity_mean}\n",
    "    all_res.append(res)\n",
    "\n",
    "df_regions = pd.DataFrame(all_res)\n",
    "df_regions"
   ]
  },
  {
   "cell_type": "code",
   "execution_count": null,
   "id": "e1e1f6c9-0fe8-4ef7-b728-88a5fa2301e0",
   "metadata": {},
   "outputs": [],
   "source": [
    "tab_evt = Table.read('../data/processed/0001730201/P0001730201M1S001MIEVLI0000_FILT.fits', hdu=1)"
   ]
  },
  {
   "cell_type": "code",
   "execution_count": null,
   "id": "d6898200-a49f-411c-af50-58d821c9d76b",
   "metadata": {},
   "outputs": [],
   "source": [
    "def event_list_to_data_cube(tab_evt):\n",
    "    x = data_EPIC['X']\n",
    "    y = data_EPIC['Y']\n",
    "    t = data_EPIC['TIME'])\n",
    "\n",
    "    bin_x = np.linspace(0, extent, nb_pixels+1)\n",
    "    bin_y = np.linspace(0, extent, nb_pixels+1)\n",
    "    bin_t = np.arange(time_min, time_stop+1, time_interval)\n",
    "    \n",
    "    cube_EPIC = binned_statistic_dd((x,y,t),\n",
    "                                values=None,\n",
    "                                statistic='count',\n",
    "                                bins=[bin_x, bin_y, bin_t])[0]\n",
    "    return data_cube\n",
    "\n",
    "data_cube = event_list_to_data_cube(tab_evt)"
   ]
  },
  {
   "cell_type": "code",
   "execution_count": null,
   "id": "eece284a-8ec3-43b0-8e69-87d6eb7ec7ac",
   "metadata": {},
   "outputs": [],
   "source": [
    "def get_time_bins(time_array, bin_size_seconds=100):\n",
    "    num_bins = int((np.max(time_array) - np.min(time_array)) / bin_size_seconds)\n",
    "    bins = np.linspace(np.min(time_array), np.max(time_array), num_bins + 1)\n",
    "    return bins"
   ]
  },
  {
   "cell_type": "code",
   "execution_count": null,
   "id": "5bc0aa45-4705-4a50-9987-9d659a3c98ac",
   "metadata": {},
   "outputs": [],
   "source": [
    "tab_evt = Table.read(evt_files[0], hdu=1)\n",
    "\n",
    "bin_x = np.arange(tab_evt['X'].min(), tab_evt['X'].max(), 10)\n",
    "bin_y = np.arange(tab_evt['Y'].min(), tab_evt['Y'].max(), 10)\n",
    "bin_t = get_time_bins(tab_evt['TIME'])\n",
    "\n",
    "cube_EPIC = binned_statistic_dd(sample=(tab_evt['X'], tab_evt['Y'], tab_evt['TIME']),\n",
    "                                values=None,\n",
    "                                statistic='count',\n",
    "                                bins=[bin_x, bin_y, bin_t])"
   ]
  },
  {
   "cell_type": "code",
   "execution_count": null,
   "id": "98f58652-f744-4468-9e1b-50f748113cc6",
   "metadata": {},
   "outputs": [],
   "source": []
  },
  {
   "cell_type": "code",
   "execution_count": null,
   "id": "075e2e03-2d7d-43ea-bd92-5d13a037f8f6",
   "metadata": {},
   "outputs": [],
   "source": []
  },
  {
   "cell_type": "code",
   "execution_count": null,
   "id": "c70394c0-4cbe-4dfc-ae6a-ffd1431f092f",
   "metadata": {},
   "outputs": [],
   "source": [
    " "
   ]
  },
  {
   "cell_type": "code",
   "execution_count": null,
   "id": "d95159c9-1b67-40fb-96ab-9e95bd060545",
   "metadata": {},
   "outputs": [],
   "source": []
  }
 ],
 "metadata": {
  "kernelspec": {
   "display_name": "Python 3 (ipykernel)",
   "language": "python",
   "name": "python3"
  },
  "language_info": {
   "codemirror_mode": {
    "name": "ipython",
    "version": 3
   },
   "file_extension": ".py",
   "mimetype": "text/x-python",
   "name": "python",
   "nbconvert_exporter": "python",
   "pygments_lexer": "ipython3",
   "version": "3.12.0"
  }
 },
 "nbformat": 4,
 "nbformat_minor": 5
}
