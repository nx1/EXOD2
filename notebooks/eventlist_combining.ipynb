{
 "cells": [
  {
   "cell_type": "code",
   "execution_count": null,
   "id": "cb813e47-40e8-47ba-b0cb-b0a3b9e4f366",
   "metadata": {},
   "outputs": [],
   "source": [
    "from exod.xmm.event_list import EventList\n",
    "from exod.pre_processing.download_observations import read_observation_ids\n",
    "from exod.processing.data_cube import DataCube\n",
    "from exod.utils.logger import logger\n",
    "from exod.pre_processing.data_loader import DataLoader\n",
    "from exod.xmm.observation import Observation\n",
    "from exod.utils.path import data_processed\n",
    "from exod.utils.synthetic_data import create_fake_burst\n",
    "from exod.utils.logger import logger\n",
    "from itertools import combinations\n",
    "\n",
    "import os\n",
    "from itertools import combinations\n",
    "\n",
    "import numpy as np\n",
    "import matplotlib.pyplot as plt\n",
    "from matplotlib.colors import LogNorm\n",
    "from cv2 import inpaint, INPAINT_NS, filter2D\n",
    "from scipy.cluster.hierarchy import DisjointSet\n",
    "from scipy.stats import poisson\n",
    "from tqdm import tqdm\n",
    "from astropy.table import vstack\n",
    "import cmasher as cmr\n",
    "from exod.processing.data_cube import DataCubeXMM"
   ]
  },
  {
   "cell_type": "code",
   "execution_count": null,
   "id": "c299a38d-18a4-4dfc-bd79-ee05f4e0b505",
   "metadata": {},
   "outputs": [],
   "source": [
    "obsids = read_observation_ids('../data/observations.txt')\n",
    "for obsid in obsids:\n",
    "    try:\n",
    "        observation = Observation(obsid)\n",
    "        observation.get_events_overlapping_subsets()\n",
    "        event_list_combined = EventList.from_event_lists(observation.events_overlapping_subsets[0])\n",
    "        dc = DataCubeXMM(event_list_combined, 20,500)\n",
    "        dc.plot_cube_statistics()\n",
    "        \n",
    "    except NotImplementedError:\n",
    "        continue\n",
    "    except KeyError:\n",
    "        continue\n",
    "        \n"
   ]
  }
 ],
 "metadata": {
  "kernelspec": {
   "display_name": "Python 3 (ipykernel)",
   "language": "python",
   "name": "python3"
  },
  "language_info": {
   "codemirror_mode": {
    "name": "ipython",
    "version": 3
   },
   "file_extension": ".py",
   "mimetype": "text/x-python",
   "name": "python",
   "nbconvert_exporter": "python",
   "pygments_lexer": "ipython3",
   "version": "3.12.0"
  }
 },
 "nbformat": 4,
 "nbformat_minor": 5
}
