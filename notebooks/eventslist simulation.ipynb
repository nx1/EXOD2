{
 "cells": [
  {
   "cell_type": "code",
   "execution_count": null,
   "id": "06ba9fee-3a24-47d1-9aef-f7d891942a2b",
   "metadata": {},
   "outputs": [],
   "source": [
    "from exod.xmm.event_list import EventList"
   ]
  },
  {
   "cell_type": "code",
   "execution_count": null,
   "id": "bc6752ca-381b-4de4-b914-d0e338200b47",
   "metadata": {},
   "outputs": [],
   "source": [
    "evt = EventList('../data/processed/0001730201/P0001730201PNU002PIEVLI0000_FILT.fits')\n",
    "evt.read()"
   ]
  },
  {
   "cell_type": "code",
   "execution_count": null,
   "id": "84a493d0-b57c-4326-aa30-b0b216f798e6",
   "metadata": {},
   "outputs": [],
   "source": [
    "import numpy as np\n",
    "import matplotlib.pyplot as plt"
   ]
  },
  {
   "cell_type": "code",
   "execution_count": null,
   "id": "dcf8a181-80d1-42b5-937e-ce658a9b86c3",
   "metadata": {},
   "outputs": [],
   "source": [
    "time_interval = 50\n",
    "time = np.arange(evt.time_min, evt.time_max, time_interval)"
   ]
  },
  {
   "cell_type": "code",
   "execution_count": null,
   "id": "2bcda0ba-6933-4c5e-adc1-eb948ad2f330",
   "metadata": {},
   "outputs": [],
   "source": [
    "P = 10000\n",
    "min_value = 5\n",
    "max_value = 10\n",
    "\n",
    "counts = 0.5 * (np.sin(2 * np.pi * time / P) + 1)\n",
    "counts = min_value + (max_value - min_value) * counts\n",
    "\n",
    "plt.scatter(time, counts)"
   ]
  },
  {
   "cell_type": "code",
   "execution_count": null,
   "id": "902b6d81-d834-4d94-8655-d3e9131e1558",
   "metadata": {},
   "outputs": [],
   "source": [
    "tab= evt.data"
   ]
  },
  {
   "cell_type": "code",
   "execution_count": null,
   "id": "86416c3f-c79d-44f0-9c0b-a89e0eb3ff44",
   "metadata": {},
   "outputs": [],
   "source": [
    "tab=tab[tab['CCDNR'] == 1]"
   ]
  },
  {
   "cell_type": "code",
   "execution_count": null,
   "id": "aeaa5cf0-1f5f-4c44-95de-fa0de3f0d7f1",
   "metadata": {},
   "outputs": [],
   "source": [
    "plt.scatter(tab['RAWX'], tab['RAWY'], s=0.001, marker='.')"
   ]
  },
  {
   "cell_type": "code",
   "execution_count": null,
   "id": "29a2da43-fca8-4c23-b536-855345ddbe66",
   "metadata": {},
   "outputs": [],
   "source": []
  },
  {
   "cell_type": "code",
   "execution_count": null,
   "id": "8d578e62-6044-4c21-bbd3-c11fc143e93e",
   "metadata": {},
   "outputs": [],
   "source": []
  }
 ],
 "metadata": {
  "kernelspec": {
   "display_name": "Python 3 (ipykernel)",
   "language": "python",
   "name": "python3"
  },
  "language_info": {
   "codemirror_mode": {
    "name": "ipython",
    "version": 3
   },
   "file_extension": ".py",
   "mimetype": "text/x-python",
   "name": "python",
   "nbconvert_exporter": "python",
   "pygments_lexer": "ipython3",
   "version": "3.12.0"
  }
 },
 "nbformat": 4,
 "nbformat_minor": 5
}
