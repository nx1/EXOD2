{
 "cells": [
  {
   "cell_type": "code",
   "execution_count": null,
   "id": "1475efdf-aa16-42d8-a2c2-4af75fafdb4b",
   "metadata": {},
   "outputs": [],
   "source": [
    "from exod.pre_processing.read_events import get_bti, plot_bti, get_rejected_idx\n",
    "import numpy as np\n",
    "\n",
    "time  = np.arange(0,10000,100)\n",
    "time2 = np.arange(0,10000,33.33)\n",
    "\n",
    "starts_above          = np.cos((2*3.14 / 5000)*time)* np.exp(-time/4000) + 1 + 0.1*np.random.random(size=len(time)) \n",
    "ends_above2           = np.flip(starts_above)\n",
    "ends_above            = np.cos((2*3.14 / 7000)*time-600) + 1 + 0.1*np.random.random(size=len(time))\n",
    "starts_above2         = np.flip(ends_above)\n",
    "starts_and_ends_above = np.cos((2*3.14 / 5000)*time) + 1 + 0.1*np.random.random(size=len(time))\n",
    "starts_and_ends_below = np.sin((2*3.14 / 5000)*time) + 1 + 0.1*np.random.random(size=len(time))\n",
    "\n",
    "all_below             = 0.3*np.cos((2*3.14 / 5000)) + 1 + 0.1*np.random.random(size=len(time))\n",
    "all_above             = np.cos((2*3.14 / 5000)*time-200) + 5 + 0.1*np.random.random(size=len(time))\n",
    "high_freq             = np.sin((2*3.14 / 500)*time) + 1 + 0.1*np.random.random(size=len(time))\n",
    "\n",
    "test_cases = [starts_above, ends_above2, ends_above, starts_above2, starts_and_ends_above, starts_and_ends_below,all_below, all_above,high_freq]\n",
    "\n",
    "threshold = 1.5\n",
    "\n",
    "for data in test_cases:\n",
    "    threshold = 1.5\n",
    "    bti = get_bti(time, data, threshold)\n",
    "    rejected_idx = get_rejected_idx(bti, time2)\n",
    "    plot_bti(time, data, threshold, bti)"
   ]
  },
  {
   "cell_type": "code",
   "execution_count": null,
   "id": "18e6eeac-ba9d-468f-966d-ebbb307505bd",
   "metadata": {},
   "outputs": [],
   "source": []
  }
 ],
 "metadata": {
  "kernelspec": {
   "display_name": "Python 3 (ipykernel)",
   "language": "python",
   "name": "python3"
  },
  "language_info": {
   "codemirror_mode": {
    "name": "ipython",
    "version": 3
   },
   "file_extension": ".py",
   "mimetype": "text/x-python",
   "name": "python",
   "nbconvert_exporter": "python",
   "pygments_lexer": "ipython3",
   "version": "3.12.0"
  }
 },
 "nbformat": 4,
 "nbformat_minor": 5
}
