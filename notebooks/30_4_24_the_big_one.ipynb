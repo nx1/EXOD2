{
 "cells": [
  {
   "cell_type": "code",
   "execution_count": null,
   "id": "7260ada8-4874-40ef-954a-7788cb37607c",
   "metadata": {},
   "outputs": [],
   "source": [
    "import numpy as np\n",
    "import matplotlib.pyplot as plt\n",
    "import pandas as pd\n",
    "from astropy.coordinates import SkyCoord\n",
    "import astropy.units as u"
   ]
  },
  {
   "cell_type": "code",
   "execution_count": null,
   "id": "c0c7bedb-4579-4277-90ca-cf387691b190",
   "metadata": {},
   "outputs": [],
   "source": [
    "df_simlist = pd.read_csv('../data/results_combined/30_4_2024/EXOD_simlist_2024-04-25_15-33-08.csv', dtype={'obsid':str})\n",
    "df_simlist"
   ]
  },
  {
   "cell_type": "code",
   "execution_count": null,
   "id": "3f710fc2-6cbd-4016-b0ec-3dd6427a49ee",
   "metadata": {},
   "outputs": [],
   "source": [
    "df_regions = pd.read_csv('../data/results_combined/30_4_2024/df_regions.csv')\n",
    "df_regions"
   ]
  },
  {
   "cell_type": "code",
   "execution_count": null,
   "id": "43ff4380-b828-4361-838a-32ef998eee7e",
   "metadata": {},
   "outputs": [],
   "source": [
    "df_regions = pd.read_csv('../data/results_combined/30_4_2024/df_lc.csv', nrows=200)\n",
    "df_regions"
   ]
  },
  {
   "cell_type": "code",
   "execution_count": null,
   "id": "0857e196-d856-4f8e-9a2e-5d131480bcb8",
   "metadata": {},
   "outputs": [],
   "source": [
    "df_regions_soft = df_regions[df_regions['runid'].str.contains('0.2_2.0')]\n",
    "df_regions_hard = df_regions[df_regions['runid'].str.contains('0.2_12.0')]\n"
   ]
  },
  {
   "cell_type": "code",
   "execution_count": null,
   "id": "d255a46e-35ef-4f34-8bd4-a8778e353334",
   "metadata": {},
   "outputs": [],
   "source": [
    "import matplotlib.pyplot as plt\n",
    "fig, ax = plt.subplots(1,3,figsize=(21,7), sharex=True, sharey=True)\n",
    "ax[0].scatter(df_regions['X'], df_regions['Y'], marker='.', s=1)\n",
    "ax[1].scatter(df_regions_soft['X'], df_regions_soft['Y'], marker='.', s=1)\n",
    "ax[2].scatter(df_regions_hard['X'], df_regions_hard['Y'], marker='.', s=1)\n",
    "\n",
    "ax[0].set_title('0.2-12.0 keV')\n",
    "ax[1].set_title('0.2-2.0 keV')\n",
    "ax[2].set_title('2.0-12.0 keV')\n",
    "\n",
    "\n",
    "for a in ax:\n",
    "    a.set_xlim(0,50000)\n",
    "    a.set_ylim(0,50000)\n",
    "plt.suptitle('X,Y Positions of All Detected Regions')\n",
    "plt.show()"
   ]
  },
  {
   "cell_type": "code",
   "execution_count": null,
   "id": "0ee8c97a-30cb-406f-8e31-9258c1bc9de4",
   "metadata": {},
   "outputs": [],
   "source": [
    "E = ['0.2-2.0 keV','2.0-12.0 keV']\n",
    "c = ['red', 'blue']\n",
    "dfs = [df_regions_soft, df_regions_hard]\n",
    "\n",
    "plt.figure(figsize=(15, 10))\n",
    "plt.subplot(111, projection='aitoff')\n",
    "for i, df in enumerate(dfs):\n",
    "    sky_coords = SkyCoord(ra=df['ra_deg'].values, dec=df['dec_deg'].values, unit='deg', frame='icrs')\n",
    "    galactic_coords = sky_coords.galactic\n",
    "    plt.scatter(galactic_coords.l.wrap_at(180 * u.deg).radian, galactic_coords.b.radian, marker='.', label=f'{E[i]} ({len(df)})', s=1.0, color=c[i])\n",
    "    \n",
    "plt.legend()\n",
    "plt.grid(True)\n",
    "plt.tight_layout()\n",
    "plt.show()"
   ]
  },
  {
   "cell_type": "code",
   "execution_count": null,
   "id": "22fa72b7-f3b4-4e6b-9151-b6f75661767a",
   "metadata": {},
   "outputs": [],
   "source": [
    "df_regions['area_bbox'].value_counts(normalize=True)"
   ]
  },
  {
   "cell_type": "code",
   "execution_count": null,
   "id": "8e100a57-3c7e-4c7c-b45e-83249a1acc74",
   "metadata": {},
   "outputs": [],
   "source": []
  },
  {
   "cell_type": "code",
   "execution_count": null,
   "id": "79ba7753-ae8d-4d4b-88bb-e91132bed844",
   "metadata": {},
   "outputs": [],
   "source": [
    "df_evt = pd.read_csv('../data/results_combined/30_4_2024/df_evt_info.csv')"
   ]
  },
  {
   "cell_type": "code",
   "execution_count": null,
   "id": "cc7ead6a-289a-40a8-a9e2-16120e0666c4",
   "metadata": {},
   "outputs": [],
   "source": [
    "df_evt['instrument'].value_counts(normalize=True).plot(kind='bar')"
   ]
  },
  {
   "cell_type": "code",
   "execution_count": null,
   "id": "7b1d1628-8cad-4b73-bd36-719047a15987",
   "metadata": {},
   "outputs": [],
   "source": [
    "plt.figure(figsize=(20,5))\n",
    "plt.scatter(df_evt['revolution'], df_evt['mean_rate'], s=1, marker='.')\n",
    "plt.ylim(0,1000)\n",
    "plt.xlim(0,4300)"
   ]
  },
  {
   "cell_type": "code",
   "execution_count": null,
   "id": "26ca93e0-eef7-46de-9a6f-bb52f4bc7c3a",
   "metadata": {},
   "outputs": [],
   "source": [
    "df_dc = pd.read_csv('../data/results_combined/30_4_2024/df_dc_info.csv')\n",
    "df_dc"
   ]
  },
  {
   "cell_type": "code",
   "execution_count": null,
   "id": "8c0256ff-b1e4-4c64-9df0-e50d4e16affa",
   "metadata": {},
   "outputs": [],
   "source": [
    "plt.figure(figsize=(6,6))\n",
    "plt.scatter(df_dc['bccd_frac'], df_dc['bti_frac'], s=0.5, marker='.')\n",
    "plt.xlim(0,1)\n",
    "plt.ylim(0,1)\n"
   ]
  },
  {
   "cell_type": "code",
   "execution_count": null,
   "id": "a03bfbc5-d6ab-4c84-9cb7-ddce085e164e",
   "metadata": {},
   "outputs": [],
   "source": []
  }
 ],
 "metadata": {
  "kernelspec": {
   "display_name": "Python 3 (ipykernel)",
   "language": "python",
   "name": "python3"
  },
  "language_info": {
   "codemirror_mode": {
    "name": "ipython",
    "version": 3
   },
   "file_extension": ".py",
   "mimetype": "text/x-python",
   "name": "python",
   "nbconvert_exporter": "python",
   "pygments_lexer": "ipython3",
   "version": "3.12.0"
  }
 },
 "nbformat": 4,
 "nbformat_minor": 5
}
